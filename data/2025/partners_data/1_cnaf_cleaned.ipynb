{
 "cells": [
  {
   "cell_type": "markdown",
   "metadata": {},
   "source": [
    "## Process\n",
    "- Load CNAF file\n",
    "- Clean data and first mapping for bdd injection\n",
    "- Drop duplicates\n",
    "- Add default column values\n",
    "- Output to CSV\n",
    "\n",
    "## Encoding\n",
    "CNAF -> ISO-8859-1, check for 2025"
   ]
  },
  {
   "cell_type": "code",
   "execution_count": null,
   "metadata": {},
   "outputs": [],
   "source": [
    "import os\n",
    "import pandas as pd\n",
    "import json\n",
    "import numpy as np\n",
    "\n",
    "from datetime import datetime\n",
    "from utils.data_utils import unaccent_and_upper, format_insee_or_postal_code\n",
    "from dotenv import load_dotenv\n",
    "\n",
    "load_dotenv()\n",
    "\n",
    "cnaf_filepath = os.environ['CNAF_PATHFILE']\n",
    "base_output_filepath = os.environ['DB_CNAF_EXPORT']\n",
    "exercice_id = 5"
   ]
  },
  {
   "cell_type": "code",
   "execution_count": null,
   "metadata": {},
   "outputs": [],
   "source": [
    "# CNAF\n",
    "cnaf_column_type = {\n",
    "    'CODORG': 'str',\n",
    "    'MATRICULE': 'str',\n",
    "    'QUALDOS': 'str',\n",
    "    'RESPDOS': 'str',\n",
    "    'PRENOMDOS': 'str',\n",
    "    'NOMCOMPLET': 'str',\n",
    "    'ADRLIG1DESTDOS': 'str',\n",
    "    'ADRLIG2DESTDOS': 'str',\n",
    "    'ADRLIG3DESTDOS': 'str',\n",
    "    'ADRLIG4DESTDOS': 'str',\n",
    "    'ADRLIG5DESTDOS': 'str',\n",
    "    'ADRLIG6DESTDOS': 'str',\n",
    "    'NUMINSEE': 'str',\n",
    "    'ADRMAIL': 'str',\n",
    "    'NUMTEL': 'str',\n",
    "    'NOMENF': 'str',\n",
    "    'PRENOMENF': 'str',\n",
    "    'DTNAIENF': 'str',\n",
    "    'SEXENF': 'str',\n",
    "}\n",
    "\n",
    "cnaf_df = pd.read_parquet(cnaf_filepath, engine='pyarrow')"
   ]
  },
  {
   "cell_type": "code",
   "execution_count": null,
   "metadata": {},
   "outputs": [],
   "source": [
    "# Clean white spaces within all columns\n",
    "for col in list(cnaf_df.columns):\n",
    "  cnaf_df[col] = cnaf_df[col].str.strip()"
   ]
  },
  {
   "cell_type": "code",
   "execution_count": null,
   "metadata": {},
   "outputs": [],
   "source": [
    "# Explode postal code & commune from initial column containing both\n",
    "cnaf_df[['CODE_POSTAL', 'COMMUNE']] = cnaf_df['ADRLIG5DESTDOS'].str.split(' ', n=1, expand=True)\n",
    "cnaf_df[['CODE_POSTAL', 'COMMUNE']] = cnaf_df[['CODE_POSTAL', 'COMMUNE']].transform(lambda x: x.str.strip())"
   ]
  },
  {
   "cell_type": "code",
   "execution_count": null,
   "metadata": {},
   "outputs": [],
   "source": [
    "# Clean extra white spaces\n",
    "cnaf_df['NOMCOMPLET'] = cnaf_df['NOMCOMPLET'].astype(str).str.replace(r'\\s+', ' ', regex=True)"
   ]
  },
  {
   "cell_type": "code",
   "execution_count": null,
   "metadata": {},
   "outputs": [],
   "source": [
    "# map CNAF\n",
    "cnaf_column_mapping = {\n",
    "    # infos about allocataire\n",
    "    'MATRICULE': 'allocataire-matricule',\n",
    "    'CODORG': 'allocataire-code_organisme',\n",
    "    'QUALDOS': 'allocataire-qualite',\n",
    "    'RESPDOS': 'allocataire-nom',\n",
    "    'PRENOMDOS': 'allocataire-prenom',\n",
    "    'ADRMAIL': 'allocataire-courriel',\n",
    "    'NUMTEL': 'allocataire-telephone',\n",
    "    # birthdate for allocataire missing from csv, need to be set to .na() later\n",
    "\n",
    "    # adresse allocataire\n",
    "    'CODE_POSTAL': 'adresse_allocataire-code_postal',\n",
    "    'COMMUNE': 'adresse_allocataire-commune',\n",
    "    'NUMINSEE': 'adresse_allocataire-code_insee',\n",
    "\n",
    "    # infos about beneficiary\n",
    "    'DTNAIENF': 'date_naissance',\n",
    "    'SEXENF': 'genre',\n",
    "    'NOMENF': 'nom',\n",
    "    'PRENOMENF': 'prenom',\n",
    "}\n",
    "\n",
    "df_psp_mapped_cnaf = cnaf_df.copy()\n",
    "df_psp_mapped_cnaf = df_psp_mapped_cnaf.rename(columns=cnaf_column_mapping)"
   ]
  },
  {
   "cell_type": "code",
   "execution_count": null,
   "metadata": {},
   "outputs": [],
   "source": [
    "# Allocataire's date of birth (missing from original file)\n",
    "df_psp_mapped_cnaf['allocataire-date_naissance'] = np.NaN\n",
    "\n",
    "# Allocataire missing phone number\n",
    "phone_replacements = {\n",
    "    '0000000000': np.NaN,\n",
    "    '0600000000': np.NaN,\n",
    "    '0700000001': np.NaN,\n",
    "    '0100000000': np.NaN,\n",
    "    '0400000000': np.NaN,\n",
    "    '0600000001': np.NaN,\n",
    "    '0700000000': np.NaN\n",
    "}\n",
    "\n",
    "df_psp_mapped_cnaf['allocataire-telephone'] = df_psp_mapped_cnaf['allocataire-telephone'].replace(phone_replacements)\n",
    "\n",
    "# Allocataire's qualite\n",
    "df_psp_mapped_cnaf['allocataire-qualite'] = df_psp_mapped_cnaf['allocataire-qualite'].str.strip().replace(\n",
    "    {'MME': 'Mme', 'MR': 'M'})\n",
    "\n",
    "# Additionnal address details\n",
    "df_psp_mapped_cnaf['adresse_allocataire-cplt_adresse'] = (\n",
    "    df_psp_mapped_cnaf['ADRLIG1DESTDOS'] + ' ' + df_psp_mapped_cnaf['ADRLIG2DESTDOS']).str.strip()\n",
    "\n",
    "# Allocataire's street address\n",
    "df_psp_mapped_cnaf['adresse_allocataire-voie'] = (\n",
    "    df_psp_mapped_cnaf['ADRLIG3DESTDOS'] + ' ' + df_psp_mapped_cnaf['ADRLIG4DESTDOS']).str.strip()\n",
    "\n",
    "# Organism & situation\n",
    "df_psp_mapped_cnaf['organisme'] = 'CAF'\n",
    "df_psp_mapped_cnaf['situation'] = 'jeune'"
   ]
  },
  {
   "cell_type": "code",
   "execution_count": null,
   "metadata": {},
   "outputs": [],
   "source": [
    "# Format date_naissance to datetime python object for processing\n",
    "df_psp_mapped_cnaf['date_naissance'] = pd.to_datetime(df_psp_mapped_cnaf['date_naissance'], format='%d/%m/%Y')\n",
    "\n",
    "# Benef between 20 and 30 years old are AAH & benef must have same names\n",
    "mask_dob_start = df_psp_mapped_cnaf['date_naissance'].dt.date >= datetime(1995, 1, 1).date()\n",
    "mask_dob_end = df_psp_mapped_cnaf['date_naissance'].dt.date <= datetime(2005, 12, 31).date()\n",
    "mask_dob = mask_dob_start & mask_dob_end\n",
    "\n",
    "mask_nom_equal = df_psp_mapped_cnaf['allocataire-nom'] == df_psp_mapped_cnaf['nom']\n",
    "mask_prenom_equal = df_psp_mapped_cnaf['allocataire-prenom'] == df_psp_mapped_cnaf['prenom']\n",
    "mask_same_names = mask_nom_equal & mask_prenom_equal\n",
    "\n",
    "df_psp_mapped_cnaf.loc[mask_same_names & mask_dob, 'situation'] = 'AAH'"
   ]
  },
  {
   "cell_type": "code",
   "execution_count": null,
   "metadata": {},
   "outputs": [],
   "source": [
    "# remove unused \n",
    "df_psp_mapped_cnaf = df_psp_mapped_cnaf.drop(columns=[\n",
    "    'NOMCOMPLET',\n",
    "    'ADRLIG1DESTDOS',\n",
    "    'ADRLIG2DESTDOS',\n",
    "    'ADRLIG3DESTDOS',\n",
    "    'ADRLIG4DESTDOS',\n",
    "    'ADRLIG5DESTDOS',\n",
    "    'ADRLIG6DESTDOS'\n",
    "])"
   ]
  },
  {
   "cell_type": "code",
   "execution_count": null,
   "metadata": {},
   "outputs": [],
   "source": [
    "# remove rows with missing necessary values (if one of those value are missing we cannot generate a code)\n",
    "necessary_column = ['nom', 'prenom', 'date_naissance', 'genre']\n",
    "df_valid_row = df_psp_mapped_cnaf.dropna(subset=necessary_column)\n",
    "\n",
    "# remove columns with all null value\n",
    "df_valid = df_valid_row.dropna(axis=1, how='all')\n",
    "\n",
    "assert len(\n",
    "    df_valid[df_psp_mapped_cnaf['nom'].isnull() | df_valid['prenom'].isnull() | df_valid['date_naissance'].isnull()]\n",
    ") == 0"
   ]
  },
  {
   "cell_type": "code",
   "execution_count": null,
   "metadata": {},
   "outputs": [],
   "source": [
    "# Upper case these columns for the merge\n",
    "df_valid['prenom'] = df_valid['prenom'].astype(str).apply(unaccent_and_upper)\n",
    "df_valid['nom'] = df_valid['nom'].astype(str).apply(unaccent_and_upper)\n",
    "df_valid['genre'] = df_valid['genre'].astype(str).apply(unaccent_and_upper)"
   ]
  },
  {
   "cell_type": "code",
   "execution_count": null,
   "metadata": {},
   "outputs": [],
   "source": [
    "# lower case on emails on all\n",
    "df_valid['allocataire-courriel'] = df_valid['allocataire-courriel'].str.lower()"
   ]
  },
  {
   "cell_type": "code",
   "execution_count": null,
   "metadata": {},
   "outputs": [],
   "source": [
    "# remove rows when beneficiary is before september 1994\n",
    "mask_before = pd.to_datetime(df_valid['date_naissance']) > datetime(1995, 1, 1)\n",
    "df_valid_after = df_valid[mask_before]\n",
    "\n",
    "print(f\"{len(df_valid) - len(df_valid_after)} rows removed because they are more than 30 years old\")"
   ]
  },
  {
   "cell_type": "code",
   "execution_count": null,
   "metadata": {},
   "outputs": [],
   "source": [
    "from datetime import timedelta\n",
    "\n",
    "# add missing 0 to phone numbers\n",
    "mask_tel_not_null = df_valid_after['allocataire-telephone'].notna()\n",
    "mask_no_zero_phone_number = ~df_valid_after.loc[mask_tel_not_null, 'allocataire-telephone'].str.startswith('0')\n",
    "mask_9_char_phone = df_valid_after.loc[mask_tel_not_null, 'allocataire-telephone'].str.len() == 9\n",
    "df_valid_after.loc[\n",
    "    mask_tel_not_null & mask_no_zero_phone_number & mask_9_char_phone, 'allocataire-telephone'] = '0' + \\\n",
    "                                                                                                  df_valid_after[\n",
    "                                                                                                      'allocataire-telephone']\n",
    "\n",
    "# set '0' phone values to None\n",
    "mask_tel_eq_zero = df_valid_after['allocataire-telephone'] == '0'\n",
    "df_valid_after.loc[mask_tel_eq_zero, 'allocataire-telephone'] = np.NaN\n",
    "\n",
    "# add 4h on all birthdates\n",
    "df_valid_after['date_naissance'] = df_valid_after['date_naissance'] + timedelta(hours=4)"
   ]
  },
  {
   "cell_type": "code",
   "execution_count": null,
   "metadata": {},
   "outputs": [],
   "source": [
    "# remove duplicate beneficiaries\n",
    "df_valid_no_duplicate = df_valid_after.drop_duplicates(subset=[\n",
    "    'date_naissance',\n",
    "    'nom',\n",
    "    'prenom',\n",
    "    'genre',\n",
    "    'organisme',\n",
    "    'situation',\n",
    "    'allocataire-qualite',\n",
    "    'allocataire-matricule',\n",
    "    'allocataire-code_organisme',\n",
    "    'allocataire-telephone',\n",
    "    'allocataire-nom',\n",
    "    'allocataire-prenom',\n",
    "    'allocataire-courriel',\n",
    "])\n",
    "\n",
    "print(f\"{len(df_valid_after) - len(df_valid_no_duplicate)} duplicate rows were removed\")"
   ]
  },
  {
   "cell_type": "code",
   "execution_count": null,
   "metadata": {},
   "outputs": [],
   "source": [
    "# map allocataire json\n",
    "def to_json_allocataire_without_null(row):\n",
    "    allocataire_mapping = {\n",
    "        'qualite': row['allocataire-qualite'],\n",
    "        'matricule': row['allocataire-matricule'],\n",
    "        'code_organisme': row['allocataire-code_organisme'],\n",
    "        'telephone': row['allocataire-telephone'],\n",
    "        'nom': unaccent_and_upper(row['allocataire-nom']),\n",
    "        'prenom': unaccent_and_upper(row['allocataire-prenom']),\n",
    "        'courriel': row['allocataire-courriel']\n",
    "    }\n",
    "    filtered_NaN_allocataire = {k: v for k, v in allocataire_mapping.items() if pd.notnull(v)}\n",
    "    return json.dumps(filtered_NaN_allocataire, ensure_ascii=False)\n",
    "\n",
    "\n",
    "df_valid_no_duplicate['allocataire'] = df_valid_no_duplicate.apply(to_json_allocataire_without_null, axis=1)"
   ]
  },
  {
   "cell_type": "code",
   "execution_count": null,
   "metadata": {},
   "outputs": [],
   "source": [
    "# map adresse_allocataire json\n",
    "def to_json_adresse_without_null(row):\n",
    "    adresse_mapping = {\n",
    "        'voie': row['adresse_allocataire-voie'],\n",
    "        'code_postal': format_insee_or_postal_code(row['adresse_allocataire-code_postal']),\n",
    "        'commune': row['adresse_allocataire-commune'],\n",
    "        'code_insee': format_insee_or_postal_code(row['adresse_allocataire-code_insee']),\n",
    "        'cplt_adresse': row['adresse_allocataire-cplt_adresse'],\n",
    "    }\n",
    "\n",
    "    filtered_address = {k: v for k, v in adresse_mapping.items() if pd.notnull(v)}\n",
    "    return json.dumps(filtered_address, ensure_ascii=False)\n",
    "\n",
    "\n",
    "df_valid_no_duplicate['adresse_allocataire'] = df_valid_no_duplicate.apply(to_json_adresse_without_null, axis=1)"
   ]
  },
  {
   "cell_type": "code",
   "execution_count": null,
   "metadata": {},
   "outputs": [],
   "source": [
    "## drop null value\n",
    "df_final = df_valid_no_duplicate.drop(columns=[\n",
    "    'allocataire-qualite',\n",
    "    'allocataire-matricule',\n",
    "    'allocataire-code_organisme',\n",
    "    'allocataire-nom',\n",
    "    'allocataire-prenom',\n",
    "    'allocataire-telephone',\n",
    "    'allocataire-courriel',\n",
    "    'adresse_allocataire-voie',\n",
    "    'adresse_allocataire-code_postal',\n",
    "    'adresse_allocataire-commune',\n",
    "    'adresse_allocataire-code_insee',\n",
    "    'adresse_allocataire-cplt_adresse',\n",
    "])"
   ]
  },
  {
   "cell_type": "code",
   "execution_count": null,
   "metadata": {},
   "outputs": [],
   "source": [
    "# Add missing default column needed for target DB model\n",
    "df_final['updated_at'] = datetime.now()\n",
    "df_final['exercice_id'] = exercice_id\n",
    "df_final['uuid_doc'] = np.NaN"
   ]
  },
  {
   "cell_type": "code",
   "execution_count": null,
   "metadata": {},
   "outputs": [],
   "source": [
    "# ARS data 14-17 years old\n",
    "mask_jeune_dob_start = pd.to_datetime(df_psp_mapped_cnaf['date_naissance']).dt.date >= datetime(2008, 1, 1).date()\n",
    "mask_jeune_dob_end = pd.to_datetime(df_psp_mapped_cnaf['date_naissance']).dt.date <= datetime(2011, 12, 31).date()\n",
    "mask_jeune_dob = mask_jeune_dob_start & mask_jeune_dob_end\n",
    "\n",
    "df_final_jeune = df_final[mask_jeune_dob]"
   ]
  },
  {
   "cell_type": "code",
   "execution_count": null,
   "metadata": {},
   "outputs": [],
   "source": [
    "df_final_aah = df_final[df_final['situation'] == 'AAH']"
   ]
  },
  {
   "cell_type": "code",
   "execution_count": null,
   "metadata": {},
   "outputs": [],
   "source": [
    "# 6-13 years old for verification purposes\n",
    "mask_backup_data_potential_aeeh_dob_start = pd.to_datetime(df_psp_mapped_cnaf['date_naissance']).dt.date >= datetime(2012, 1, 1).date()\n",
    "mask_backup_data_potential_aeeh_dob_end = pd.to_datetime(df_psp_mapped_cnaf['date_naissance']).dt.date <= datetime(2019, 12, 31).date()\n",
    "\n",
    "mask_backup_data_potential_aeeh_dob = mask_backup_data_potential_aeeh_dob_start & mask_backup_data_potential_aeeh_dob_end\n",
    "\n",
    "df_backup_data = df_final[mask_backup_data_potential_aeeh_dob]"
   ]
  },
  {
   "cell_type": "code",
   "execution_count": null,
   "metadata": {},
   "outputs": [],
   "source": [
    "df_final_jeune_and_aah = pd.concat([df_final_jeune, df_final_aah])"
   ]
  },
  {
   "cell_type": "code",
   "execution_count": null,
   "metadata": {},
   "outputs": [],
   "source": [
    "df_final_jeune_and_aah['updated_at'] = df_final_jeune_and_aah['updated_at'].astype(str)\n",
    "df_final_jeune_and_aah['date_naissance'] = df_final_jeune_and_aah['date_naissance'].astype(str)\n",
    "\n",
    "df_backup_data.loc[:, 'updated_at'] = df_backup_data['updated_at'].astype(str)\n",
    "df_backup_data.loc[:, 'date_naissance'] = df_backup_data['date_naissance'].astype(str)"
   ]
  },
  {
   "cell_type": "code",
   "execution_count": null,
   "metadata": {},
   "outputs": [],
   "source": [
    "# output to CSV\n",
    "# df_final.to_parquet('cnaf-export.parquet', index=False)\n",
    "# df_final.to_csv('cnaf-export.csv', sep=';', index=False, encoding='utf-8')\n",
    "df_final_jeune_and_aah.to_csv('cnaf-2025-export.csv', sep=';', index=False, encoding='utf-8')\n",
    "df_backup_data.to_csv('cnaf-backup-export.csv', sep=';', index=False, encoding='utf-8')"
   ]
  }
 ],
 "metadata": {
  "kernelspec": {
   "display_name": ".venv",
   "language": "python",
   "name": "python3"
  },
  "language_info": {
   "codemirror_mode": {
    "name": "ipython",
    "version": 3
   },
   "file_extension": ".py",
   "mimetype": "text/x-python",
   "name": "python",
   "nbconvert_exporter": "python",
   "pygments_lexer": "ipython3",
   "version": "3.12.4"
  }
 },
 "nbformat": 4,
 "nbformat_minor": 2
}
