{
 "cells": [
  {
   "cell_type": "code",
   "execution_count": null,
   "metadata": {},
   "outputs": [],
   "source": [
    "from utils.data_utils import unaccent_and_upper, format_insee_or_postal_code, get_country_from_iso\n",
    "import os\n",
    "from dotenv import load_dotenv\n",
    "import pandas as pd\n",
    "import json\n",
    "from datetime import datetime\n",
    "import numpy as np\n",
    "\n",
    "load_dotenv()\n",
    "\n",
    "cnous_filepath = os.environ['CNOUS_PATHFILE_2025']\n",
    "base_output_filepath = os.environ['DB_CNOUS_EXPORT_2025']\n",
    "exercice_id = 4\n",
    "\n",
    "df_cnous = pd.read_csv(cnous_filepath, encoding='utf-8', on_bad_lines='skip', sep=',', engine=\"c\", dtype=str)"
   ]
  },
  {
   "cell_type": "code",
   "execution_count": null,
   "metadata": {},
   "outputs": [],
   "source": [
    "# Cleaning and formatting\n",
    "df_cnous['allocataire-nom'] = df_cnous['allocataire-nom'].astype(str).str.strip().apply(unaccent_and_upper)\n",
    "df_cnous['allocataire-prenom'] = df_cnous['allocataire-prenom'].astype(str).str.strip().apply(unaccent_and_upper)\n",
    "df_cnous['allocataire-qualite'] = df_cnous['allocataire-qualite'].astype(str).str.strip().apply(unaccent_and_upper)\n",
    "\n",
    "df_cnous.loc[:,'prenom'] = df_cnous['allocataire-prenom']\n",
    "df_cnous.loc[:,'nom'] = df_cnous['allocataire-nom']\n",
    "df_cnous.loc[:,'genre'] = df_cnous['allocataire-qualite']"
   ]
  },
  {
   "cell_type": "code",
   "execution_count": null,
   "metadata": {},
   "outputs": [],
   "source": [
    "df_cnous.loc[:,'organisme'] = 'cnous'\n",
    "df_cnous.loc[:,'situation'] = 'boursier'\n",
    "df_cnous.loc[:,'allocataire-courriel'] = df_cnous['allocataire-courriel'].str.lower()\n",
    "df_cnous.loc[:, 'allocataire-qualite'] = df_cnous['allocataire-qualite'].replace('F', 'Mme')"
   ]
  },
  {
   "cell_type": "code",
   "execution_count": null,
   "metadata": {},
   "outputs": [],
   "source": [
    "# infos bénéficiaires = allocataire\n",
    "df_cnous.loc[:,'date_naissance'] = pd.to_datetime(df_cnous['allocataire-date_naissance'], format='%d/%m/%Y')\n",
    "df_cnous.loc[:,'allocataire-date_naissance'] =  pd.to_datetime(df_cnous['allocataire-date_naissance'], format='%d/%m/%Y').dt.strftime('%d/%m/%Y')"
   ]
  },
  {
   "cell_type": "code",
   "execution_count": null,
   "metadata": {},
   "outputs": [],
   "source": [
    "df_cnous.loc[:, 'allocataire-commune_naissance'] = df_cnous['allocataire-commune_naissance'].str.upper()"
   ]
  },
  {
   "cell_type": "code",
   "execution_count": null,
   "metadata": {},
   "outputs": [],
   "source": [
    "# apply criterias on CNOUS datas\n",
    "from datetime import timedelta\n",
    "\n",
    "mask_dob_start = df_cnous['date_naissance'] >= datetime(1997, 1, 1)\n",
    "mask_dob_end = df_cnous['date_naissance'] <= datetime(2025, 12, 31)\n",
    "mask_dob = mask_dob_start & mask_dob_end\n",
    "\n",
    "df_cnous_filtered = df_cnous[mask_dob]\n",
    "\n",
    "print(f\"{len(df_cnous) - len(df_cnous_filtered)} rows for CNOUS dataframe were removed based on criterias\")\n",
    "print(f\"{len(df_cnous_filtered)}\")"
   ]
  },
  {
   "cell_type": "code",
   "execution_count": null,
   "metadata": {},
   "outputs": [],
   "source": [
    "# remove rows with missing necessary values (if one of those value are missing we cannot generate a code)\n",
    "necessary_column = ['nom', 'prenom', 'date_naissance', 'genre']\n",
    "df_all_valid_row = df_cnous_filtered.dropna(subset=necessary_column)\n",
    "\n",
    "# remove columns with all null value\n",
    "df_all_valid = df_all_valid_row.dropna(axis=1, how='all')\n",
    "\n",
    "print(f\"{len(df_all_valid)}\")\n",
    "assert len(df_all_valid[df_cnous_filtered['nom'].isnull() | df_all_valid['prenom'].isnull() | df_all_valid['date_naissance'].isnull()]) == 0"
   ]
  },
  {
   "cell_type": "code",
   "execution_count": null,
   "metadata": {},
   "outputs": [],
   "source": [
    "# add 4h on all birthdates\n",
    "df_all_valid.loc[:,'date_naissance'] = df_all_valid['date_naissance'] + timedelta(hours=4)"
   ]
  },
  {
   "cell_type": "code",
   "execution_count": null,
   "metadata": {},
   "outputs": [],
   "source": [
    "len(df_all_valid)"
   ]
  },
  {
   "cell_type": "code",
   "execution_count": null,
   "metadata": {},
   "outputs": [],
   "source": [
    "df_all_valid['allocataire-code_iso_pays_naissance'].fillna('FR', inplace=True)\n",
    "\n",
    "# When iso pays naissance is na, we assume it is from FRANCE\n",
    "df_all_valid[df_all_valid['allocataire-code_iso_pays_naissance'].isna()]"
   ]
  },
  {
   "cell_type": "code",
   "execution_count": null,
   "metadata": {},
   "outputs": [],
   "source": [
    "from utils.data_utils import get_country_from_iso\n",
    "\n",
    "# map to json values for target DB model\n",
    "## map allocataire json\n",
    "def to_json_allocataire_without_null(row):\n",
    "    allocataire_mapping = {\n",
    "        'qualite': row['allocataire-qualite'],\n",
    "        'nom': unaccent_and_upper(row['allocataire-nom']),\n",
    "        'prenom': unaccent_and_upper(row['allocataire-prenom']),\n",
    "        'date_naissance': row['allocataire-date_naissance'],\n",
    "        'courriel': row['allocataire-courriel'],\n",
    "        'code_insee_commune_naissance': format_insee_or_postal_code(row['allocataire-code_insee_commune_naissance']),\n",
    "        'commune_naissance': row['allocataire-commune_naissance'],\n",
    "        'matricule': row['allocataire-matricule'],\n",
    "        'code_iso_pays_naissance': row['allocataire-code_iso_pays_naissance'].upper(),\n",
    "        'pays_naissance': get_country_from_iso(row['allocataire-code_iso_pays_naissance'].upper()).upper()\n",
    "    }\n",
    "    filtered_NaN_allocataire = {k: v for k, v in allocataire_mapping.items() if pd.notnull(v) and v != ''}\n",
    "    return json.dumps(filtered_NaN_allocataire, ensure_ascii=False)\n",
    "\n",
    "df_all_valid['allocataire'] = df_all_valid.apply(to_json_allocataire_without_null, axis=1)"
   ]
  },
  {
   "cell_type": "code",
   "execution_count": null,
   "metadata": {},
   "outputs": [],
   "source": [
    "# Some rows don't have any adresse-allocataire_voie, these aren't included in the json object subsequently\n",
    "df_all_valid['adresse-allocataire_voie'].fillna('', inplace=True)\n",
    "\n",
    "def to_json_adresse_without_null(row):\n",
    "    adresse_mapping = {\n",
    "        'voie': unaccent_and_upper(row['adresse-allocataire_voie'].strip()).replace('\"', '\\''),\n",
    "        'commune': unaccent_and_upper(row['adresse-allocataire_commune'].strip()),\n",
    "        'code_postal': format_insee_or_postal_code(row['adresse-allocataire_code_postal']),\n",
    "        'code_insee': format_insee_or_postal_code(row['adresse-allocataire_code_insee']),\n",
    "        'cplt_adresse': row['adresse-allocataire_cplt_adresse'],\n",
    "    }\n",
    "    \n",
    "    filtered_address = {k: v for k, v in adresse_mapping.items() if pd.notnull(v) and v != ''}\n",
    "    return json.dumps(filtered_address, ensure_ascii=False)\n",
    "\n",
    "df_all_valid['adresse_allocataire'] = df_all_valid.apply(to_json_adresse_without_null, axis=1)"
   ]
  },
  {
   "cell_type": "code",
   "execution_count": null,
   "metadata": {},
   "outputs": [],
   "source": [
    "df_all_valid[df_all_valid['adresse-allocataire_voie'] == '']"
   ]
  },
  {
   "cell_type": "code",
   "execution_count": null,
   "metadata": {},
   "outputs": [],
   "source": [
    "existing_codes_filepath = os.environ['EXISTING_CODES_PATHFILE_2025']\n",
    "existing_codes = pd.read_csv('/Users/patricknguyen/Desktop/betagouv/pass-sport/data/2025/aeeh/previous_waves/wave-2/2025-09-19-existing-codes-2025.csv', on_bad_lines='skip', sep=',', engine=\"c\")"
   ]
  },
  {
   "cell_type": "code",
   "execution_count": null,
   "metadata": {},
   "outputs": [],
   "source": [
    "# Unique codes generation\n",
    "import random\n",
    "import string\n",
    "import datetime\n",
    "\n",
    "current_date = datetime.datetime.now()\n",
    "current_year = str(current_date.year)[-2:]\n",
    "\n",
    "def get_characters_set(size = 4):\n",
    "    return ''.join(random.choices([c for c in string.ascii_uppercase if c not in 'OI'], k=size))\n",
    "\n",
    "def generate_code():\n",
    "    return f\"{current_year}-{get_characters_set(4)}-{get_characters_set(4)}\"\n",
    "\n",
    "# init set of codes with existing\n",
    "unique_codes = set(existing_codes['code'])\n",
    "\n",
    "# init current_code count\n",
    "current_codes_count = len(unique_codes)\n",
    "\n",
    "while len(unique_codes) < (len(df_all_valid) + len(existing_codes)):\n",
    "    unique_codes.add(generate_code())"
   ]
  },
  {
   "cell_type": "code",
   "execution_count": null,
   "metadata": {},
   "outputs": [],
   "source": [
    "# Ensure we have generated codes for all the rows\n",
    "assert len(unique_codes) == (len(df_all_valid) + len(existing_codes))"
   ]
  },
  {
   "cell_type": "code",
   "execution_count": null,
   "metadata": {},
   "outputs": [],
   "source": [
    "# Assign generated code for production data\n",
    "new_codes = unique_codes.difference(set(existing_codes['code']))\n",
    "assert len(new_codes) == len(df_all_valid)"
   ]
  },
  {
   "cell_type": "code",
   "execution_count": null,
   "metadata": {},
   "outputs": [],
   "source": [
    "df_all_valid['id_psp'] = list(new_codes)"
   ]
  },
  {
   "cell_type": "code",
   "execution_count": null,
   "metadata": {},
   "outputs": [],
   "source": [
    "# Add missing default columns needed for target DB model\n",
    "timestamp_with_custom_tz = pd.Timestamp.now(tz='Europe/Paris')\n",
    "\n",
    "df_all_valid.loc[:,'exercice_id'] = exercice_id\n",
    "df_all_valid.loc[:,'uuid_doc'] = np.NaN\n",
    "df_all_valid[['zrr', 'qpv', 'a_valider', 'refuser']] = False\n",
    "df_all_valid[['created_at', 'updated_at']] = timestamp_with_custom_tz\n",
    "len(df_all_valid)"
   ]
  },
  {
   "cell_type": "code",
   "execution_count": null,
   "metadata": {},
   "outputs": [],
   "source": [
    "counts = df_all_valid['allocataire-courriel'].value_counts()\n",
    "duplicates = counts[counts > 1]\n",
    "print(f\"{len(duplicates)} total duplicates\")\n",
    "df_all_valid = df_all_valid.drop_duplicates(subset=['allocataire-courriel'], keep=False)\n",
    "len(df_all_valid)\n",
    "print(f\"{len(df_all_valid)} students to inject\")"
   ]
  },
  {
   "cell_type": "code",
   "execution_count": null,
   "metadata": {},
   "outputs": [],
   "source": [
    "# output to CSV\n",
    "db_columns = ['nom', 'prenom', 'date_naissance', 'genre', 'organisme', 'situation', 'allocataire', 'adresse_allocataire', 'created_at', 'updated_at', 'exercice_id', 'uuid_doc', 'zrr', 'qpv', 'a_valider', 'refuser', 'id_psp']\n",
    "df_all_valid[db_columns].to_csv(base_output_filepath)"
   ]
  }
 ],
 "metadata": {
  "kernelspec": {
   "display_name": ".venv",
   "language": "python",
   "name": "python3"
  },
  "language_info": {
   "codemirror_mode": {
    "name": "ipython",
    "version": 3
   },
   "file_extension": ".py",
   "mimetype": "text/x-python",
   "name": "python",
   "nbconvert_exporter": "python",
   "pygments_lexer": "ipython3",
   "version": "3.12.4"
  }
 },
 "nbformat": 4,
 "nbformat_minor": 2
}
