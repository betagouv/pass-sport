{
 "cells": [
  {
   "cell_type": "code",
   "execution_count": null,
   "metadata": {},
   "outputs": [],
   "source": [
    "import csv\n",
    "import os\n",
    "from dotenv import load_dotenv\n",
    "import pandas as pd\n",
    "import json\n",
    "import numpy as np\n",
    "from utils.data_utils import unaccent_and_upper, format_insee_or_postal_code\n",
    "\n",
    "\n",
    "load_dotenv()\n",
    "\n",
    "csp_filepath = os.environ['CSP_PATHFILE_2025']\n",
    "base_output_filepath = os.environ['DB_CSP_EXPORT_2025']\n",
    "existing_codes_filepath = os.environ['EXISTING_CODES_PATHFILE_2025']\n",
    "cps_organism_code = '459'"
   ]
  },
  {
   "cell_type": "code",
   "execution_count": null,
   "metadata": {},
   "outputs": [],
   "source": [
    "csp_df = pd.read_csv(csp_filepath, on_bad_lines='skip', sep=',', engine=\"c\", dtype=str)\n",
    "existing_codes = pd.read_csv(existing_codes_filepath, on_bad_lines='skip', sep=',', engine=\"c\")"
   ]
  },
  {
   "cell_type": "code",
   "execution_count": null,
   "metadata": {},
   "outputs": [],
   "source": [
    "# Telephone as is, it is not exploitable\n",
    "# csp_df['allocataire-telephone'] = csp_df['allocataire-telephone'].str.replace(' ', '')"
   ]
  },
  {
   "cell_type": "code",
   "execution_count": null,
   "metadata": {},
   "outputs": [],
   "source": [
    "# assign code_orgnisme for csp\n",
    "csp_df['allocataire-code_organisme'] = cps_organism_code\n",
    "csp_df['organisme'] = 'MSA'"
   ]
  },
  {
   "cell_type": "code",
   "execution_count": null,
   "metadata": {},
   "outputs": [],
   "source": [
    "csp_df['adresse-allocataire_code_insee'] = csp_df['adresse-allocataire_code_insee'].astype(str)\n",
    "\n",
    "# Remove extra white spaces\n",
    "csp_df['nom'] = csp_df['nom'].astype(str).apply(unaccent_and_upper).str.strip()\n",
    "csp_df['prenom'] = csp_df['prenom'].astype(str).apply(unaccent_and_upper).str.strip()\n",
    "csp_df['genre'] = csp_df['genre'].astype(str).str.upper()"
   ]
  },
  {
   "cell_type": "code",
   "execution_count": null,
   "metadata": {},
   "outputs": [],
   "source": [
    "# Countries that are different from France and Miquelon\n",
    "foreign_country_mask = (csp_df['allocataire-code_iso_pays_naissance'] != 'FR') & (csp_df['allocataire-code_iso_pays_naissance'] != 'PM')\n",
    "csp_df.loc[foreign_country_mask, ['allocataire-code_insee_commune_naissance', 'allocataire-commune_naissance']] = np.NaN"
   ]
  },
  {
   "cell_type": "code",
   "execution_count": null,
   "metadata": {},
   "outputs": [],
   "source": [
    "# map to json values for target DB model\n",
    "## map allocataire json\n",
    "def to_json_allocataire_without_null(row):\n",
    "    allocataire_mapping = {\n",
    "        'qualite': row['allocataire-qualite'],\n",
    "        'matricule': row['allocataire-matricule'],\n",
    "        'code_organisme': row['allocataire-code_organisme'],\n",
    "        'telephone': row['allocataire-telephone'],\n",
    "        'nom': unaccent_and_upper(row['allocataire-nom']),\n",
    "        'prenom': unaccent_and_upper(row['allocataire-prenom']),\n",
    "        'date_naissance': row['allocataire-date_naissance'],\n",
    "        'courriel': row['allocataire-courriel'],\n",
    "        'code_insee_commune_naissance': format_insee_or_postal_code(row['allocataire-code_insee_commune_naissance']),\n",
    "        'commune_naissance': row['allocataire-commune_naissance'],\n",
    "        'code_iso_pays_naissance': row['allocataire-code_iso_pays_naissance'],\n",
    "    }\n",
    "    filtered_NaN_allocataire = {k: v for k, v in allocataire_mapping.items() if pd.notnull(v)}\n",
    "    return json.dumps(filtered_NaN_allocataire, ensure_ascii=False)\n",
    "\n",
    "csp_df['allocataire'] = csp_df.apply(to_json_allocataire_without_null, axis=1)"
   ]
  },
  {
   "cell_type": "code",
   "execution_count": null,
   "metadata": {},
   "outputs": [],
   "source": [
    "csp_df['adresse-allocataire_voie'] = np.where(csp_df['adresse-allocataire_voie'].str.len() > 0, csp_df['adresse-allocataire_voie'] + ' ' + csp_df['adresse-allocataire_nom_adresse_postal'], csp_df['adresse-allocataire_nom_adresse_postal'])\n",
    "csp_df['adresse-allocataire_voie']"
   ]
  },
  {
   "cell_type": "code",
   "execution_count": null,
   "metadata": {},
   "outputs": [],
   "source": [
    "## map adresse_allocataire json\n",
    "def to_json_adresse_without_null(row):\n",
    "    adresse_mapping = {\n",
    "        'voie': row['adresse-allocataire_voie'],\n",
    "        'code_postal': format_insee_or_postal_code(row['adresse-allocataire_code_postal']),\n",
    "        'commune': row['adresse-allocataire_commune'],\n",
    "        'code_insee': format_insee_or_postal_code(row['adresse-allocataire_code_insee']),\n",
    "        'cplt_adresse': row['adresse-allocataire_cptl_adresse'],\n",
    "    }\n",
    "    \n",
    "    filtered_address = {k: v for k, v in adresse_mapping.items() if pd.notnull(v)}\n",
    "    return json.dumps(filtered_address, ensure_ascii=False)\n",
    "\n",
    "csp_df['adresse_allocataire'] = csp_df.apply(to_json_adresse_without_null, axis=1)"
   ]
  },
  {
   "cell_type": "code",
   "execution_count": null,
   "metadata": {},
   "outputs": [],
   "source": [
    "csp_df['date_naissance'] = pd.to_datetime(csp_df['date_naissance']).dt.floor('D') + pd.DateOffset(hours=4)"
   ]
  },
  {
   "cell_type": "code",
   "execution_count": null,
   "metadata": {},
   "outputs": [],
   "source": [
    "# Add missing default column needed for target DB model\n",
    "timestamp_with_custom_tz = pd.Timestamp.now(tz='Europe/Paris')\n",
    "\n",
    "csp_df['exercice_id'] = 4\n",
    "csp_df['uuid_doc'] = np.NaN\n",
    "csp_df[['zrr', 'qpv', 'a_valider', 'refuser']] = False\n",
    "csp_df[['updated_at', 'created_at']] = timestamp_with_custom_tz"
   ]
  },
  {
   "cell_type": "code",
   "execution_count": null,
   "metadata": {},
   "outputs": [],
   "source": [
    "from datetime import datetime\n",
    "\n",
    "mask_nom_equal = csp_df['allocataire-nom'] == csp_df['nom']\n",
    "mask_prenom_equal = csp_df['allocataire-prenom'] == csp_df['prenom']\n",
    "mask_same_names = mask_nom_equal & mask_prenom_equal\n",
    "\n",
    "# Keep AAH benef only between 20 and 30 years old\n",
    "mask_dob_start = csp_df['date_naissance'].dt.date >= datetime(1995, 1, 1).date()\n",
    "mask_dob_end = csp_df['date_naissance'].dt.date <= datetime(2005, 12, 31).date()\n",
    "mask_dob = mask_dob_start & mask_dob_end\n",
    "\n",
    "print(f\"{len(csp_df[mask_same_names & mask_dob])} AAH with prenom_benef = prenom_alloc & nom_benef = nom_alloc and AAH within period\")\n",
    "print(f\"{len(csp_df[~mask_dob])} AAH outside the period \")\n",
    "\n",
    "aah_df = csp_df[mask_same_names & mask_dob]\n",
    "aah_df['situation'] = 'AAH'"
   ]
  },
  {
   "cell_type": "code",
   "execution_count": null,
   "metadata": {},
   "outputs": [],
   "source": [
    "# ARS data 14-17 years old\n",
    "mask_jeune_dob_start = pd.to_datetime(csp_df['date_naissance']).dt.date >= datetime(2008, 1, 1).date()\n",
    "mask_jeune_dob_end = pd.to_datetime(csp_df['date_naissance']).dt.date <= datetime(2011, 12, 31).date()\n",
    "mask_jeune_dob = mask_jeune_dob_start & mask_jeune_dob_end\n",
    "\n",
    "jeunes_df = csp_df[mask_jeune_dob & ~mask_same_names]\n",
    "jeunes_df['situation'] = 'jeune'\n",
    "print(f\"{len(jeunes_df)} jeunes within period\")\n",
    "print(f\"{len(csp_df[~mask_jeune_dob & ~mask_same_names])} jeunes outside the period \")"
   ]
  },
  {
   "cell_type": "code",
   "execution_count": null,
   "metadata": {},
   "outputs": [],
   "source": [
    "assert(len(pd.merge(aah_df, jeunes_df, how='inner', on=['prenom', 'nom'])) == 0)\n",
    "print(f\"{len(aah_df)} AAH\")\n",
    "print(f\"{len(jeunes_df)} Jeunes\")\n",
    "\n",
    "merged_df = pd.concat([aah_df, jeunes_df])"
   ]
  },
  {
   "cell_type": "code",
   "execution_count": null,
   "metadata": {},
   "outputs": [],
   "source": [
    "# Unique codes generation\n",
    "import random\n",
    "import string\n",
    "import datetime\n",
    "\n",
    "current_date = datetime.datetime.now()\n",
    "current_year = str(current_date.year)[-2:]\n",
    "\n",
    "def get_characters_set(size = 4):\n",
    "    return ''.join(random.choices([c for c in string.ascii_uppercase if c not in 'OI'], k=size))\n",
    "\n",
    "def generate_code():\n",
    "    return f\"{current_year}-{get_characters_set(4)}-{get_characters_set(4)}\"\n",
    "\n",
    "# init set of codes with existing\n",
    "unique_codes = set(existing_codes['code'])\n",
    "\n",
    "# init current_code count\n",
    "current_codes_count = len(unique_codes)\n",
    "\n",
    "while len(unique_codes) < (len(merged_df) + len(existing_codes)):\n",
    "    unique_codes.add(generate_code())"
   ]
  },
  {
   "cell_type": "code",
   "execution_count": null,
   "metadata": {},
   "outputs": [],
   "source": [
    "# Ensure we have generated codes for all the rows\n",
    "assert len(unique_codes) == (len(merged_df)+len(existing_codes))"
   ]
  },
  {
   "cell_type": "code",
   "execution_count": null,
   "metadata": {},
   "outputs": [],
   "source": [
    "new_codes = unique_codes.difference(set(existing_codes['code']))\n",
    "assert len(new_codes) == len(merged_df)"
   ]
  },
  {
   "cell_type": "code",
   "execution_count": null,
   "metadata": {},
   "outputs": [],
   "source": [
    "# Assign generated code for production data\n",
    "merged_df['id_psp'] = list(new_codes)"
   ]
  },
  {
   "cell_type": "code",
   "execution_count": null,
   "metadata": {},
   "outputs": [],
   "source": [
    "csp_df_column_filtered = merged_df[[\n",
    "       'id_psp', 'date_naissance',\n",
    "       'genre', 'nom', 'prenom', 'organisme', 'situation',\n",
    "       'allocataire', 'adresse_allocataire',\n",
    "       'updated_at', 'exercice_id', 'uuid_doc',\n",
    "       'zrr', 'qpv', 'a_valider', 'refuser', 'created_at'\n",
    "]]"
   ]
  },
  {
   "cell_type": "code",
   "execution_count": null,
   "metadata": {},
   "outputs": [],
   "source": [
    "# output to CSV\n",
    "csp_df_column_filtered.to_csv(base_output_filepath, sep=';', index=False, encoding='utf-8')"
   ]
  }
 ],
 "metadata": {
  "kernelspec": {
   "display_name": ".venv",
   "language": "python",
   "name": "python3"
  },
  "language_info": {
   "codemirror_mode": {
    "name": "ipython",
    "version": 3
   },
   "file_extension": ".py",
   "mimetype": "text/x-python",
   "name": "python",
   "nbconvert_exporter": "python",
   "pygments_lexer": "ipython3",
   "version": "3.10.12"
  }
 },
 "nbformat": 4,
 "nbformat_minor": 2
}
