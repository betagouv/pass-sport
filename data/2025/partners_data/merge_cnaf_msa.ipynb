{
 "cells": [
  {
   "cell_type": "markdown",
   "id": "5ecf5b602805f42f",
   "metadata": {},
   "source": [
    "# Summary\n",
    "Script to run against the MSA and CNAF files that have gone through cleaning/formatting process\n",
    "\n",
    "This notebook merge benef and backup benefs and set the default column values such as:\n",
    "- exercice_id, uuid_doc, zrr, qpv, a_valider, refuser, created_at, updated_at\n",
    "\n",
    "It also merges data from 2024 if they do not match against anything from the 2025 data,\n",
    "if there 2024 data matches against the 2025 data, we keep the latter.\n",
    "\n",
    "Uniques codes are also generated for each of the rows and assigned to column \"id_psp\""
   ]
  },
  {
   "cell_type": "code",
   "execution_count": null,
   "id": "476b8f75ab5fc6b9",
   "metadata": {},
   "outputs": [],
   "source": [
    "import os\n",
    "import pandas as pd\n",
    "import numpy as np\n",
    "import csv\n",
    "\n",
    "from dotenv import load_dotenv"
   ]
  },
  {
   "cell_type": "code",
   "execution_count": null,
   "id": "57197720965e32ea",
   "metadata": {},
   "outputs": [],
   "source": [
    "load_dotenv()\n",
    "\n",
    "cnaf_msa_2024_filepath = os.environ['DB_CNAF_MSA_2024_WITHOUT_RGPD']\n",
    "cnaf_export_2025_filepath = os.environ['DB_CNAF_EXPORT_2025']\n",
    "msa_export_2025_filepath = os.environ['DB_MSA_EXPORT_2025']\n",
    "\n",
    "backup_cnaf_export_filepath = os.environ['DB_BACKUP_CNAF_EXPORT_2025']\n",
    "backup_msa_export_filepath = os.environ['DB_BACKUP_MSA_EXPORT_2025']\n",
    "\n",
    "final_db_export_output_filepath = os.environ['FINAL_DB_EXPORT_2025']\n",
    "final_db_backup_export_output_filepath = os.environ['FINAL_DB_BACKUP_EXPORT_2025']"
   ]
  },
  {
   "cell_type": "code",
   "execution_count": null,
   "id": "96a4429194103f80",
   "metadata": {},
   "outputs": [],
   "source": [
    "# keep_default_na is necessary otherwise string such as \"NA\" is considered as NaN...\n",
    "df_cnaf_msa_2024 = pd.read_csv(cnaf_msa_2024_filepath, sep=';', encoding='utf-8', dtype=str, keep_default_na=False, quoting=csv.QUOTE_ALL)\n",
    "df_cnaf_2025 = pd.read_csv(cnaf_export_2025_filepath, sep=';', encoding='utf-8', dtype=str, keep_default_na=False, quoting=csv.QUOTE_ALL)\n",
    "df_msa_2025= pd.read_csv(msa_export_2025_filepath, sep=';', encoding='utf-8', dtype=str, keep_default_na=False, quoting=csv.QUOTE_ALL)"
   ]
  },
  {
   "cell_type": "code",
   "execution_count": null,
   "id": "7421b3da900d9a3e",
   "metadata": {},
   "outputs": [],
   "source": [
    "assert(len(df_cnaf_msa_2024[df_cnaf_msa_2024['prenom'].isna() | df_cnaf_msa_2024['prenom'].isna()]) == 0)\n",
    "assert(len(df_cnaf_2025[df_cnaf_2025['prenom'].isna() | df_cnaf_2025['prenom'].isna()]) == 0)\n",
    "assert(len(df_msa_2025[df_msa_2025['prenom'].isna() | df_msa_2025['prenom'].isna()]) == 0)"
   ]
  },
  {
   "cell_type": "code",
   "execution_count": null,
   "id": "16abc27306958643",
   "metadata": {},
   "outputs": [],
   "source": [
    "backup_df_cnaf_2025 = pd.read_csv(backup_cnaf_export_filepath, sep=';', encoding='utf-8')\n",
    "backup_df_msa_2025 = pd.read_csv(backup_msa_export_filepath, sep=';', encoding='utf-8')"
   ]
  },
  {
   "cell_type": "code",
   "execution_count": null,
   "id": "96a866e8d10339cd",
   "metadata": {},
   "outputs": [],
   "source": [
    "merged_df_from_2025 = pd.concat([df_cnaf_2025, df_msa_2025], ignore_index=True).reset_index(drop=True)\n",
    "merged_backup_from_2025_df = pd.concat([backup_df_cnaf_2025, backup_df_msa_2025], ignore_index=True).reset_index(drop=True)"
   ]
  },
  {
   "cell_type": "code",
   "execution_count": null,
   "id": "68c79e2d194ac307",
   "metadata": {},
   "outputs": [],
   "source": [
    "merged_df_from_2025['date_naissance_to_compare'] = pd.to_datetime(merged_df_from_2025['date_naissance']).dt.date\n",
    "df_cnaf_msa_2024['date_naissance_to_compare'] = pd.to_datetime(df_cnaf_msa_2024['date_naissance']).dt.date\n",
    "\n",
    "# Put a date value for the 2025 data otherwise the merge will not work as intended (the dates from 2024 will replace the non existing dates on data from 2025)\n",
    "timestamp_with_custom_tz = pd.Timestamp.now(tz='Europe/Paris')\n",
    "merged_df_from_2025[['created_at', 'updated_at']] = timestamp_with_custom_tz"
   ]
  },
  {
   "cell_type": "code",
   "execution_count": null,
   "id": "5c960c15c359f4e",
   "metadata": {},
   "outputs": [],
   "source": [
    "# indicator True in order to take data from 2024\n",
    "merged_old_and_new_data = pd.merge(df_cnaf_msa_2024, merged_df_from_2025, how='left', on=['prenom', 'nom', 'date_naissance_to_compare'], suffixes=('', '_old'), indicator=True)\n",
    "\n",
    "# left_only means the data from 2024 was not found in data from 2025, so we take it\n",
    "data_from_2024_not_existing_in_2025 = merged_old_and_new_data[merged_old_and_new_data['_merge'] == 'left_only']"
   ]
  },
  {
   "cell_type": "code",
   "execution_count": null,
   "id": "f23767afa6309d3c",
   "metadata": {},
   "outputs": [],
   "source": [
    "# Exclude columns created by the merge and the indicator option\n",
    "columns_to_keep = [col for col in data_from_2024_not_existing_in_2025.columns if not col.endswith('_old') and col != '_merge']\n",
    "data_from_2024_not_existing_in_2025 = data_from_2024_not_existing_in_2025[columns_to_keep]"
   ]
  },
  {
   "cell_type": "code",
   "execution_count": null,
   "id": "214d2655d2bea43",
   "metadata": {},
   "outputs": [],
   "source": [
    "# Merge data from 2025 and data from 2024 (that don't exist in 2025 data)\n",
    "final_df = pd.concat([merged_df_from_2025, data_from_2024_not_existing_in_2025], ignore_index=True).reset_index(drop=True)"
   ]
  },
  {
   "cell_type": "code",
   "execution_count": null,
   "id": "3e2250c38dd4d70e",
   "metadata": {},
   "outputs": [],
   "source": [
    "# Add missing default column needed to production data\n",
    "exercice_2025 = 4\n",
    "\n",
    "final_df['exercice_id'] = exercice_2025\n",
    "final_df['uuid_doc'] = np.NaN\n",
    "final_df[['zrr', 'qpv', 'a_valider', 'refuser']] = False"
   ]
  },
  {
   "cell_type": "code",
   "execution_count": null,
   "id": "dab31b6af3f8fbd5",
   "metadata": {},
   "outputs": [],
   "source": [
    "# Add missing default column needed to backup data\n",
    "merged_backup_from_2025_df['exercice_id'] = exercice_2025\n",
    "merged_backup_from_2025_df[['id_psp', 'uuid_doc']] = np.NaN\n",
    "merged_backup_from_2025_df[['zrr', 'qpv', 'a_valider', 'refuser']] = False\n",
    "merged_backup_from_2025_df[['created_at', 'updated_at']] = timestamp_with_custom_tz"
   ]
  },
  {
   "cell_type": "code",
   "execution_count": null,
   "id": "2266efca6c7285a6",
   "metadata": {},
   "outputs": [],
   "source": [
    "# Unique codes generation\n",
    "import random\n",
    "import string\n",
    "import datetime\n",
    "\n",
    "current_date = datetime.datetime.now()\n",
    "current_year = str(current_date.year)[-2:]\n",
    "\n",
    "def get_characters_set(size = 4):\n",
    "    return ''.join(random.choices([c for c in string.ascii_uppercase if c not in 'OI'], k=size))\n",
    "\n",
    "def generate_code():\n",
    "    return f\"{current_year}-{get_characters_set(4)}-{get_characters_set(4)}\"\n",
    "\n",
    "# init set of codes with existing\n",
    "unique_codes = set()\n",
    "\n",
    "# init current_code count\n",
    "current_codes_count = len(unique_codes)\n",
    "\n",
    "while len(unique_codes) < len(final_df):\n",
    "    unique_codes.add(generate_code())\n",
    "\n",
    "# Ensure we have generated codes for all the rows\n",
    "assert len(unique_codes) == len(final_df)"
   ]
  },
  {
   "cell_type": "code",
   "execution_count": null,
   "id": "23dcc857109bd05e",
   "metadata": {},
   "outputs": [],
   "source": [
    "# Assign generated code for production data\n",
    "final_df['id_psp'] = list(unique_codes)"
   ]
  },
  {
   "cell_type": "code",
   "execution_count": null,
   "id": "917e65014d1cf353",
   "metadata": {},
   "outputs": [],
   "source": [
    "print(f\"{len(df_cnaf_msa_2024)} benefs from 2024 (msa + cnaf)\")\n",
    "print(f\"{len(df_cnaf_msa_2024[df_cnaf_msa_2024['genre'] == 'M'])} M benefs from 2024\")\n",
    "print(f\"{len(df_cnaf_msa_2024[df_cnaf_msa_2024['genre'] == 'F'])} F benefs from 2024\")"
   ]
  },
  {
   "cell_type": "code",
   "execution_count": null,
   "id": "1fd70c55be1af973",
   "metadata": {},
   "outputs": [],
   "source": [
    "print(f\"{len(merged_df_from_2025)} benefs from 2025 (msa + cnaf)\")\n",
    "print(f\"{len(merged_df_from_2025[merged_df_from_2025['genre'] == 'M'])} M benefs from 2025\")\n",
    "print(f\"{len(merged_df_from_2025[merged_df_from_2025['genre'] == 'F'])} F benefs from 2025\")"
   ]
  },
  {
   "cell_type": "code",
   "execution_count": null,
   "id": "aff219b545d26532",
   "metadata": {},
   "outputs": [],
   "source": [
    "print(f\"{len(unique_codes)} unique codes generated for this year\")\n",
    "print(f\"{len(final_df)} benefs from 2024 + 2025 (msa + cnaf)\")\n",
    "print(f\"{len(final_df[final_df['genre'] == 'M'])} M benefs from 2024 + 2025\")\n",
    "print(f\"{len(final_df[final_df['genre'] == 'F'])} F benefs from 2024 + 2025\")"
   ]
  },
  {
   "cell_type": "code",
   "execution_count": null,
   "id": "e1ee70137fc5cb03",
   "metadata": {},
   "outputs": [],
   "source": [
    "print(f\"{len(df_cnaf_msa_2024[df_cnaf_msa_2024['situation'] == 'AAH'])} AAH benefs from 2024 (msa + cnaf)\")\n",
    "print(f\"{len(merged_df_from_2025[merged_df_from_2025['situation'] == 'AAH'])} AAH benefs from 2025 (msa + cnaf)\")\n",
    "print(f\"{len(final_df[final_df['situation'] == 'AAH'])} AAH benefs from 2024 + 2025 (msa + cnaf)\")"
   ]
  },
  {
   "cell_type": "code",
   "execution_count": null,
   "id": "c058a38cf116c151",
   "metadata": {},
   "outputs": [],
   "source": [
    "print(f\"{len(df_cnaf_msa_2024[df_cnaf_msa_2024['situation'] == 'jeune'])} jeune benefs from 2024 (msa + cnaf)\")\n",
    "print(f\"{len(merged_df_from_2025[merged_df_from_2025['situation'] == 'jeune'])} jeune benefs from 2025 (msa + cnaf)\")\n",
    "print(f\"{len(final_df[final_df['situation'] == 'jeune'])} jeune benefs from 2024 + 2025 (msa + cnaf)\")"
   ]
  },
  {
   "cell_type": "code",
   "execution_count": null,
   "id": "2a0e75462c1f868",
   "metadata": {},
   "outputs": [],
   "source": [
    "print(f\"{len(merged_backup_from_2025_df)} benefs from backup data 2025\")"
   ]
  },
  {
   "cell_type": "code",
   "execution_count": null,
   "id": "7e88a29ea85c8ca1",
   "metadata": {},
   "outputs": [],
   "source": [
    "final_df.drop(columns=['date_naissance_to_compare'], inplace=True)"
   ]
  },
  {
   "cell_type": "code",
   "execution_count": null,
   "id": "f70eb91fae5ab7a1",
   "metadata": {},
   "outputs": [],
   "source": [
    "mask_jeune = final_df['situation'] == 'jeune'\n",
    "mask_caf = final_df['organisme'] == 'CAF'\n",
    "len(final_df[mask_jeune & mask_caf])"
   ]
  },
  {
   "cell_type": "code",
   "execution_count": null,
   "id": "41abb8083039b24e",
   "metadata": {},
   "outputs": [],
   "source": [
    "merged_backup_from_2025_df['is_backup'] = True"
   ]
  },
  {
   "cell_type": "code",
   "execution_count": null,
   "id": "1f9758e9823ed365",
   "metadata": {},
   "outputs": [],
   "source": [
    "final_df.to_csv(final_db_export_output_filepath, sep=';', index=False, encoding='utf-8')\n",
    "merged_backup_from_2025_df.to_csv(final_db_backup_export_output_filepath, sep=';', index=False, encoding='utf-8')"
   ]
  }
 ],
 "metadata": {
  "kernelspec": {
   "display_name": "Python 3",
   "language": "python",
   "name": "python3"
  },
  "language_info": {
   "codemirror_mode": {
    "name": "ipython",
    "version": 2
   },
   "file_extension": ".py",
   "mimetype": "text/x-python",
   "name": "python",
   "nbconvert_exporter": "python",
   "pygments_lexer": "ipython2",
   "version": "2.7.6"
  }
 },
 "nbformat": 4,
 "nbformat_minor": 5
}
