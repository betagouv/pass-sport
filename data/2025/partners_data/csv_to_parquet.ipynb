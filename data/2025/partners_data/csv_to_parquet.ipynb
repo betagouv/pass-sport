{
 "cells": [
  {
   "cell_type": "code",
   "execution_count": null,
   "id": "initial_id",
   "metadata": {},
   "outputs": [],
   "source": [
    "import os\n",
    "import pyarrow as pa\n",
    "from dotenv import load_dotenv\n",
    "import pandas as pd\n",
    "\n",
    "load_dotenv()\n",
    "\n",
    "input_path = os.environ['CSV_TO_PARQUET_FILE_INPUT_PATH']\n",
    "output_path = os.environ['CSV_TO_PARQUET_FILE_OUTPUT_PATH']\n",
    "\n",
    "# To update depending on your CSV\n",
    "column_types = {\n",
    "    'CODORG': 'str',\n",
    "    'MATRICULE': 'str',\n",
    "    'QUALDOS': 'str',\n",
    "    'RESPDOS': 'str',\n",
    "    'PRENOMDOS': 'str',\n",
    "    'NOMCOMPLET': 'str',\n",
    "    'ADRLIG1DESTDOS': 'str',\n",
    "    'ADRLIG2DESTDOS': 'str',\n",
    "    'ADRLIG3DESTDOS': 'str',\n",
    "    'ADRLIG4DESTDOS': 'str',\n",
    "    'ADRLIG5DESTDOS': 'str',\n",
    "    'ADRLIG6DESTDOS': 'str',\n",
    "    'NUMINSEE': 'str',\n",
    "    'ADRMAIL': 'str',\n",
    "    'NUMTEL': 'str',\n",
    "    'NOMENF': 'str',\n",
    "    'PRENOMENF': 'str',\n",
    "    'DTNAIENF': 'str',\n",
    "    'SEXENF': 'str',\n",
    "}\n",
    "\n",
    "df = pd.read_csv(input_path, sep=';', engine='python', encoding='ascii', dtype=column_types)"
   ]
  },
  {
   "cell_type": "code",
   "execution_count": null,
   "id": "68e6ebc5cb465790",
   "metadata": {},
   "outputs": [],
   "source": [
    "cnaf_fields = []\n",
    "\n",
    "for col_name in df.columns:\n",
    "    cnaf_fields.append(pa.field(col_name, pa.string()))\n",
    "\n",
    "parquet_schema = pa.schema(cnaf_fields)"
   ]
  },
  {
   "cell_type": "code",
   "execution_count": null,
   "id": "4ccd0057185737c9",
   "metadata": {},
   "outputs": [],
   "source": [
    "df.to_parquet(output_path, schema=parquet_schema)"
   ]
  }
 ],
 "metadata": {
  "kernelspec": {
   "display_name": "Python 3",
   "language": "python",
   "name": "python3"
  },
  "language_info": {
   "codemirror_mode": {
    "name": "ipython",
    "version": 2
   },
   "file_extension": ".py",
   "mimetype": "text/x-python",
   "name": "python",
   "nbconvert_exporter": "python",
   "pygments_lexer": "ipython2",
   "version": "2.7.6"
  }
 },
 "nbformat": 4,
 "nbformat_minor": 5
}
