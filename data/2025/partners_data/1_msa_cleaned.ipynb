{
 "cells": [
  {
   "cell_type": "markdown",
   "metadata": {},
   "source": [
    "## Process\n",
    "- Load MSA file\n",
    "- Clean data and first mapping for bdd injection\n",
    "- Drop duplicates\n",
    "- Add default column values\n",
    "- Output to CSV\n",
    "\n",
    "## Encoding\n",
    "MSA -> utf-8-sig, check for 2025"
   ]
  },
  {
   "cell_type": "code",
   "execution_count": null,
   "metadata": {},
   "outputs": [],
   "source": [
    "import csv\n",
    "import os\n",
    "import pandas as pd\n",
    "import json\n",
    "import numpy as np\n",
    "\n",
    "from dotenv import load_dotenv\n",
    "from datetime import timedelta, datetime\n",
    "from utils.data_utils import format_insee_or_postal_code, unaccent_and_upper\n",
    "\n",
    "load_dotenv()\n",
    "\n",
    "msa_filepath = os.environ['MSA_PATHFILE']\n",
    "base_output_filepath = os.environ['DB_MSA_EXPORT']\n",
    "exercice_id = 5"
   ]
  },
  {
   "cell_type": "code",
   "execution_count": null,
   "metadata": {},
   "outputs": [],
   "source": [
    "msa_names = [\n",
    "    'numero_allocataire',\n",
    "    'organisme',\n",
    "    'qualite_allocataire',\n",
    "    'nom_allocataire',\n",
    "    'prenom_allocataire',\n",
    "    'commune_de_naissance',\n",
    "    'code_insee_commune_alloc',\n",
    "    'pays_de_naissance',\n",
    "    'code_iso_pays',\n",
    "    'date_de_naissance_alloc',\n",
    "    'adresse_de_messagerie',\n",
    "    'numero_tel_portable',\n",
    "    'qualite_destinataire',\n",
    "    'nom_destinataire',\n",
    "    'prenom_destinataire',\n",
    "    'complement_adresse',\n",
    "    'numero_voie',\n",
    "    'complement_numero_voie',\n",
    "    'type_voie',\n",
    "    'voie',\n",
    "    'code_postal',\n",
    "    'nom_commune',\n",
    "    'code_insee_commune',\n",
    "    'nom_beneficiaire',\n",
    "    'prenom_beneficiaire',\n",
    "    'genre_beneficiaire',\n",
    "    'date_de_naissance_beneficiaire'\n",
    "]\n",
    "\n",
    "msa_column_type = {\n",
    "    'code_postal': 'str',\n",
    "    'numero_tel_portable': 'str',\n",
    "    'code_insee_commune': 'str',\n",
    "    'date_de_naissance_alloc': 'str',\n",
    "    'date_de_naissance_beneficiaire': 'str',\n",
    "    'numero_allocataire': 'str',\n",
    "    'organisme': 'str',\n",
    "    'genre_beneficiaire': 'str',\n",
    "}\n",
    "\n",
    "# todo: check encoding\n",
    "msa_df = pd.read_csv(msa_filepath, encoding='ISO-8859-1', on_bad_lines='skip', sep=';', quoting=csv.QUOTE_NONE,\n",
    "                     engine=\"c\", names=msa_names, skiprows=1, header=None, dtype=msa_column_type)"
   ]
  },
  {
   "cell_type": "code",
   "execution_count": null,
   "metadata": {},
   "outputs": [],
   "source": [
    "msa_column_mapping = {\n",
    "    # infos allocataire\n",
    "    'numero_allocataire': 'allocataire-matricule',\n",
    "    'organisme': 'allocataire-code_organisme',\n",
    "    'qualite_allocataire': 'allocataire-qualite',\n",
    "    'nom_allocataire': 'allocataire-nom',\n",
    "    'prenom_allocataire': 'allocataire-prenom',\n",
    "    'date_de_naissance_alloc': 'allocataire-date_naissance',\n",
    "    'pays_de_naissance': 'allocataire-pays_naissance',\n",
    "    'code_insee_commune_alloc': 'allocataire-code_insee_commune_naissance',\n",
    "    'commune_de_naissance': 'allocataire-commune_naissance',\n",
    "    'code_iso_pays': 'allocataire-code_iso_pays_naissance',\n",
    "    'adresse_de_messagerie': 'allocataire-courriel',\n",
    "    'numero_tel_portable': 'allocataire-telephone',\n",
    "\n",
    "    # adresse allocataire\n",
    "    # pas de voie\n",
    "    'nom_commune': 'adresse_allocataire-commune',\n",
    "    'code_postal': 'adresse_allocataire-code_postal',\n",
    "    'code_insee_commune': 'adresse_allocataire-code_insee',\n",
    "    'complement_adresse': 'adresse_allocataire-cplt_adresse',\n",
    "\n",
    "    # infos bénéficiaires\n",
    "    'nom_beneficiaire': 'nom',\n",
    "    'prenom_beneficiaire': 'prenom',\n",
    "    'genre_beneficiaire': 'genre',\n",
    "    'date_de_naissance_beneficiaire': 'date_naissance'\n",
    "}\n",
    "\n",
    "df_psp_mapped_msa = msa_df.copy()\n",
    "df_psp_mapped_msa = df_psp_mapped_msa.rename(columns=msa_column_mapping)"
   ]
  },
  {
   "cell_type": "code",
   "execution_count": null,
   "metadata": {},
   "outputs": [],
   "source": [
    "# trim all values\n",
    "df_psp_mapped_msa['qualite_destinataire'] = df_psp_mapped_msa['qualite_destinataire'].str.strip()\n",
    "df_psp_mapped_msa['nom_destinataire'] = df_psp_mapped_msa['nom_destinataire'].str.strip()\n",
    "df_psp_mapped_msa['prenom_destinataire'] = df_psp_mapped_msa['prenom_destinataire'].str.strip()"
   ]
  },
  {
   "cell_type": "code",
   "execution_count": null,
   "metadata": {},
   "outputs": [],
   "source": [
    "\n",
    "df_psp_mapped_msa['adresse_allocataire-commune'] = df_psp_mapped_msa['adresse_allocataire-commune'].str.strip()\n",
    "df_psp_mapped_msa['adresse_allocataire-code_postal'] = format_insee_or_postal_code(\n",
    "    df_psp_mapped_msa['adresse_allocataire-code_postal'].str.strip())\n",
    "df_psp_mapped_msa['adresse_allocataire-code_insee'] = format_insee_or_postal_code(\n",
    "    df_psp_mapped_msa['adresse_allocataire-code_insee'].str.strip())\n",
    "df_psp_mapped_msa['adresse_allocataire-cplt_adresse'] = df_psp_mapped_msa[\n",
    "    'adresse_allocataire-cplt_adresse'].str.strip()"
   ]
  },
  {
   "cell_type": "code",
   "execution_count": null,
   "metadata": {},
   "outputs": [],
   "source": [
    "# gender\n",
    "df_psp_mapped_msa['genre'] = df_psp_mapped_msa['genre'].replace({ '1': 'M', '2': 'F'})\n",
    "\n",
    "# qualite allocataire\n",
    "df_psp_mapped_msa['allocataire-qualite'] = df_psp_mapped_msa['allocataire-qualite'].str.strip().replace({'MME': 'Mme', 'MR': 'M'})"
   ]
  },
  {
   "cell_type": "code",
   "execution_count": null,
   "metadata": {},
   "outputs": [],
   "source": [
    "# date de naissance allocataire\n",
    "df_psp_mapped_msa['allocataire-date_naissance'] = df_psp_mapped_msa['allocataire-date_naissance'].replace(\n",
    "    ['0', '00000000'], np.NaN)\n",
    "\n",
    "df_psp_mapped_msa['allocataire-date_naissance'] = pd.to_datetime(df_psp_mapped_msa['allocataire-date_naissance'],\n",
    "                                                                 format='%Y%m%d').dt.strftime('%d/%m/%Y')\n",
    "# default situation \"jeune\", \"AAH\" is treated below\n",
    "df_psp_mapped_msa['situation'] = 'jeune'\n",
    "df_psp_mapped_msa['organisme'] = 'MSA'"
   ]
  },
  {
   "cell_type": "code",
   "execution_count": null,
   "metadata": {},
   "outputs": [],
   "source": [
    "df_psp_mapped_msa['date_naissance'] = pd.to_datetime(df_psp_mapped_msa['date_naissance'], format='%Y%m%d')\n",
    "# df_psp_mapped_msa['date_naissance'] = df_psp_mapped_msa['date_naissance'].dt.strftime('%d/%m/%Y')\n",
    "\n",
    "# Benef between 20 and 30 years old are AAH & benef must have same names\n",
    "mask_dob_start = df_psp_mapped_msa['date_naissance'].dt.date >= datetime(1995, 1, 1).date()\n",
    "mask_dob_end = df_psp_mapped_msa['date_naissance'].dt.date <= datetime(2005, 12, 31).date()\n",
    "mask_dob = mask_dob_start & mask_dob_end\n",
    "\n",
    "mask_nom_equal = df_psp_mapped_msa['allocataire-nom'] == df_psp_mapped_msa['nom']\n",
    "mask_prenom_equal = df_psp_mapped_msa['allocataire-prenom'] == df_psp_mapped_msa['prenom']\n",
    "mask_same_names = mask_nom_equal & mask_prenom_equal\n",
    "\n",
    "df_psp_mapped_msa.loc[mask_dob & mask_same_names, 'situation'] = 'AAH'"
   ]
  },
  {
   "cell_type": "code",
   "execution_count": null,
   "metadata": {},
   "outputs": [],
   "source": [
    "## Street address\n",
    "df_psp_mapped_msa['numero_voie'] = df_psp_mapped_msa['numero_voie'].str.strip()\n",
    "df_psp_mapped_msa['complement_numero_voie'] = df_psp_mapped_msa['complement_numero_voie'].str.strip()\n",
    "df_psp_mapped_msa['type_voie'] = df_psp_mapped_msa['type_voie'].str.strip()\n",
    "df_psp_mapped_msa['voie'] = df_psp_mapped_msa['voie'].str.replace('\"', '').str.strip()"
   ]
  },
  {
   "cell_type": "code",
   "execution_count": null,
   "metadata": {},
   "outputs": [],
   "source": [
    "# Remove extra white spaces\n",
    "df_psp_mapped_msa['nom'] = df_psp_mapped_msa['nom'].astype(str).apply(unaccent_and_upper).str.strip()\n",
    "df_psp_mapped_msa['prenom'] = df_psp_mapped_msa['prenom'].astype(str).apply(unaccent_and_upper).str.strip()\n",
    "df_psp_mapped_msa['genre'] = df_psp_mapped_msa['genre'].astype(str).str.upper()"
   ]
  },
  {
   "cell_type": "code",
   "execution_count": null,
   "metadata": {},
   "outputs": [],
   "source": [
    "# Custom address name from allocataire\n",
    "df_psp_mapped_msa['adresse_allocataire-nom_adresse_postale'] = df_psp_mapped_msa['qualite_destinataire'] + ' ' + \\\n",
    "                                                               df_psp_mapped_msa['nom_destinataire'] + ' ' + \\\n",
    "                                                               df_psp_mapped_msa['prenom_destinataire']\n",
    "\n",
    "# Street address from allocataire\n",
    "df_psp_mapped_msa['adresse_allocataire-voie'] = df_psp_mapped_msa['numero_voie'] + ' ' + df_psp_mapped_msa[\n",
    "    'complement_numero_voie'] + ' ' + df_psp_mapped_msa['type_voie'] + df_psp_mapped_msa['voie']\n",
    "df_psp_mapped_msa['adresse_allocataire-voie'] = df_psp_mapped_msa['adresse_allocataire-voie'].str.strip()\n",
    "\n",
    "# zip code of where the allocataire was born\n",
    "df_psp_mapped_msa['allocataire-code_insee_commune_naissance'] = format_insee_or_postal_code(\n",
    "    df_psp_mapped_msa['allocataire-code_insee_commune_naissance']\n",
    ")"
   ]
  },
  {
   "cell_type": "code",
   "execution_count": null,
   "metadata": {},
   "outputs": [],
   "source": [
    "# Invalid phone number, set it to NaN to exclude them in LM mailing campaign\n",
    "df_psp_mapped_msa['allocataire-telephone'] = df_psp_mapped_msa['allocataire-telephone'].replace(\n",
    "    {'0000000000': np.NaN, '0600000000': np.NaN})"
   ]
  },
  {
   "cell_type": "code",
   "execution_count": null,
   "metadata": {},
   "outputs": [],
   "source": [
    "# remove unused\n",
    "df_psp_mapped_msa = df_psp_mapped_msa.drop(columns=[\n",
    "    'nom_destinataire',\n",
    "    'prenom_destinataire',\n",
    "    'qualite_destinataire',\n",
    "    'numero_voie',\n",
    "    'complement_numero_voie',\n",
    "    'type_voie',\n",
    "    'voie'\n",
    "])"
   ]
  },
  {
   "cell_type": "code",
   "execution_count": null,
   "metadata": {},
   "outputs": [],
   "source": [
    "# trim sur tous les champs MSA (même dans les json)\n",
    "df_psp_mapped_msa['allocataire-matricule'] = df_psp_mapped_msa['allocataire-matricule'].str.strip()\n",
    "df_psp_mapped_msa['allocataire-qualite'] = df_psp_mapped_msa['allocataire-qualite'].str.strip()\n",
    "df_psp_mapped_msa['allocataire-nom'] = df_psp_mapped_msa['allocataire-nom'].str.strip()\n",
    "df_psp_mapped_msa['allocataire-prenom'] = df_psp_mapped_msa['allocataire-prenom'].str.strip()\n",
    "df_psp_mapped_msa['allocataire-date_naissance'] = df_psp_mapped_msa['allocataire-date_naissance'].str.strip()\n",
    "df_psp_mapped_msa['allocataire-pays_naissance'] = df_psp_mapped_msa['allocataire-pays_naissance'].str.strip()\n",
    "df_psp_mapped_msa['allocataire-code_insee_commune_naissance'] = format_insee_or_postal_code(\n",
    "    df_psp_mapped_msa['allocataire-code_insee_commune_naissance'].str.strip())\n",
    "df_psp_mapped_msa['allocataire-commune_naissance'] = df_psp_mapped_msa['allocataire-commune_naissance'].str.strip()\n",
    "df_psp_mapped_msa['allocataire-code_iso_pays_naissance'] = df_psp_mapped_msa[\n",
    "    'allocataire-code_iso_pays_naissance'].str.strip()\n",
    "\n",
    "df_psp_mapped_msa['allocataire-courriel'] = df_psp_mapped_msa['allocataire-courriel'].str.strip()\n",
    "df_psp_mapped_msa['allocataire-telephone'] = df_psp_mapped_msa['allocataire-telephone'].str.strip()"
   ]
  },
  {
   "cell_type": "code",
   "execution_count": null,
   "metadata": {},
   "outputs": [],
   "source": [
    "# concat into a single dataframe\n",
    "df_all = pd.concat([df_psp_mapped_msa], axis=0, ignore_index=True)\n",
    "\n",
    "# remove rows with missing necessary values (if one of those value are missing we cannot generate a code)\n",
    "necessary_column = ['nom', 'prenom', 'date_naissance', 'genre']\n",
    "df_all_valid_row = df_all.dropna(subset=necessary_column)\n",
    "\n",
    "# remove columns with all null value\n",
    "df_all_valid = df_all_valid_row.dropna(axis=1, how='all')\n",
    "\n",
    "assert len(df_all_valid[\n",
    "               df_all['nom'].isnull() | df_all_valid['prenom'].isnull() | df_all_valid['date_naissance'].isnull()]) == 0"
   ]
  },
  {
   "cell_type": "code",
   "execution_count": null,
   "metadata": {},
   "outputs": [],
   "source": [
    "# lower case on emails on all\n",
    "df_all_valid['allocataire-courriel'] = df_all_valid['allocataire-courriel'].str.lower()"
   ]
  },
  {
   "cell_type": "code",
   "execution_count": null,
   "metadata": {},
   "outputs": [],
   "source": [
    "# remove rows when beneficiary is before september 1994\n",
    "mask_before = pd.to_datetime(df_all_valid['date_naissance']) > datetime(1994, 9, 16)\n",
    "df_all_valid = df_all_valid[mask_before]\n",
    "\n",
    "print(f\"{len(df_all_valid) - len(df_all_valid)} rows where removed because date_naissance was before 1994\")"
   ]
  },
  {
   "cell_type": "code",
   "execution_count": null,
   "metadata": {},
   "outputs": [],
   "source": [
    "# add missing 0 to phone numbers\n",
    "mask_tel_not_null = df_all_valid['allocataire-telephone'].notna()\n",
    "mask_no_zero_phone_number = ~df_all_valid.loc[mask_tel_not_null, 'allocataire-telephone'].str.startswith('0')\n",
    "mask_9_char_phone = df_all_valid.loc[mask_tel_not_null, 'allocataire-telephone'].str.len() == 9\n",
    "df_all_valid.loc[mask_tel_not_null & mask_no_zero_phone_number & mask_9_char_phone, 'allocataire-telephone'] = '0' + \\\n",
    "                                                                                                                df_all_valid[\n",
    "                                                                                                                    'allocataire-telephone']\n",
    "\n",
    "# set '0' phone values to None\n",
    "mask_tel_eq_zero = df_all_valid['allocataire-telephone'] == '0'\n",
    "df_all_valid.loc[mask_tel_eq_zero, 'allocataire-telephone'] = np.NaN"
   ]
  },
  {
   "cell_type": "code",
   "execution_count": null,
   "metadata": {},
   "outputs": [],
   "source": [
    "# add 4h on all birthdates\n",
    "df_all_valid['date_naissance'] = df_all_valid['date_naissance'] + timedelta(hours=4)"
   ]
  },
  {
   "cell_type": "code",
   "execution_count": null,
   "metadata": {},
   "outputs": [],
   "source": [
    "# remove duplicate beneficiaries\n",
    "df_all_valid_no_duplicate = df_all_valid.drop_duplicates(subset=[\n",
    "    'date_naissance',\n",
    "    'nom',\n",
    "    'prenom',\n",
    "    'genre',\n",
    "    'organisme',\n",
    "    'situation',\n",
    "    'allocataire-qualite',\n",
    "    'allocataire-matricule',\n",
    "    'allocataire-code_organisme',\n",
    "    'allocataire-telephone',\n",
    "\n",
    "    # 'allocataire-nom',\n",
    "    'allocataire-prenom',\n",
    "    'allocataire-date_naissance',\n",
    "    'allocataire-courriel',\n",
    "\n",
    "    # we can remove this column additionaly\n",
    "    'allocataire-code_insee_commune_naissance',\n",
    "    'allocataire-commune_naissance',\n",
    "    'allocataire-code_iso_pays_naissance',\n",
    "    'allocataire-pays_naissance'\n",
    "])\n",
    "\n",
    "print(f\"{len(df_all_valid) - len(df_all_valid_no_duplicate)} duplicate rows were removed\")"
   ]
  },
  {
   "cell_type": "code",
   "execution_count": null,
   "metadata": {
    "jupyter": {
     "is_executing": true
    }
   },
   "outputs": [],
   "source": [
    "# map to json values for target DB model \n",
    "## map allocataire json\n",
    "def to_json_allocataire_without_null(row):\n",
    "    allocataire_mapping = {\n",
    "        'qualite': row['allocataire-qualite'],\n",
    "        'matricule': row['allocataire-matricule'],\n",
    "        'code_organisme': row['allocataire-code_organisme'],\n",
    "        'telephone': row['allocataire-telephone'],\n",
    "        'nom': unaccent_and_upper(row['allocataire-nom']),\n",
    "        'prenom': unaccent_and_upper(row['allocataire-prenom']),\n",
    "        'date_naissance': row['allocataire-date_naissance'],\n",
    "        'courriel': row['allocataire-courriel'],\n",
    "        'code_insee_commune_naissance': row['allocataire-code_insee_commune_naissance'],\n",
    "        'commune_naissance': row['allocataire-commune_naissance'],\n",
    "        'code_iso_pays_naissance': row['allocataire-code_iso_pays_naissance'],\n",
    "        'pays_naissance': row['allocataire-pays_naissance']\n",
    "    }\n",
    "    filtered_NaN_allocataire = {k: v for k, v in allocataire_mapping.items() if pd.notnull(v)}\n",
    "    return json.dumps(filtered_NaN_allocataire, ensure_ascii=False)\n",
    "\n",
    "df_all_valid_no_duplicate['allocataire'] = df_all_valid_no_duplicate.apply(to_json_allocataire_without_null, axis=1)"
   ]
  },
  {
   "cell_type": "code",
   "execution_count": null,
   "metadata": {},
   "outputs": [],
   "source": [
    "## map adresse_allocataire json\n",
    "def to_json_adresse_without_null(row):\n",
    "    adresse_mapping = {\n",
    "        'voie': row['adresse_allocataire-voie'],\n",
    "        'code_postal': format_insee_or_postal_code(row['adresse_allocataire-code_postal']),\n",
    "        'nom_adresse_postale': row['adresse_allocataire-nom_adresse_postale'],\n",
    "        'commune': row['adresse_allocataire-commune'],\n",
    "        'code_insee': format_insee_or_postal_code(row['adresse_allocataire-code_insee']),\n",
    "        'cplt_adresse': row['adresse_allocataire-cplt_adresse'],\n",
    "    }\n",
    "\n",
    "    filtered_address = {k: v for k, v in adresse_mapping.items() if pd.notnull(v)}\n",
    "    return json.dumps(filtered_address, ensure_ascii=False)\n",
    "\n",
    "\n",
    "df_all_valid_no_duplicate['adresse_allocataire'] = df_all_valid_no_duplicate.apply(to_json_adresse_without_null, axis=1)"
   ]
  },
  {
   "cell_type": "code",
   "execution_count": null,
   "metadata": {},
   "outputs": [],
   "source": [
    "## drop null value\n",
    "df_final = df_all_valid_no_duplicate.drop(columns=[\n",
    "    'allocataire-qualite',\n",
    "    'allocataire-matricule',\n",
    "    'allocataire-code_organisme',\n",
    "    'allocataire-nom',\n",
    "    'allocataire-prenom',\n",
    "    'allocataire-telephone',\n",
    "    'allocataire-date_naissance',\n",
    "    'allocataire-courriel',\n",
    "    'allocataire-code_insee_commune_naissance',\n",
    "    'allocataire-commune_naissance',\n",
    "    'allocataire-code_iso_pays_naissance',\n",
    "    'allocataire-pays_naissance',\n",
    "    'adresse_allocataire-voie',\n",
    "    'adresse_allocataire-nom_adresse_postale',\n",
    "    'adresse_allocataire-code_postal',\n",
    "    'adresse_allocataire-commune',\n",
    "    'adresse_allocataire-code_insee',\n",
    "    'adresse_allocataire-cplt_adresse',\n",
    "])\n"
   ]
  },
  {
   "cell_type": "code",
   "execution_count": null,
   "metadata": {},
   "outputs": [],
   "source": [
    "# Add missing default column needed for target DB model\n",
    "df_final['updated_at'] = datetime.now()\n",
    "df_final['exercice_id'] = exercice_id\n",
    "df_final['uuid_doc'] = np.NaN\n",
    "\n",
    "df_final['updated_at'] = df_final['updated_at'].astype(str)\n",
    "df_final['date_naissance'] = df_final['date_naissance'].astype(str)"
   ]
  },
  {
   "cell_type": "code",
   "execution_count": null,
   "metadata": {},
   "outputs": [],
   "source": [
    "# output to CSV\n",
    "df_final.to_csv(base_output_filepath, sep=';', index=False, encoding='utf-8')"
   ]
  }
 ],
 "metadata": {
  "kernelspec": {
   "display_name": ".venv",
   "language": "python",
   "name": "python3"
  },
  "language_info": {
   "codemirror_mode": {
    "name": "ipython",
    "version": 3
   },
   "file_extension": ".py",
   "mimetype": "text/x-python",
   "name": "python",
   "nbconvert_exporter": "python",
   "pygments_lexer": "ipython3",
   "version": "3.12.4"
  }
 },
 "nbformat": 4,
 "nbformat_minor": 2
}
