{
 "cells": [
  {
   "cell_type": "markdown",
   "id": "f7e7f1fd8f1fefd3",
   "metadata": {},
   "source": [
    "### RGPD exclusion process\n",
    "- Take the 2024 beneficiaries data into a dataframe\n",
    "- Exclude from this 2024 beneficiaries dataframe the people that are inside\n",
    "  - The list of codes to exclude\n",
    "  - The list of emails to exclude\n",
    "- Create a CSV file with the excluded rgpd lists"
   ]
  },
  {
   "cell_type": "code",
   "execution_count": null,
   "id": "initial_id",
   "metadata": {},
   "outputs": [],
   "source": [
    "import csv\n",
    "import pandas as pd\n",
    "import os\n",
    "import json\n",
    "\n",
    "from dotenv import load_dotenv\n",
    "\n",
    "load_dotenv()\n",
    "\n",
    "pathfile_beneficiaries_2024 = os.environ['DB_CNAF_MSA_2024']\n",
    "pathfile_rgpd_emails_to_exclude =  os.environ['RGPD_EMAILS_TO_EXCLUDE_PATHFILE']\n",
    "pathfile_rgpd_codes_to_exclude =  os.environ['RGPD_CODES_TO_EXCLUDE_PATHFILE']\n",
    "\n",
    "output_pathfile_filtered_beneficiaries = os.environ['DB_CNAF_MSA_2024_WITHOUT_RGPD']\n",
    "\n",
    "df_2024 = pd.read_csv(pathfile_beneficiaries_2024, sep=';', encoding='utf-8', quoting=csv.QUOTE_ALL)\n",
    "df_rgpd_emails_to_exclude = pd.read_csv(pathfile_rgpd_emails_to_exclude)\n",
    "df_rgpd_codes_to_exclude = pd.read_csv(pathfile_rgpd_codes_to_exclude)"
   ]
  },
  {
   "cell_type": "code",
   "execution_count": null,
   "id": "83821596afb73a13",
   "metadata": {},
   "outputs": [],
   "source": [
    "# Extract emails from json\n",
    "df_json_allocataire = pd.json_normalize(df_2024['allocataire'].apply(json.loads)).add_prefix('allocataire-')\n",
    "df_2024_unwrapped = pd.merge(df_2024, df_json_allocataire['allocataire-courriel'], left_index=True, right_index=True)"
   ]
  },
  {
   "cell_type": "code",
   "execution_count": null,
   "id": "103482151ab12930",
   "metadata": {},
   "outputs": [],
   "source": [
    "emails_to_exclude_mask = ~df_2024_unwrapped['allocataire-courriel'].isin(df_rgpd_emails_to_exclude['email'])\n",
    "codes_to_exclude_mask = ~df_2024_unwrapped['id'].isin(df_rgpd_codes_to_exclude['id'])"
   ]
  },
  {
   "cell_type": "code",
   "execution_count": null,
   "id": "b0ee205d62ea45b5",
   "metadata": {},
   "outputs": [],
   "source": [
    "df_with_excluded_data_2024 = df_2024_unwrapped[emails_to_exclude_mask & codes_to_exclude_mask]"
   ]
  },
  {
   "cell_type": "code",
   "execution_count": null,
   "id": "84fd874eb0b904c2",
   "metadata": {},
   "outputs": [],
   "source": [
    "assert(len(df_2024_unwrapped) > len(df_with_excluded_data_2024))"
   ]
  },
  {
   "cell_type": "code",
   "execution_count": null,
   "id": "a7b8c18dcb855ecd",
   "metadata": {},
   "outputs": [],
   "source": [
    "df_with_excluded_data_2024.drop(columns=['id', 'allocataire-courriel'], inplace=True)"
   ]
  },
  {
   "cell_type": "code",
   "execution_count": null,
   "id": "42aa346baea8f88c",
   "metadata": {},
   "outputs": [],
   "source": [
    "df_with_excluded_data_2024.to_csv(output_pathfile_filtered_beneficiaries, sep=';', index=False, encoding='utf-8', quoting=csv.QUOTE_ALL)"
   ]
  }
 ],
 "metadata": {
  "kernelspec": {
   "display_name": "Python 3",
   "language": "python",
   "name": "python3"
  },
  "language_info": {
   "codemirror_mode": {
    "name": "ipython",
    "version": 2
   },
   "file_extension": ".py",
   "mimetype": "text/x-python",
   "name": "python",
   "nbconvert_exporter": "python",
   "pygments_lexer": "ipython2",
   "version": "2.7.6"
  }
 },
 "nbformat": 4,
 "nbformat_minor": 5
}
