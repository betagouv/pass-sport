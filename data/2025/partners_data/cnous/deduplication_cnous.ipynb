{
 "cells": [
  {
   "cell_type": "markdown",
   "metadata": {},
   "source": [
    "# Process\n",
    "- Use the first script \"clean_cnous\" on all cnous files to have properly formatted files (injection ready in database)\n",
    "- Then use this script to product the final output with deduplicated beneficiaries based on their matricule (INE) and to generate unique codes\n"
   ]
  },
  {
   "cell_type": "code",
   "execution_count": null,
   "metadata": {},
   "outputs": [],
   "source": [
    "import os\n",
    "from dotenv import load_dotenv\n",
    "import pandas as pd\n",
    "\n",
    "load_dotenv()\n",
    "\n",
    "exercice_id = 4\n",
    "\n",
    "cnous_output_filepath = os.environ['CNOUS_2_OUTPUT_PATHFILE_2025']\n",
    "cnous_1_filepath = os.environ['CNOUS_1_PATHFILE_2025']\n",
    "cnous_2_filepath = os.environ['CNOUS_2_PATHFILE_2025']\n",
    "\n",
    "df_cnous_1 = pd.read_csv(cnous_1_filepath, encoding='utf-8', on_bad_lines='skip', sep=';', engine=\"c\", dtype=str)\n",
    "df_cnous_2 = pd.read_csv(cnous_2_filepath, encoding='utf-8', on_bad_lines='skip', sep=';', engine=\"c\", dtype=str)"
   ]
  },
  {
   "cell_type": "code",
   "execution_count": null,
   "metadata": {},
   "outputs": [],
   "source": [
    "import json\n",
    "\n",
    "# Unwrap allocataire json object to get \"matricule\" data\n",
    "df_cnous_1_allocataire_json = pd.json_normalize(df_cnous_1['allocataire'].apply(json.loads)).add_prefix('allocataire-')\n",
    "df_cnous_1_unwrapped = pd.merge(df_cnous_1, df_cnous_1_allocataire_json, left_index=True, right_index=True)\n",
    "\n",
    "df_cnous_2_allocataire_json = pd.json_normalize(df_cnous_2['allocataire'].apply(json.loads)).add_prefix('allocataire-')\n",
    "df_cnous_2_unwrapped = pd.merge(df_cnous_2, df_cnous_2_allocataire_json, left_index=True, right_index=True)\n",
    "\n",
    "print(f\"{len(df_cnous_1_unwrapped)} benefs from wave 1\")\n",
    "print(f\"{len(df_cnous_2_unwrapped)} benefs from wave 2\")"
   ]
  },
  {
   "cell_type": "code",
   "execution_count": null,
   "metadata": {},
   "outputs": [],
   "source": [
    "df_cnous_merged = pd.merge(df_cnous_1_unwrapped, df_cnous_2_unwrapped, on='allocataire-matricule', how='right', suffixes=(\"_old\", \"\"), indicator=True)\n",
    "df_cnous_merged = df_cnous_merged[df_cnous_merged._merge == 'right_only']\n",
    "\n",
    "print(f\"{len(df_cnous_merged)} benef to be injected\")"
   ]
  },
  {
   "cell_type": "code",
   "execution_count": null,
   "metadata": {},
   "outputs": [],
   "source": [
    "df_cnous_merged[df_cnous_merged['allocataire-matricule'].isna()]"
   ]
  },
  {
   "cell_type": "code",
   "execution_count": null,
   "metadata": {},
   "outputs": [],
   "source": [
    "assert(len(df_cnous_merged[df_cnous_merged['allocataire-matricule'].isin(df_cnous_1_unwrapped['allocataire-matricule'])]) == 0)\n",
    "len(df_cnous_2_unwrapped)"
   ]
  },
  {
   "cell_type": "code",
   "execution_count": null,
   "metadata": {},
   "outputs": [],
   "source": [
    "print(f\"{len(df_cnous_merged)} before deduplicating on nom, prenom, date_naissance\")\n",
    "df_cnous_merged.drop_duplicates(subset=['nom', 'prenom', 'date_naissance'], keep='first', inplace=True)\n",
    "print(f\"{len(df_cnous_merged)} after deduplicating on nom, prenom, date_naissance\")"
   ]
  },
  {
   "cell_type": "code",
   "execution_count": null,
   "metadata": {},
   "outputs": [],
   "source": [
    "existing_codes_filepath = os.environ['EXISTING_CODES_PATHFILE_2025']\n",
    "df_existing_codes = pd.read_csv(existing_codes_filepath, on_bad_lines='skip', sep=',', engine=\"c\")"
   ]
  },
  {
   "cell_type": "code",
   "execution_count": null,
   "metadata": {},
   "outputs": [],
   "source": [
    "# Unique codes generation\n",
    "import random\n",
    "import string\n",
    "import datetime\n",
    "\n",
    "current_date = datetime.datetime.now()\n",
    "current_year = str(current_date.year)[-2:]\n",
    "\n",
    "def get_characters_set(size = 4):\n",
    "    return ''.join(random.choices([c for c in string.ascii_uppercase if c not in 'OI'], k=size))\n",
    "\n",
    "def generate_code():\n",
    "    return f\"{current_year}-{get_characters_set(4)}-{get_characters_set(4)}\"\n",
    "\n",
    "# init set of codes with existing\n",
    "unique_codes = set(df_existing_codes['code'])\n",
    "\n",
    "# init current_code count\n",
    "current_codes_count = len(unique_codes)\n",
    "\n",
    "while len(unique_codes) < (len(df_cnous_merged) + len(df_existing_codes)):\n",
    "    unique_codes.add(generate_code())"
   ]
  },
  {
   "cell_type": "code",
   "execution_count": null,
   "metadata": {},
   "outputs": [],
   "source": [
    "# Ensure we have generated codes for all the rows\n",
    "assert len(unique_codes) == (len(df_cnous_merged) + len(df_existing_codes))"
   ]
  },
  {
   "cell_type": "code",
   "execution_count": null,
   "metadata": {},
   "outputs": [],
   "source": [
    "# Assign generated code for production data\n",
    "new_codes = unique_codes.difference(set(df_existing_codes['code']))\n",
    "assert len(new_codes) == len(df_cnous_merged)"
   ]
  },
  {
   "cell_type": "code",
   "execution_count": null,
   "metadata": {},
   "outputs": [],
   "source": [
    "df_cnous_merged['id_psp'] = list(new_codes)"
   ]
  },
  {
   "cell_type": "code",
   "execution_count": null,
   "metadata": {},
   "outputs": [],
   "source": [
    "# output to CSV\n",
    "db_columns = ['nom', 'prenom', 'date_naissance', 'genre', 'organisme', 'situation', 'allocataire', 'adresse_allocataire', 'created_at', 'updated_at', 'exercice_id', 'uuid_doc', 'zrr', 'qpv', 'a_valider', 'refuser', 'id_psp']\n",
    "df_cnous_merged[db_columns].to_csv(cnous_output_filepath, sep=';', index=False, encoding='utf-8')"
   ]
  },
  {
   "cell_type": "code",
   "execution_count": null,
   "metadata": {},
   "outputs": [],
   "source": [
    "# Debugging purposes\n",
    "df_cnous_merged[df_cnous_merged['allocataire-matricule'].isna()]"
   ]
  }
 ],
 "metadata": {
  "kernelspec": {
   "display_name": ".venv",
   "language": "python",
   "name": "python3"
  },
  "language_info": {
   "codemirror_mode": {
    "name": "ipython",
    "version": 3
   },
   "file_extension": ".py",
   "mimetype": "text/x-python",
   "name": "python",
   "nbconvert_exporter": "python",
   "pygments_lexer": "ipython3",
   "version": "3.12.4"
  }
 },
 "nbformat": 4,
 "nbformat_minor": 2
}
