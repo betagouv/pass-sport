{
 "cells": [
  {
   "cell_type": "markdown",
   "id": "eedddf23f656c663",
   "metadata": {},
   "source": [
    "\n",
    "# Club emailing campaign\n",
    "Extract the clubs information taken from the database, take only the id and email to be sent to Link Mobility"
   ]
  },
  {
   "cell_type": "code",
   "execution_count": null,
   "id": "initial_id",
   "metadata": {},
   "outputs": [],
   "source": [
    "import pandas as pd\n",
    "from dotenv import load_dotenv\n",
    "import os\n",
    "\n",
    "load_dotenv()\n",
    "\n",
    "input_pathfile = os.environ['CSV_TEASING_CLUBS_CAMPAIGN_PATH']\n",
    "output_pathfile = os.environ['CSV_TEASING_CLUBS_CAMPAIGN_OUTPUT_PATH']"
   ]
  },
  {
   "cell_type": "code",
   "execution_count": null,
   "id": "c17bda2c3efd833d",
   "metadata": {},
   "outputs": [],
   "source": [
    "df_main = pd.read_csv(input_pathfile,sep=';')"
   ]
  },
  {
   "cell_type": "code",
   "execution_count": null,
   "id": "22c2395b81edfe2",
   "metadata": {},
   "outputs": [],
   "source": [
    "# Take only necessary columns\n",
    "columns_to_keep = ['StructureId', 'SiegeCourriel']\n",
    "df_main = df_main[columns_to_keep]"
   ]
  },
  {
   "cell_type": "code",
   "execution_count": null,
   "id": "12abf3368218d21a",
   "metadata": {},
   "outputs": [],
   "source": [
    "# Exclude null emails\n",
    "df_main = df_main[df_main['email'].notnull()]"
   ]
  },
  {
   "cell_type": "code",
   "execution_count": null,
   "id": "149204338c07518d",
   "metadata": {},
   "outputs": [],
   "source": [
    "# Rename preserved columns\n",
    "columns_remap = {\n",
    "    'StructureId': 'id',\n",
    "    'SiegeCourriel': 'email'\n",
    "}\n",
    "\n",
    "df_main = df_main.rename(columns=columns_remap)"
   ]
  },
  {
   "cell_type": "code",
   "execution_count": null,
   "id": "948522c180b4513c",
   "metadata": {},
   "outputs": [],
   "source": [
    "df_main = df_main.sort_values(by=['id'])\n",
    "df_main.to_csv(output_pathfile, index=False)"
   ]
  }
 ],
 "metadata": {
  "kernelspec": {
   "display_name": "Python 3",
   "language": "python",
   "name": "python3"
  },
  "language_info": {
   "codemirror_mode": {
    "name": "ipython",
    "version": 2
   },
   "file_extension": ".py",
   "mimetype": "text/x-python",
   "name": "python",
   "nbconvert_exporter": "python",
   "pygments_lexer": "ipython2",
   "version": "2.7.6"
  }
 },
 "nbformat": 4,
 "nbformat_minor": 5
}
