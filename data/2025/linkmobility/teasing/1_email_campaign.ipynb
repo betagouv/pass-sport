{
 "cells": [
  {
   "cell_type": "markdown",
   "metadata": {},
   "source": [
    "## Summary\n",
    "Teasing emailing campaign, only to UNIQUE emails\n",
    "\n",
    "## Process\n",
    "- Load list of eligible beneficiaries from 2025\n",
    "- JSON extraction for the allocataire field\n",
    "- Data mapping and deletion of unusable data\n",
    "- URL generation containing the code\n",
    "- Output 3 files\n",
    "  - Indirect beneficiaries\n",
    "    - Family with one children\n",
    "    - Familiy with more than one children\n",
    "  - Direct beneficiairy\n",
    "\n",
    "## Target audience\n",
    "- Jeunes : 14 ans au 31 decembre 2025\n",
    "- Jeunes : 18 ans au 16 septembre 2025\n",
    "- => donc jeunes nés entre le 31.12.2025 et 16.09.2007\n",
    "\n",
    "- AAH : >= 20 ans"
   ]
  },
  {
   "cell_type": "code",
   "execution_count": null,
   "metadata": {},
   "outputs": [],
   "source": [
    "import pandas as pd\n",
    "from dotenv import load_dotenv\n",
    "import os\n",
    "import json\n",
    "import time\n",
    "from data.utils.emailing_utils import format_allocataire_benef_names_in_place\n",
    "\n",
    "load_dotenv()\n",
    "\n",
    "start_time = time.time()\n",
    "\n",
    "benef_2024_pathfile = os.environ['BENEF_2024_TEASING_PARQUET_PATHFILE']\n",
    "\n",
    "output_one_children= os.environ['CAMPAIGN_TEASING_FAMILY_ONE_CHILDREN_2025']\n",
    "output_multiple_children = os.environ['CAMPAIGN_TEASING_FAMILY_MULTIPLE_CHILDREN_2025']\n",
    "output_direct_beneficiaries = os.environ['CAMPAIGN_TEASING_DIRECT_BENEFICIARIES_2025']"
   ]
  },
  {
   "cell_type": "code",
   "execution_count": null,
   "metadata": {},
   "outputs": [],
   "source": [
    "df_main = pd.read_parquet(benef_2024_pathfile)"
   ]
  },
  {
   "cell_type": "code",
   "execution_count": null,
   "metadata": {},
   "outputs": [],
   "source": [
    "df_json_normalized = pd.json_normalize(df_main['allocataire'].apply(json.loads))\n",
    "df_json_normalized = df_json_normalized.add_prefix('allocataire_')\n",
    "df_main.index = pd.RangeIndex(start=0, stop=len(df_main), step=1)\n",
    "df_unwrapped_alloc = pd.merge(df_main, df_json_normalized, left_index=True, right_index=True)\n",
    "\n",
    "print(f\"Number of beneficiaries : {len(df_unwrapped_alloc)}\")"
   ]
  },
  {
   "cell_type": "code",
   "execution_count": null,
   "metadata": {},
   "outputs": [],
   "source": [
    "# Remove RGPD lines\n",
    "rgpd_emails = os.environ['RGPD_EMAILS_TO_EXCLUDE_PATHFILE']\n",
    "rgpd_codes = os.environ['RGPD_CODES_TO_EXCLUDE_PATHFILE']\n",
    "\n",
    "df_rgpd_emails = pd.read_csv(rgpd_emails)\n",
    "df_rgpd_codes = pd.read_csv(rgpd_codes)\n",
    "\n",
    "print(f\"Number of beneficiaries before excluding RGPD lines : {len(df_unwrapped_alloc)} \")\n",
    "\n",
    "df_unwrapped_alloc = df_unwrapped_alloc[~df_unwrapped_alloc['id'].isin(df_rgpd_codes['id'])]\n",
    "df_unwrapped_alloc = df_unwrapped_alloc[~df_unwrapped_alloc['allocataire_courriel'].str.lower().isin(df_rgpd_emails['email'].str.lower())]\n",
    "\n",
    "print(f\"Number of beneficiaries after excluding RGPD lines : {len(df_unwrapped_alloc)} \")"
   ]
  },
  {
   "cell_type": "code",
   "execution_count": null,
   "metadata": {},
   "outputs": [],
   "source": [
    "# Users that have email\n",
    "mask_not_existing_email = df_unwrapped_alloc['allocataire_courriel'].apply(lambda x: pd.isna(x) or x == '')\n",
    "df_unwrapped_alloc = df_unwrapped_alloc[~mask_not_existing_email]\n",
    "\n",
    "print(f\"Number of beneficiaries with email : {len(df_unwrapped_alloc)}\")"
   ]
  },
  {
   "cell_type": "code",
   "execution_count": null,
   "metadata": {},
   "outputs": [],
   "source": [
    "# Only take benef who have been updated in 2024 and beyond\n",
    "# df_unwrapped_alloc['updated_at'] = pd.to_datetime(df_unwrapped_alloc['updated_at'], format='ISO8601', errors='coerce')\n",
    "df_unwrapped_alloc['updated_at'] = pd.to_datetime(df_unwrapped_alloc['updated_at'].apply(lambda v: v[:10]), format='%Y-%m-%d')\n",
    "df_unwrapped_alloc = df_unwrapped_alloc[df_unwrapped_alloc['updated_at'].dt.year > 2023]"
   ]
  },
  {
   "cell_type": "code",
   "execution_count": null,
   "metadata": {},
   "outputs": [],
   "source": [
    "# Exclude boursiers and invalidated benef\n",
    "df_unwrapped_alloc = df_unwrapped_alloc[df_unwrapped_alloc['refuser'] == False]\n",
    "df_unwrapped_alloc = df_unwrapped_alloc[df_unwrapped_alloc['a_valider'] == False]\n",
    "df_unwrapped_alloc = df_unwrapped_alloc[df_unwrapped_alloc['situation'].str.lower() != 'boursier']"
   ]
  },
  {
   "cell_type": "code",
   "execution_count": null,
   "metadata": {},
   "outputs": [],
   "source": [
    "len(df_unwrapped_alloc)"
   ]
  },
  {
   "cell_type": "code",
   "execution_count": null,
   "metadata": {},
   "outputs": [],
   "source": [
    "from datetime import datetime\n",
    "\n",
    "# Take only people between 14 years old and 18 years old\n",
    "start_date = datetime(2007, 9, 16).date()\n",
    "end_date = datetime(2011, 12, 31).date()\n",
    "\n",
    "df_unwrapped_alloc['date_naissance'] = pd.to_datetime(df_unwrapped_alloc['date_naissance'], format='ISO8601', errors='coerce')\n",
    "\n",
    "mask_14_to_18_years_old = (df_unwrapped_alloc['date_naissance'].dt.date >= start_date) & (df_unwrapped_alloc['date_naissance'].dt.date <= end_date)\n",
    "df_14_to_18_years_old = df_unwrapped_alloc.loc[mask_14_to_18_years_old]"
   ]
  },
  {
   "cell_type": "code",
   "execution_count": null,
   "metadata": {},
   "outputs": [],
   "source": [
    "print(f\"{len(df_unwrapped_alloc)} original benef length\")\n",
    "print(f\"{len(df_14_to_18_years_old)} benef between 14 and 18 years old\")"
   ]
  },
  {
   "cell_type": "code",
   "execution_count": null,
   "metadata": {},
   "outputs": [],
   "source": [
    "column_mapping = {\n",
    "    'id': 'id',\n",
    "    'genre': 'genre',\n",
    "    'updated_at': 'updated_at',\n",
    "    'organisme': 'organisme',\n",
    "    'date_naissance': 'date_naissance',\n",
    "    'situation': 'situation',\n",
    "    'allocataire_courriel': 'email',\n",
    "    'allocataire_qualite': 'allocataire_qualite',\n",
    "    'allocataire_nom': 'allocataire_nom',\n",
    "    'allocataire_prenom': 'allocataire_prenom',\n",
    "    'allocataire_matricule': 'allocataire_matricule',\n",
    "    'prenom': 'beneficiaire_prenom',\n",
    "    'nom': 'beneficiaire_nom',\n",
    "    'allocataire_telephone': 'telephone',\n",
    "}\n",
    "\n",
    "df_unwrapped_alloc.columns = df_unwrapped_alloc.columns.to_series().replace(column_mapping)"
   ]
  },
  {
   "cell_type": "code",
   "execution_count": null,
   "metadata": {},
   "outputs": [],
   "source": [
    "# Format names\n",
    "format_allocataire_benef_names_in_place(df_unwrapped_alloc)"
   ]
  },
  {
   "cell_type": "code",
   "execution_count": null,
   "metadata": {},
   "outputs": [],
   "source": [
    "# Group indirect beneficiaries to distinguish family with 1 and famility with > 1 children\n",
    "grouped_emails = df_unwrapped_alloc.groupby(['email']).size().reset_index(name=\"count\")\n",
    "single_families = grouped_emails[grouped_emails['count'] == 1]\n",
    "families_more_than_one = grouped_emails[grouped_emails['count'] > 1]"
   ]
  },
  {
   "cell_type": "code",
   "execution_count": null,
   "metadata": {},
   "outputs": [],
   "source": [
    "# Unique AAH taken from families with one beneficiary\n",
    "mask_alloc_eq_benef = df_unwrapped_alloc['beneficiaire_prenom'].str.lower() == df_unwrapped_alloc['allocataire_prenom'].str.lower()\n",
    "\n",
    "# todo: Update period once Julianne has the definitive dates\n",
    "# AAH\n",
    "# original period for AAH in old scripts for 2024\n",
    "# start_date = datetime(1993, 9, 16).date() # 30-31 years old\n",
    "# end_date = datetime(2008, 12, 31).date() # 16 years old\n",
    "\n",
    "aah_start_date = datetime(1994, 9, 16).date() # 30 years old\n",
    "aah_end_date = datetime(2005, 12, 31).date() # 20 years old\n",
    "\n",
    "mask_aah = (df_unwrapped_alloc['date_naissance'].dt.date <= aah_start_date) & (df_unwrapped_alloc['date_naissance'].dt.date <= aah_end_date)\n",
    "aah_df = df_unwrapped_alloc[mask_aah & mask_alloc_eq_benef]\n",
    "\n",
    "print(f\"{len(aah_df)} AAH benef\")\n",
    "\n",
    "unique_aah_df = aah_df[aah_df['email'].isin(single_families['email'])]"
   ]
  },
  {
   "cell_type": "code",
   "execution_count": null,
   "metadata": {},
   "outputs": [],
   "source": [
    "# allocataire = bénéficiaire\n",
    "mask_alloc_eq_benef = df_unwrapped_alloc['beneficiaire_prenom'].str.lower() == df_unwrapped_alloc['allocataire_prenom'].str.lower()\n",
    "\n",
    "direct_benef = df_unwrapped_alloc.loc[df_unwrapped_alloc['email'].isin(single_families['email'])].loc[mask_alloc_eq_benef]\n",
    "indirect_benef = df_unwrapped_alloc[~df_unwrapped_alloc['email'].isin(direct_benef['email'])]"
   ]
  },
  {
   "cell_type": "code",
   "execution_count": null,
   "metadata": {},
   "outputs": [],
   "source": [
    "# Families with single kid\n",
    "indirect_benef_single_families = df_unwrapped_alloc[df_unwrapped_alloc['email'].isin(single_families['email'])]\n",
    "indirect_benef_single_families = indirect_benef_single_families[~indirect_benef_single_families['email'].isin(direct_benef['email'])]"
   ]
  },
  {
   "cell_type": "code",
   "execution_count": null,
   "metadata": {},
   "outputs": [],
   "source": [
    "# Families with mulitple kids\n",
    "indirect_benef_siblings_families = df_unwrapped_alloc[df_unwrapped_alloc['email'].isin(families_more_than_one['email'])]\n",
    "indirect_benef_siblings_families = indirect_benef_siblings_families[~indirect_benef_siblings_families['email'].isin(direct_benef['email'])]\n",
    "indirect_benef_siblings_families = indirect_benef_siblings_families[~indirect_benef_siblings_families['email'].isin(indirect_benef_single_families['email'])]\n",
    "indirect_benef_siblings_families = indirect_benef_siblings_families.drop_duplicates(subset=['email']) # Only single email per family"
   ]
  },
  {
   "cell_type": "code",
   "execution_count": null,
   "metadata": {},
   "outputs": [],
   "source": [
    "# Indirect benef should not have any AAH\n",
    "assert(indirect_benef_single_families['email'].isin(unique_aah_df['email']).any() == False)\n",
    "assert(indirect_benef_siblings_families['email'].isin(unique_aah_df['email']).any() == False)\n",
    "assert(len(pd.merge(unique_aah_df, indirect_benef_siblings_families, on='email', how='inner')) == 0)\n",
    "assert(len(pd.merge(unique_aah_df, indirect_benef_single_families, on='email', how='inner')) == 0)"
   ]
  },
  {
   "cell_type": "code",
   "execution_count": null,
   "metadata": {},
   "outputs": [],
   "source": [
    "# Indirect benef should not contain any email from direct benef\n",
    "assert(indirect_benef_single_families['email'].isin(direct_benef['email']).any() == False)\n",
    "\n",
    "# Indirect benef from families with more than one children should not contain any email from single families and direct beneficiaries\n",
    "assert(indirect_benef_siblings_families['email'].isin(direct_benef['email']).any() == False)\n",
    "assert(indirect_benef_siblings_families['email'].isin(indirect_benef_single_families['email']).any() == False)"
   ]
  },
  {
   "cell_type": "code",
   "execution_count": null,
   "metadata": {},
   "outputs": [],
   "source": [
    "print(f\"{len(indirect_benef_single_families)} families with only one children\")\n",
    "print(f\"{len(indirect_benef_siblings_families)} families with more than one children\")\n",
    "print(f\"{len(unique_aah_df)} aah direct beneficiaries\")\n",
    "print(f\"{len(indirect_benef_single_families) + len(indirect_benef_siblings_families)} families with one kid and more than one children\")\n",
    "print(f\"Total : {len(indirect_benef_single_families) + len(indirect_benef_siblings_families) + len(unique_aah_df)}\")"
   ]
  },
  {
   "cell_type": "code",
   "execution_count": null,
   "metadata": {},
   "outputs": [],
   "source": [
    "columns_to_keep = [\n",
    "    'id',\n",
    "    'email',\n",
    "    'beneficiaire_prenom',\n",
    "    'beneficiaire_nom',\n",
    "    'allocataire_nom',\n",
    "    'allocataire_prenom',\n",
    "    'date_naissance',\n",
    "    'genre',\n",
    "    'organisme',\n",
    "    'situation'\n",
    "    # 'allocataire_matricule',\n",
    "    # 'organisme'\n",
    "]\n",
    "\n",
    "indirect_benef_single_families[columns_to_keep].to_csv(output_one_children, index=False)\n",
    "indirect_benef_siblings_families[columns_to_keep].to_csv(output_multiple_children, index=False)\n",
    "unique_aah_df[columns_to_keep].to_csv(output_direct_beneficiaries, index=False)\n",
    "\n",
    "end_time = time.time()\n",
    "print(f\"Notebook executed in {end_time - start_time:.2f} seconds\")"
   ]
  }
 ],
 "metadata": {
  "kernelspec": {
   "display_name": ".venv",
   "language": "python",
   "name": "python3"
  },
  "language_info": {
   "codemirror_mode": {
    "name": "ipython",
    "version": 3
   },
   "file_extension": ".py",
   "mimetype": "text/x-python",
   "name": "python",
   "nbconvert_exporter": "python",
   "pygments_lexer": "ipython3",
   "version": "3.10.12"
  }
 },
 "nbformat": 4,
 "nbformat_minor": 2
}
