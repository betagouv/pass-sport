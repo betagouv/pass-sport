{
 "cells": [
  {
   "cell_type": "markdown",
   "metadata": {},
   "source": [
    "## Summary\n",
    "Teasing emailing campaign, only to UNIQUE emails\n",
    "\n",
    "## Process\n",
    "- Load list of eligible beneficiaries from 2025\n",
    "- JSON extraction for the allocataire field\n",
    "- Data mapping and deletion of unusable data\n",
    "- URL generation containing the code\n",
    "- Output 3 files\n",
    "  - Indirect beneficiaries\n",
    "    - Family with one children\n",
    "    - Familiy with more than one children\n",
    "  - Direct beneficiairy\n",
    "\n"
   ]
  },
  {
   "cell_type": "code",
   "execution_count": null,
   "metadata": {},
   "outputs": [],
   "source": [
    "import pandas as pd\n",
    "from dotenv import load_dotenv\n",
    "import os\n",
    "import json\n",
    "import time\n",
    "from data.utils.emailing_utils import format_allocataire_benef_names_in_place\n",
    "\n",
    "load_dotenv()\n",
    "\n",
    "start_time = time.time()\n",
    "\n",
    "benef_2025_pathfile = os.environ['BENEF_2025_PARQUET_PATHFILE']\n",
    "qr_code_secret_key = os.environ['BENEF_2025_QR_CODE_URL_SECRET']\n",
    "qr_code_base_url = os.environ['BENEF_2025_QR_CODE_BASE_URL']\n",
    "pathfile_campaign_csv_output_b = os.environ['CAMPAIGN_CSV_OUTPUT_B']\n",
    "pathfile_campaign_csv_output_b_and_a = os.environ['CAMPAIGN_CSV_OUTPUT_B_AND_A']\n",
    "\n",
    "output_one_children= os.environ['CAMPAIGN_TEASING_FAMILY_ONE_CHILDREN_2025']\n",
    "output_multiple_children = os.environ['CAMPAIGN_TEASING_FAMILY_MULTIPLE_CHILDREN_2025']\n",
    "output_direct_beneficiaries = os.environ['CAMPAIGN_TEASING_DIRECT_BENEFICIARIES_2025']"
   ]
  },
  {
   "cell_type": "code",
   "execution_count": null,
   "metadata": {},
   "outputs": [],
   "source": [
    "df_main = pd.read_parquet(benef_2025_pathfile)"
   ]
  },
  {
   "cell_type": "code",
   "execution_count": null,
   "metadata": {},
   "outputs": [],
   "source": [
    "df_json_normalized = pd.json_normalize(df_main['allocataire'].apply(json.loads))\n",
    "df_json_normalized = df_json_normalized.add_prefix('allocataire_')\n",
    "df_main.index = pd.RangeIndex(start=0, stop=len(df_main), step=1)\n",
    "df_unwrapped_alloc = pd.merge(df_main, df_json_normalized, left_index=True, right_index=True)\n",
    "\n",
    "print(f\"Number of beneficiaries : {len(df_unwrapped_alloc)}\")"
   ]
  },
  {
   "cell_type": "code",
   "execution_count": null,
   "metadata": {},
   "outputs": [],
   "source": [
    "# Users that have email\n",
    "mask_not_existing_email = df_unwrapped_alloc['allocataire_courriel'].apply(lambda x: pd.isna(x) or x == '')\n",
    "\n",
    "df_unwrapped_alloc = df_unwrapped_alloc[~mask_not_existing_email]\n",
    "\n",
    "print(f\"Number of beneficiaries with email : {len(df_unwrapped_alloc)}\")"
   ]
  },
  {
   "cell_type": "code",
   "execution_count": null,
   "metadata": {},
   "outputs": [],
   "source": [
    "column_mapping = {\n",
    "    'id': 'id',\n",
    "    'allocataire_courriel': 'email',\n",
    "    'allocataire_qualite': 'allocataire_qualite',\n",
    "    'allocataire_nom': 'allocataire_nom',\n",
    "    'allocataire_prenom': 'allocataire_prenom',\n",
    "    'prenom': 'beneficiaire_prenom',\n",
    "    'nom': 'beneficiaire_nom',\n",
    "    'allocataire_telephone': 'telephone',\n",
    "}\n",
    "\n",
    "df_unwrapped_alloc.columns = df_unwrapped_alloc.columns.to_series().replace(column_mapping)"
   ]
  },
  {
   "cell_type": "code",
   "execution_count": null,
   "metadata": {},
   "outputs": [],
   "source": [
    "#only keep necessary columns\n",
    "df_campaign = df_unwrapped_alloc[\n",
    "    [\n",
    "        'id',\n",
    "        'email',\n",
    "        'allocataire_nom',\n",
    "        'allocataire_prenom',\n",
    "        'beneficiaire_prenom',\n",
    "        'beneficiaire_nom',\n",
    "    ]\n",
    "]"
   ]
  },
  {
   "cell_type": "code",
   "execution_count": null,
   "metadata": {},
   "outputs": [],
   "source": [
    "# capitalize on name / surname\n",
    "format_allocataire_benef_names_in_place(df_campaign)"
   ]
  },
  {
   "cell_type": "code",
   "execution_count": null,
   "metadata": {},
   "outputs": [],
   "source": [
    "# allocataire = bénéficiaire\n",
    "mask_alloc_diff_benef = df_campaign['beneficiaire_prenom'].str.lower() != df_campaign['allocataire_prenom'].str.lower()\n",
    "df_alloc_diff_benef = df_campaign[mask_alloc_diff_benef]\n",
    "\n",
    "# allocataire != bénéficiaire\n",
    "mask_alloc_eq_benef = df_campaign['beneficiaire_prenom'].str.lower() == df_campaign['allocataire_prenom'].str.lower()\n",
    "mask_exclude_email_from_indirect_benef = ~df_campaign['email'].isin(df_alloc_diff_benef['email'])\n",
    "\n",
    "df_alloc_eq_benef = df_campaign[mask_alloc_eq_benef & mask_exclude_email_from_indirect_benef]\n",
    "\n",
    "print(f\"{len(df_alloc_diff_benef)} indirect beneficiaries\")\n",
    "print(f\"{len(df_alloc_eq_benef)} direct beneficiaries\")"
   ]
  },
  {
   "cell_type": "code",
   "execution_count": null,
   "metadata": {},
   "outputs": [],
   "source": [
    "# Group indirect beneficiaries to distinguish family with 1 and famility with > 1 children\n",
    "grouped = df_alloc_diff_benef.groupby(['email']).size().reset_index(name='count')\n",
    "grouped_family_of_one = grouped[grouped['count'] == 1]\n",
    "grouped_family_of_more_than_one = grouped[grouped['count'] > 1]"
   ]
  },
  {
   "cell_type": "code",
   "execution_count": null,
   "metadata": {},
   "outputs": [],
   "source": [
    "print(f\"{grouped_family_of_one.shape[0]} families with only one children\")\n",
    "print(f\"{grouped_family_of_more_than_one.shape[0]} families with more than one children\")\n",
    "print(f\"{len(df_alloc_eq_benef)} direct beneficiaries\")\n",
    "print(f\"{grouped_family_of_one.shape[0] + grouped_family_of_more_than_one.shape[0]} families\")\n",
    "print(f\"Total : {grouped_family_of_one.shape[0] + grouped_family_of_more_than_one.shape[0] + len(df_alloc_eq_benef)}\")"
   ]
  },
  {
   "cell_type": "code",
   "execution_count": null,
   "metadata": {},
   "outputs": [],
   "source": [
    "family_of_one_list = df_campaign[df_campaign['email'].isin(grouped_family_of_one['email'])].drop_duplicates(\n",
    "    subset=['email'])\n",
    "\n",
    "family_of_more_than_one_list = df_campaign[\n",
    "    df_campaign['email'].isin(grouped_family_of_more_than_one['email'])].drop_duplicates(subset=['email'])"
   ]
  },
  {
   "cell_type": "code",
   "execution_count": null,
   "metadata": {},
   "outputs": [],
   "source": [
    "print(f\"{len(family_of_one_list)} families with only one children\")\n",
    "print(f\"{len(family_of_more_than_one_list)} families with more than one children\")\n",
    "print(f\"{len(df_alloc_eq_benef)} direct beneficiaries\")"
   ]
  },
  {
   "cell_type": "code",
   "execution_count": null,
   "metadata": {},
   "outputs": [],
   "source": [
    "columns_to_keep = [\n",
    "    'id',\n",
    "    'email',\n",
    "    'allocataire_nom',\n",
    "    'allocataire_prenom'\n",
    "]\n",
    "\n",
    "family_of_one_list[columns_to_keep].to_csv(output_one_children, index=False)\n",
    "family_of_more_than_one_list[columns_to_keep].to_csv(output_multiple_children, index=False)\n",
    "df_alloc_eq_benef[columns_to_keep].to_csv(output_direct_beneficiaries, index=False)\n",
    "\n",
    "end_time = time.time()\n",
    "print(f\"Notebook executed in {end_time - start_time:.2f} seconds\")"
   ]
  }
 ],
 "metadata": {
  "kernelspec": {
   "display_name": ".venv",
   "language": "python",
   "name": "python3"
  },
  "language_info": {
   "codemirror_mode": {
    "name": "ipython",
    "version": 3
   },
   "file_extension": ".py",
   "mimetype": "text/x-python",
   "name": "python",
   "nbconvert_exporter": "python",
   "pygments_lexer": "ipython3",
   "version": "3.10.12"
  }
 },
 "nbformat": 4,
 "nbformat_minor": 2
}
