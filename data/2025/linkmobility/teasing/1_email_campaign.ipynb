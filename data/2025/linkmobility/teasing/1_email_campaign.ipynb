{
 "cells": [
  {
   "cell_type": "markdown",
   "metadata": {},
   "source": [
    "## Summary\n",
    "Teasing emailing campaign, only to UNIQUE emails\n",
    "\n",
    "## Process\n",
    "- Load list of eligible benef from 2025\n",
    "- JSON extraction for the allocataire field\n",
    "- Data mapping and deletion of unusable data\n",
    "- URL generation containing the code\n",
    "- Output 3 files\n",
    "  - Indirect benef\n",
    "    - Family with one child\n",
    "    - Familiy with more than one child\n",
    "  - Direct benef\n",
    "\n",
    "## Target audience\n",
    "Initial filters:\n",
    "- updated_at > 2023\n",
    "- refuser = false\n",
    "- a_valider = false\n",
    "- situation != boursier\n",
    "\n",
    "Audience:\n",
    "- Jeunes : between 14 and 18 years old\n",
    "- AAH : >= 16 years old"
   ]
  },
  {
   "cell_type": "code",
   "execution_count": null,
   "metadata": {},
   "outputs": [],
   "source": [
    "import pandas as pd\n",
    "from dotenv import load_dotenv\n",
    "import os\n",
    "import json\n",
    "import time\n",
    "from data.utils.emailing_utils import format_allocataire_benef_names_in_place\n",
    "\n",
    "load_dotenv()\n",
    "\n",
    "start_time = time.time()\n",
    "\n",
    "benef_2024_pathfile = os.environ['BENEF_2024_TEASING_PARQUET_PATHFILE']\n",
    "\n",
    "output_all_eligible_families = os.environ['CAMPAIGN_TEASING_ALL_ELIGIBLE_FAMILIES_2025']\n",
    "output_one_children= os.environ['CAMPAIGN_TEASING_FAMILY_ONE_CHILDREN_2025']\n",
    "output_multiple_children = os.environ['CAMPAIGN_TEASING_FAMILY_MULTIPLE_CHILDREN_2025']\n",
    "output_direct_beneficiaries = os.environ['CAMPAIGN_TEASING_DIRECT_BENEFICIARIES_2025']"
   ]
  },
  {
   "cell_type": "code",
   "execution_count": null,
   "metadata": {},
   "outputs": [],
   "source": [
    "df_main = pd.read_parquet(benef_2024_pathfile)"
   ]
  },
  {
   "cell_type": "code",
   "execution_count": null,
   "metadata": {},
   "outputs": [],
   "source": [
    "df_json_normalized = pd.json_normalize(df_main['allocataire'].apply(json.loads))\n",
    "df_json_normalized = df_json_normalized.add_prefix('allocataire_')\n",
    "df_main.index = pd.RangeIndex(start=0, stop=len(df_main), step=1)\n",
    "df_unwrapped_alloc = pd.merge(df_main, df_json_normalized, left_index=True, right_index=True)\n",
    "\n",
    "print(f\"Number of beneficiaries : {len(df_unwrapped_alloc)}\")"
   ]
  },
  {
   "cell_type": "code",
   "execution_count": null,
   "metadata": {},
   "outputs": [],
   "source": [
    "# Remove RGPD lines\n",
    "rgpd_emails = os.environ['RGPD_EMAILS_TO_EXCLUDE_PATHFILE']\n",
    "rgpd_codes = os.environ['RGPD_CODES_TO_EXCLUDE_PATHFILE']\n",
    "\n",
    "df_rgpd_emails = pd.read_csv(rgpd_emails)\n",
    "df_rgpd_codes = pd.read_csv(rgpd_codes)\n",
    "\n",
    "print(f\"Number of beneficiaries before excluding RGPD lines : {len(df_unwrapped_alloc)} \")\n",
    "\n",
    "df_unwrapped_alloc = df_unwrapped_alloc[~df_unwrapped_alloc['id'].isin(df_rgpd_codes['id'])]\n",
    "df_unwrapped_alloc = df_unwrapped_alloc[~df_unwrapped_alloc['allocataire_courriel'].str.lower().isin(df_rgpd_emails['email'].str.lower())]\n",
    "\n",
    "print(f\"Number of beneficiaries after excluding RGPD lines : {len(df_unwrapped_alloc)} \")"
   ]
  },
  {
   "cell_type": "code",
   "execution_count": null,
   "metadata": {},
   "outputs": [],
   "source": [
    "# Users that have email\n",
    "mask_not_existing_email = df_unwrapped_alloc['allocataire_courriel'].apply(lambda x: pd.isna(x) or x == '')\n",
    "df_unwrapped_alloc = df_unwrapped_alloc[~mask_not_existing_email]\n",
    "\n",
    "print(f\"Number of beneficiaries with email : {len(df_unwrapped_alloc)}\")"
   ]
  },
  {
   "cell_type": "code",
   "execution_count": null,
   "metadata": {},
   "outputs": [],
   "source": [
    "# Only take benef who have been updated in 2024 and beyond\n",
    "# df_unwrapped_alloc['updated_at'] = pd.to_datetime(df_unwrapped_alloc['updated_at'], format='ISO8601', errors='coerce')\n",
    "df_unwrapped_alloc['updated_at'] = pd.to_datetime(df_unwrapped_alloc['updated_at'].apply(lambda v: v[:10]), format='%Y-%m-%d')\n",
    "df_unwrapped_alloc = df_unwrapped_alloc[df_unwrapped_alloc['updated_at'].dt.year > 2023]"
   ]
  },
  {
   "cell_type": "code",
   "execution_count": null,
   "metadata": {},
   "outputs": [],
   "source": [
    "# Exclude boursiers and invalidated benef\n",
    "df_unwrapped_alloc = df_unwrapped_alloc[df_unwrapped_alloc['refuser'] == False]\n",
    "df_unwrapped_alloc = df_unwrapped_alloc[df_unwrapped_alloc['a_valider'] == False]\n",
    "df_unwrapped_alloc = df_unwrapped_alloc[df_unwrapped_alloc['situation'].str.lower() != 'boursier']"
   ]
  },
  {
   "cell_type": "code",
   "execution_count": null,
   "metadata": {},
   "outputs": [],
   "source": [
    "len(df_unwrapped_alloc)"
   ]
  },
  {
   "cell_type": "code",
   "execution_count": null,
   "metadata": {},
   "outputs": [],
   "source": [
    "from datetime import datetime\n",
    "\n",
    "# Take only people between 14 years old and 18 years old\n",
    "start_date = datetime(2008, 1, 1).date()\n",
    "end_date = datetime(2011, 12, 31).date()\n",
    "\n",
    "df_unwrapped_alloc['date_naissance'] = pd.to_datetime(df_unwrapped_alloc['date_naissance'], format='ISO8601', errors='coerce')\n",
    "\n",
    "mask_14_to_18_years_old = (df_unwrapped_alloc['date_naissance'].dt.date >= start_date) & (df_unwrapped_alloc['date_naissance'].dt.date <= end_date)\n",
    "df_14_to_18_years_old = df_unwrapped_alloc.loc[mask_14_to_18_years_old]"
   ]
  },
  {
   "cell_type": "code",
   "execution_count": null,
   "metadata": {},
   "outputs": [],
   "source": [
    "print(f\"{len(df_unwrapped_alloc)} original benef length\")\n",
    "print(f\"{len(df_14_to_18_years_old)} benef between 14 and 18 years old\")"
   ]
  },
  {
   "cell_type": "code",
   "execution_count": null,
   "metadata": {},
   "outputs": [],
   "source": [
    "column_mapping = {\n",
    "    'id': 'id',\n",
    "    'genre': 'genre',\n",
    "    'updated_at': 'updated_at',\n",
    "    'organisme': 'organisme',\n",
    "    'date_naissance': 'date_naissance',\n",
    "    'situation': 'situation',\n",
    "    'allocataire_courriel': 'email',\n",
    "    'allocataire_qualite': 'allocataire_qualite',\n",
    "    'allocataire_nom': 'allocataire_nom',\n",
    "    'allocataire_prenom': 'allocataire_prenom',\n",
    "    'allocataire_matricule': 'allocataire_matricule',\n",
    "    'prenom': 'beneficiaire_prenom',\n",
    "    'nom': 'beneficiaire_nom',\n",
    "    'allocataire_telephone': 'telephone',\n",
    "}\n",
    "\n",
    "# Keep original to make\n",
    "original_df_unwrapped_alloc = df_unwrapped_alloc.copy()\n",
    "original_df_unwrapped_alloc.columns = original_df_unwrapped_alloc.columns.to_series().replace(column_mapping)\n",
    "\n",
    "df_14_to_18_years_old.columns = df_14_to_18_years_old.columns.to_series().replace(column_mapping)"
   ]
  },
  {
   "cell_type": "code",
   "execution_count": null,
   "metadata": {},
   "outputs": [],
   "source": [
    "# Format names\n",
    "format_allocataire_benef_names_in_place(df_14_to_18_years_old)\n",
    "format_allocataire_benef_names_in_place(original_df_unwrapped_alloc)"
   ]
  },
  {
   "cell_type": "code",
   "execution_count": null,
   "metadata": {},
   "outputs": [],
   "source": [
    "# From original - Group indirect beneficiaries to distinguish family with 1 and famility with > 1 children\n",
    "grouped_emails = original_df_unwrapped_alloc.groupby(['email']).size().reset_index(name=\"count\")\n",
    "single_families = grouped_emails[grouped_emails['count'] == 1]\n",
    "\n",
    "# Unique AAH taken from families with one beneficiary\n",
    "mask_alloc_eq_benef = original_df_unwrapped_alloc['beneficiaire_prenom'].str.lower() == original_df_unwrapped_alloc['allocataire_prenom'].str.lower()\n",
    "\n",
    "aah_start_date = datetime(1995, 1, 1).date() # 30 years old\n",
    "aah_end_date = datetime(2005, 12, 31).date() # 20 years old\n",
    "\n",
    "mask_aah = (original_df_unwrapped_alloc['date_naissance'].dt.date <= aah_start_date) & (original_df_unwrapped_alloc['date_naissance'].dt.date <= aah_end_date)\n",
    "aah_df = original_df_unwrapped_alloc[mask_aah & mask_alloc_eq_benef]\n",
    "unique_aah_df = aah_df[aah_df['email'].isin(single_families['email'])]\n",
    "\n",
    "print(f\"{len(aah_df)} AAH benef\")"
   ]
  },
  {
   "cell_type": "code",
   "execution_count": null,
   "metadata": {},
   "outputs": [],
   "source": [
    "# Group indirect beneficiaries to distinguish family with 1 and famility with > 1 children for 14-18 years old\n",
    "grouped_emails = df_14_to_18_years_old.groupby(['email']).size().reset_index(name=\"count\")\n",
    "single_families = grouped_emails[grouped_emails['count'] == 1]\n",
    "families_more_than_one = grouped_emails[grouped_emails['count'] > 1]"
   ]
  },
  {
   "cell_type": "code",
   "execution_count": null,
   "metadata": {},
   "outputs": [],
   "source": [
    "# allocataire = bénéficiaire\n",
    "mask_alloc_eq_benef = df_14_to_18_years_old['beneficiaire_prenom'].str.lower() == df_14_to_18_years_old['allocataire_prenom'].str.lower()\n",
    "\n",
    "direct_benef = df_14_to_18_years_old.loc[df_14_to_18_years_old['email'].isin(single_families['email'])].loc[mask_alloc_eq_benef]\n",
    "indirect_benef = df_14_to_18_years_old[~df_14_to_18_years_old['email'].isin(direct_benef['email'])]"
   ]
  },
  {
   "cell_type": "code",
   "execution_count": null,
   "metadata": {},
   "outputs": [],
   "source": [
    "# Families with single kid\n",
    "indirect_benef_single_families = df_14_to_18_years_old[df_14_to_18_years_old['email'].isin(single_families['email'])]\n",
    "indirect_benef_single_families = indirect_benef_single_families[~indirect_benef_single_families['email'].isin(direct_benef['email'])]"
   ]
  },
  {
   "cell_type": "code",
   "execution_count": null,
   "metadata": {},
   "outputs": [],
   "source": [
    "# Families with mulitple kids\n",
    "indirect_benef_siblings_families = df_14_to_18_years_old[df_14_to_18_years_old['email'].isin(families_more_than_one['email'])]\n",
    "indirect_benef_siblings_families = indirect_benef_siblings_families[~indirect_benef_siblings_families['email'].isin(direct_benef['email'])]\n",
    "indirect_benef_siblings_families = indirect_benef_siblings_families[~indirect_benef_siblings_families['email'].isin(indirect_benef_single_families['email'])]\n",
    "indirect_benef_siblings_families = indirect_benef_siblings_families.drop_duplicates(subset=['email']) # Only single email per family"
   ]
  },
  {
   "cell_type": "code",
   "execution_count": null,
   "metadata": {},
   "outputs": [],
   "source": [
    "# Indirect benef should not have any AAH\n",
    "assert(indirect_benef_single_families['email'].isin(unique_aah_df['email']).any() == False)\n",
    "assert(indirect_benef_siblings_families['email'].isin(unique_aah_df['email']).any() == False)"
   ]
  },
  {
   "cell_type": "code",
   "execution_count": null,
   "metadata": {},
   "outputs": [],
   "source": [
    "assert(len(pd.merge(unique_aah_df, indirect_benef_siblings_families, on='email', how='inner')) == 0)\n",
    "assert(len(pd.merge(unique_aah_df, indirect_benef_single_families, on='email', how='inner')) == 0)"
   ]
  },
  {
   "cell_type": "code",
   "execution_count": null,
   "metadata": {},
   "outputs": [],
   "source": [
    "# Indirect benef should not contain any email from direct benef\n",
    "assert(indirect_benef_single_families['email'].isin(direct_benef['email']).any() == False)\n",
    "\n",
    "# Indirect benef from families with more than one child should not contain any email from single families and direct beneficiaries\n",
    "assert(indirect_benef_siblings_families['email'].isin(direct_benef['email']).any() == False)\n",
    "assert(indirect_benef_siblings_families['email'].isin(indirect_benef_single_families['email']).any() == False)"
   ]
  },
  {
   "cell_type": "code",
   "execution_count": null,
   "metadata": {},
   "outputs": [],
   "source": [
    "# Compare against the list of all families\n",
    "# AAH benef should not have any benef from this list\n",
    "# Single and Sibling families should be from this list\n",
    "assert(indirect_benef_single_families['email'].isin(df_14_to_18_years_old['email']).any() == True)\n",
    "assert(indirect_benef_siblings_families['email'].isin(df_14_to_18_years_old['email']).any() == True)\n",
    "assert(unique_aah_df['email'].isin(df_14_to_18_years_old['email']).any() == False)"
   ]
  },
  {
   "cell_type": "code",
   "execution_count": null,
   "metadata": {},
   "outputs": [],
   "source": [
    "print(f\"Total families with only one child: {len(indirect_benef_single_families):,}\".replace(\",\", \" \"))\n",
    "print(f\"Total families with more than one child: {len(indirect_benef_siblings_families):,}\".replace(\",\", \" \"))\n",
    "print(f\"Total families with one kid and more than one child: {len(indirect_benef_single_families) + len\n",
    "(indirect_benef_siblings_families):,}\".replace(\",\", \" \"))\n",
    "print(f\"Total AAH direct beneficiaries: {len(unique_aah_df):,}\".replace(\",\", \" \"))\n",
    "print(f\"Total eligible families + AAH direct benef: {len(indirect_benef_single_families) + len(indirect_benef_siblings_families) + len(unique_aah_df):,}\".replace(\",\", \" \"))\n",
    "\n",
    "print(f\"Total number of benef from eligible 14-18 years old families (without grouping): {len(df_14_to_18_years_old):,}\".replace(\",\", \" \"))"
   ]
  },
  {
   "cell_type": "code",
   "execution_count": null,
   "metadata": {},
   "outputs": [],
   "source": [
    "# Make final check to ensure no rgpd emails are in the final output files\n",
    "assert(df_14_to_18_years_old['id'].isin(df_rgpd_codes['id']).any() == False)\n",
    "assert(indirect_benef_single_families['id'].isin(df_rgpd_codes['id']).any() == False)\n",
    "assert(indirect_benef_siblings_families['id'].isin(df_rgpd_codes['id']).any() == False)\n",
    "assert(unique_aah_df['id'].isin(df_rgpd_codes['id']).any() == False)"
   ]
  },
  {
   "cell_type": "code",
   "execution_count": null,
   "metadata": {},
   "outputs": [],
   "source": [
    "# Make final check to ensure no rgpd id are in the final output files\n",
    "assert(df_14_to_18_years_old['email'].isin(df_rgpd_emails['email']).any() == False)\n",
    "assert(indirect_benef_single_families['email'].isin(df_rgpd_emails['email']).any() == False)\n",
    "assert(indirect_benef_siblings_families['email'].isin(df_rgpd_emails['email']).any() == False)\n",
    "assert(unique_aah_df['email'].isin(df_rgpd_emails['email']).any() == False)"
   ]
  },
  {
   "cell_type": "code",
   "execution_count": null,
   "metadata": {},
   "outputs": [],
   "source": [
    "columns_to_keep = [\n",
    "    'id',\n",
    "    'email',\n",
    "    'beneficiaire_prenom',\n",
    "    'beneficiaire_nom',\n",
    "    'allocataire_nom',\n",
    "    'allocataire_prenom',\n",
    "    # 'genre',\n",
    "    # 'date_naissance',\n",
    "    # 'organisme',\n",
    "    # 'situation'\n",
    "    # 'allocataire_matricule',\n",
    "    # 'organisme'\n",
    "]\n",
    "\n",
    "columns_to_keep_siblings = [\n",
    "    'id',\n",
    "    'email',\n",
    "    'allocataire_nom',\n",
    "    'allocataire_prenom',\n",
    "]\n",
    "\n",
    "indirect_benef_single_families[columns_to_keep].to_csv(output_one_children, index=False, sep=\",\")\n",
    "indirect_benef_siblings_families[columns_to_keep_siblings].to_csv(output_multiple_children, index=False, sep=\",\")\n",
    "unique_aah_df[columns_to_keep].to_csv(output_direct_beneficiaries, index=False, sep=\",\")\n",
    "df_14_to_18_years_old[columns_to_keep].to_csv(output_all_eligible_families, index=False, sep=\",\")\n",
    "\n",
    "end_time = time.time()\n",
    "print(f\"Notebook executed in {end_time - start_time:.2f} seconds\")"
   ]
  }
 ],
 "metadata": {
  "kernelspec": {
   "display_name": ".venv",
   "language": "python",
   "name": "python3"
  },
  "language_info": {
   "codemirror_mode": {
    "name": "ipython",
    "version": 3
   },
   "file_extension": ".py",
   "mimetype": "text/x-python",
   "name": "python",
   "nbconvert_exporter": "python",
   "pygments_lexer": "ipython3",
   "version": "3.10.12"
  }
 },
 "nbformat": 4,
 "nbformat_minor": 2
}
