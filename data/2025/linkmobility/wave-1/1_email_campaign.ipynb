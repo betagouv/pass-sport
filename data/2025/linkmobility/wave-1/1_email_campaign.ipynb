{
 "cells": [
  {
   "cell_type": "markdown",
   "metadata": {},
   "source": [
    "## Summary\n",
    "Emailing campaign for the first wave\n",
    "\n",
    "## Process\n",
    "\n",
    "- Load list of eligible beneficiaries from 2025\n",
    "- JSON extraction for the allocataire field\n",
    "- Data mapping and deletion of unusable data\n",
    "- URL generation containing the code\n",
    "- Output two seperate files\n",
    "   - One where the benef is the same than the allocataire (direct benef)\n",
    "   - Other one where the benef is different than the allocataire (indirect benef)\n",
    "\n"
   ]
  },
  {
   "cell_type": "code",
   "execution_count": null,
   "metadata": {},
   "outputs": [],
   "source": [
    "import time\n",
    "import pandas as pd\n",
    "from dotenv import load_dotenv\n",
    "import os\n",
    "import json\n",
    "\n",
    "from data.utils.emailing_utils import format_allocataire_benef_names_in_place, format_born_text_in_place, \\\n",
    "    format_benef_birth_date_in_place, get_indirect_beneficiaries, get_direct_beneficiaries\n",
    "\n",
    "load_dotenv()\n",
    "\n",
    "start_time = time.time()\n",
    "benef_2025 = os.environ['BENEF_2025_PARQUET_PATHFILE']\n",
    "qr_code_secret_key = os.environ['BENEF_2025_QR_CODE_URL_SECRET']\n",
    "qr_code_base_url = os.environ['BENEF_2025_QR_CODE_BASE_URL']\n",
    "pathfile_campaign_csv_output_b = os.environ['CAMPAIGN_CSV_OUTPUT_B']\n",
    "pathfile_campaign_csv_output_b_and_a = os.environ['CAMPAIGN_CSV_OUTPUT_B_AND_A']"
   ]
  },
  {
   "cell_type": "code",
   "execution_count": null,
   "metadata": {},
   "outputs": [],
   "source": [
    "df_main = pd.read_parquet(benef_2025)"
   ]
  },
  {
   "cell_type": "code",
   "execution_count": null,
   "metadata": {},
   "outputs": [],
   "source": [
    "df_json_normalized = pd.json_normalize(df_main['allocataire'].apply(json.loads))\n",
    "df_json_normalized = df_json_normalized.add_prefix('allocataire_')\n",
    "df_main.index = pd.RangeIndex(start=0, stop=len(df_main), step=1)\n",
    "df_unwrapped_alloc = pd.merge(df_main, df_json_normalized, left_index=True, right_index=True)\n",
    "\n",
    "print(f\"Number of beneficiaries : {len(df_unwrapped_alloc)}\")"
   ]
  },
  {
   "cell_type": "code",
   "execution_count": null,
   "metadata": {},
   "outputs": [],
   "source": [
    "# Users that email\n",
    "mask_not_existing_email = df_unwrapped_alloc['allocataire_courriel'].apply(lambda x: pd.isna(x) or x == '')\n",
    "\n",
    "df_unwrapped_alloc = df_unwrapped_alloc[~mask_not_existing_email]\n",
    "\n",
    "print(f\"Number of beneficiaries with existing email : {len(df_unwrapped_alloc)}\")"
   ]
  },
  {
   "cell_type": "code",
   "execution_count": null,
   "metadata": {},
   "outputs": [],
   "source": [
    "column_mapping = {\n",
    "    'id': 'id',\n",
    "    'allocataire_courriel': 'email',\n",
    "    'allocataire_qualite': 'allocataire_qualite',\n",
    "    'allocataire_nom': 'allocataire_nom',\n",
    "    'allocataire_prenom': 'allocataire_prenom',\n",
    "    'prenom': 'beneficiaire_prenom',\n",
    "    'nom': 'beneficiaire_nom',\n",
    "    'genre': 'beneficiaire_genre',\n",
    "    'date_naissance': 'beneficiaire_date_naissance',\n",
    "    'id_psp': 'code',\n",
    "}\n",
    "\n",
    "df_unwrapped_alloc.columns = df_unwrapped_alloc.columns.to_series().replace(column_mapping)"
   ]
  },
  {
   "cell_type": "code",
   "execution_count": null,
   "metadata": {},
   "outputs": [],
   "source": [
    "# only keep necessary columns\n",
    "df_campaign = df_unwrapped_alloc[\n",
    "    [\n",
    "        'id',\n",
    "        'email',\n",
    "        'allocataire_nom',\n",
    "        'allocataire_prenom',\n",
    "        'beneficiaire_prenom',\n",
    "        'beneficiaire_nom',\n",
    "        'beneficiaire_genre',\n",
    "        'beneficiaire_date_naissance',\n",
    "        'code',\n",
    "    ]\n",
    "]"
   ]
  },
  {
   "cell_type": "code",
   "execution_count": null,
   "metadata": {},
   "outputs": [],
   "source": [
    "# Gender text & capitalize names & format dob text in place\n",
    "format_born_text_in_place(df_campaign)\n",
    "format_allocataire_benef_names_in_place(df_campaign)\n",
    "format_benef_birth_date_in_place(df_campaign)"
   ]
  },
  {
   "cell_type": "code",
   "execution_count": null,
   "metadata": {},
   "outputs": [],
   "source": [
    "# Génération des URLs pour le QR code\n",
    "import hmac\n",
    "import hashlib\n",
    "import urllib.parse\n",
    "import base64\n",
    "\n",
    "from Crypto.Cipher import AES\n",
    "from Crypto.Util.Padding import pad, unpad\n",
    "from Crypto.Random import get_random_bytes\n",
    "\n",
    "base_64_key = base64.b64decode(qr_code_secret_key)\n",
    "key_mapping = {'beneficiaire_prenom': 'bp', 'beneficiaire_nom': 'bn', 'beneficiaire_genre': 'bg',\n",
    "               'beneficiaire_date_naissance': 'bdn', 'code': 'c', 'situation': 'situation', 'organisme': 'organisme',\n",
    "               'id': 'id'}\n",
    "\n",
    "def encrypt(data):\n",
    "    cipher = AES.new(base_64_key, AES.MODE_CBC)\n",
    "    ct_bytes = cipher.encrypt(pad(data.encode('utf-8'), AES.block_size))\n",
    "    iv = cipher.iv\n",
    "    ct = base64.b64encode(iv + ct_bytes).decode('utf-8')\n",
    "    return ct\n",
    "\n",
    "\n",
    "def generate_encrypted_url_column(row):\n",
    "    params = {key_mapping.get(column): row[column] for column in df_campaign.columns}\n",
    "    cleaned_params = {k: v for k, v in params.items() if k is not None}\n",
    "    encoded_params = urllib.parse.urlencode(cleaned_params)\n",
    "    encoded_encrypted_params = encrypt(encoded_params)\n",
    "    full_url_string = f\"{qr_code_base_url}#{urllib.parse.quote_plus(encoded_encrypted_params)}\"\n",
    "    return full_url_string\n",
    "\n",
    "\n",
    "if 'url_qr_code' in df_campaign:\n",
    "    del df_campaign['url_qr_code']\n",
    "\n",
    "df_campaign['url_qr_code'] = df_campaign.apply(generate_encrypted_url_column, axis=1)"
   ]
  },
  {
   "cell_type": "code",
   "execution_count": null,
   "metadata": {},
   "outputs": [],
   "source": [
    "# # Debugging purposes\n",
    "# # # AES decryption test\n",
    "# def generate_decrypted_url_column(row):\n",
    "#     encrypted_part = urllib.parse.unquote_plus(row['url_qr_code'].replace(qr_code_base_url+'/', ''))\n",
    "#     return decrypt(encrypted_part)\n",
    "\n",
    "# def decrypt(data):\n",
    "#     enc_data_bytes = base64.b64decode(data)\n",
    "#     iv = enc_data_bytes[:AES.block_size]\n",
    "#     ct = enc_data_bytes[AES.block_size:]\n",
    "#     decrypt_cipher = AES.new(base_64_key, AES.MODE_CBC, iv)\n",
    "#     decrypted_ct = decrypt_cipher.decrypt(ct)\n",
    "#     pt = unpad(decrypted_ct, AES.block_size)\n",
    "#     url_param = pt.decode('utf-8')\n",
    "#     return url_param\n",
    "\n",
    "# df_campaign['query_params_decrypted'] = df_campaign.apply(generate_decrypted_url_column, axis=1)"
   ]
  },
  {
   "cell_type": "code",
   "execution_count": null,
   "metadata": {},
   "outputs": [],
   "source": [
    "df_alloc_diff_benef = get_indirect_beneficiaries(df_campaign)\n",
    "df_alloc_eq_benef = get_direct_beneficiaries(df_campaign)"
   ]
  },
  {
   "cell_type": "code",
   "execution_count": null,
   "metadata": {},
   "outputs": [],
   "source": [
    "columns_to_keep = [\n",
    "    'id',\n",
    "    'email',\n",
    "    'allocataire_nom',\n",
    "    'allocataire_prenom',\n",
    "    'beneficiaire_prenom',\n",
    "    'beneficiaire_nom',\n",
    "    'beneficiaire_genre',\n",
    "    'url_qr_code'\n",
    "]\n",
    "\n",
    "df_alloc_eq_benef[columns_to_keep].to_csv(pathfile_campaign_csv_output_b, index=False)\n",
    "df_alloc_diff_benef[columns_to_keep].to_csv(pathfile_campaign_csv_output_b_and_a, index=False)\n",
    "\n",
    "end_time = time.time()\n",
    "\n",
    "print(f\"Notebook executed in {end_time - start_time:.2f} seconds\")"
   ]
  }
 ],
 "metadata": {
  "kernelspec": {
   "display_name": ".venv",
   "language": "python",
   "name": "python3"
  },
  "language_info": {
   "codemirror_mode": {
    "name": "ipython",
    "version": 3
   },
   "file_extension": ".py",
   "mimetype": "text/x-python",
   "name": "python",
   "nbconvert_exporter": "python",
   "pygments_lexer": "ipython3",
   "version": "3.10.12"
  }
 },
 "nbformat": 4,
 "nbformat_minor": 2
}
