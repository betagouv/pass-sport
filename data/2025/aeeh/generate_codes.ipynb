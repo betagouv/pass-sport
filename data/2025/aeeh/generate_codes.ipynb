{
 "cells": [
  {
   "cell_type": "markdown",
   "id": "a11c7aa224655285",
   "metadata": {},
   "source": [
    "# Code generation\n",
    "Notebook to generate codes for two files that have been processed separately (DS and CNOUS)"
   ]
  },
  {
   "cell_type": "code",
   "execution_count": null,
   "id": "initial_id",
   "metadata": {},
   "outputs": [],
   "source": [
    "import os\n",
    "import pandas as pd\n",
    "from dotenv import load_dotenv\n",
    "\n",
    "from utils.data_utils import get_current_date_for_file_name\n",
    "\n",
    "load_dotenv()\n",
    "\n",
    "cnous_pathfile = os.environ['CNOUS_PATHFILE_2025']\n",
    "ds_pathfile = os.environ['DS_PATHFILE_2025']\n",
    "existing_codes_pathfile = os.environ['EXISTING_CODES_PATHFILE_2025']\n",
    "\n",
    "df_cnous = pd.read_csv(cnous_pathfile, sep=';', encoding='utf-8', dtype=str)\n",
    "df_aeeh = pd.read_csv(ds_pathfile, sep=';', encoding='utf-8', dtype=str)\n",
    "df_existing_codes = pd.read_csv(existing_codes_pathfile, on_bad_lines='skip', sep=',', dtype=str, engine=\"c\", keep_default_na=False, encoding=\"utf-8\")"
   ]
  },
  {
   "cell_type": "code",
   "execution_count": null,
   "id": "68eafa762519fbd0",
   "metadata": {},
   "outputs": [],
   "source": [
    "df_merged = pd.concat([df_cnous, df_aeeh])\n",
    "\n",
    "# Drop old generated codes because they cannot be unique\n",
    "df_merged.drop(columns='id_psp', inplace=True)"
   ]
  },
  {
   "cell_type": "code",
   "execution_count": null,
   "id": "11f36d004e1ef140",
   "metadata": {},
   "outputs": [],
   "source": [
    "# Unique codes generation\n",
    "import random\n",
    "import string\n",
    "import datetime\n",
    "\n",
    "df_merged = df_merged.reset_index(drop=True)\n",
    "current_date = datetime.datetime.now()\n",
    "current_year = str(current_date.year)[-2:]\n",
    "\n",
    "def get_characters_set(size=4):\n",
    "    return ''.join(random.choices([c for c in string.ascii_uppercase if c not in 'OI'], k=size))\n",
    "\n",
    "\n",
    "def generate_code():\n",
    "    return f\"{current_year}-{get_characters_set(4)}-{get_characters_set(4)}\"\n",
    "\n",
    "# init set of codes with existing\n",
    "unique_codes = set(df_existing_codes['code'])\n",
    "current_codes_count = len(unique_codes)\n",
    "\n",
    "while len(unique_codes) < (len(df_merged) + len(df_existing_codes)):\n",
    "    unique_codes.add(generate_code())"
   ]
  },
  {
   "cell_type": "code",
   "execution_count": null,
   "id": "53617f243ee7eb4f",
   "metadata": {},
   "outputs": [],
   "source": [
    "# Ensure we have generated codes for all the rows\n",
    "assert len(unique_codes) == (len(df_merged) + len(df_existing_codes))\n",
    "new_codes = unique_codes.difference(set(df_existing_codes['code']))"
   ]
  },
  {
   "cell_type": "code",
   "execution_count": null,
   "id": "3b5f538726c5d17d",
   "metadata": {},
   "outputs": [],
   "source": [
    "assert len(new_codes) == len(df_merged)\n",
    "len(new_codes)"
   ]
  },
  {
   "cell_type": "code",
   "execution_count": null,
   "id": "650ffe15223b961e",
   "metadata": {},
   "outputs": [],
   "source": [
    "# Assign generated code\n",
    "df_merged['id_psp'] = list(new_codes)"
   ]
  },
  {
   "cell_type": "code",
   "execution_count": null,
   "id": "986ef9492a73e4",
   "metadata": {},
   "outputs": [],
   "source": [
    "db_columns = ['nom', 'prenom', 'date_naissance', 'genre', 'organisme', 'situation', 'allocataire', 'adresse_allocataire', 'created_at', 'updated_at', 'exercice_id', 'uuid_doc', 'zrr', 'qpv', 'a_valider', 'refuser', 'id_psp']\n",
    "db_columns_with_dossier = ['dossier_id', 'nom', 'prenom', 'date_naissance', 'genre', 'organisme', 'situation', 'allocataire', 'adresse_allocataire', 'created_at', 'updated_at', 'exercice_id', 'uuid_doc', 'zrr', 'qpv', 'a_valider', 'refuser', 'id_psp']"
   ]
  },
  {
   "cell_type": "code",
   "execution_count": null,
   "id": "65380a9e5cfd9f8f",
   "metadata": {},
   "outputs": [],
   "source": [
    "cnous_pathfile = os.environ['CNOUS_PATHFILE_2025']\n",
    "ds_pathfile = os.environ['DS_PATHFILE_2025']\n",
    "existing_codes_pathfile = os.environ['EXISTING_CODES_PATHFILE_2025']\n",
    "\n",
    "df_merged[df_merged['situation'] == 'boursier'][db_columns].to_csv(get_current_date_for_file_name('cnous.csv'), sep=';', index=False, encoding='utf-8')\n",
    "df_merged[~(df_merged['situation'] == 'boursier')][db_columns].to_csv(get_current_date_for_file_name('aeeh.csv'), sep=';', index=False, encoding='utf-8')\n",
    "\n",
    "# Keep DS csv with dossier ids\n",
    "df_merged[~(df_merged['situation'] == 'boursier')][db_columns_with_dossier].to_csv(get_current_date_for_file_name('aeeh-with-dossier-ids.csv'), sep=';', index=False, encoding='utf-8')"
   ]
  }
 ],
 "metadata": {
  "kernelspec": {
   "display_name": "Python 3",
   "language": "python",
   "name": "python3"
  },
  "language_info": {
   "codemirror_mode": {
    "name": "ipython",
    "version": 2
   },
   "file_extension": ".py",
   "mimetype": "text/x-python",
   "name": "python",
   "nbconvert_exporter": "python",
   "pygments_lexer": "ipython2",
   "version": "2.7.6"
  }
 },
 "nbformat": 4,
 "nbformat_minor": 5
}
