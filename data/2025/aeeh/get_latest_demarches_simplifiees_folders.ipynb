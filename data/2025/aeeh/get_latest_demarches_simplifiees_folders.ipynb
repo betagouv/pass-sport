{
 "cells": [
  {
   "cell_type": "code",
   "execution_count": null,
   "id": "initial_id",
   "metadata": {},
   "outputs": [],
   "source": [
    "import pandas as pd\n",
    "from dotenv import load_dotenv\n",
    "\n",
    "load_dotenv()\n",
    "\n",
    "column_mapping = {\n",
    "  \"ID\" : \"dossier_id\",\n",
    "  \"Email\": \"demandeur_email\",\n",
    "  \"FranceConnect ?\": \"france_connect_a_ete_utilise\",\n",
    "  \"Civilité\": \"qualite\",\n",
    "  \"Nom\": \"demandeur_nom\",\n",
    "  \"Prénom\": \"demandeur_prenom\",\n",
    "  \"Dépôt pour un tiers\": \"depot_pour_un_tiers\",\n",
    "  \"Nom du mandataire\": \"nom_mandataire\",\n",
    "  \"Prénom du mandataire\": \"prenom_mandataire\",\n",
    "  \"À archiver\": \"a_archiver\",\n",
    "  \"État du dossier\": \"etat_dossier\",\n",
    "  \"Dernière mise à jour le\": \"derniere_mise_a_jour\",\n",
    "  \"Dernière mise à jour du dossier le\": \"derniere_mise_a_jour_du_dossier\",\n",
    "  \"Déposé le\": \"depose_le\",\n",
    "  \"Passé en instruction le\": \"passe_en_instruction_le\",\n",
    "  \"Traité le\": \"traite_le\",\n",
    "  \"Motivation de la décision\": \"decision\",\n",
    "  \"Instructeurs\": \"instructeurs\",\n",
    "  \"Percevez-vous l'allocation d'éducation de l'enfant handicapé (AEEH) ?\": \"est_aeeh\",\n",
    "  \"Nom de famille de l'allocataire\": \"allocataire-nom\",\n",
    "  \"Prénom de l'allocataire\": \"allocataire-prenom\",\n",
    "  \"Adresse électronique de l'allocataire\": \"allocataire-courriel\",\n",
    "  \"L'organisme de gestion de votre allocation\": \"organisme\",\n",
    "  \"Adresse de résidence de l'allocataire\": \"adresse_allocataire-voie\",\n",
    "  \"Commune de résidence de l'allocataire\": \"adresse_allocataire-commune\",\n",
    "  \"Commune de résidence de l'allocataire (Code INSEE)\": \"adresse_allocataire-commune_insee\",\n",
    "  \"Commune de résidence de l'allocataire (Département)\": \"adresse_allocataire-departement\",\n",
    "  \"Le numéro d'allocataire CAF\": \"allocataire-matricule\",\n",
    "  \"Genre\": \"genre\",\n",
    "  \"Prénom de l'enfant\": \"prenom\",\n",
    "  \"Nom de famille de l'enfant\": \"nom\",\n",
    "  \"Date de naissance de l'enfant\": \"date_naissance\",\n",
    "  \"Attestation de paiement de l'AEEH, fournie par votre CAF ou MSA\": \"attestation_paiement\",\n",
    "  \"Nouvelle annotation\": \"annotation\"\n",
    "}\n"
   ]
  },
  {
   "cell_type": "code",
   "execution_count": null,
   "id": "dfc89afc1701527d",
   "metadata": {},
   "outputs": [],
   "source": [
    "[df_ds_folders_2025_09_11, df_ds_folders_2025_09_15] = [\n",
    "  pd.read_csv('./2025-09-11-dossiers-demarches-simplifiees-aeeh.csv', on_bad_lines='skip', sep=',', dtype=str, engine=\"c\", keep_default_na=False, encoding=\"utf-8\"),\n",
    "  pd.read_csv('./2025-09-15-dossiers-demarches-simplifiees-aeeh.csv', on_bad_lines='skip', sep=',', dtype=str, engine=\"c\", keep_default_na=False, encoding=\"utf-8\")\n",
    "]"
   ]
  },
  {
   "cell_type": "code",
   "execution_count": null,
   "id": "2b7cb991f66b1ecb",
   "metadata": {},
   "outputs": [],
   "source": [
    "[df_ds_folders_2025_09_11, df_ds_folders_2025_09_15] = [df_ds_folders_2025_09_11.rename(columns=column_mapping), df_ds_folders_2025_09_15.rename(columns=column_mapping)]"
   ]
  },
  {
   "cell_type": "code",
   "execution_count": null,
   "id": "c5195333231b9c93",
   "metadata": {},
   "outputs": [],
   "source": [
    "# Exclude already processed folders\n",
    "df_already_processed = pd.merge(df_ds_folders_2025_09_11, df_ds_folders_2025_09_15, how='inner', on=['dossier_id'])\n",
    "df_new_folders =  df_ds_folders_2025_09_15[~df_ds_folders_2025_09_15['dossier_id'].isin(df_already_processed['dossier_id'])]"
   ]
  },
  {
   "cell_type": "code",
   "execution_count": null,
   "id": "1e8bd3ebfd32269",
   "metadata": {},
   "outputs": [],
   "source": [
    "df_new_folders('./2025-09-15-dossiers-a-traiter.csv', sep=';', index=False, encoding='utf-8')"
   ]
  }
 ],
 "metadata": {
  "kernelspec": {
   "display_name": "Python 3",
   "language": "python",
   "name": "python3"
  },
  "language_info": {
   "codemirror_mode": {
    "name": "ipython",
    "version": 2
   },
   "file_extension": ".py",
   "mimetype": "text/x-python",
   "name": "python",
   "nbconvert_exporter": "python",
   "pygments_lexer": "ipython2",
   "version": "2.7.6"
  }
 },
 "nbformat": 4,
 "nbformat_minor": 5
}
