{
 "cells": [
  {
   "cell_type": "markdown",
   "metadata": {},
   "source": [
    "## Process\n",
    "- Load backup file\n",
    "- Load DS (Demarches Simplifiees) CSV file\n",
    "- Apply eligibility dates\n",
    "  - 01/01/2006 to 31/12/2019 (inclusives)\n",
    "- Clean & Format the rows\n",
    "  - Add the columns \"is_found\" (default to False),\n",
    "  - Add the column \"folder_number\" (default to np.NaN)\n",
    "- Match DS rows against the backup rows\n",
    "- If match, create boolean column \"is_found\" and set it to True, otherwise False\n",
    "- Output 1 CSV file with the database format (to be injection ready)\n",
    "- Output 1 CSV file for the support team with the created column \"is_found\", and the \"folder_number\""
   ]
  },
  {
   "cell_type": "code",
   "execution_count": null,
   "metadata": {},
   "outputs": [],
   "source": [
    "import os\n",
    "import pandas as pd\n",
    "import json\n",
    "import numpy as np\n",
    "import csv\n",
    "\n",
    "from datetime import datetime, timedelta\n",
    "from dotenv import load_dotenv\n",
    "\n",
    "from data.utils.data_utils import unaccent_and_upper\n",
    "\n",
    "load_dotenv()\n",
    "\n",
    "ds_input_filepath = os.environ['DEMARCHES_SIMPLIFIEES_PATHFILE_2025']\n",
    "backup_input_filepath = os.environ['BACKUP_PATHFILE_2025']"
   ]
  },
  {
   "cell_type": "code",
   "execution_count": null,
   "metadata": {},
   "outputs": [],
   "source": [
    "ds_column_names = [\n",
    "  'id',\n",
    "  'email',\n",
    "  'france_connect_has_been_used',\n",
    "  'allocataire_quality',\n",
    "  'benef_name',\n",
    "  'benef_firstname',\n",
    "  'depot_is_from_tutor',\n",
    "  'tutor_name',\n",
    "  'tutor_firstname',\n",
    "  'to_archive',\n",
    "  'folder_status',\n",
    "  'last_updated_at'\n",
    "  'folder_last_updated_at',\n",
    "  'submitted_at',\n",
    "  'date_of_instruction',\n",
    "  'treated_at',\n",
    "  'final_decision',\n",
    "  'instructors',\n",
    "  'input_has_aeeh',\n",
    "  'input_email',\n",
    "  'input_organism',\n",
    "  'input_alloc_residence',\n",
    "  'input_alloc_commune',\n",
    "  'input_alloc_commune_insee_code',\n",
    "  'input_alloc_matricule_number',\n",
    "  'input_benef_gender',\n",
    "  'input_benef_firstname',\n",
    "  'input_benef_lastname',\n",
    "  'input_benef_date_of_birth',\n",
    "  'input_proof_of_paiement_filename'\n",
    "]\n",
    "\n",
    "ds_df = pd.read_csv(ds_input_filepath, on_bad_lines='skip', sep=',', dtype=str, engine=\"c\", keep_default_na=False, names=ds_column_names)"
   ]
  },
  {
   "cell_type": "code",
   "execution_count": null,
   "metadata": {},
   "outputs": [],
   "source": [
    "ds_df['allocataire_quality'] = np.NaN\n",
    "ds_df['situation'] = 'jeune'"
   ]
  },
  {
   "cell_type": "code",
   "execution_count": null,
   "metadata": {},
   "outputs": [],
   "source": [
    "# Format date_naissance to datetime python object for processing\n",
    "ds_df['input_benef_date_of_birth'] = pd.to_datetime(ds_df['input_benef_date_of_birth'], format='%Y/%m/%d')\n",
    "ds_df['input_firstname'] = ds_df['input_firstname'].apply(unaccent_and_upper)\n",
    "ds_df['input_lastname'] = ds_df['input_lastname'].apply(unaccent_and_upper)\n",
    "ds_df['input_benef_gender'] = ds_df['input_benef_gender'].replace({\n",
    "    'M.': 'M',\n",
    "    'Mme': 'F'\n",
    "})"
   ]
  },
  {
   "cell_type": "code",
   "execution_count": null,
   "metadata": {},
   "outputs": [],
   "source": [
    "mask_dob_start = pd.to_datetime(ds_df['input_benef_date_of_birth']).dt.date >= datetime(2012, 1, 1).date()\n",
    "mask_dob_end = pd.to_datetime(ds_df['input_benef_date_of_birth']).dt.date <= datetime(2019, 12, 31).date()\n",
    "\n",
    "ds_df = ds_df[mask_dob_start & mask_dob_end]\n",
    "\n",
    "# add 4h on all birthdates\n",
    "ds_df['input_benef_date_of_birth'] = ds_df['input_benef_date_of_birth'] + timedelta(hours=4)"
   ]
  },
  {
   "cell_type": "code",
   "execution_count": null,
   "metadata": {},
   "outputs": [],
   "source": [
    "# map allocataire json\n",
    "def to_json_allocataire_without_null(row):\n",
    "    allocataire_mapping = {\n",
    "        'qualite': row['allocataire_quality'],\n",
    "        'matricule': row['input_alloc_matricule_number'],\n",
    "        'nom': unaccent_and_upper(row['input_alloc_lastname']),\n",
    "        'prenom': unaccent_and_upper(row['allocataire-prenom']),\n",
    "        'courriel': row['allocataire-courriel']\n",
    "    }\n",
    "    filtered_NaN_allocataire = {k: v for k, v in allocataire_mapping.items() if pd.notnull(v)}\n",
    "    return json.dumps(filtered_NaN_allocataire, ensure_ascii=False)\n",
    "\n",
    "\n",
    "ds_df['allocataire'] = ds_df.apply(to_json_allocataire_without_null, axis=1)"
   ]
  },
  {
   "cell_type": "code",
   "execution_count": null,
   "metadata": {},
   "outputs": [],
   "source": [
    "# map adresse_allocataire json\n",
    "def to_json_adresse_without_null(row):\n",
    "    adresse_mapping = {\n",
    "        'voie': row['adresse_allocataire-voie'],\n",
    "        'code_postal': format_insee_or_postal_code(row['adresse_allocataire-code_postal']),\n",
    "        'commune': row['adresse_allocataire-commune'],\n",
    "        'code_insee': format_insee_or_postal_code(row['adresse_allocataire-code_insee']),\n",
    "        'cplt_adresse': row['adresse_allocataire-cplt_adresse'],\n",
    "    }\n",
    "\n",
    "    filtered_address = {k: v for k, v in adresse_mapping.items() if pd.notnull(v)}\n",
    "    return json.dumps(filtered_address, ensure_ascii=False)\n",
    "\n",
    "\n",
    "df_valid_no_duplicate['adresse_allocataire'] = df_valid_no_duplicate.apply(to_json_adresse_without_null, axis=1)"
   ]
  },
  {
   "cell_type": "code",
   "execution_count": null,
   "metadata": {},
   "outputs": [],
   "source": [
    "## drop null value\n",
    "df_final = df_valid_no_duplicate.drop(columns=[\n",
    "    'allocataire-qualite',\n",
    "    'allocataire-matricule',\n",
    "    'allocataire-code_organisme',\n",
    "    'allocataire-nom',\n",
    "    'allocataire-prenom',\n",
    "    'allocataire-telephone',\n",
    "    'allocataire-courriel',\n",
    "    'adresse_allocataire-voie',\n",
    "    'adresse_allocataire-code_postal',\n",
    "    'adresse_allocataire-commune',\n",
    "    'adresse_allocataire-code_insee',\n",
    "    'adresse_allocataire-cplt_adresse',\n",
    "])"
   ]
  },
  {
   "cell_type": "code",
   "execution_count": null,
   "metadata": {},
   "outputs": [],
   "source": [
    "# Jeune data 14-17 years old\n",
    "mask_jeune_dob_start = pd.to_datetime(df_psp_mapped_cnaf['date_naissance']).dt.date >= datetime(2008, 1, 1).date()\n",
    "mask_jeune_dob_end = pd.to_datetime(df_psp_mapped_cnaf['date_naissance']).dt.date <= datetime(2011, 12, 31).date()\n",
    "mask_jeune_dob = mask_jeune_dob_start & mask_jeune_dob_end\n",
    "\n",
    "df_final_jeune = df_final[mask_jeune_dob]"
   ]
  },
  {
   "cell_type": "code",
   "execution_count": null,
   "metadata": {},
   "outputs": [],
   "source": [
    "# AAH benef, already computed their situation above so no need to apply other filters\n",
    "df_final_aah = df_final[df_final['situation'] == 'AAH']"
   ]
  },
  {
   "cell_type": "code",
   "execution_count": null,
   "metadata": {},
   "outputs": [],
   "source": [
    "# 6-13 years old for verification purposes\n",
    "mask_backup_data_potential_aeeh_dob_start = pd.to_datetime(df_psp_mapped_cnaf['date_naissance']).dt.date >= datetime(2012, 1, 1).date()\n",
    "mask_backup_data_potential_aeeh_dob_end = pd.to_datetime(df_psp_mapped_cnaf['date_naissance']).dt.date <= datetime(2019, 12, 31).date()\n",
    "\n",
    "mask_backup_data_potential_aeeh_dob = mask_backup_data_potential_aeeh_dob_start & mask_backup_data_potential_aeeh_dob_end\n",
    "\n",
    "df_backup_data = df_final[mask_backup_data_potential_aeeh_dob]"
   ]
  },
  {
   "cell_type": "code",
   "execution_count": null,
   "metadata": {},
   "outputs": [],
   "source": [
    "# Merge ARS and AAH\n",
    "df_final_jeune_and_aah = pd.concat([df_final_jeune, df_final_aah], ignore_index=True).reset_index(drop=True)"
   ]
  },
  {
   "cell_type": "code",
   "execution_count": null,
   "metadata": {},
   "outputs": [],
   "source": [
    "df_final_jeune_and_aah.loc[:,'date_naissance'] = df_final_jeune_and_aah['date_naissance'].astype(str)\n",
    "df_backup_data.loc[:,'date_naissance'] = df_backup_data['date_naissance'].astype(str)"
   ]
  },
  {
   "cell_type": "code",
   "execution_count": null,
   "metadata": {},
   "outputs": [],
   "source": [
    "# output to CSV files\n",
    "df_final_jeune_and_aah.to_csv(base_output_filepath, sep=';', index=False, encoding='utf-8', quoting=csv.QUOTE_ALL)\n",
    "df_backup_data.to_csv(backup_output_filepath, sep=';', index=False, encoding='utf-8', quoting=csv.QUOTE_ALL)"
   ]
  },
  {
   "cell_type": "code",
   "execution_count": null,
   "metadata": {},
   "outputs": [],
   "source": [
    "print(f\"{len(df_final_jeune)} df_final_jeune\")\n",
    "print(f\"{len(df_final_aah)} df_final_aah\")\n",
    "print(f\"{len(df_final_jeune_and_aah)} jeune and aah\")\n",
    "print(f\"{len(df_backup_data)} backup data\")"
   ]
  }
 ],
 "metadata": {
  "kernelspec": {
   "display_name": ".venv",
   "language": "python",
   "name": "python3"
  },
  "language_info": {
   "codemirror_mode": {
    "name": "ipython",
    "version": 3
   },
   "file_extension": ".py",
   "mimetype": "text/x-python",
   "name": "python",
   "nbconvert_exporter": "python",
   "pygments_lexer": "ipython3",
   "version": "3.12.4"
  }
 },
 "nbformat": 4,
 "nbformat_minor": 2
}
