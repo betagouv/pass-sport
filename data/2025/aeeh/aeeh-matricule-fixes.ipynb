{
 "cells": [
  {
   "cell_type": "code",
   "execution_count": null,
   "id": "initial_id",
   "metadata": {},
   "outputs": [],
   "source": [
    "import pandas as pd\n",
    "from dotenv import load_dotenv\n",
    "\n",
    "load_dotenv()"
   ]
  },
  {
   "cell_type": "code",
   "execution_count": null,
   "id": "537d4cc7aa8f7f86",
   "metadata": {},
   "outputs": [],
   "source": [
    "# aeeh-to-fix.csv, is data that is extracted directly from the database targeting invalid matricules amongst all waves\n",
    "df_existing = pd.read_csv('./aeeh-to-fix.csv', encoding='utf-8', sep=';')\n",
    "\n",
    "# Matching against previous injected data\n",
    "df_previous_waves = pd.concat([\n",
    "    pd.read_csv('./previous_waves/wave-2/2025-09-19-production-with-dossier-ids.csv', on_bad_lines='skip', sep=';',\n",
    "                dtype=str, engine=\"c\", keep_default_na=False, encoding=\"utf-8\"),\n",
    "    pd.read_csv('./previous_waves/wave-3/2025-09-26-production-with-dossier-ids.csv', on_bad_lines='skip', sep=';',\n",
    "                dtype=str, engine=\"c\", keep_default_na=False, encoding=\"utf-8\"),\n",
    "    pd.read_csv('./previous_waves/wave-4/2025-10-03-production-with-dossier-ids.csv', on_bad_lines='skip', sep=';',\n",
    "                dtype=str, engine=\"c\", keep_default_na=False, encoding=\"utf-8\"),\n",
    "    pd.read_csv('./previous_waves/wave-5/2025-10-13-production-with-dossier-ids.csv', on_bad_lines='skip', sep=';',\n",
    "                dtype=str, engine=\"c\", keep_default_na=False, encoding=\"utf-8\"),\n",
    "])\n",
    "\n",
    "df_merged = pd.merge(df_existing, df_previous_waves, how='inner', on='id_psp', suffixes=('_', '_from_dossiers'))\n",
    "# Read from last wave, to refactor later\n",
    "df_all_folders = pd.read_csv('./previous_waves/wave-5/2025-10-13-dossiers-a-traiter.csv', on_bad_lines='skip', sep=',',\n",
    "                             dtype=str, engine=\"c\", keep_default_na=False, encoding=\"utf-8\")\n",
    "df_all_folders.rename(columns={\n",
    "    \"ID\": \"dossier_id\",\n",
    "    \"Le numéro d\\'allocataire CAF\": \"dossier_matricule\",\n",
    "    \"L\\'organisme de gestion de votre allocation\": \"dossier_organisme\"\n",
    "}, inplace=True)"
   ]
  },
  {
   "cell_type": "code",
   "execution_count": null,
   "id": "328cfeccf937df94",
   "metadata": {},
   "outputs": [],
   "source": [
    "df_consolidated_folders = pd.merge(df_merged, df_all_folders, how='inner', on='dossier_id',\n",
    "                                   suffixes=('', '_from_folders'))\n",
    "df_consolidated_folders = df_consolidated_folders[df_consolidated_folders['dossier_organisme'] == 'CAF']\n",
    "df_consolidated_folders['matricule_corrige'] = df_consolidated_folders['dossier_matricule'].str.replace(' ', '').str[\n",
    "    :7].str.zfill(7)"
   ]
  },
  {
   "cell_type": "code",
   "execution_count": null,
   "id": "7181b6903768fac9",
   "metadata": {},
   "outputs": [],
   "source": [
    "# Exclude invalid matricules\n",
    "mask_exclude_invalid_matricules = ~df_consolidated_folders['matricule_corrige'].str.contains(r'\\D')\n",
    "\n",
    "df_consolidated_folders = df_consolidated_folders[mask_exclude_invalid_matricules]\n",
    "df_consolidated_folders[['dossier_id', 'id_psp', 'dossier_matricule', 'matricule_corrige']]"
   ]
  },
  {
   "cell_type": "code",
   "execution_count": null,
   "id": "6b491efe28b8aaee",
   "metadata": {},
   "outputs": [],
   "source": [
    "base_query = \"UPDATE beneficiaires b SET allocataire = JSONB_SET(allocataire::JSONB, '{matricule}', TO_JSONB(:matricule::TEXT), true) WHERE id_psp = :id_psp AND exercice_id = 4;\"\n",
    "output = 'BEGIN;\\n';\n",
    "\n",
    "# Build UPDATE queries\n",
    "for index, folder in df_consolidated_folders.iterrows():\n",
    "    output += base_query.replace(':matricule', f\"'{folder['matricule_corrige']}'\").replace(':id_psp', f\"'{folder['id_psp']}'\")\n",
    "    output += '\\n'\n",
    "\n",
    "output += 'COMMIT;'\n",
    "\n",
    "with open(\"./matricules-to-fix.sql\", \"w\") as f:\n",
    "    f.write(output)"
   ]
  }
 ],
 "metadata": {
  "kernelspec": {
   "display_name": "Python 3",
   "language": "python",
   "name": "python3"
  },
  "language_info": {
   "codemirror_mode": {
    "name": "ipython",
    "version": 2
   },
   "file_extension": ".py",
   "mimetype": "text/x-python",
   "name": "python",
   "nbconvert_exporter": "python",
   "pygments_lexer": "ipython2",
   "version": "2.7.6"
  }
 },
 "nbformat": 4,
 "nbformat_minor": 5
}
