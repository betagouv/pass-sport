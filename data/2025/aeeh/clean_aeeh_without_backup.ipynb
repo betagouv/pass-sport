{
 "cells": [
  {
   "cell_type": "markdown",
   "metadata": {},
   "source": [
    "## Process\n",
    "- Load backup file\n",
    "- Load DS (Demarches Simplifiees) CSV file\n",
    "- Apply eligibility dates\n",
    "  - 01/01/2006 to 31/12/2019 (inclusives)\n",
    "- Clean & Format the rows\n",
    "  - Add the column \"folder_number\" (default to np.NaN)\n",
    "  - Remove duplicate from GRIST AEEH list\n",
    "- Output 1 CSV file with the database format (to be injection ready)\n",
    "- Output 1 CSV file for the support team with the created column and the \"folder_number\""
   ]
  },
  {
   "cell_type": "code",
   "execution_count": null,
   "metadata": {},
   "outputs": [],
   "source": [
    "import csv\n",
    "import os\n",
    "import pandas as pd\n",
    "import json\n",
    "import numpy as np\n",
    "\n",
    "from datetime import datetime, timedelta\n",
    "from dotenv import load_dotenv\n",
    "from utils.data_utils import unaccent_and_upper, format_insee_or_postal_code, get_current_date_for_file_name\n",
    "\n",
    "load_dotenv()\n",
    "\n",
    "ds_input_filepath = os.environ['DEMARCHES_SIMPLIFIEES_PATHFILE_2025']\n",
    "grist_input_filepath = os.environ['GRIST_AEEH_CLEANED_PATHFILE']\n",
    "existing_codes_filepath = os.environ['EXISTING_CODES_PATHFILE_2025']"
   ]
  },
  {
   "cell_type": "code",
   "execution_count": null,
   "metadata": {},
   "outputs": [],
   "source": [
    "db_columns = ['nom', 'prenom', 'date_naissance', 'genre', 'organisme', 'situation', 'allocataire', 'adresse_allocataire', 'created_at', 'updated_at', 'exercice_id', 'uuid_doc', 'zrr', 'qpv', 'a_valider', 'refuser', 'id_psp']\n",
    "\n",
    "db_columns_with_dossier = ['dossier_id', 'nom', 'prenom', 'date_naissance', 'genre', 'organisme', 'situation', 'allocataire', 'adresse_allocataire', 'created_at', 'updated_at', 'exercice_id', 'uuid_doc', 'zrr', 'qpv', 'a_valider', 'refuser', 'id_psp']\n",
    "\n",
    "column_mapping = {\n",
    "  \"ID\" : \"dossier_id\",\n",
    "  \"Email\": \"demandeur_email\",\n",
    "  \"FranceConnect ?\": \"france_connect_a_ete_utilise\",\n",
    "  \"Civilité\": \"qualite\",\n",
    "  \"Nom\": \"demandeur_nom\",\n",
    "  \"Prénom\": \"demandeur_prenom\",\n",
    "  \"Dépôt pour un tiers\": \"depot_pour_un_tiers\",\n",
    "  \"Nom du mandataire\": \"nom_mandataire\",\n",
    "  \"Prénom du mandataire\": \"prenom_mandataire\",\n",
    "  \"À archiver\": \"a_archiver\",\n",
    "  \"État du dossier\": \"etat_dossier\",\n",
    "  \"Dernière mise à jour le\": \"derniere_mise_a_jour\",\n",
    "  \"Dernière mise à jour du dossier le\": \"derniere_mise_a_jour_du_dossier\",\n",
    "  \"Déposé le\": \"depose_le\",\n",
    "  \"Passé en instruction le\": \"passe_en_instruction_le\",\n",
    "  \"Traité le\": \"traite_le\",\n",
    "  \"Motivation de la décision\": \"decision\",\n",
    "  \"Instructeurs\": \"instructeurs\",\n",
    "  \"Percevez-vous l'allocation d'éducation de l'enfant handicapé (AEEH) ?\": \"est_aeeh\",\n",
    "  \"Nom de famille de l'allocataire\": \"allocataire-nom\",\n",
    "  \"Prénom de l'allocataire\": \"allocataire-prenom\",\n",
    "  \"Adresse électronique de l'allocataire\": \"allocataire-courriel\",\n",
    "  \"L'organisme de gestion de votre allocation\": \"organisme\",\n",
    "  \"Adresse de résidence de l'allocataire\": \"adresse_allocataire-voie\",\n",
    "  \"Commune de résidence de l'allocataire\": \"adresse_allocataire-commune\",\n",
    "  \"Commune de résidence de l'allocataire (Code INSEE)\": \"adresse_allocataire-commune_insee\",\n",
    "  \"Commune de résidence de l'allocataire (Département)\": \"adresse_allocataire-departement\",\n",
    "  \"Le numéro d'allocataire CAF\": \"allocataire-matricule\",\n",
    "  \"Genre\": \"genre\",\n",
    "  \"Prénom de l'enfant\": \"prenom\",\n",
    "  \"Nom de famille de l'enfant\": \"nom\",\n",
    "  \"Date de naissance de l'enfant\": \"date_naissance\",\n",
    "  \"Attestation de paiement de l'AEEH, fournie par votre CAF ou MSA\": \"attestation_paiement\",\n",
    "  \"Nouvelle annotation\": \"annotation\"\n",
    "}\n",
    "\n",
    "ds_df = pd.read_csv(ds_input_filepath, on_bad_lines='skip', sep=',', dtype=str, engine=\"c\", keep_default_na=False, encoding=\"utf-8\")\n",
    "ds_df = ds_df.rename(columns=column_mapping)"
   ]
  },
  {
   "cell_type": "code",
   "execution_count": null,
   "metadata": {},
   "outputs": [],
   "source": [
    "ds_df['etat_dossier'] = ds_df['etat_dossier'].replace('En instruction', 'en_instruction')\n",
    "ds_df['adresse_allocataire-code-postal'] = ds_df['adresse_allocataire-commune'].str.extract(r'\\((\\d{5})\\)')\n",
    "ds_df['adresse_allocataire-commune'] = ds_df['adresse_allocataire-commune'].str.extract(r'(.+)\\s\\(\\d{5}\\)')"
   ]
  },
  {
   "cell_type": "code",
   "execution_count": null,
   "metadata": {},
   "outputs": [],
   "source": [
    "mask_caf = ds_df['organisme'] == 'CAF'\n",
    "ds_df.loc[mask_caf, 'allocataire-matricule'] = ds_df.loc[mask_caf, 'allocataire-matricule'].str[:7]\n",
    "mask_matricule = ds_df['allocataire-matricule'].str.len() < 7\n",
    "ds_df.loc[mask_caf & mask_matricule, 'allocataire-matricule'] = ds_df.loc[mask_caf & mask_matricule, 'allocataire-matricule'].str.zfill(7)"
   ]
  },
  {
   "cell_type": "code",
   "execution_count": null,
   "metadata": {},
   "outputs": [],
   "source": [
    "ds_df['allocataire-qualite'] = np.NaN\n",
    "ds_df['situation'] = 'jeune'"
   ]
  },
  {
   "cell_type": "code",
   "execution_count": null,
   "metadata": {},
   "outputs": [],
   "source": [
    "# Format date_naissance to datetime python object for processing\n",
    "ds_df['date_naissance'] = pd.to_datetime(ds_df['date_naissance'], format='%Y-%m-%d')\n",
    "ds_df['prenom'] = ds_df['prenom'].apply(unaccent_and_upper).str.strip()\n",
    "ds_df['nom'] = ds_df['nom'].apply(unaccent_and_upper).str.strip()\n",
    "ds_df['genre'] = ds_df['genre'].replace({\n",
    "    'M.': 'M',\n",
    "    'Mme': 'F'\n",
    "})\n",
    "\n",
    "# add 4h on all birthdates\n",
    "ds_df['date_naissance'] = ds_df['date_naissance'] + timedelta(hours=4)\n",
    "ds_df['date_naissance'] = ds_df['date_naissance'].astype(str)"
   ]
  },
  {
   "cell_type": "code",
   "execution_count": null,
   "metadata": {},
   "outputs": [],
   "source": [
    "grist_df_aeeh = pd.read_csv(grist_input_filepath, sep=';', encoding='utf-8', dtype=str)\n",
    "existing_from_aeeh = pd.merge(ds_df, grist_df_aeeh, how=\"inner\", on=[\"prenom\", \"nom\", \"date_naissance\"])\n",
    "\n",
    "grist_df_aeeh.rename(columns={'id_psp': 'code'}, inplace=True)\n",
    "\n",
    "print(f\"{len(existing_from_aeeh)} duplicated rows found against grist\")"
   ]
  },
  {
   "cell_type": "code",
   "execution_count": null,
   "metadata": {},
   "outputs": [],
   "source": [
    "ds_df = ds_df[~ds_df['dossier_id'].isin(existing_from_aeeh['dossier_id'])]\n",
    "print(f\"{len(ds_df)} total rows after deduplication\")"
   ]
  },
  {
   "cell_type": "code",
   "execution_count": null,
   "metadata": {},
   "outputs": [],
   "source": [
    "ds_df_without_duplicated = ds_df.drop_duplicates(subset=['prenom', 'nom', 'date_naissance'])\n",
    "df_duplicated_folders = ds_df[~ds_df['dossier_id'].isin(ds_df_without_duplicated['dossier_id'])]\n",
    "print(f\"{len(df_duplicated_folders)} duplicated folders found\")"
   ]
  },
  {
   "cell_type": "code",
   "execution_count": null,
   "metadata": {},
   "outputs": [],
   "source": [
    "# 6 to 13 years old\n",
    "mask_6_13_dob_start = pd.to_datetime(ds_df_without_duplicated['date_naissance']).dt.date >= datetime(2012, 1, 1).date()\n",
    "mask_6_13_dob_end = pd.to_datetime(ds_df_without_duplicated['date_naissance']).dt.date <= datetime(2019, 12, 31).date()\n",
    "\n",
    "# 18 to 20 years old\n",
    "mask_18_20_dob_start = pd.to_datetime(ds_df_without_duplicated['date_naissance']).dt.date >= datetime(2005, 1, 1).date()\n",
    "mask_18_20_dob_end = pd.to_datetime(ds_df_without_duplicated['date_naissance']).dt.date <= datetime(2007, 12, 31).date()\n",
    "\n",
    "mask_within_dates = (mask_6_13_dob_start & mask_6_13_dob_end) | (mask_18_20_dob_start & mask_18_20_dob_end)\n",
    "\n",
    "print(f\"{len(ds_df_without_duplicated)} total rows\")\n",
    "\n",
    "ds_df_eligible = ds_df_without_duplicated[mask_within_dates]\n",
    "\n",
    "print(f\"{len(ds_df_eligible)} total rows after applying dates requirements\")\n",
    "\n",
    "# Dossiers not meeting date requirements\n",
    "ds_df_not_eligible = ds_df_without_duplicated[~ds_df_without_duplicated['dossier_id'].isin(ds_df_eligible['dossier_id'])]\n",
    "print(f\"{len(ds_df_not_eligible)} total rows that do not meet dates requirements\")"
   ]
  },
  {
   "cell_type": "code",
   "execution_count": null,
   "metadata": {},
   "outputs": [],
   "source": [
    "# map allocataire json\n",
    "def to_json_allocataire_without_null(row):\n",
    "    allocataire_mapping = {\n",
    "        'qualite': np.NaN,\n",
    "        'nom': unaccent_and_upper(row['allocataire-nom']).strip(),\n",
    "        'prenom': unaccent_and_upper(row['allocataire-prenom']).strip(),\n",
    "        'courriel': row['allocataire-courriel'].lower().strip()\n",
    "    }\n",
    "    if row['allocataire-matricule']:\n",
    "        allocataire_mapping['matricule'] = row['allocataire-matricule']\n",
    "    filtered_NaN_allocataire = {k: v for k, v in allocataire_mapping.items() if pd.notnull(v)}\n",
    "    return json.dumps(filtered_NaN_allocataire, ensure_ascii=False)\n",
    "\n",
    "ds_df_eligible['allocataire'] = ds_df_eligible.apply(to_json_allocataire_without_null, axis=1)"
   ]
  },
  {
   "cell_type": "code",
   "execution_count": null,
   "metadata": {},
   "outputs": [],
   "source": [
    "# map adresse_allocataire json\n",
    "def to_json_adresse_without_null(row):\n",
    "    adresse_mapping = {\n",
    "        'voie': unaccent_and_upper(row['adresse_allocataire-voie'].strip()),\n",
    "        'commune': unaccent_and_upper(row['adresse_allocataire-commune'].strip()),\n",
    "        'code_postal': format_insee_or_postal_code(row['adresse_allocataire-code-postal']),\n",
    "        'code_insee': format_insee_or_postal_code(row['adresse_allocataire-commune_insee'])\n",
    "    }\n",
    "    filtered_address = {k: v for k, v in adresse_mapping.items() if pd.notnull(v)}\n",
    "    return json.dumps(filtered_address, ensure_ascii=False)\n",
    "\n",
    "ds_df_eligible['adresse_allocataire'] = ds_df_eligible.apply(to_json_adresse_without_null, axis=1)"
   ]
  },
  {
   "cell_type": "code",
   "execution_count": null,
   "metadata": {},
   "outputs": [],
   "source": [
    "# Add missing default column needed to backup data\n",
    "# Put a date value for the 2025 data otherwise the merge will not work as intended (the dates from 2024 will replace the non existing dates on data from 2025)\n",
    "timestamp_with_custom_tz = pd.Timestamp.now(tz='Europe/Paris')\n",
    "timestamp_to_identify = timestamp_with_custom_tz.replace(\n",
    "    hour=23,\n",
    "    minute=23,\n",
    "    second=23,\n",
    "    microsecond=23000\n",
    ")\n",
    "\n",
    "exercice_2025 = 4\n",
    "ds_df_eligible.loc[:,['exercice_id']] = exercice_2025\n",
    "ds_df_eligible.loc[:,['id_psp', 'uuid_doc']] = np.NaN\n",
    "ds_df_eligible.loc[:,['zrr', 'qpv', 'a_valider', 'refuser']] = False\n",
    "ds_df_eligible.loc[:,['created_at', 'updated_at']] = timestamp_to_identify\n",
    "ds_df_eligible.loc[:, 'date_naissance'] = ds_df_eligible['date_naissance'].astype(str)"
   ]
  },
  {
   "cell_type": "code",
   "execution_count": null,
   "metadata": {},
   "outputs": [],
   "source": [
    "existing_codes_df = pd.read_csv(existing_codes_filepath, on_bad_lines='skip', sep=',', dtype=str, engine=\"c\", keep_default_na=False, encoding=\"utf-8\")\n",
    "existing_codes_df = pd.concat([existing_codes_df, grist_df_aeeh['code']])"
   ]
  },
  {
   "cell_type": "code",
   "execution_count": null,
   "metadata": {},
   "outputs": [],
   "source": [
    "existing_codes_df.drop_duplicates(subset=['code'], inplace=True)"
   ]
  },
  {
   "cell_type": "code",
   "execution_count": null,
   "metadata": {},
   "outputs": [],
   "source": [
    "# Unique codes generation\n",
    "import random\n",
    "import string\n",
    "import datetime\n",
    "\n",
    "ds_df_eligible = ds_df_eligible.reset_index(drop=True)\n",
    "current_date = datetime.datetime.now()\n",
    "current_year = str(current_date.year)[-2:]\n",
    "\n",
    "def get_characters_set(size = 4):\n",
    "    return ''.join(random.choices([c for c in string.ascii_uppercase if c not in 'OI'], k=size))\n",
    "\n",
    "def generate_code():\n",
    "    return f\"{current_year}-{get_characters_set(4)}-{get_characters_set(4)}\"\n",
    "\n",
    "# init set of codes with existing\n",
    "unique_codes = set(existing_codes_df['code'])\n",
    "\n",
    "# init current_code count\n",
    "current_codes_count = len(unique_codes)\n",
    "\n",
    "while len(unique_codes) < (len(ds_df_eligible) + len(existing_codes_df)):\n",
    "    unique_codes.add(generate_code())"
   ]
  },
  {
   "cell_type": "code",
   "execution_count": null,
   "metadata": {},
   "outputs": [],
   "source": [
    "# Ensure we have generated codes for all the rows\n",
    "assert len(unique_codes) == (len(ds_df_eligible)+len(existing_codes_df))"
   ]
  },
  {
   "cell_type": "code",
   "execution_count": null,
   "metadata": {},
   "outputs": [],
   "source": [
    "new_codes = unique_codes.difference(set(existing_codes_df['code']))\n",
    "assert len(new_codes) == len(ds_df_eligible)\n",
    "len(new_codes)"
   ]
  },
  {
   "cell_type": "code",
   "execution_count": null,
   "metadata": {},
   "outputs": [],
   "source": [
    "# Assign generated code\n",
    "ds_df_eligible['id_psp'] = list(new_codes)"
   ]
  },
  {
   "cell_type": "code",
   "execution_count": null,
   "metadata": {},
   "outputs": [],
   "source": [
    "assert(len(pd.merge(df_duplicated_folders, ds_df_not_eligible, how=\"inner\", on=[\"dossier_id\"])) == 0)"
   ]
  },
  {
   "cell_type": "code",
   "execution_count": null,
   "metadata": {},
   "outputs": [],
   "source": [
    "# output to CSV files folders OK\n",
    "ds_df_eligible[db_columns].to_csv(get_current_date_for_file_name('aeeh.csv'), sep=';', index=False, encoding='utf-8')"
   ]
  },
  {
   "cell_type": "code",
   "execution_count": null,
   "metadata": {},
   "outputs": [],
   "source": [
    "# Output to CSV files folders NOT OK\n",
    "dossiers_columns = ['dossier_id', 'prenom', 'nom', 'date_naissance', 'allocataire-courriel']\n",
    "df_duplicated_folders[dossiers_columns].to_csv(get_current_date_for_file_name('dossiers-a-refuser-doublons.csv'), sep=';', index=False, encoding='utf-8')\n",
    "ds_df_not_eligible[dossiers_columns].to_csv(get_current_date_for_file_name('dossiers-a-refuser-non-eligibles.csv'), sep=';', index=False, encoding='utf-8')\n",
    "ds_df_eligible[dossiers_columns].to_csv(get_current_date_for_file_name('dossiers-a-accepter.csv'), sep=';', index=False, encoding='utf-8')"
   ]
  },
  {
   "cell_type": "code",
   "execution_count": null,
   "metadata": {},
   "outputs": [],
   "source": [
    "print(f\"{len(ds_df_eligible)} total rows after applying dates requirements\")\n",
    "print(f\"{len(ds_df_not_eligible)} total rows that do not meet dates requirements\")\n",
    "print(f\"{len(df_duplicated_folders)} duplicated folders found\")\n",
    "print(f\"{len(ds_df)} initial total rows\")\n",
    "print(f\"{len(ds_df_eligible) + len(ds_df_not_eligible) + len(df_duplicated_folders)} total rows after processing\")"
   ]
  },
  {
   "cell_type": "code",
   "execution_count": null,
   "metadata": {},
   "outputs": [],
   "source": [
    "ds_df['instructeurs'].value_counts()"
   ]
  }
 ],
 "metadata": {
  "kernelspec": {
   "display_name": ".venv",
   "language": "python",
   "name": "python3"
  },
  "language_info": {
   "codemirror_mode": {
    "name": "ipython",
    "version": 3
   },
   "file_extension": ".py",
   "mimetype": "text/x-python",
   "name": "python",
   "nbconvert_exporter": "python",
   "pygments_lexer": "ipython3",
   "version": "3.12.4"
  }
 },
 "nbformat": 4,
 "nbformat_minor": 2
}
