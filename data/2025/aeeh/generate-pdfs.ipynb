{
 "cells": [
  {
   "cell_type": "code",
   "execution_count": null,
   "id": "6fa49eb2fe86a03d",
   "metadata": {
    "ExecuteTime": {
     "end_time": "2025-09-29T14:18:26.260470Z",
     "start_time": "2025-09-29T14:18:26.138490Z"
    }
   },
   "outputs": [],
   "source": [
    "import pandas as pd\n",
    "\n",
    "# Matching against previous injected data\n",
    "df_waves = pd.concat([\n",
    "    pd.read_csv('./previous_waves/wave-1/2025-09-11-production.csv', on_bad_lines='skip', sep=';', dtype=str, engine=\"c\", keep_default_na=False, encoding=\"utf-8\"),\n",
    "    pd.read_csv('./previous_waves/wave-2/2025-09-19-production.csv', on_bad_lines='skip', sep=';', dtype=str, engine=\"c\", keep_default_na=False, encoding=\"utf-8\"),\n",
    "    pd.read_csv('./previous_waves/wave-3/2025-09-26-production.csv', on_bad_lines='skip', sep=';', dtype=str, engine=\"c\", keep_default_na=False, encoding=\"utf-8\"),\n",
    "])"
   ]
  },
  {
   "cell_type": "code",
   "execution_count": null,
   "id": "629c22d9a1afe64a",
   "metadata": {
    "ExecuteTime": {
     "end_time": "2025-09-29T14:18:26.273648Z",
     "start_time": "2025-09-29T14:18:26.264004Z"
    }
   },
   "outputs": [],
   "source": [
    "df_codes_to_generate = pd.read_csv('./codes-to-generate.csv', on_bad_lines='skip', sep=';', dtype=str, engine=\"c\", encoding=\"utf-8\")\n",
    "df_codes_to_generate = df_codes_to_generate.merge(df_waves, how='inner', on='id_psp')"
   ]
  },
  {
   "cell_type": "code",
   "execution_count": null,
   "id": "7fe884421284a586",
   "metadata": {
    "ExecuteTime": {
     "end_time": "2025-09-29T14:18:26.282193Z",
     "start_time": "2025-09-29T14:18:26.280276Z"
    }
   },
   "outputs": [],
   "source": [
    "assert(len(df_codes_to_generate) > 0)"
   ]
  },
  {
   "cell_type": "code",
   "execution_count": null,
   "id": "1054a494739b5cf3",
   "metadata": {
    "ExecuteTime": {
     "end_time": "2025-09-29T14:22:30.133328Z",
     "start_time": "2025-09-29T14:22:25.021481Z"
    }
   },
   "outputs": [],
   "source": [
    "import requests\n",
    "\n",
    "def get_pdf(row):\n",
    "    payload = {\n",
    "        'firstname': row['prenom'],\n",
    "        'lastname': row['nom'],\n",
    "        'dob': '2025-09-09',\n",
    "        'gender': row['genre'],\n",
    "        'code': row['id_psp']\n",
    "    }\n",
    "    response = requests.post(url, data=payload)\n",
    "    filename = f\"code-pass-sport-{row['nom']}-{row['prenom']}.pdf\"\n",
    "\n",
    "    if response.status_code == 200:\n",
    "      output_path = f'./generated-pdfs/{filename}'\n",
    "      with open(output_path, 'wb') as f:\n",
    "        f.write(response.content)\n",
    "      print(f\"✅ Successfully downloaded PDF and saved to: {output_path}\")\n",
    "    else:\n",
    "      print(f\"❌ Failed to download PDF. Status code: {response.status_code}\")\n",
    "      try:\n",
    "        print(f\"Server response text: {response.json()}\")\n",
    "      except requests.exceptions.JSONDecodeError:\n",
    "        print(f\"Server response text: {response.text[:100]}...\") # Print first 100 chars\n",
    "\n",
    "url = 'http://localhost:3000/v2/api/eligibility-test/generate-pdf'\n",
    "df_codes_to_generate.apply(lambda row: get_pdf(row), axis=1)"
   ]
  }
 ],
 "metadata": {
  "kernelspec": {
   "display_name": "Python 3 (ipykernel)",
   "language": "python",
   "name": "python3"
  }
 },
 "nbformat": 4,
 "nbformat_minor": 5
}
