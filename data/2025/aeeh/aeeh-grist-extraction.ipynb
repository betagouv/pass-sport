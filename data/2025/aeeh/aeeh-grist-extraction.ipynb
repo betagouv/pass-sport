{
 "cells": [
  {
   "cell_type": "code",
   "execution_count": null,
   "id": "d72ae386052584d4",
   "metadata": {},
   "outputs": [],
   "source": [
    "import os\n",
    "import pandas as pd\n",
    "import csv\n",
    "from dotenv import load_dotenv\n",
    "from utils.data_utils import unaccent_and_upper, get_current_date_for_file_name\n",
    "\n",
    "load_dotenv()\n",
    "\n",
    "grist_input_filepath = os.environ['AEEH_GRIST_FILEPATH']\n",
    "output_filepath = get_current_date_for_file_name('aeeh-from-grist-cleaned.csv')"
   ]
  },
  {
   "cell_type": "code",
   "execution_count": null,
   "id": "79864312426f4c62",
   "metadata": {},
   "outputs": [],
   "source": [
    "df = pd.read_csv(grist_input_filepath, dtype=str,engine=\"c\", encoding=\"utf-8\")"
   ]
  },
  {
   "cell_type": "code",
   "execution_count": null,
   "id": "6c17e0b3789483f1",
   "metadata": {},
   "outputs": [],
   "source": [
    "df = df.rename(columns={\n",
    "  \"Code pass Sport\": \"id_psp\",\n",
    "  \"Prénom avec lien vers la conversation CRISP\": \"prenom\",\n",
    "  \"Nom\": \"nom\",\n",
    "  \"Date de naissance\": \"date_naissance\",\n",
    "  \"adresse email du demandeur\": \"allocataire-courriel\",\n",
    "})"
   ]
  },
  {
   "cell_type": "code",
   "execution_count": null,
   "id": "60491960fef747a0",
   "metadata": {},
   "outputs": [],
   "source": [
    "# cleaning\n",
    "df['prenom'] = df['prenom'].apply(unaccent_and_upper).str.strip()\n",
    "df['nom'] = df['nom'].apply(unaccent_and_upper).str.strip()\n",
    "df['id_psp'] = df['id_psp'].str.strip()"
   ]
  },
  {
   "cell_type": "code",
   "execution_count": null,
   "id": "26dc7f90febbe0ca",
   "metadata": {},
   "outputs": [],
   "source": [
    "df['date_naissance'] = df['date_naissance'].str.strip()\n",
    "df['date_naissance'] = pd.to_datetime(df['date_naissance'], format='%d/%m/%Y')\n",
    "df['date_naissance'] = (df['date_naissance'] + pd.Timedelta(hours=4)).astype(str)"
   ]
  },
  {
   "cell_type": "code",
   "execution_count": null,
   "id": "109a4ee4b9839cd2",
   "metadata": {},
   "outputs": [],
   "source": [
    "columns = ['id_psp', 'prenom', 'nom', 'date_naissance', 'allocataire-courriel']\n",
    "df[columns].to_csv(output_filepath, sep=';', index=False, encoding='utf-8', quoting=csv.QUOTE_ALL)"
   ]
  }
 ],
 "metadata": {
  "kernelspec": {
   "display_name": "Python 3",
   "language": "python",
   "name": "python3"
  },
  "language_info": {
   "codemirror_mode": {
    "name": "ipython",
    "version": 2
   },
   "file_extension": ".py",
   "mimetype": "text/x-python",
   "name": "python",
   "nbconvert_exporter": "python",
   "pygments_lexer": "ipython2",
   "version": "2.7.6"
  }
 },
 "nbformat": 4,
 "nbformat_minor": 5
}
