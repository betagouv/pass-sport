{
 "cells": [
  {
   "cell_type": "markdown",
   "id": "57e86c5e07e75585",
   "metadata": {},
   "source": [
    "### Deduplication process\n",
    "This notebook is not particularly useful in the sense that everything can be done in the SQL query.\n",
    "The main purpose is to go through the data if some checks are to be performed before injecting.\n",
    "\n",
    "- Reads a CSV file containing the list of duplicated beneficiaries (from SQL query)\n",
    "- Filter out the oldest beneficiaries and only keep the most recent one (field \"rn\" with value 1 is the most up to date beneficiary)\n",
    "- Create CSV file with only the \"id\" that contain the beneficiaries to exclude from the migration"
   ]
  },
  {
   "cell_type": "code",
   "execution_count": null,
   "id": "c41f46303db0b09a",
   "metadata": {
    "ExecuteTime": {
     "end_time": "2025-04-02T09:51:47.850232Z",
     "start_time": "2025-04-02T09:51:47.476607Z"
    }
   },
   "outputs": [],
   "source": [
    "import pandas as pd\n",
    "from dotenv import load_dotenv\n",
    "import os\n",
    "\n",
    "load_dotenv()\n",
    "\n",
    "pathfile_duplicates_benef_2024 = os.environ['DUPLICATES_BENEF_2024_PATHFILE']\n",
    "duplicates_2024_to_exclude_output_pathfile = os.environ['BENEF_2024_DUPLICATES_TO_EXCLUDE_PATHFILE']\n",
    "\n",
    "df_duplicated_elements = pd.read_csv(pathfile_duplicates_benef_2024)"
   ]
  },
  {
   "cell_type": "code",
   "execution_count": null,
   "id": "2c08bc16e6c1a548",
   "metadata": {
    "ExecuteTime": {
     "end_time": "2025-04-02T09:51:47.855986Z",
     "start_time": "2025-04-02T09:51:47.853418Z"
    }
   },
   "outputs": [],
   "source": [
    "filtered_duplicates = df_duplicated_elements[df_duplicated_elements['rn'] >= 1]"
   ]
  },
  {
   "cell_type": "code",
   "execution_count": null,
   "id": "2d1055de71cf4b2d",
   "metadata": {
    "ExecuteTime": {
     "end_time": "2025-04-02T09:51:47.930568Z",
     "start_time": "2025-04-02T09:51:47.927011Z"
    }
   },
   "outputs": [],
   "source": [
    "filtered_duplicates['id'].to_csv(duplicates_2024_to_exclude_output_pathfile, index=False)"
   ]
  }
 ],
 "metadata": {
  "kernelspec": {
   "display_name": "Python 3",
   "language": "python",
   "name": "python3"
  },
  "language_info": {
   "codemirror_mode": {
    "name": "ipython",
    "version": 2
   },
   "file_extension": ".py",
   "mimetype": "text/x-python",
   "name": "python",
   "nbconvert_exporter": "python",
   "pygments_lexer": "ipython2",
   "version": "2.7.6"
  }
 },
 "nbformat": 4,
 "nbformat_minor": 5
}
