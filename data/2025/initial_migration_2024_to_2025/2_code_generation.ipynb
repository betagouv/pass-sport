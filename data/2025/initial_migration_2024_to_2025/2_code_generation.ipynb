{
 "cells": [
  {
   "cell_type": "code",
   "execution_count": null,
   "id": "initial_id",
   "metadata": {},
   "outputs": [],
   "source": [
    "import pandas as pd\n",
    "from dotenv import load_dotenv\n",
    "import os\n",
    "\n",
    "load_dotenv()\n",
    "\n",
    "exercice_id = 4\n",
    "filtered_beneficiaries_pathfile = os.environ['BENEF_2025_RGPD_DUPLICATES_FILTERED_OUTPUT_PATHFILE']\n",
    "output_pathfile = os.environ['BENEF_2025_TO_MIGRATE_OUTPUT_PATHFILE']\n",
    "\n",
    "df_2025 = pd.read_csv(filtered_beneficiaries_pathfile)"
   ]
  },
  {
   "cell_type": "code",
   "execution_count": null,
   "id": "5891d9578740a9fc",
   "metadata": {},
   "outputs": [],
   "source": [
    "import random\n",
    "import string\n",
    "import datetime\n",
    "\n",
    "# Code generation\n",
    "current_date = datetime.datetime.now()\n",
    "current_year = str(current_date.year)[-2:]\n",
    "\n",
    "def get_characters_set(size = 4):\n",
    "    return ''.join(random.choices([c for c in string.ascii_uppercase if c not in 'OI'], k=size))\n",
    "\n",
    "def generate_code():\n",
    "    return f\"{current_year}-{get_characters_set(4)}-{get_characters_set(4)}\"\n",
    "\n",
    "def generate_unique_codes(n):\n",
    "    unique_codes = set()\n",
    "    while len(unique_codes) < n:\n",
    "        code = generate_code()\n",
    "        unique_codes.add(code)\n",
    "    return list(unique_codes)\n",
    "\n",
    "codes = generate_unique_codes(len(df_2025.index))"
   ]
  },
  {
   "cell_type": "code",
   "execution_count": null,
   "id": "9138ab9e0de982b5",
   "metadata": {},
   "outputs": [],
   "source": [
    "assert(len(codes) == len(df_2025))"
   ]
  },
  {
   "cell_type": "code",
   "execution_count": null,
   "id": "dedb71ce7443fe6c",
   "metadata": {},
   "outputs": [],
   "source": [
    "import numpy as np\n",
    "\n",
    "# Drop the codes from previous year and primary keys\n",
    "df_2025.drop(columns=['id', 'allocataire-courriel'], inplace=True)\n",
    "\n",
    "# Assign the new codes\n",
    "df_2025['id_psp'] = codes"
   ]
  },
  {
   "cell_type": "code",
   "execution_count": null,
   "id": "9e0f994cdf5679d1",
   "metadata": {},
   "outputs": [],
   "source": [
    "# Default fields\n",
    "now = pd.Timestamp.now(tz='Europe/Paris')\n",
    "\n",
    "# We do not update the updated_at to keep track benef updates from sources coming from data providers during the current year (2025)\n",
    "df_2025[\"created_at\"] = now\n",
    "df_2025['exercice_id'] = exercice_id\n",
    "df_2025['uuid_doc'] = np.NaN"
   ]
  },
  {
   "cell_type": "code",
   "execution_count": null,
   "id": "3ac71eee2fafbadc",
   "metadata": {},
   "outputs": [],
   "source": [
    "assert(len(df_2025[df_2025['id_psp'].isna()]) == 0)"
   ]
  },
  {
   "cell_type": "code",
   "execution_count": null,
   "id": "fcdb5a4e0c26769e",
   "metadata": {},
   "outputs": [],
   "source": [
    "df_2025.to_csv(output_pathfile, index=False)"
   ]
  }
 ],
 "metadata": {
  "kernelspec": {
   "display_name": "Python 3",
   "language": "python",
   "name": "python3"
  },
  "language_info": {
   "codemirror_mode": {
    "name": "ipython",
    "version": 2
   },
   "file_extension": ".py",
   "mimetype": "text/x-python",
   "name": "python",
   "nbconvert_exporter": "python",
   "pygments_lexer": "ipython2",
   "version": "2.7.6"
  }
 },
 "nbformat": 4,
 "nbformat_minor": 5
}
