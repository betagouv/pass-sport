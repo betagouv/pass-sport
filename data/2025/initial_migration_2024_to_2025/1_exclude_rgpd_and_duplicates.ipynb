{
 "cells": [
  {
   "cell_type": "markdown",
   "id": "f7e7f1fd8f1fefd3",
   "metadata": {},
   "source": [
    "### RGPD exclusion process\n",
    "- Take the 2024 beneficiaries data into a dataframe\n",
    "- Exclude from this 2024 beneficiaries dataframe the people that are inside\n",
    "  - The list of codes to exclude\n",
    "  - The list of emails to exclude\n",
    "- Create a CSV file with the excluded rgpd lists"
   ]
  },
  {
   "cell_type": "code",
   "execution_count": null,
   "id": "initial_id",
   "metadata": {
    "ExecuteTime": {
     "end_time": "2025-04-02T09:52:19.579406Z",
     "start_time": "2025-04-02T09:51:52.187561Z"
    }
   },
   "outputs": [],
   "source": [
    "import pandas as pd\n",
    "from dotenv import load_dotenv\n",
    "import os\n",
    "\n",
    "load_dotenv()\n",
    "\n",
    "pathfile_beneficiaries_2024 = os.environ['BENEF_2024_PATHFILE']\n",
    "pathfile_duplicates_to_exclude_benef_2024= os.environ['BENEF_2024_DUPLICATES_TO_EXCLUDE_PATHFILE']\n",
    "pathfile_rgpd_emails_to_exclude =  os.environ['RGPD_EMAILS_TO_EXCLUDE_PATHFILE']\n",
    "pathfile_rgpd_codes_to_exclude =  os.environ['RGPD_CODES_TO_EXCLUDE_PATHFILE']\n",
    "\n",
    "output_pathfile_filtered_beneficiaries = os.environ['BENEF_2025_RGPD_DUPLICATES_FILTERED_OUTPUT_PATHFILE']\n",
    "\n",
    "df_2024 = pd.read_csv(pathfile_beneficiaries_2024)\n",
    "df_rgpd_emails_to_exclude = pd.read_csv(pathfile_rgpd_emails_to_exclude)\n",
    "df_rgpd_codes_to_exclude = pd.read_csv(pathfile_rgpd_codes_to_exclude)\n",
    "df_duplicates = pd.read_csv(pathfile_duplicates_to_exclude_benef_2024)"
   ]
  },
  {
   "cell_type": "code",
   "execution_count": null,
   "id": "83821596afb73a13",
   "metadata": {
    "ExecuteTime": {
     "end_time": "2025-04-02T09:52:45.958138Z",
     "start_time": "2025-04-02T09:52:19.644928Z"
    }
   },
   "outputs": [],
   "source": [
    "import json\n",
    "\n",
    "# Extract emails from json\n",
    "df_json_allocataire = pd.json_normalize(df_2024['allocataire'].apply(json.loads)).add_prefix('allocataire-')\n",
    "df_2024_unwrapped = pd.merge(df_2024, df_json_allocataire['allocataire-courriel'], left_index=True, right_index=True)"
   ]
  },
  {
   "cell_type": "code",
   "execution_count": null,
   "id": "103482151ab12930",
   "metadata": {
    "ExecuteTime": {
     "end_time": "2025-04-02T09:52:46.853715Z",
     "start_time": "2025-04-02T09:52:45.973175Z"
    }
   },
   "outputs": [],
   "source": [
    "emails_to_exclude_mask = ~df_2024_unwrapped['allocataire-courriel'].isin(df_rgpd_emails_to_exclude['email'])\n",
    "codes_to_exclude_mask = ~df_2024_unwrapped['id_psp'].isin(df_rgpd_codes_to_exclude['id_psp'])\n",
    "duplicate_mask = ~df_2024_unwrapped['id'].isin(df_duplicates['id'])"
   ]
  },
  {
   "cell_type": "code",
   "execution_count": null,
   "id": "b0ee205d62ea45b5",
   "metadata": {
    "ExecuteTime": {
     "end_time": "2025-04-02T09:52:47.763144Z",
     "start_time": "2025-04-02T09:52:46.862908Z"
    }
   },
   "outputs": [],
   "source": [
    "df_with_excluded_data_2024 = df_2024_unwrapped[emails_to_exclude_mask & codes_to_exclude_mask & duplicate_mask]"
   ]
  },
  {
   "cell_type": "code",
   "execution_count": null,
   "id": "84fd874eb0b904c2",
   "metadata": {
    "ExecuteTime": {
     "end_time": "2025-04-02T09:52:47.775351Z",
     "start_time": "2025-04-02T09:52:47.773537Z"
    }
   },
   "outputs": [],
   "source": [
    "assert(len(df_2024_unwrapped) > len(df_with_excluded_data_2024))"
   ]
  },
  {
   "cell_type": "code",
   "execution_count": null,
   "id": "42aa346baea8f88c",
   "metadata": {
    "ExecuteTime": {
     "end_time": "2025-04-02T09:53:32.421737Z",
     "start_time": "2025-04-02T09:52:47.785016Z"
    }
   },
   "outputs": [],
   "source": [
    "df_with_excluded_data_2024.to_csv(output_pathfile_filtered_beneficiaries, index=False)"
   ]
  }
 ],
 "metadata": {
  "kernelspec": {
   "display_name": "Python 3",
   "language": "python",
   "name": "python3"
  },
  "language_info": {
   "codemirror_mode": {
    "name": "ipython",
    "version": 2
   },
   "file_extension": ".py",
   "mimetype": "text/x-python",
   "name": "python",
   "nbconvert_exporter": "python",
   "pygments_lexer": "ipython2",
   "version": "2.7.6"
  }
 },
 "nbformat": 4,
 "nbformat_minor": 5
}
