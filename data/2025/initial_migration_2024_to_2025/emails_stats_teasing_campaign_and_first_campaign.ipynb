{
 "cells": [
  {
   "cell_type": "markdown",
   "id": "91afb05a51ac5334",
   "metadata": {},
   "source": [
    "# Summary\n",
    "Notebook to get numbers related to the future teasing campaign (mid-may 2025) and first email campaign (june 2025)\n",
    "It prints the following :\n",
    "- The number of families with one children\n",
    "- The number of families with more than one children\n",
    "- The number of beneficiaries AAH (direct, benef equal to the allocataire)\n",
    "- The number of beneficiaries AAH (indirect, benef different than the allocataire)\n",
    "- The number of direct beneficiaries (All families and AAH included)\n",
    "- The number of indirect beneficiaries (All families and AAH included)"
   ]
  },
  {
   "cell_type": "code",
   "execution_count": null,
   "id": "357fa8adb1a5d21f",
   "metadata": {},
   "outputs": [],
   "source": [
    "\n",
    "import pandas as pd\n",
    "from dotenv import load_dotenv\n",
    "import os\n",
    "\n",
    "load_dotenv()\n",
    "\n",
    "pathfile_campaign_csv_output_b = os.environ['CAMPAIGN_CSV_OUTPUT_B']\n",
    "pathfile_campaign_csv_output_b_and_a = os.environ['CAMPAIGN_CSV_OUTPUT_B_AND_A']\n",
    "\n",
    "df_alloc_eq_benef = pd.read_csv(pathfile_campaign_csv_output_b)\n",
    "df_alloc_diff_benef = pd.read_csv(pathfile_campaign_csv_output_b_and_a)"
   ]
  },
  {
   "cell_type": "code",
   "execution_count": null,
   "id": "202f0c005a8feb8",
   "metadata": {},
   "outputs": [],
   "source": [
    "df_total = pd.concat([df_alloc_eq_benef, df_alloc_diff_benef])"
   ]
  },
  {
   "cell_type": "code",
   "execution_count": null,
   "id": "b69fcc12e69e0f76",
   "metadata": {},
   "outputs": [],
   "source": [
    "# Remove persons with no emails\n",
    "df_alloc_eq_benef_email_only = df_alloc_eq_benef[~df_alloc_eq_benef['email'].isna()]\n",
    "df_alloc_diff_benef_email_only = df_alloc_diff_benef[~df_alloc_diff_benef['email'].isna()]"
   ]
  },
  {
   "cell_type": "code",
   "execution_count": null,
   "id": "64988e1ace84d7ed",
   "metadata": {},
   "outputs": [],
   "source": [
    "# Group families and exclude AAH from them\n",
    "grouped = pd.concat([\n",
    "    df_alloc_eq_benef_email_only[df_alloc_eq_benef_email_only['situation'] != 'AAH'],\n",
    "    df_alloc_diff_benef_email_only[df_alloc_diff_benef_email_only['situation'] != 'AAH']]\n",
    ").groupby(['email']).size().reset_index(name='count')"
   ]
  },
  {
   "cell_type": "code",
   "execution_count": null,
   "id": "ff43a730c1eb9aaf",
   "metadata": {},
   "outputs": [],
   "source": [
    "family_of_one = grouped[grouped['count'] == 1].shape[0]\n",
    "family_of_more_than_one = grouped[grouped['count'] > 1].shape[0]\n",
    "direct_aah = df_alloc_eq_benef_email_only[df_alloc_eq_benef_email_only['situation'] == 'AAH']\n",
    "indirect_aah = df_alloc_diff_benef_email_only[df_alloc_diff_benef_email_only['situation'] == 'AAH']"
   ]
  },
  {
   "cell_type": "code",
   "execution_count": null,
   "id": "371960d722831932",
   "metadata": {},
   "outputs": [],
   "source": [
    "print(f\"{family_of_one} families with only one children\")\n",
    "print(f\"{family_of_more_than_one} families with more than one children\")\n",
    "print(f\"{family_of_one + family_of_more_than_one} families\")\n",
    "\n",
    "print(f\"{len(direct_aah)} direct aah\")\n",
    "print(f\"{len(indirect_aah)} indirect aah\")\n",
    "\n",
    "print(f\"{len(df_alloc_eq_benef_email_only)} direct beneficiaries\")\n",
    "print(f\"{len(df_alloc_diff_benef_email_only)} indirect beneficiaries\")\n",
    "\n",
    "print(f\"Total direct + indirect : {len(df_alloc_eq_benef_email_only) + len(df_alloc_diff_benef_email_only)}\")\n",
    "print(f\"Total : {family_of_one + family_of_more_than_one + len(direct_aah) + len(indirect_aah)}\")\n",
    "print(f\"Original total: {len(df_total)}\")"
   ]
  }
 ],
 "metadata": {
  "kernelspec": {
   "display_name": "Python 3",
   "language": "python",
   "name": "python3"
  },
  "language_info": {
   "codemirror_mode": {
    "name": "ipython",
    "version": 2
   },
   "file_extension": ".py",
   "mimetype": "text/x-python",
   "name": "python",
   "nbconvert_exporter": "python",
   "pygments_lexer": "ipython2",
   "version": "2.7.6"
  }
 },
 "nbformat": 4,
 "nbformat_minor": 5
}
