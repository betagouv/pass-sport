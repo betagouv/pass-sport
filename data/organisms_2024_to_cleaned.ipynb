{
 "cells": [
  {
   "cell_type": "code",
   "execution_count": null,
   "metadata": {},
   "outputs": [],
   "source": [
    "import csv\n",
    "import os\n",
    "from dotenv import load_dotenv\n",
    "import pandas as pd\n",
    "\n",
    "load_dotenv()\n",
    "\n",
    "cnous_filepath = os.environ['CNOUS_PATHFILE']\n",
    "msa_filepath = os.environ['MSA_PATHFILE']\n",
    "cnaf_filepath = os.environ['CNAF_PATHFILE']"
   ]
  },
  {
   "cell_type": "code",
   "execution_count": null,
   "metadata": {},
   "outputs": [],
   "source": [
    "cnous_df = pd.read_csv(cnous_filepath, nrows=5000, encoding='iso-8859-1', on_bad_lines='skip', sep=',')"
   ]
  },
  {
   "cell_type": "code",
   "execution_count": null,
   "metadata": {},
   "outputs": [],
   "source": [
    "msa_df = pd.read_csv(msa_filepath, nrows=5000, encoding='utf-8', on_bad_lines='skip', sep=';', quoting=csv.QUOTE_NONE)"
   ]
  },
  {
   "cell_type": "code",
   "execution_count": null,
   "metadata": {},
   "outputs": [],
   "source": [
    "cnaf_df = pd.read_csv(cnaf_filepath, nrows=5000, encoding='iso-8859-1', on_bad_lines='skip', sep=';', quoting=csv.QUOTE_NONE)"
   ]
  },
  {
   "cell_type": "markdown",
   "metadata": {},
   "source": [
    "## Mapping des données MSA"
   ]
  },
  {
   "cell_type": "code",
   "execution_count": null,
   "metadata": {},
   "outputs": [],
   "source": [
    "msa_column_mapping = {\n",
    "    'numero_allocataire': 'allocataire-matricule',\n",
    "    'organisme': 'allocataire-code_organisme',\n",
    "    'qualite_allocataire': 'allocataire-qualite',\n",
    "    'nom_allocataire': 'allocataire-nom',\n",
    "    'prenom_allocataire': 'allocataire-prenom',\n",
    "    'commune_de_naissance': 'allocataire-commune_naissance',\n",
    "    'code_insee_commune_alloc':'allocataire-code_insee_commune_naissance',\n",
    "    'pays_de_naissance': 'allocataire-pays_naissance',\n",
    "    'code_iso_pays': 'allocataire-code_iso_pays_naissance',\n",
    "    'date_de_naissance_alloc': 'allocataire-date_naissance',\n",
    "    'adresse_de_messagerie': 'allocataire-courriel',\n",
    "    'numero_tel_portable': 'allocataire-telephone',\n",
    "    'complement_adresse' :'adresse-allocataire-cplt_adresse',\n",
    "    'nom_commune': 'adresse-allocataire-commune',\n",
    "    'code_postal': 'adresse-allocataire-code_postal',\n",
    "    'code_insee_commune': 'adresse-allocataire-code_insee',\n",
    "    'nom_beneficiaire': 'nom',\n",
    "    'prenom_beneficiaire': 'prenom',\n",
    "    'genre_beneficiaire': 'sexe',\n",
    "    'date_de_naissance_beneficiaire': 'date_naissance'\n",
    "}\n",
    "\n",
    "df_psp_mapped_msa = msa_df.copy()\n",
    "df_psp_mapped_msa = df_psp_mapped_msa.rename(columns=msa_column_mapping) \n",
    "\n",
    "# situation\n",
    "df_psp_mapped_msa['situation'] = 'Jeune'\n",
    "condition_1 = df_psp_mapped_msa['allocataire-nom'] == df_psp_mapped_msa['nom'] \n",
    "condition_2 = df_psp_mapped_msa['allocataire-prenom'] == df_psp_mapped_msa['prenom']\n",
    "df_psp_mapped_msa.loc[condition_1 & condition_2, 'situation'] =  'AAH'\n",
    "\n",
    "# organisme\n",
    "df_psp_mapped_msa['organisme'] = 'MSA'\n",
    "\n",
    "# nom adresse postale de l'allocataire\n",
    "df_psp_mapped_msa['adresse-allocataire-nom_adresse_postale'] = msa_df['qualite_destinataire'] + ' ' + msa_df['nom_destinataire'] + ' ' + msa_df['prenom_destinataire']\n",
    "\n",
    "# voie de l'adresse postale de l'allocataire\n",
    "df_psp_mapped_msa['adresse-allocataire-voie'] = msa_df['numero_voie'] + ' ' + msa_df['complement_numero_voie'] + ' ' + msa_df['type_voie'] + msa_df['voie']\n",
    "\n",
    "# sexe\n",
    "df_psp_mapped_msa['sexe'] = df_psp_mapped_msa['sexe'].replace('1', 'M')\n",
    "df_psp_mapped_msa['sexe'] = df_psp_mapped_msa['sexe'].replace('2', 'F')\n",
    "\n",
    "# qualite allocataire\n",
    "df_psp_mapped_msa['allocataire-qualite'] = df_psp_mapped_msa['allocataire-qualite'].replace('MME', 'Mme')\n",
    "df_psp_mapped_msa['allocataire-qualite'] = df_psp_mapped_msa['allocataire-qualite'].replace('MR', 'M')\n",
    "\n",
    "# code commune de naissance de l'allocataire\n",
    "df_psp_mapped_msa['allocataire-code_insee_commune_naissance'] = df_psp_mapped_msa['allocataire-code_insee_commune_naissance'].replace('0', None)\n",
    "\n",
    "# date de naissance allocataire\n",
    "df_psp_mapped_msa['allocataire-date_naissance'] = df_psp_mapped_msa['allocataire-date_naissance'].replace(0, None)\n",
    "df_psp_mapped_msa['allocataire-date_naissance'] = pd.to_datetime(df_psp_mapped_msa['allocataire-date_naissance'], format='%Y%m%d')\n",
    "df_psp_mapped_msa['allocataire-date_naissance'] = df_psp_mapped_msa['allocataire-date_naissance'].dt.strftime('%d/%m/%Y')\n",
    "\n",
    "# date de naissance bénéficiaire\n",
    "df_psp_mapped_msa['date_naissance'] = pd.to_datetime(df_psp_mapped_msa['date_naissance'], format='%Y%m%d')\n",
    "df_psp_mapped_msa['date_naissance'] = df_psp_mapped_msa['date_naissance'].dt.strftime('%d/%m/%Y')"
   ]
  },
  {
   "cell_type": "markdown",
   "metadata": {},
   "source": [
    "## Mapping des données CNAF"
   ]
  },
  {
   "cell_type": "code",
   "execution_count": null,
   "metadata": {},
   "outputs": [],
   "source": [
    "cnaf_column_mapping = {\n",
    "    'numorg': 'allocataire-code_organisme',\n",
    "    'matricul': 'allocataire-matricule',\n",
    "    'qualite': 'allocataire-qualite',\n",
    "    'nom': 'allocataire-nom',\n",
    "    'prenom': 'allocataire-prenom',\n",
    "    'dt_naissance': 'allocataire-date_naissance',\n",
    "    'adresse': 'adresse_allocataire-voie',\n",
    "    'code_postal': 'adresse_allocataire-code_postal',\n",
    "    'commune': 'adresse_allocataire-commune',\n",
    "    'code_insee': 'adresse_allocataire-code_insee',\n",
    "    'mail': 'allocataire-courriel',\n",
    "    'tel': 'allocataire-telephone',\n",
    "    'dt_naissance_eligible': 'date_naissance',\n",
    "    'nom_eligible': 'nom',\n",
    "    'prenom_eligible': 'prenom',\n",
    "    'sexe_eligible': 'genre',\n",
    "    'prestation': 'situation organisme'  # Note: Multiple columns mapped to one field\n",
    "}\n",
    "\n",
    "df_psp_mapped_cnaf = cnaf_df.copy()\n",
    "df_psp_mapped_cnaf = df_psp_mapped_cnaf.rename(columns=cnaf_column_mapping) \n",
    "\n",
    "# qualité allocataire\n",
    "df_psp_mapped_cnaf['allocataire-qualite'] = df_psp_mapped_cnaf['allocataire-qualite'].replace('Madame', 'Mme')\n",
    "df_psp_mapped_cnaf['allocataire-qualite'] = df_psp_mapped_cnaf['allocataire-qualite'].replace('Monsieur', 'M')\n",
    "\n",
    "# voie de l'adresse postale de l'allocataire\n",
    "df_psp_mapped_cnaf['adresse_allocataire-cplt'] = cnaf_df['compl_adresse1'] + ' ' + cnaf_df['compl_adresse2'] + ' ' + cnaf_df['compl_adresse3']\n",
    "\n",
    "# organisme\n",
    "df_psp_mapped_cnaf['organisme'] = 'CAF'\n",
    "\n",
    "# sexe\n",
    "df_psp_mapped_cnaf['genre'] = df_psp_mapped_cnaf['genre'].replace('Masculin', 'M')\n",
    "df_psp_mapped_cnaf['genre'] = df_psp_mapped_cnaf['genre'].replace('Féminin', 'F')\n",
    "\n",
    "# situation\n",
    "df_psp_mapped_cnaf['situation'] = 'Jeune'\n",
    "condition_1 = df_psp_mapped_cnaf['allocataire-nom'] == df_psp_mapped_cnaf['nom'] \n",
    "condition_2 = df_psp_mapped_cnaf['allocataire-prenom'] == df_psp_mapped_cnaf['prenom']\n",
    "df_psp_mapped_cnaf.loc[condition_1 & condition_2, 'situation'] =  'AAH'\n",
    "\n"
   ]
  },
  {
   "cell_type": "markdown",
   "metadata": {},
   "source": [
    "## Mapping des données CNOUS"
   ]
  },
  {
   "cell_type": "code",
   "execution_count": null,
   "metadata": {},
   "outputs": [],
   "source": [
    "# TODO\n",
    "cnous_column_mapping = {\n",
    "    'ine': 'allocataire.matricule',\n",
    "    'nom': 'nom allocataire.nom',\n",
    "    'prenom': 'prenom allocataire.prenom',\n",
    "    'dateNaissance': 'date_naissance',\n",
    "    'civiliteLibelleCourt': 'genre allocataire.qualite',\n",
    "    'lieuNaissCodeCommuneInsee': 'allocataire.code_insee_commune_naissance',\n",
    "    'lieuNaissLibelleCommune': 'allocataire.commune_naissance',\n",
    "    'lieuNaissCodePays': 'allocataire.code_iso_pays_naissance',\n",
    "    'lieuNaissLibellePays': 'allocataire.pays_naissance',\n",
    "    'mail': 'allocataire.courriel',\n",
    "    'adresseVoie': 'adresse_allocataire.voie',\n",
    "    'adresseComplement1': 'adresse_allocataire.cplt_adresse',\n",
    "    'adresseComplement2': '',\n",
    "    'adresseLocalite': 'adresse_allocataire.commune',\n",
    "    'adresseCodePostal': 'adresse_allocataire.code_postal',\n",
    "    'adresseCodePays': '-',\n",
    "    'adresseCodeLocalite': 'adresse_allocataire.code_insee',\n",
    "    '-': 'situation'\n",
    "}\n",
    "\n",
    "\n",
    "df_psp_mapped_cnous = cnous_df.copy()\n",
    "df_psp_mapped_cnous = df_psp_mapped_cnous.rename(columns=cnous_column_mapping) \n",
    "\n",
    "# organisme\n",
    "df_psp_mapped_cnous['organisme'] = 'cnous'\n"
   ]
  },
  {
   "cell_type": "markdown",
   "metadata": {},
   "source": [
    "# Merge dans un seul dataframe cible pour BDD Postgresql"
   ]
  },
  {
   "cell_type": "code",
   "execution_count": null,
   "metadata": {},
   "outputs": [],
   "source": [
    "df_all = pd.concat([df_psp_mapped_cnaf, df_psp_mapped_cnous, df_psp_mapped_msa], axis=0, ignore_index=True)"
   ]
  },
  {
   "cell_type": "code",
   "execution_count": null,
   "metadata": {},
   "outputs": [],
   "source": [
    "df_all['date_naissance'] = pd.to_datetime(df_all['date_naissance'], format='%d/%m/%Y')\n"
   ]
  },
  {
   "cell_type": "markdown",
   "metadata": {},
   "source": [
    "# Application des critères d'éligibilité"
   ]
  },
  {
   "cell_type": "code",
   "execution_count": null,
   "metadata": {},
   "outputs": [],
   "source": [
    "from datetime import datetime\n",
    "\n",
    "# ARS\n",
    "\n",
    "start_date = datetime(2006, 9, 16).date()\n",
    "end_date = datetime(2018, 12, 31).date()\n",
    "\n",
    "ars_situation_mask = ((df_all['organisme'] == 'CAF') | (df_all['organisme'] == 'MSA')) & (df_all['date_naissance'].dt.date >= start_date) & (df_all['date_naissance'].dt.date <= end_date) & (df_all['situation'] == 'Jeune')\n",
    "df_all_filtered_ars = df_all[ars_situation_mask]"
   ]
  },
  {
   "cell_type": "code",
   "execution_count": null,
   "metadata": {},
   "outputs": [],
   "source": [
    "# AEEH\n",
    "\n",
    "start_date = datetime(2004, 6, 1).date()\n",
    "end_date = datetime(2018, 12, 31).date()\n",
    "\n",
    "aeeh_situation_mask = ((df_all['organisme'] == 'CAF') | (df_all['organisme'] == 'MSA')) & (df_all['date_naissance'].dt.date >= start_date) & (df_all['date_naissance'].dt.date <= end_date) & (df_all['situation'] == 'Jeune')\n",
    "df_all_filtered_aeeh = df_all[aeeh_situation_mask]"
   ]
  },
  {
   "cell_type": "code",
   "execution_count": null,
   "metadata": {},
   "outputs": [],
   "source": [
    "# AAH\n",
    "\n",
    "start_date = datetime(1993, 9, 16).date()\n",
    "end_date = datetime(2008, 12, 31).date()\n",
    "\n",
    "aah_situation_mask = ((df_all['organisme'] == 'CAF') | (df_all['organisme'] == 'MSA')) & (df_all['date_naissance'].dt.date >= start_date) & (df_all['date_naissance'].dt.date <= end_date) & (df_all['situation'] == 'AAH')\n",
    "df_all_filtered_aah = df_all[aah_situation_mask]"
   ]
  },
  {
   "cell_type": "code",
   "execution_count": null,
   "metadata": {},
   "outputs": [],
   "source": [
    "# CNOUS\n",
    "\n",
    "from datetime import timedelta\n",
    "\n",
    "end_date = pd.to_datetime('today').date()\n",
    "start_date = end_date - timedelta(days=28*365)\n",
    "\n",
    "cnous_situation_mask = (df_all['organisme'] == 'cnous') & (df_all['date_naissance'].dt.date >= start_date) & (df_all['date_naissance'].dt.date <= end_date)\n",
    "df_all_filtered_cnous = df_all[cnous_situation_mask]"
   ]
  }
 ],
 "metadata": {
  "kernelspec": {
   "display_name": ".venv",
   "language": "python",
   "name": "python3"
  },
  "language_info": {
   "codemirror_mode": {
    "name": "ipython",
    "version": 3
   },
   "file_extension": ".py",
   "mimetype": "text/x-python",
   "name": "python",
   "nbconvert_exporter": "python",
   "pygments_lexer": "ipython3",
   "version": "3.10.12"
  }
 },
 "nbformat": 4,
 "nbformat_minor": 2
}
