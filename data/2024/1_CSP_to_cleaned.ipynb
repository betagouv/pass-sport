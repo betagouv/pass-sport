{
 "cells": [
  {
   "cell_type": "code",
   "execution_count": null,
   "metadata": {},
   "outputs": [],
   "source": [
    "import csv\n",
    "import os\n",
    "from dotenv import load_dotenv\n",
    "import pandas as pd\n",
    "import json\n",
    "from datetime import datetime\n",
    "import numpy as np\n",
    "\n",
    "load_dotenv()\n",
    "\n",
    "csp_filepath = os.environ['CSP_PATHFILE']\n",
    "base_output_filepath = os.environ['DB_EXPORT']\n",
    "new_generated_codes_filepath = os.environ['NEW_ID_PSP']\n"
   ]
  },
  {
   "cell_type": "code",
   "execution_count": null,
   "metadata": {},
   "outputs": [],
   "source": [
    "csp_column_type = {\n",
    "    'adresse-allocataire_voie': 'str',\n",
    "    'adresse-allocataire_code_insee': 'str'\n",
    "}\n"
   ]
  },
  {
   "cell_type": "code",
   "execution_count": null,
   "metadata": {},
   "outputs": [],
   "source": [
    "csp_df = pd.read_csv(csp_filepath, on_bad_lines='skip', sep=',', engine=\"c\", dtype=csp_column_type)"
   ]
  },
  {
   "cell_type": "code",
   "execution_count": null,
   "metadata": {},
   "outputs": [],
   "source": [
    "new_generated_codes = pd.read_csv(new_generated_codes_filepath, on_bad_lines='skip', sep=',', engine=\"c\")"
   ]
  },
  {
   "cell_type": "code",
   "execution_count": null,
   "metadata": {},
   "outputs": [],
   "source": [
    "df_final_with_new_code = csp_df.reset_index(drop=True).combine_first(new_generated_codes.reset_index(drop=True))"
   ]
  },
  {
   "cell_type": "code",
   "execution_count": null,
   "metadata": {},
   "outputs": [],
   "source": [
    "df_final_with_new_code['allocataire-telephone'] = df_final_with_new_code['allocataire-telephone'].str.replace(' ', '')"
   ]
  },
  {
   "cell_type": "code",
   "execution_count": null,
   "metadata": {},
   "outputs": [],
   "source": [
    "# assign code_orgnisme for csp\n",
    "df_final_with_new_code['allocataire-code_organisme'] = '459'\n",
    "df_final_with_new_code['organisme'] = 'MSA'"
   ]
  },
  {
   "cell_type": "code",
   "execution_count": null,
   "metadata": {},
   "outputs": [],
   "source": [
    "df_final_with_new_code['adresse-allocataire_code_insee'] = df_final_with_new_code['adresse-allocataire_code_insee'].astype(str)"
   ]
  },
  {
   "cell_type": "code",
   "execution_count": null,
   "metadata": {},
   "outputs": [],
   "source": [
    "# map to json values for target DB model\n",
    "## map allocataire json\n",
    "def to_json_allocataire_without_null(row):\n",
    "    allocataire_mapping = {\n",
    "        'qualite': row['allocataire-qualite'],\n",
    "        'matricule': row['allocataire-matricule'],\n",
    "        'code_organisme': row['allocataire-code_organisme'],\n",
    "        'telephone': row['allocataire-telephone'],\n",
    "        'nom': row['allocataire-nom'],\n",
    "        'prenom': row['allocataire-prenom'],\n",
    "        'date_naissance': row['allocataire-date_naissance'],\n",
    "        'courriel': row['allocataire-courriel'],\n",
    "        'code_insee_commune_naissance': row['allocataire-code_insee_commune_naissance'],\n",
    "        'commune_naissance': row['allocataire-commune_naissance'],\n",
    "        'code_iso_pays_naissance': row['allocataire-code_iso_pays_naissance'],\n",
    "    }\n",
    "    filtered_NaN_allocataire = {k: v for k, v in allocataire_mapping.items() if pd.notnull(v)}\n",
    "    return json.dumps(filtered_NaN_allocataire, ensure_ascii=False)\n",
    "\n",
    "df_final_with_new_code['allocataire'] = df_final_with_new_code.apply(to_json_allocataire_without_null, axis=1)"
   ]
  },
  {
   "cell_type": "code",
   "execution_count": null,
   "metadata": {},
   "outputs": [],
   "source": [
    "## map adresse_allocataire json\n",
    "def to_json_adresse_without_null(row):\n",
    "    adresse_mapping = {\n",
    "        'voie': row['adresse-allocataire_voie'],\n",
    "        'code_postal': row['adresse-allocataire_code_postal'],\n",
    "        'nom_adresse_postale': row['adresse-allocataire_nom_adresse_postal'],\n",
    "        'commune': row['adresse-allocataire_commune'],\n",
    "        'code_insee': row['adresse-allocataire_code_insee'],\n",
    "        'cplt_adresse': row['adresse-allocataire_cptl_adresse'],\n",
    "    }\n",
    "    \n",
    "    filtered_address = {k: v for k, v in adresse_mapping.items() if pd.notnull(v)}\n",
    "    return json.dumps(filtered_address, ensure_ascii=False)\n",
    "\n",
    "df_final_with_new_code['adresse_allocataire'] = df_final_with_new_code.apply(to_json_adresse_without_null, axis=1)"
   ]
  },
  {
   "cell_type": "code",
   "execution_count": null,
   "metadata": {},
   "outputs": [],
   "source": [
    "df_final_with_new_code['date_naissance'] = pd.to_datetime(df_final_with_new_code['date_naissance']).dt.floor('D') + pd.DateOffset(hours=4)"
   ]
  },
  {
   "cell_type": "code",
   "execution_count": null,
   "metadata": {},
   "outputs": [],
   "source": [
    "# Add missing default column needed for target DB model\n",
    "import datetime\n",
    "\n",
    "df_final_with_new_code['updated_at'] = datetime.datetime.now()\n",
    "df_final_with_new_code['exercice_id'] = 3\n",
    "df_final_with_new_code['uuid_doc'] = np.NaN\n",
    "df_final_with_new_code[['zrr', 'qpv', 'a_valider', 'refuser']] = False\n",
    "df_final_with_new_code['id'] = np.NaN\n",
    "timestamp_with_custom_tz = pd.Timestamp.now(tz='Europe/Paris')\n",
    "df_final_with_new_code[\"created_at\"] = timestamp_with_custom_tz"
   ]
  },
  {
   "cell_type": "code",
   "execution_count": null,
   "metadata": {},
   "outputs": [],
   "source": [
    "df_final_with_new_code_column_filtered = df_final_with_new_code[['id', \n",
    "       'date_naissance',\n",
    "       'genre', 'id_psp', 'nom', 'organisme', 'prenom',\n",
    "       'allocataire', 'adresse_allocataire',\n",
    "       'updated_at', 'exercice_id', 'uuid_doc', 'zrr', 'qpv', 'a_valider', 'refuser', 'created_at']]"
   ]
  },
  {
   "cell_type": "code",
   "execution_count": null,
   "metadata": {},
   "outputs": [],
   "source": [
    "# output to CSV\n",
    "df_final_with_new_code_column_filtered.to_csv(base_output_filepath)"
   ]
  },
  {
   "cell_type": "code",
   "execution_count": null,
   "metadata": {},
   "outputs": [],
   "source": [
    "df_campaign=df_final_with_new_code.copy()"
   ]
  },
  {
   "cell_type": "code",
   "execution_count": null,
   "metadata": {},
   "outputs": [],
   "source": [
    "# Ajout d'une colonne pour le sexe \n",
    "df_campaign['neele'] = 'Né le'\n",
    "mask_girl = df_campaign['genre'] == 'F'\n",
    "df_campaign.loc[mask_girl, 'neele'] =  'Née le'"
   ]
  },
  {
   "cell_type": "code",
   "execution_count": null,
   "metadata": {},
   "outputs": [],
   "source": [
    "# capitalize on name / surname\n",
    "df_campaign['allocataire-prenom'] = df_campaign['allocataire-prenom'].astype(str).str.capitalize()\n",
    "df_campaign['allocataire-nom'] = df_campaign['allocataire-nom'].astype(str).str.capitalize()\n",
    "df_campaign['beneficiaire-prenom'] = df_campaign['prenom'].astype(str).str.capitalize()\n",
    "df_campaign['beneficiaire-nom'] = df_campaign['nom'].astype(str).str.capitalize()"
   ]
  },
  {
   "cell_type": "code",
   "execution_count": null,
   "metadata": {},
   "outputs": [],
   "source": [
    "df_campaign.rename(columns={\n",
    "    'allocataire-courriel' : 'email',\n",
    "    'id_psp': 'code',\n",
    "    'date_naissance': 'beneficiaire_date_naissance',\n",
    "    'genre' : 'beneficiaire_genre',\n",
    "    'allocataire-prenom': 'allocataire_prenom',\n",
    "    'allocataire-nom': 'allocataire_nom',\n",
    "    'beneficiaire-prenom': 'beneficiaire_prenom',\n",
    "    'beneficiaire-nom': 'beneficiaire_nom'\n",
    "}, inplace=True)"
   ]
  },
  {
   "cell_type": "code",
   "execution_count": null,
   "metadata": {},
   "outputs": [],
   "source": [
    "\n",
    "qr_code_secret_key = os.environ['BENEF_2024_QR_CODE_URL_SECRET']\n",
    "qr_code_base_url = os.environ['BENEF_2024_QR_CODE_BASE_URL']\n",
    "pathfile_campaign_csv_b_and_a = os.environ['CAMPAIGN_CSV_B_AND_A']"
   ]
  },
  {
   "cell_type": "code",
   "execution_count": null,
   "metadata": {},
   "outputs": [],
   "source": [
    "# Generate LM \n",
    "# new format for birth date\n",
    "# df_campaign['beneficiaire_date_naissance'] = pd.to_datetime(df_campaign['beneficiaire_date_naissance'].str[:10], format='%Y-%m-%d')\n",
    "df_campaign['beneficiaire_date_naissance'] = df_campaign['beneficiaire_date_naissance'].dt.strftime('%d/%m/%Y')"
   ]
  },
  {
   "cell_type": "code",
   "execution_count": null,
   "metadata": {},
   "outputs": [],
   "source": [
    "# Génération des URLs pour le QR code\n",
    "import urllib.parse\n",
    "import base64\n",
    "\n",
    "from Crypto.Cipher import AES\n",
    "from Crypto.Util.Padding import pad\n",
    "\n",
    "base_64_key = base64.b64decode(qr_code_secret_key)\n",
    "key_mapping = { \n",
    "  'beneficiaire_prenom': 'bp', \n",
    "  'beneficiaire_nom': 'bn', \n",
    "  'beneficiaire_genre' : 'bg', \n",
    "  'beneficiaire_date_naissance': 'bdn', \n",
    "  'code': 'c'\n",
    "}\n",
    "\n",
    "def encrypt(data):\n",
    "    cipher = AES.new(base_64_key, AES.MODE_CBC)\n",
    "    ct_bytes = cipher.encrypt(pad(data.encode('utf-8'), AES.block_size))\n",
    "    iv = cipher.iv\n",
    "    ct = base64.b64encode(iv + ct_bytes).decode('utf-8')\n",
    "    return ct\n",
    "\n",
    "def generate_encrypted_url_column(row):\n",
    "    params = {key_mapping.get(column): row[column] for column in df_campaign.columns}\n",
    "    cleaned_params = {k: v for k, v in params.items() if k is not None}\n",
    "    encoded_params = urllib.parse.urlencode(cleaned_params)\n",
    "    encoded_encrypted_params = encrypt(encoded_params)\n",
    "    full_url_string = f\"{qr_code_base_url}#{urllib.parse.quote_plus(encoded_encrypted_params)}\"\n",
    "    return full_url_string\n",
    "\n",
    "if 'url_qr_code' in df_campaign:\n",
    "    del df_campaign['url_qr_code']\n",
    "\n",
    "df_campaign['url_qr_code'] = df_campaign.apply(generate_encrypted_url_column, axis=1)"
   ]
  },
  {
   "cell_type": "code",
   "execution_count": null,
   "metadata": {},
   "outputs": [],
   "source": [
    "df_campaign_new_alloc_diff_benef = df_campaign[['email', 'beneficiaire_nom', 'beneficiaire_genre', 'code', 'beneficiaire_prenom', 'allocataire_nom', 'allocataire_prenom', 'url_qr_code', 'neele', 'beneficiaire_date_naissance']]"
   ]
  },
  {
   "cell_type": "code",
   "execution_count": null,
   "metadata": {},
   "outputs": [],
   "source": [
    "df_campaign_new_alloc_diff_benef.to_csv(pathfile_campaign_csv_b_and_a, index=False)\n"
   ]
  }
 ],
 "metadata": {
  "kernelspec": {
   "display_name": ".venv",
   "language": "python",
   "name": "python3"
  },
  "language_info": {
   "codemirror_mode": {
    "name": "ipython",
    "version": 3
   },
   "file_extension": ".py",
   "mimetype": "text/x-python",
   "name": "python",
   "nbconvert_exporter": "python",
   "pygments_lexer": "ipython3",
   "version": "3.10.12"
  }
 },
 "nbformat": 4,
 "nbformat_minor": 2
}
