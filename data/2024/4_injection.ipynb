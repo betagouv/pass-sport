{
 "cells": [
  {
   "cell_type": "code",
   "execution_count": null,
   "id": "initial_id",
   "metadata": {},
   "outputs": [],
   "source": [
    "import numpy as np\n",
    "import pandas as pd\n",
    "\n",
    "df_db = pd.read_csv('./merged-with-id.csv', sep=',')\n",
    "df_db2 = pd.read_csv('./merged-without-id.csv', sep=',')"
   ]
  },
  {
   "cell_type": "code",
   "execution_count": null,
   "id": "f708ddb03ba3985a",
   "metadata": {},
   "outputs": [],
   "source": [
    "columns_to_drop = ['-', 'Unnamed: 17', 'Unnamed: 18', 'Unnamed: 19', 'Unnamed: 20', 'Unnamed: 21']\n",
    "df_db.drop(columns=columns_to_drop, inplace=True)\n",
    "df_db2.drop(columns=columns_to_drop, inplace=True)"
   ]
  },
  {
   "cell_type": "code",
   "execution_count": null,
   "id": "25de8253b871dd44",
   "metadata": {},
   "outputs": [],
   "source": [
    "df_db.to_csv('./merged-with-id-to-inject.csv', index=False)\n",
    "df_db2.to_csv('./merged-without-id-to-inject.csv', index=False)"
   ]
  }
 ],
 "metadata": {
  "kernelspec": {
   "display_name": "Python 3",
   "language": "python",
   "name": "python3"
  },
  "language_info": {
   "codemirror_mode": {
    "name": "ipython",
    "version": 2
   },
   "file_extension": ".py",
   "mimetype": "text/x-python",
   "name": "python",
   "nbconvert_exporter": "python",
   "pygments_lexer": "ipython2",
   "version": "2.7.6"
  }
 },
 "nbformat": 4,
 "nbformat_minor": 5
}
