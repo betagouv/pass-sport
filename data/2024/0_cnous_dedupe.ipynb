{
 "cells": [
  {
   "cell_type": "markdown",
   "id": "24fe3150ae87f742",
   "metadata": {},
   "source": [
    "### Deduplication\n",
    "This notebook is used to output \"cnous\" users that do not exist in the database based on the \"ine\" "
   ]
  },
  {
   "cell_type": "code",
   "execution_count": null,
   "id": "8ae4a2c82ffa2a66",
   "metadata": {},
   "outputs": [],
   "source": [
    "import os\n",
    "from dotenv import load_dotenv\n",
    "\n",
    "load_dotenv()\n",
    "\n",
    "cnous_filepath = os.environ['CNOUS_PATHFILE']\n",
    "cnous_part_1_filepath = os.environ['CNOUS_PART_1_PATHFILE'] # Received in august\n",
    "cnous_part_2_filepath = os.environ['CNOUS_PART_2_PATHFILE'] # Received in september\n",
    "base_output_filepath = os.environ['DB_EXPORT']"
   ]
  },
  {
   "cell_type": "code",
   "execution_count": null,
   "id": "e98a47dbeb598074",
   "metadata": {},
   "outputs": [],
   "source": [
    "import pandas as pd\n",
    "\n",
    "cnous_column_type = {\n",
    "  'lieuNaissCodeCommuneInsee': 'str',\n",
    "  'lieuNaissCodePays': 'str',\n",
    "  'ine': 'str'\n",
    "}\n",
    "\n",
    "df_cnous_df_part_1 = pd.read_csv(\n",
    "  cnous_part_1_filepath, encoding='ISO-8859-1', on_bad_lines='skip', sep=';', engine=\"c\", dtype=cnous_column_type\n",
    ")\n",
    "\n",
    "df_cnous_df_part_2 = pd.read_csv(\n",
    "  cnous_part_2_filepath, encoding='windows-1252', on_bad_lines='skip', sep=';', engine=\"c\", dtype=cnous_column_type\n",
    ")"
   ]
  },
  {
   "cell_type": "code",
   "execution_count": null,
   "id": "2245c9b2ec57d619",
   "metadata": {},
   "outputs": [],
   "source": [
    "not_existing_mask = ~df_cnous_df_part_2['ine'].isin(df_cnous_df_part_1['ine'])\n",
    "df_filtered = df_cnous_df_part_2[not_existing_mask]\n",
    "df_filtered = df_filtered.reset_index(drop=True)"
   ]
  },
  {
   "cell_type": "code",
   "execution_count": null,
   "id": "733efa22bb9e5a57",
   "metadata": {},
   "outputs": [],
   "source": [
    "df_filtered.to_csv(cnous_filepath, index=False)"
   ]
  }
 ],
 "metadata": {
  "kernelspec": {
   "display_name": "Python 3",
   "language": "python",
   "name": "python3"
  },
  "language_info": {
   "codemirror_mode": {
    "name": "ipython",
    "version": 2
   },
   "file_extension": ".py",
   "mimetype": "text/x-python",
   "name": "python",
   "nbconvert_exporter": "python",
   "pygments_lexer": "ipython2",
   "version": "2.7.6"
  }
 },
 "nbformat": 4,
 "nbformat_minor": 5
}
