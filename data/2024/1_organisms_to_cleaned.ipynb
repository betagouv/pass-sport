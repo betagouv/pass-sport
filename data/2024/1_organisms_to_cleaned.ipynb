{
 "cells": [
  {
   "cell_type": "markdown",
   "metadata": {},
   "source": [
    "# Traitements des fichiers des organismes\n",
    "\n",
    "\n",
    "## Pipeline\n",
    "\n",
    "\n",
    "1. Chargement des fichiers CNOUS, CAF et MSA\n",
    "2. Nettoyage des données et premier mapping au bon format de données attendu dans la BDD\n",
    "3. Application des critères sur les données du CNOUS\n",
    "4. Merge des 3 dataframes\n",
    "5. Cleanup (numéro de téléphone, date de naissance + 4 heures)\n",
    "7. Dédoublonage : Supprimer les bénéficiaires en doubles chez plusieurs organismes nom, prenom, date_naissance, genre, commune de résidence\n",
    "5. Mapping des json\n",
    "6. Ajout des valeurs pour les colonnes par défault\n",
    "8. Output to CSV\n",
    "\n",
    "## Encoding\n",
    "CNAF -> ISO-8859-1\n",
    "\n",
    "CNOUS -> windows-1252\n",
    "\n",
    "MSA -> utf-8-sig"
   ]
  },
  {
   "cell_type": "code",
   "execution_count": null,
   "metadata": {
    "ExecuteTime": {
     "end_time": "2024-08-02T09:08:49.509143Z",
     "start_time": "2024-08-02T09:08:49.503886Z"
    }
   },
   "outputs": [],
   "source": [
    "import csv\n",
    "import os\n",
    "from dotenv import load_dotenv\n",
    "import pandas as pd\n",
    "import json\n",
    "from datetime import datetime\n",
    "import numpy as np\n",
    "\n",
    "load_dotenv()\n",
    "\n",
    "cnous_filepath = os.environ['CNOUS_PATHFILE']\n",
    "msa_filepath = os.environ['MSA_PATHFILE']\n",
    "cnaf_filepath = os.environ['CNAF_PATHFILE']\n",
    "base_output_filepath = os.environ['DB_EXPORT']\n",
    "\n",
    "MEMORY_OPTIMIZATION = True"
   ]
  },
  {
   "cell_type": "code",
   "execution_count": null,
   "metadata": {
    "ExecuteTime": {
     "end_time": "2024-08-02T09:08:50.232946Z",
     "start_time": "2024-08-02T09:08:49.545375Z"
    }
   },
   "outputs": [],
   "source": [
    "cnous_df = pd.read_csv(cnous_filepath, encoding='windows-1252', on_bad_lines='skip', sep=';', engine=\"c\")"
   ]
  },
  {
   "cell_type": "code",
   "execution_count": null,
   "metadata": {
    "ExecuteTime": {
     "end_time": "2024-08-02T09:09:02.353820Z",
     "start_time": "2024-08-02T09:08:50.233883Z"
    }
   },
   "outputs": [],
   "source": [
    "cnaf_column_type = {\n",
    "    'code_postal': 'str',\n",
    "    'tel': 'str',\n",
    "    'matricul': 'str'\n",
    "}\n",
    "\n",
    "cnaf_df = pd.read_csv(cnaf_filepath, encoding='iso-8859-1', on_bad_lines='skip', sep=';', quoting=csv.QUOTE_NONE, dtype=cnaf_column_type, engine=\"c\")"
   ]
  },
  {
   "cell_type": "code",
   "execution_count": null,
   "metadata": {
    "ExecuteTime": {
     "end_time": "2024-08-02T09:09:03.140039Z",
     "start_time": "2024-08-02T09:09:02.354933Z"
    }
   },
   "outputs": [],
   "source": [
    "msa_column_type = {\n",
    "    'code_postal': 'str',\n",
    "    'numero_tel_portable': 'str',\n",
    "    'code_insee_commune': 'str',\n",
    "    'date_de_naissance_alloc': 'str',\n",
    "    'numero_allocataire': 'str',\n",
    "    'organisme': 'str'\n",
    "}\n",
    "\n",
    "msa_df = pd.read_csv(msa_filepath, encoding='utf-8-sig', on_bad_lines='skip', sep=';', quoting=csv.QUOTE_NONE, dtype=msa_column_type, engine=\"c\")"
   ]
  },
  {
   "cell_type": "code",
   "execution_count": null,
   "metadata": {
    "ExecuteTime": {
     "end_time": "2024-08-02T09:09:04.184619Z",
     "start_time": "2024-08-02T09:09:03.142173Z"
    }
   },
   "outputs": [],
   "source": [
    "# map MSA\n",
    "msa_column_mapping = {\n",
    "    # infos allocataire\n",
    "    'numero_allocataire': 'allocataire-matricule',\n",
    "    'organisme': 'allocataire-code_organisme',\n",
    "    'qualite_allocataire': 'allocataire-qualite',\n",
    "    'nom_allocataire': 'allocataire-nom',\n",
    "    'prenom_allocataire': 'allocataire-prenom',\n",
    "    'date_de_naissance_alloc': 'allocataire-date_naissance',\n",
    "    'pays_de_naissance': 'allocataire-pays_naissance',\n",
    "    'code_insee_commune_alloc': 'allocataire-code_insee_commune_naissance',\n",
    "    'commune_de_naissance': 'allocataire-commune_naissance',\n",
    "    'code_iso_pays': 'allocataire-code_iso_pays_naissance',\n",
    "    'adresse_de_messagerie': 'allocataire-courriel',\n",
    "    'numero_tel_portable': 'allocataire-telephone',\n",
    "\n",
    "    # adresse allocataire\n",
    "    # pas de voie\n",
    "    'nom_commune': 'adresse_allocataire-commune',\n",
    "    'code_postal': 'adresse_allocataire-code_postal',\n",
    "    'code_insee_commune': 'adresse_allocataire-code_insee',\n",
    "    'complement_adresse': 'adresse_allocataire-cplt_adresse',\n",
    "\n",
    "    # infos bénéficiaires\n",
    "    'nom_beneficiaire': 'nom',\n",
    "    'prenom_beneficiaire': 'prenom',\n",
    "    'genre_beneficiaire': 'genre',\n",
    "    'date_de_naissance_beneficiaire': 'date_naissance'\n",
    "}\n",
    "\n",
    "\n",
    "df_psp_mapped_msa = msa_df.copy()\n",
    "df_psp_mapped_msa = df_psp_mapped_msa.rename(columns=msa_column_mapping) \n",
    "\n",
    "# situation\n",
    "df_psp_mapped_msa['situation'] = 'Jeune'\n",
    "mask_nom_equal = df_psp_mapped_msa['allocataire-nom'] == df_psp_mapped_msa['nom'] \n",
    "mask_prenom_equal = df_psp_mapped_msa['allocataire-prenom'] == df_psp_mapped_msa['prenom']\n",
    "df_psp_mapped_msa.loc[mask_nom_equal & mask_prenom_equal, 'situation'] =  'AAH'\n",
    "\n",
    "# organisme\n",
    "df_psp_mapped_msa['organisme'] = 'MSA'\n",
    "\n",
    "# trim all values\n",
    "df_psp_mapped_msa['qualite_destinataire'] = df_psp_mapped_msa['qualite_destinataire'].str.strip() \n",
    "df_psp_mapped_msa['nom_destinataire'] = df_psp_mapped_msa['nom_destinataire'].str.strip()\n",
    "df_psp_mapped_msa['prenom_destinataire'] = df_psp_mapped_msa['prenom_destinataire'].str.strip()\n",
    "\n",
    "df_psp_mapped_msa['adresse_allocataire-commune'] = df_psp_mapped_msa['adresse_allocataire-commune'].str.strip()\n",
    "df_psp_mapped_msa['adresse_allocataire-code_postal'] = df_psp_mapped_msa['adresse_allocataire-code_postal'].str.strip()\n",
    "df_psp_mapped_msa['adresse_allocataire-code_insee'] = df_psp_mapped_msa['adresse_allocataire-code_insee'].str.strip()\n",
    "df_psp_mapped_msa['adresse_allocataire-cplt_adresse'] = df_psp_mapped_msa['adresse_allocataire-cplt_adresse'].str.strip()\n",
    "\n",
    "## voie\n",
    "df_psp_mapped_msa['numero_voie'] = df_psp_mapped_msa['numero_voie'].str.strip()\n",
    "df_psp_mapped_msa['complement_numero_voie'] = df_psp_mapped_msa['complement_numero_voie'].str.strip()\n",
    "df_psp_mapped_msa['type_voie'] = df_psp_mapped_msa['type_voie'].str.strip()\n",
    "df_psp_mapped_msa['voie'] = df_psp_mapped_msa['voie'].str.strip()\n",
    "\n",
    "df_psp_mapped_msa['nom'] = df_psp_mapped_msa['nom'].str.strip() \n",
    "df_psp_mapped_msa['prenom'] = df_psp_mapped_msa['prenom'].str.strip() \n",
    "\n",
    "# nom adresse postale de l'allocataire\n",
    "df_psp_mapped_msa['adresse_allocataire-nom_adresse_postale'] = df_psp_mapped_msa['qualite_destinataire'] + ' ' + df_psp_mapped_msa['nom_destinataire'] + ' ' + df_psp_mapped_msa['prenom_destinataire']\n",
    "\n",
    "# voie de l'adresse postale de l'allocataire\n",
    "df_psp_mapped_msa['adresse_allocataire-voie'] = df_psp_mapped_msa['numero_voie'] + ' ' + df_psp_mapped_msa['complement_numero_voie'] + ' ' + df_psp_mapped_msa['type_voie'] + df_psp_mapped_msa['voie']\n",
    "df_psp_mapped_msa['adresse_allocataire-voie'] = df_psp_mapped_msa['adresse_allocataire-voie'].str.strip()\n",
    "\n",
    "# sexe\n",
    "df_psp_mapped_msa['genre'] = df_psp_mapped_msa['genre'].replace(1, 'M')\n",
    "df_psp_mapped_msa['genre'] = df_psp_mapped_msa['genre'].replace(2, 'F')\n",
    "\n",
    "# qualite allocataire\n",
    "df_psp_mapped_msa['allocataire-qualite'] = df_psp_mapped_msa['allocataire-qualite'].str.strip().replace('MME', 'Mme')\n",
    "df_psp_mapped_msa['allocataire-qualite'] = df_psp_mapped_msa['allocataire-qualite'].str.strip().replace('MR', 'M')\n",
    "\n",
    "# code commune de naissance de l'allocataire\n",
    "df_psp_mapped_msa['allocataire-code_insee_commune_naissance'] = df_psp_mapped_msa['allocataire-code_insee_commune_naissance'].replace('0', '')\n",
    "\n",
    "# date de naissance allocataire\n",
    "df_psp_mapped_msa['allocataire-date_naissance'] = df_psp_mapped_msa['allocataire-date_naissance'].replace('0', np.NaN)\n",
    "df_psp_mapped_msa['allocataire-date_naissance'] = df_psp_mapped_msa['allocataire-date_naissance'].replace('00000000', np.NaN)\n",
    "df_psp_mapped_msa['allocataire-date_naissance'] = pd.to_datetime(df_psp_mapped_msa['allocataire-date_naissance'], format='%Y%m%d')\n",
    "df_psp_mapped_msa['allocataire-date_naissance'] = df_psp_mapped_msa['allocataire-date_naissance'].dt.strftime('%d/%m/%Y')\n",
    "\n",
    "# date de naissance bénéficiaire\n",
    "df_psp_mapped_msa['date_naissance'] = pd.to_datetime(df_psp_mapped_msa['date_naissance'], format='%Y%m%d')\n",
    "# df_psp_mapped_msa['date_naissance'] = df_psp_mapped_msa['date_naissance'].dt.strftime('%d/%m/%Y')\n",
    "\n",
    "# de manière certaine les bénéficiaires avant 2004 sont AAH\n",
    "mask_dn_before_2004 = df_psp_mapped_msa['date_naissance'].dt.date < datetime(2004, 6, 1).date()\n",
    "df_psp_mapped_msa.loc[mask_dn_before_2004, 'situation'] =  'AAH'\n",
    "\n",
    "# remove unused \n",
    "df_psp_mapped_msa = df_psp_mapped_msa.drop(columns=[\n",
    "  'nom_destinataire',\n",
    "  'prenom_destinataire',\n",
    "  'qualite_destinataire',\n",
    "  'numero_voie',\n",
    "  'complement_numero_voie',\n",
    "  'type_voie',\n",
    "  'voie'\n",
    "])\n",
    "\n",
    "if MEMORY_OPTIMIZATION:\n",
    "  del msa_df\n"
   ]
  },
  {
   "cell_type": "code",
   "execution_count": null,
   "metadata": {
    "ExecuteTime": {
     "end_time": "2024-08-02T09:09:05.259689Z",
     "start_time": "2024-08-02T09:09:04.185359Z"
    }
   },
   "outputs": [],
   "source": [
    "# trim sur tous les champs MSA (même dans les json)\n",
    "df_psp_mapped_msa['allocataire-matricule'] = df_psp_mapped_msa['allocataire-matricule'].str.strip() \n",
    "df_psp_mapped_msa['allocataire-qualite'] = df_psp_mapped_msa['allocataire-qualite'].str.strip() \n",
    "df_psp_mapped_msa['allocataire-nom'] = df_psp_mapped_msa['allocataire-nom'].str.strip() \n",
    "df_psp_mapped_msa['allocataire-prenom'] = df_psp_mapped_msa['allocataire-prenom'].str.strip() \n",
    "df_psp_mapped_msa['allocataire-date_naissance'] = df_psp_mapped_msa['allocataire-date_naissance'].str.strip() \n",
    "df_psp_mapped_msa['allocataire-pays_naissance'] = df_psp_mapped_msa['allocataire-pays_naissance'].str.strip() \n",
    "df_psp_mapped_msa['allocataire-code_insee_commune_naissance'] = df_psp_mapped_msa['allocataire-code_insee_commune_naissance'].str.strip() \n",
    "df_psp_mapped_msa['allocataire-commune_naissance'] = df_psp_mapped_msa['allocataire-commune_naissance'].str.strip() \n",
    "df_psp_mapped_msa['allocataire-code_iso_pays_naissance'] = df_psp_mapped_msa['allocataire-code_iso_pays_naissance'].str.strip() \n",
    "df_psp_mapped_msa['allocataire-courriel'] = df_psp_mapped_msa['allocataire-courriel'].str.strip()\n",
    "df_psp_mapped_msa['allocataire-telephone'] = df_psp_mapped_msa['allocataire-telephone'].str.strip()\n",
    "df_psp_mapped_msa.to_csv('msa-test.csv')"
   ]
  },
  {
   "cell_type": "code",
   "execution_count": null,
   "metadata": {
    "ExecuteTime": {
     "end_time": "2024-08-02T09:09:16.504695Z",
     "start_time": "2024-08-02T09:09:05.260588Z"
    }
   },
   "outputs": [],
   "source": [
    "# map CNAF\n",
    "cnaf_column_mapping = {\n",
    "    # infos allocataire\n",
    "    'matricul': 'allocataire-matricule',\n",
    "    'numorg': 'allocataire-code_organisme',\n",
    "    'qualite': 'allocataire-qualite',\n",
    "    'nom': 'allocataire-nom',\n",
    "    'prenom': 'allocataire-prenom',\n",
    "    \n",
    "    # adresse allocataire\n",
    "    'code_postal': 'adresse_allocataire-code_postal',\n",
    "    'commune': 'adresse_allocataire-commune',\n",
    "    'adresse': 'adresse_allocataire-voie',\n",
    "    'code_insee': 'adresse_allocataire-code_insee',\n",
    "\n",
    "    # infos allocataire\n",
    "    'dt_naissance': 'allocataire-date_naissance',\n",
    "    'mail': 'allocataire-courriel',\n",
    "    'tel': 'allocataire-telephone',\n",
    "    'nom_eligible': 'nom',\n",
    "    'prenom_eligible': 'prenom',\n",
    "    'sexe_eligible': 'genre',\n",
    "    \n",
    "    # infos bénéficiaires\n",
    "    'dt_naissance_eligible': 'date_naissance',\n",
    "}\n",
    "\n",
    "df_psp_mapped_cnaf = cnaf_df.copy()\n",
    "df_psp_mapped_cnaf = df_psp_mapped_cnaf.rename(columns=cnaf_column_mapping) \n",
    "\n",
    "# qualité allocataire\n",
    "df_psp_mapped_cnaf['allocataire-qualite'] = df_psp_mapped_cnaf['allocataire-qualite'].replace('Madame', 'Mme')\n",
    "df_psp_mapped_cnaf['allocataire-qualite'] = df_psp_mapped_cnaf['allocataire-qualite'].replace('Monsieur', 'M')\n",
    "\n",
    "# voie de l'adresse postale de l'allocataire\n",
    "df_psp_mapped_cnaf['adresse_allocataire-cplt_adresse'] = cnaf_df['compl_adresse1'] + ' ' + cnaf_df['compl_adresse2'] + ' ' + cnaf_df['compl_adresse3']\n",
    "\n",
    "# organisme\n",
    "df_psp_mapped_cnaf['organisme'] = 'CAF'\n",
    "\n",
    "# sexe\n",
    "df_psp_mapped_cnaf['genre'] = df_psp_mapped_cnaf['genre'].replace('Masculin', 'M')\n",
    "df_psp_mapped_cnaf['genre'] = df_psp_mapped_cnaf['genre'].replace('Féminin', 'F')\n",
    "\n",
    "# situation\n",
    "df_psp_mapped_cnaf['situation'] = 'Jeune'\n",
    "mask_nom_equal = df_psp_mapped_cnaf['allocataire-nom'] == df_psp_mapped_cnaf['nom'] \n",
    "mask_prenom_equal = df_psp_mapped_cnaf['allocataire-prenom'] == df_psp_mapped_cnaf['prenom']\n",
    "df_psp_mapped_cnaf.loc[mask_nom_equal & mask_prenom_equal, 'situation'] =  'AAH'\n",
    "\n",
    "# Format date_naissance to datetime python object for processing\n",
    "df_psp_mapped_cnaf['date_naissance'] = pd.to_datetime(df_psp_mapped_cnaf['date_naissance'], format='%d/%m/%Y')\n",
    "df_psp_mapped_cnaf['date_naissance'] = pd.to_datetime(df_psp_mapped_cnaf['date_naissance'], format='%Y-%m-%d')\n",
    "\n",
    "# de manière certaine les bénéficiaires avant 2004 sont AAH\n",
    "mask_dn_before_2004 = df_psp_mapped_cnaf['date_naissance'].dt.date < datetime(2004, 6, 1).date()\n",
    "df_psp_mapped_cnaf.loc[mask_dn_before_2004, 'situation'] =  'AAH'\n",
    "\n",
    "df_psp_mapped_cnaf['allocataire-qualite'] = df_psp_mapped_cnaf['allocataire-qualite'].replace('MR', 'M')\n",
    "\n",
    "# remove unused \n",
    "df_psp_mapped_cnaf = df_psp_mapped_cnaf.drop(columns=[\n",
    "'compl_adresse1',\n",
    "'compl_adresse2',\n",
    "'compl_adresse3',\n",
    "'nb_eligibles'\n",
    "])\n",
    "\n",
    "if MEMORY_OPTIMIZATION:\n",
    "  del cnaf_df\n"
   ]
  },
  {
   "cell_type": "code",
   "execution_count": null,
   "metadata": {
    "ExecuteTime": {
     "end_time": "2024-08-02T09:09:17.673371Z",
     "start_time": "2024-08-02T09:09:16.505571Z"
    }
   },
   "outputs": [],
   "source": [
    "# map CNOUS\n",
    "cnous_column_mapping = {\n",
    "    # infos allocataire\n",
    "    'ine': 'allocataire-matricule',\n",
    "    # pas de code organisme\n",
    "    'civiliteLibelleCourt': 'allocataire-qualite',\n",
    "    'nom': 'allocataire-nom',\n",
    "    'prenom': 'allocataire-prenom',\n",
    "    'dateNaissance': 'allocataire-date_naissance',\n",
    "    'mail': 'allocataire-courriel',\n",
    "    'lieuNaissCodeCommuneInsee': 'allocataire-code_insee_commune_naissance',\n",
    "    'lieuNaissLibelleCommune': 'allocataire-commune_naissance',\n",
    "    'lieuNaissCodePays': 'allocataire-code_iso_pays_naissance',\n",
    "    'lieuNaissLibellePays': 'allocataire-pays_naissance',\n",
    "\n",
    "    # adresse allocataire\n",
    "    'adresseVoie': 'adresse_allocataire-voie',\n",
    "    'adresseCodePostal': 'adresse_allocataire-code_postal',\n",
    "    'adresseLocalite': 'adresse_allocataire-commune',\n",
    "    'adresseCodeLocalite': 'adresse_allocataire-code_insee',\n",
    "    'adresseComplement1': 'adresse_allocataire-cplt_adresse',\n",
    "    'adresseComplement2': '',\n",
    "    'adresseCodePays': '-',\n",
    "\n",
    "    # infos bénéficiaires\n",
    "    'genre': 'civiliteLibelleCourt',\n",
    "}\n",
    "\n",
    "\n",
    "df_psp_mapped_cnous = cnous_df.copy()\n",
    "df_psp_mapped_cnous.rename(columns=cnous_column_mapping, inplace=True) \n",
    "\n",
    "# organisme\n",
    "df_psp_mapped_cnous['organisme'] = 'CNOUS'\n",
    "df_psp_mapped_cnous['situation'] = 'Boursier'\n",
    "\n",
    "# remove weird values\n",
    "df_psp_mapped_cnous = df_psp_mapped_cnous[df_psp_mapped_cnous['allocataire-date_naissance'] != 'dateNaissance']\n",
    "\n",
    "# infos bénéficiaires = allocataire\n",
    "df_psp_mapped_cnous['date_naissance'] = pd.to_datetime(df_psp_mapped_cnous['allocataire-date_naissance'], format='%d/%m/%Y')\n",
    "df_psp_mapped_cnous['allocataire-date_naissance'] = df_psp_mapped_cnous['date_naissance'].dt.strftime('%d/%m/%Y')\n",
    "df_psp_mapped_cnous['nom'] = df_psp_mapped_cnous['allocataire-nom']\n",
    "df_psp_mapped_cnous['prenom'] = df_psp_mapped_cnous['allocataire-prenom']\n",
    "df_psp_mapped_cnous['genre'] = df_psp_mapped_cnous['allocataire-qualite']\n",
    "df_psp_mapped_cnous['allocataire-qualite'] = df_psp_mapped_cnous['allocataire-qualite'].replace('F', 'Mme')\n",
    "\n",
    "# TODO: Voir problème encoding sur allocaitre_adresse\n",
    "\n",
    "if MEMORY_OPTIMIZATION:\n",
    "  del cnous_df"
   ]
  },
  {
   "cell_type": "code",
   "execution_count": null,
   "metadata": {
    "ExecuteTime": {
     "end_time": "2024-08-02T09:09:17.797672Z",
     "start_time": "2024-08-02T09:09:17.674367Z"
    }
   },
   "outputs": [],
   "source": [
    "# apply criterias on CNOUS datas\n",
    "from datetime import timedelta\n",
    "from dateutil.relativedelta import relativedelta\n",
    "\n",
    "end_date = pd.to_datetime('2024-10-15').date()\n",
    "start_date = end_date - relativedelta(years=28)\n",
    "\n",
    "cnous_situation_mask = (df_psp_mapped_cnous['date_naissance'].dt.date >= start_date) & (df_psp_mapped_cnous['date_naissance'].dt.date <= end_date)\n",
    "df_psp_mapped_cnous_filtered = df_psp_mapped_cnous[cnous_situation_mask]\n",
    "\n",
    "print(f\"{len(df_psp_mapped_cnous) - len(df_psp_mapped_cnous_filtered)} rows for CNOUS dataframe were removed based on criterias\")"
   ]
  },
  {
   "cell_type": "code",
   "execution_count": null,
   "metadata": {
    "ExecuteTime": {
     "end_time": "2024-08-02T09:09:17.814603Z",
     "start_time": "2024-08-02T09:09:17.798422Z"
    }
   },
   "outputs": [],
   "source": [
    "if MEMORY_OPTIMIZATION:\n",
    "  del df_psp_mapped_cnous"
   ]
  },
  {
   "cell_type": "markdown",
   "metadata": {},
   "source": [
    "# Merge dans un seul dataframe cible pour BDD Postgresql"
   ]
  },
  {
   "cell_type": "code",
   "execution_count": null,
   "metadata": {
    "ExecuteTime": {
     "end_time": "2024-08-02T09:09:25.674067Z",
     "start_time": "2024-08-02T09:09:17.816858Z"
    }
   },
   "outputs": [],
   "source": [
    "# concat into a single dataframe\n",
    "df_all = pd.concat([df_psp_mapped_cnous_filtered, df_psp_mapped_msa, df_psp_mapped_cnaf], axis=0, ignore_index=True)\n",
    "\n",
    "# remove rows with missing necessary values (if one of those value are missing we cannot generate a code)\n",
    "necessary_column = ['nom', 'prenom', 'date_naissance', 'genre']\n",
    "df_all_valid_row = df_all.dropna(subset=necessary_column)\n",
    "\n",
    "# remove columns with all null value\n",
    "df_all_valid = df_all_valid_row.dropna(axis=1, how='all')\n",
    "\n",
    "# test\n",
    "assert len(df_all_valid[df_all['nom'].isnull() | df_all_valid['prenom'].isnull() | df_all_valid['date_naissance'].isnull()]) == 0"
   ]
  },
  {
   "cell_type": "code",
   "execution_count": null,
   "metadata": {
    "ExecuteTime": {
     "end_time": "2024-08-02T09:09:27.585207Z",
     "start_time": "2024-08-02T09:09:25.674871Z"
    }
   },
   "outputs": [],
   "source": [
    "# Upper case these columns for the merge\n",
    "df_all_valid['prenom'] = df_all_valid['prenom'].astype(str).apply(lambda x: x.upper())\n",
    "df_all_valid['nom'] = df_all_valid['nom'].astype(str).apply(lambda x: x.upper())\n",
    "df_all_valid['genre'] = df_all_valid['genre'].astype(str).apply(lambda x: x.upper())"
   ]
  },
  {
   "cell_type": "code",
   "execution_count": null,
   "metadata": {
    "ExecuteTime": {
     "end_time": "2024-08-02T09:09:28.005656Z",
     "start_time": "2024-08-02T09:09:27.586166Z"
    }
   },
   "outputs": [],
   "source": [
    "# lower case on emails on all\n",
    "df_all_valid['allocataire-courriel'] = df_all_valid['allocataire-courriel'].str.lower()"
   ]
  },
  {
   "cell_type": "code",
   "execution_count": null,
   "metadata": {
    "ExecuteTime": {
     "end_time": "2024-08-02T09:09:29.529661Z",
     "start_time": "2024-08-02T09:09:28.006497Z"
    }
   },
   "outputs": [],
   "source": [
    "# remove rows when beneficiary is before september 1993\n",
    "mask_before_1993 = pd.to_datetime(df_all_valid['date_naissance']) > datetime(1993, 9, 16)\n",
    "df_all_valid_after93 = df_all_valid[mask_before_1993]\n",
    "\n",
    "print(f\"{len(df_all_valid) - len(df_all_valid_after93)} rows where removed because date_naissance was before 1993\")"
   ]
  },
  {
   "cell_type": "code",
   "execution_count": null,
   "metadata": {
    "ExecuteTime": {
     "end_time": "2024-08-02T09:09:29.689534Z",
     "start_time": "2024-08-02T09:09:29.530567Z"
    }
   },
   "outputs": [],
   "source": [
    "if MEMORY_OPTIMIZATION:\n",
    "    del df_psp_mapped_cnous_filtered\n",
    "    del df_psp_mapped_msa\n",
    "    del df_psp_mapped_cnaf"
   ]
  },
  {
   "cell_type": "code",
   "execution_count": null,
   "metadata": {
    "ExecuteTime": {
     "end_time": "2024-08-02T09:09:33.328654Z",
     "start_time": "2024-08-02T09:09:29.690847Z"
    }
   },
   "outputs": [],
   "source": [
    "# add missing 0 to phone numbers\n",
    "mask_tel_not_null = df_all_valid_after93['allocataire-telephone'].notna()\n",
    "mask_no_zero_phone_number = ~df_all_valid_after93.loc[mask_tel_not_null, 'allocataire-telephone'].str.startswith('0')\n",
    "mask_9_char_phone = df_all_valid_after93.loc[mask_tel_not_null, 'allocataire-telephone'].str.len() == 9\n",
    "df_all_valid_after93.loc[mask_tel_not_null & mask_no_zero_phone_number & mask_9_char_phone, 'allocataire-telephone'] = '0' + df_all_valid_after93['allocataire-telephone']\n",
    "\n",
    "# set '0' phone values to None\n",
    "mask_tel_eq_zero = df_all_valid_after93['allocataire-telephone'] == '0'\n",
    "df_all_valid_after93.loc[mask_tel_eq_zero, 'allocataire-telephone'] = np.NaN\n",
    "\n",
    "# add 4h on all birthdates\n",
    "df_all_valid_after93.loc[:,'date_naissance'] = df_all_valid_after93['date_naissance'] + timedelta(hours=4)"
   ]
  },
  {
   "cell_type": "code",
   "execution_count": null,
   "metadata": {
    "ExecuteTime": {
     "end_time": "2024-08-02T09:09:43.866594Z",
     "start_time": "2024-08-02T09:09:33.329581Z"
    }
   },
   "outputs": [],
   "source": [
    "# remove duplicate beneficiaries\n",
    "df_all_valid_no_duplicate = df_all_valid_after93.drop_duplicates(subset=[\n",
    "  'date_naissance',\n",
    "  'nom', \n",
    "  'prenom', \n",
    "  'genre', \n",
    "  'organisme', \n",
    "  'situation',\n",
    "  'allocataire-qualite', \n",
    "  'allocataire-matricule',\n",
    "  'allocataire-code_organisme', \n",
    "  'allocataire-telephone',\n",
    "  # 'allocataire-nom', \n",
    "  'allocataire-prenom', \n",
    "  'allocataire-date_naissance',\n",
    "  'allocataire-courriel', \n",
    "  # we can remove this column additionaly\n",
    "  'allocataire-code_insee_commune_naissance',\n",
    "  'allocataire-commune_naissance', \n",
    "  'allocataire-code_iso_pays_naissance',\n",
    "  'allocataire-pays_naissance']\n",
    ")\n",
    "\n",
    "print(f\"{len(df_all_valid_after93) - len(df_all_valid_no_duplicate)} duplicate rows where removed\")"
   ]
  },
  {
   "cell_type": "code",
   "execution_count": null,
   "metadata": {
    "ExecuteTime": {
     "end_time": "2024-08-02T09:11:13.391920Z",
     "start_time": "2024-08-02T09:09:43.867352Z"
    }
   },
   "outputs": [],
   "source": [
    "# map to json values for target DB model \n",
    "## map allocataire json\n",
    "def to_json_allocataire_without_null(row):\n",
    "    allocataire_mapping = {\n",
    "        'qualite': row['allocataire-qualite'],\n",
    "        'matricule': row['allocataire-matricule'],\n",
    "        'code_organisme': row['allocataire-code_organisme'],\n",
    "        'telephone': row['allocataire-telephone'],\n",
    "        'nom': row['allocataire-nom'],\n",
    "        'prenom': row['allocataire-prenom'],\n",
    "        'date_naissance': row['allocataire-date_naissance'],\n",
    "        'courriel': row['allocataire-courriel'],\n",
    "        'code_insee_commune_naissance': row['allocataire-code_insee_commune_naissance'],\n",
    "        'commune_naissance': row['allocataire-commune_naissance'],\n",
    "        'code_iso_pays_naissance': row['allocataire-code_iso_pays_naissance'],\n",
    "        'pays_naissance': row['allocataire-pays_naissance']\n",
    "    }\n",
    "    filtered_NaN_allocataire = {k: v for k, v in allocataire_mapping.items() if pd.notnull(v)}\n",
    "    return json.dumps(filtered_NaN_allocataire, ensure_ascii=False)\n",
    "\n",
    "df_all_valid_no_duplicate['allocataire'] = df_all_valid_no_duplicate.apply(to_json_allocataire_without_null, axis=1)"
   ]
  },
  {
   "cell_type": "code",
   "execution_count": null,
   "metadata": {
    "ExecuteTime": {
     "end_time": "2024-08-02T09:12:08.973330Z",
     "start_time": "2024-08-02T09:11:13.392662Z"
    }
   },
   "outputs": [],
   "source": [
    "## map adresse_allocataire json\n",
    "def to_json_adresse_without_null(row):\n",
    "    adresse_mapping = {\n",
    "        'voie': row['adresse_allocataire-voie'],\n",
    "        'code_postal': row['adresse_allocataire-code_postal'],\n",
    "        'nom_adresse_postale': row['adresse_allocataire-nom_adresse_postale'],\n",
    "        'commune': row['adresse_allocataire-commune'],\n",
    "        'code_insee': row['adresse_allocataire-code_insee'],\n",
    "        'cplt_adresse': row['adresse_allocataire-cplt_adresse'],\n",
    "    }\n",
    "    filtered_address = {k: v for k, v in adresse_mapping.items() if pd.notnull(v)}\n",
    "    return json.dumps(filtered_address, ensure_ascii=False)\n",
    "\n",
    "df_all_valid_no_duplicate['adresse_allocataire'] = df_all_valid_no_duplicate.apply(to_json_adresse_without_null, axis=1)"
   ]
  },
  {
   "cell_type": "code",
   "execution_count": null,
   "metadata": {
    "ExecuteTime": {
     "end_time": "2024-08-02T09:12:10.053510Z",
     "start_time": "2024-08-02T09:12:08.974107Z"
    }
   },
   "outputs": [],
   "source": [
    "\n",
    "## drop null value\n",
    "df_final = df_all_valid_no_duplicate.drop(columns=[\n",
    "  'allocataire-qualite',\n",
    "  'allocataire-matricule',\n",
    "  'allocataire-code_organisme',\n",
    "  'allocataire-nom',\n",
    "  'allocataire-prenom',\n",
    "  'allocataire-telephone',\n",
    "  'allocataire-date_naissance',\n",
    "  'allocataire-courriel',\n",
    "  'allocataire-code_insee_commune_naissance',\n",
    "  'allocataire-commune_naissance',\n",
    "  'allocataire-code_iso_pays_naissance',\n",
    "  'allocataire-pays_naissance',\n",
    "  'adresse_allocataire-voie',\n",
    "  'adresse_allocataire-nom_adresse_postale',\n",
    "  'adresse_allocataire-code_postal',\n",
    "  'adresse_allocataire-commune',\n",
    "  'adresse_allocataire-code_insee',\n",
    "  'adresse_allocataire-cplt_adresse',\n",
    "])\n"
   ]
  },
  {
   "cell_type": "code",
   "execution_count": null,
   "metadata": {
    "ExecuteTime": {
     "end_time": "2024-08-02T09:12:10.070402Z",
     "start_time": "2024-08-02T09:12:10.054329Z"
    }
   },
   "outputs": [],
   "source": [
    "# Add missing default column needed for target DB model\n",
    "import datetime\n",
    "\n",
    "df_final['updated_at'] = datetime.datetime.now()\n",
    "df_final['exercice_id'] = 3\n",
    "df_final['uuid_doc'] = np.NaN"
   ]
  },
  {
   "cell_type": "code",
   "execution_count": null,
   "metadata": {
    "ExecuteTime": {
     "end_time": "2024-08-02T09:12:54.236192Z",
     "start_time": "2024-08-02T09:12:10.071255Z"
    }
   },
   "outputs": [],
   "source": [
    "# output to CSV\n",
    "df_final.to_csv(base_output_filepath)"
   ]
  }
 ],
 "metadata": {
  "kernelspec": {
   "display_name": ".venv",
   "language": "python",
   "name": "python3"
  },
  "language_info": {
   "codemirror_mode": {
    "name": "ipython",
    "version": 3
   },
   "file_extension": ".py",
   "mimetype": "text/x-python",
   "name": "python",
   "nbconvert_exporter": "python",
   "pygments_lexer": "ipython3",
   "version": "3.12.4"
  }
 },
 "nbformat": 4,
 "nbformat_minor": 2
}
