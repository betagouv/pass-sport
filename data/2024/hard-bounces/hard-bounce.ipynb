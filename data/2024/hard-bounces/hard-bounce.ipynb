{
 "cells": [
  {
   "cell_type": "markdown",
   "id": "4994adab3b778a92",
   "metadata": {},
   "source": [
    "# Link Mobility hard bounces process\n",
    "Retrieves phone numbers from beneficiaries by merging all the CSV that were initially sent to Link Mobility\n",
    "The merge is operated on the column \"code\", and the \"telephone\" value is merged in the output if found\n"
   ]
  },
  {
   "cell_type": "code",
   "execution_count": null,
   "id": "690499f8ddc898b6",
   "metadata": {},
   "outputs": [],
   "source": [
    "from dotenv import load_dotenv\n",
    "import os\n",
    "\n",
    "load_dotenv()\n",
    "\n",
    "b_pathfile = os.environ['CAMPAIGN_CSV_B']\n",
    "b_and_a_pathfile = os.environ['CAMPAIGN_CSV_B_AND_A']\n",
    "b_existing_pathfile = os.environ['CAMPAIGN_CSV_B_EXISTING']\n",
    "b_and_a_existing_pathfile = os.environ['CAMPAIGN_CSV_B_AND_A_EXISTING']\n",
    "\n",
    "hard_bounce_benef_pathfile = os.environ['CAMPAIGN_HARD_BOUNCE_BENEF_PATHFILE']\n",
    "hard_bounce_parents_pathfile = os.environ['CAMPAIGN_HARD_BOUNCE_PARENTS_PATHFILE']\n",
    "\n",
    "hard_bounce_benef_output_pathfile = os.environ['CAMPAIGN_HARD_BOUNCE_BENEF_OUTPUT_PATHFILE']\n",
    "hard_bounce_parents_output_pathfile = os.environ['CAMPAIGN_HARD_BOUNCE_PARENTS_OUTPUT_PATHFILE']\n"
   ]
  },
  {
   "cell_type": "code",
   "execution_count": null,
   "id": "initial_id",
   "metadata": {},
   "outputs": [],
   "source": [
    "import pandas as pd\n",
    "\n",
    "columns_type = {\n",
    "    'email': 'str',\n",
    "    'allocataire_nom': 'str',\n",
    "    'allocataire_prenom': 'str',\n",
    "    'beneficiaire_prenom': 'str',\n",
    "    'beneficiaire_nom': 'str',\n",
    "    'beneficiaire_date_naissance': 'str',\n",
    "    'code': 'str',\n",
    "    'telephone': 'str',\n",
    "    'neele': 'str',\n",
    "    'url_qr_code': 'str'\n",
    "}\n",
    "\n",
    "# Link mobility hardbounce csv files\n",
    "df_hard_bounce_benef = pd.read_csv(hard_bounce_benef_pathfile, sep=';', dtype=columns_type)\n",
    "df_hard_bounce_parents = pd.read_csv(hard_bounce_parents_pathfile, sep=';', dtype=columns_type)\n",
    "\n",
    "# CSV files that were used in the campaign and sent to Link Mobility\n",
    "df_split_1 = pd.read_csv(b_pathfile, dtype=columns_type)\n",
    "df_split_2 = pd.read_csv(b_and_a_pathfile, dtype=columns_type)\n",
    "df_split_3 = pd.read_csv(b_existing_pathfile, dtype=columns_type)\n",
    "df_split_4 = pd.read_csv(b_and_a_existing_pathfile, dtype=columns_type)"
   ]
  },
  {
   "cell_type": "code",
   "execution_count": null,
   "id": "776e850146ddda3e",
   "metadata": {},
   "outputs": [],
   "source": [
    "df_all = pd.concat([df_split_1, df_split_2, df_split_3, df_split_4])"
   ]
  },
  {
   "cell_type": "code",
   "execution_count": null,
   "id": "2a47ab93da13cc8",
   "metadata": {},
   "outputs": [],
   "source": [
    "# No idea what these columns were for, it contained nothing so i deleted them\n",
    "df_hard_bounce_benef.drop(columns=['MSISDN'], axis=0, inplace=True)\n",
    "df_hard_bounce_parents.drop(columns=['MSISDN'], axis=0, inplace=True)"
   ]
  },
  {
   "cell_type": "code",
   "execution_count": null,
   "id": "9963eec2827bc7b2",
   "metadata": {},
   "outputs": [],
   "source": [
    "df_hard_bounce_benef_with_tel = pd.merge(\n",
    "    df_hard_bounce_benef,\n",
    "    df_all[['code', 'telephone']],\n",
    "    on='code',\n",
    "    how='left'\n",
    ")"
   ]
  },
  {
   "cell_type": "code",
   "execution_count": null,
   "id": "e167aab6e3bcb1db",
   "metadata": {},
   "outputs": [],
   "source": [
    "df_hard_bounce_parents_with_tel =pd.merge(\n",
    "    df_hard_bounce_parents,\n",
    "    df_all[['code', 'telephone']],\n",
    "    on='code',\n",
    "    how='left'\n",
    ")"
   ]
  },
  {
   "cell_type": "code",
   "execution_count": null,
   "id": "c0469a26902cae4f",
   "metadata": {},
   "outputs": [],
   "source": [
    "# Reformat CSV files for Link Mobility with the initial seperator ';'\n",
    "df_hard_bounce_benef_with_tel.to_csv(hard_bounce_benef_output_pathfile, index=False, sep=';')\n",
    "df_hard_bounce_parents_with_tel.to_csv(hard_bounce_parents_output_pathfile, index=False, sep=';')"
   ]
  },
  {
   "cell_type": "markdown",
   "id": "7fa53015b3b1566b",
   "metadata": {},
   "source": []
  }
 ],
 "metadata": {
  "kernelspec": {
   "display_name": "Python 3",
   "language": "python",
   "name": "python3"
  },
  "language_info": {
   "codemirror_mode": {
    "name": "ipython",
    "version": 2
   },
   "file_extension": ".py",
   "mimetype": "text/x-python",
   "name": "python",
   "nbconvert_exporter": "python",
   "pygments_lexer": "ipython2",
   "version": "2.7.6"
  }
 },
 "nbformat": 4,
 "nbformat_minor": 5
}
