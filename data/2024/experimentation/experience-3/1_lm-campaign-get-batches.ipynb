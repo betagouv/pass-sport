{
 "cells": [
  {
   "cell_type": "code",
   "execution_count": null,
   "id": "initial_id",
   "metadata": {},
   "outputs": [],
   "source": [
    "import os\n",
    "from dotenv import load_dotenv\n",
    "import pandas as pd\n",
    "\n",
    "load_dotenv()\n",
    "\n",
    "not_activated_pathfile = os.environ['NOT_ACTIVATED_PASS_SPORTS']\n",
    "lm_report_pathfile = os.environ['LM_REPORT_FROM_26_SEPTEMBER_CAMPAIGN']\n",
    "batch_mailing_campaign_pathfile = os.environ['BATCH_MAILING_CAMPAIGN_PATHFILE']\n",
    "batch_sms_campaign_pathfile = os.environ['BATCH_SMS_CAMPAIGN_PATHFILE'] \n",
    "batch_people_to_not_contact_pathfile = os.environ['BATCH_PEOPLE_TO_NOT_CONTACT_PATHFILE'] # (for DITP)\n",
    "\n",
    "# UTF-8 encoding by default since the csv has been filtered in step 0_cnous_dedupe.ipynb\n",
    "report_df = pd.read_csv(\n",
    "  lm_report_pathfile, \n",
    "  encoding='Windows-1252',\n",
    "  on_bad_lines='skip',\n",
    "  sep=';',\n",
    "  engine=\"c\",\n",
    "  dtype=str,\n",
    ")\n",
    "\n",
    "report_df = report_df.rename(columns={\n",
    "  'CODE': 'code'\n",
    "})\n",
    "\n",
    "not_activated_df = pd.read_csv(not_activated_pathfile)\n",
    "\n",
    "batch_size_sms_campaign = 20_000\n",
    "batch_size_mailing_campaign = 20_000\n",
    "batch_size_people_to_not_contact_campaign = 20_000 # (for DITP)"
   ]
  },
  {
   "cell_type": "code",
   "execution_count": null,
   "id": "27f7a8522dd722f8",
   "metadata": {},
   "outputs": [],
   "source": [
    "# Remove people who don't have phone number from Link Mobility report\n",
    "report_df = report_df[report_df['MSISDN'].notna()]"
   ]
  },
  {
   "cell_type": "code",
   "execution_count": null,
   "id": "8ab9c3fa3d28f792",
   "metadata": {},
   "outputs": [],
   "source": [
    "# Remove invalid emails\n",
    "report_df = report_df[report_df['ERROR_NAME'].str.lower() != 'adresse non valide']"
   ]
  },
  {
   "cell_type": "code",
   "execution_count": null,
   "id": "fc10eb544dddad1f",
   "metadata": {},
   "outputs": [],
   "source": [
    "print(f'{len(not_activated_df)} not activated, before excluding RGPD users and before filtering')"
   ]
  },
  {
   "cell_type": "code",
   "execution_count": null,
   "id": "5e46900f80410d22",
   "metadata": {},
   "outputs": [],
   "source": [
    "# Exclude blacklisted users due to RGPD reasons\n",
    "# Combine with the relative path to the file\n",
    "pathfile_rgpd_users_blacklist =os.path.join('../../', os.environ['RGPD_USERS_BLACKLIST_CSV_PATH_FILE']) \n",
    "\n",
    "# https://www.notion.so/Suivi-remont-s-utilisateurs-0bfd5c50ac67460a99ef651e3f8a0f45?pvs=4#cd6cbf85cbe6498c8ebbeda96ecba42d\n",
    "df_rgpd = pd.read_csv(pathfile_rgpd_users_blacklist, usecols=['email'], dtype={ 'email': 'string' })\n",
    "\n",
    "not_activated_excluding_rgpd_users_df = not_activated_df[~not_activated_df['email'].isin(df_rgpd['email'])]"
   ]
  },
  {
   "cell_type": "code",
   "execution_count": null,
   "id": "e093cea07678cedd",
   "metadata": {},
   "outputs": [],
   "source": [
    "print(f'{len(not_activated_excluding_rgpd_users_df)} not activated, after excluding RGPD users and before filtering')"
   ]
  },
  {
   "cell_type": "code",
   "execution_count": null,
   "id": "5d66f07acb054ef7",
   "metadata": {},
   "outputs": [],
   "source": [
    "# Take only people who did not activate their pass Sport\n",
    "filtered_df = not_activated_excluding_rgpd_users_df[not_activated_excluding_rgpd_users_df['id_psp'].isin(report_df['code'])]"
   ]
  },
  {
   "cell_type": "code",
   "execution_count": null,
   "id": "618d948f953e4a61",
   "metadata": {},
   "outputs": [],
   "source": [
    "print(f'{len(filtered_df)} people after filtering')"
   ]
  },
  {
   "cell_type": "code",
   "execution_count": null,
   "id": "5ca9a7ad49be75b",
   "metadata": {},
   "outputs": [],
   "source": [
    "# Shuffling rows\n",
    "filtered_df_shuffle = filtered_df.sample(frac=1, random_state=1).reset_index(drop=True)"
   ]
  },
  {
   "cell_type": "code",
   "execution_count": null,
   "id": "d456f9e72f9dd069",
   "metadata": {},
   "outputs": [],
   "source": [
    "# Picking <batch_size_sms_campaign> for SMS campaign\n",
    "sms_batch_df = filtered_df_shuffle.sample(n=batch_size_sms_campaign, random_state=1).reset_index(drop=True)"
   ]
  },
  {
   "cell_type": "code",
   "execution_count": null,
   "id": "e0e30729ebc5dbbc",
   "metadata": {},
   "outputs": [],
   "source": [
    "# Exclude people that were already picked for the SMS campaign\n",
    "filtered_df_shuffle_without_sms_batch = filtered_df_shuffle[~filtered_df_shuffle['id_psp'].isin(sms_batch_df['id_psp'])]\n",
    "\n",
    "# Picking <batch_size_mailing_campaign> for mailing campaign\n",
    "mailing_batch_df = filtered_df_shuffle_without_sms_batch.sample(n=batch_size_sms_campaign, random_state=1).reset_index(drop=True)"
   ]
  },
  {
   "cell_type": "code",
   "execution_count": null,
   "id": "cbe09ea56c35b7f9",
   "metadata": {},
   "outputs": [],
   "source": [
    "# Exclude people that were already picked for the SMS campaign and mailing campaign\n",
    "filtered_df_shuffle_without_sms_and_mailing_batch = filtered_df_shuffle[\n",
    "  (~filtered_df_shuffle['id_psp'].isin(sms_batch_df['id_psp'])) & \n",
    "  (~filtered_df_shuffle['id_psp'].isin(mailing_batch_df['id_psp']))\n",
    "]\n",
    "\n",
    "# Picking <batch_size_people_to_not_contact_campaign> for people to not contact campaign (for DITP)\n",
    "people_to_not_contact_df = filtered_df_shuffle_without_sms_and_mailing_batch.sample(\n",
    "  n=batch_size_sms_campaign, \n",
    "  random_state=1\n",
    ").reset_index(drop=True)"
   ]
  },
  {
   "cell_type": "code",
   "execution_count": null,
   "id": "ca9901f34ee8ab1e",
   "metadata": {},
   "outputs": [],
   "source": [
    "# Make sure mailing+sms batches don't overlap\n",
    "assert(len(mailing_batch_df[mailing_batch_df['id_psp'].isin(sms_batch_df['id_psp'])]) == 0)\n",
    "\n",
    "# Make sure people to not contact batch don't overlap with mailing+sms batches\n",
    "people_to_not_contact_overlap_count_with_mailing_batch = len(\n",
    "  people_to_not_contact_df[\n",
    "    people_to_not_contact_df['id_psp'].isin(mailing_batch_df['id_psp'])\n",
    "  ]\n",
    ")\n",
    "\n",
    "people_to_not_contact_overlap_count_with_sms_batch = len(people_to_not_contact_df[\n",
    "  people_to_not_contact_df['id_psp'].isin(sms_batch_df['id_psp'])\n",
    "]) \n",
    "\n",
    "assert(\n",
    "  (people_to_not_contact_overlap_count_with_mailing_batch + people_to_not_contact_overlap_count_with_sms_batch) == 0\n",
    ")"
   ]
  },
  {
   "cell_type": "code",
   "execution_count": null,
   "id": "34764d1dd35fe76c",
   "metadata": {},
   "outputs": [],
   "source": [
    "# Output CSV files\n",
    "mailing_batch_df.to_csv(batch_mailing_campaign_pathfile)\n",
    "sms_batch_df.to_csv(batch_sms_campaign_pathfile)\n",
    "people_to_not_contact_df.to_csv(batch_people_to_not_contact_pathfile)"
   ]
  }
 ],
 "metadata": {
  "kernelspec": {
   "display_name": "Python 3",
   "language": "python",
   "name": "python3"
  },
  "language_info": {
   "codemirror_mode": {
    "name": "ipython",
    "version": 2
   },
   "file_extension": ".py",
   "mimetype": "text/x-python",
   "name": "python",
   "nbconvert_exporter": "python",
   "pygments_lexer": "ipython2",
   "version": "2.7.6"
  }
 },
 "nbformat": 4,
 "nbformat_minor": 5
}
