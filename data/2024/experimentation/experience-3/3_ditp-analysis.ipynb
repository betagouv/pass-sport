{
 "cells": [
  {
   "cell_type": "code",
   "execution_count": null,
   "id": "b8942bb3dcd3007c",
   "metadata": {
    "ExecuteTime": {
     "end_time": "2024-12-30T13:55:47.074527Z",
     "start_time": "2024-12-30T13:55:47.064988Z"
    }
   },
   "outputs": [],
   "source": [
    "from dotenv import load_dotenv\n",
    "import os\n",
    "\n",
    "load_dotenv()\n",
    "\n",
    "lm_sms_report_pathfile = os.environ['DITP_EXPERIENCE_3_LM_SMS_REPORT_PATHILE']\n",
    "lm_mailing_report_pathfile = os.environ['DITP_EXPERIENCE_3_LM_MAILING_REPORT_PATHILE']\n",
    "db_existing_pathfile = os.environ['DB_CURRENT_WITH_PASS_STATUS']\n",
    "consolidated_original_mailing_batch_path_file = os.environ['CONSOLIDATED_ORIGINAL_MAILING_BATCH_PATH_FILE']\n",
    "consolidated_original_sms_batch_path_file = os.environ['CONSOLIDATED_ORIGINAL_SMS_BATCH_PATH_FILE']\n",
    "consolidated_original_people_not_contacted_batch_path_file = os.environ['CONSOLIDATED_ORIGINAL_PEOPLE_NOT_CONTACTED_BATCH_PATH_FILE']\n",
    "ditp_analysis_output_path_file = os.environ['DITP_ANALYSIS_EXPORT_OUPUT_PATH_FILE']\n",
    "\n",
    "# Columns for exported CSV to DITP\n",
    "type_benef_col = 'type_benef' # 1=parent, 2=direct\n",
    "type_canal_col= 'type_canal' # 1=mail, 2=sms\n",
    "object_type_col = 'objet_recu' # 0=control, 1=test\n",
    "mail_type_col = 'mail_recu' # 0=control, 1=test\n",
    "activated_col = 'recours' # 0=non, 1=oui\n",
    "benef_gender_col = 'beneficiaire_genre' # 1=Femme, 2=Homme\n",
    "benef_age_col = 'beneficiaire_age'\n",
    "parents_gender_col = 'parents_genre' # 1=Femme, 2=Homme\n",
    "parents_age_col = 'parents_age'\n",
    "postal_code_col = 'code_postal'\n",
    "child_age_col = 'age_enfant'\n",
    "qpv_col = 'qpv'\n",
    "zrr_col ='zrr'\n",
    "residential_area_col = 'zone_habitation'\n",
    "activation_date_col = 'date_recours'\n",
    "\n",
    "# Additionnal columns for DITP\n",
    "type_benef = {\n",
    "  'parent': 1,\n",
    "  'benef': 2\n",
    "}\n",
    "\n",
    "object_type = {\n",
    "  'control': 0,\n",
    "  'test': 1\n",
    "}\n",
    "\n",
    "mail_type = {\n",
    "  'control': 0,\n",
    "  'test': 1\n",
    "}\n",
    "\n",
    "canal_type = {\n",
    "  'mail': 1,\n",
    "  'sms': 2\n",
    "}\n",
    "\n",
    "gender_type = {\n",
    "  'female': 1,\n",
    "  'man': 2\n",
    "}"
   ]
  },
  {
   "cell_type": "code",
   "execution_count": null,
   "id": "initial_id",
   "metadata": {
    "ExecuteTime": {
     "end_time": "2024-12-30T13:55:47.731909Z",
     "start_time": "2024-12-30T13:55:47.077783Z"
    }
   },
   "outputs": [],
   "source": [
    "import pandas as pd\n",
    "\n",
    "# Load into dataframes the 8 files that were initially sent to Link Mobility\n",
    "df_mailing = pd.read_csv(consolidated_original_mailing_batch_path_file)\n",
    "df_sms = pd.read_csv(consolidated_original_sms_batch_path_file)\n",
    "df_people_not_contacted = pd.read_csv(consolidated_original_people_not_contacted_batch_path_file)"
   ]
  },
  {
   "cell_type": "code",
   "execution_count": null,
   "id": "582f14381efdc7e9",
   "metadata": {
    "ExecuteTime": {
     "end_time": "2024-12-30T13:55:47.813563Z",
     "start_time": "2024-12-30T13:55:47.810761Z"
    }
   },
   "outputs": [],
   "source": [
    "# Initialise type_benef, object received & mail received for each of the 8 files initially sent to Link Mobility\n",
    "df_mailing[[type_benef_col, type_canal_col]] = [\n",
    "  type_benef['parent'],\n",
    "  canal_type['mail']\n",
    "]\n",
    "\n",
    "df_sms[[type_benef_col, type_canal_col]] = [\n",
    "  type_benef['parent'],\n",
    "  canal_type['sms']\n",
    "]\n",
    "\n",
    "df_people_not_contacted[[type_benef_col, type_canal_col]] = [\n",
    "  type_benef['parent'],\n",
    "  pd.NA\n",
    "]"
   ]
  },
  {
   "cell_type": "code",
   "execution_count": null,
   "id": "6c9b53bb2202953b",
   "metadata": {
    "ExecuteTime": {
     "end_time": "2024-12-30T13:55:47.824048Z",
     "start_time": "2024-12-30T13:55:47.822546Z"
    }
   },
   "outputs": [],
   "source": [
    "assert(len(df_people_not_contacted) == 20_000)"
   ]
  },
  {
   "cell_type": "code",
   "execution_count": null,
   "id": "dbfdd422ff32526d",
   "metadata": {
    "ExecuteTime": {
     "end_time": "2024-12-30T13:56:02.198846Z",
     "start_time": "2024-12-30T13:55:47.833019Z"
    }
   },
   "outputs": [],
   "source": [
    "# Load activated pass Sports\n",
    "df_db_existing = pd.read_csv(db_existing_pathfile, dtype={\n",
    "  'id': 'str',\n",
    "  'id_psp': 'str',\n",
    "  'zone_habitation': 'str',\n",
    "  'code_postal': 'str',\n",
    "  'date_recours': 'str',\n",
    "  'recours': 'Int64',\n",
    "  'allocataire_age': 'Int64',\n",
    "  'beneficiaire_age': 'Int64',\n",
    "  'beneficiaire_genre': 'Int64',\n",
    "  'allocataire_genre': 'Int64'\n",
    "})"
   ]
  },
  {
   "cell_type": "code",
   "execution_count": null,
   "id": "aa9d4b5b380dcef6",
   "metadata": {
    "ExecuteTime": {
     "end_time": "2024-12-30T13:56:02.439174Z",
     "start_time": "2024-12-30T13:56:02.209665Z"
    }
   },
   "outputs": [],
   "source": [
    "from unidecode import unidecode\n",
    "\n",
    "# Exclude people who weren't delivered by sms/email\n",
    "lm_sms_report_pathfile = os.environ['DITP_EXPERIENCE_3_LM_SMS_REPORT_PATHILE']\n",
    "lm_mailing_report_pathfile = os.environ['DITP_EXPERIENCE_3_LM_MAILING_REPORT_PATHILE']\n",
    "\n",
    "df_sms_report = pd.read_csv(lm_sms_report_pathfile, encoding='utf-8', sep=',')\n",
    "df_mailing_report = pd.read_csv(lm_mailing_report_pathfile, encoding='ISO-8859-1', sep=';')\n",
    "\n",
    "considered_as_delivered_mail = [\n",
    "  'open',\n",
    "  'envoi ok',\n",
    "  'open+clic',\n",
    "  'clic',\n",
    "  'open+view+clic',\n",
    "  'open+view',\n",
    "  'open+unsb',\n",
    "  'unsb',\n",
    "  'open+view+clic+unsb',\n",
    "  'open+clic+unsb',\n",
    "  'view',\n",
    "  'clic+unsb',\n",
    "  'open+view+unsb',\n",
    "  'open+clic+abus',\n",
    "  'view+clic+unsb',\n",
    "  'open+unsb+abus'\n",
    "]\n",
    "\n",
    "df_mailing_only_delivered = df_mailing_report[df_mailing_report['ERROR_NAME'].apply(unidecode).str.lower().isin(considered_as_delivered_mail)]['CODE']\n",
    "\n",
    "df_sms_only_delivered = df_sms_report[df_sms_report['Delivery'] != 'FAILED']['code']"
   ]
  },
  {
   "cell_type": "code",
   "execution_count": null,
   "id": "149d97499e1626b4",
   "metadata": {
    "ExecuteTime": {
     "end_time": "2024-12-30T13:56:02.803174Z",
     "start_time": "2024-12-30T13:56:02.451335Z"
    }
   },
   "outputs": [],
   "source": [
    "df_db_existing_excluding_not_delivered = df_db_existing[\n",
    "  df_db_existing['id_psp'].isin(\n",
    "    pd.concat([df_mailing_only_delivered, df_sms_only_delivered])\n",
    "  )\n",
    "]"
   ]
  },
  {
   "cell_type": "code",
   "execution_count": null,
   "id": "fecc31617cfbc888",
   "metadata": {
    "ExecuteTime": {
     "end_time": "2024-12-30T13:56:05.728465Z",
     "start_time": "2024-12-30T13:56:02.816282Z"
    }
   },
   "outputs": [],
   "source": [
    "# Merge activated pass Sports on mailing batch\n",
    "df_mailing_activated = pd.merge(\n",
    "  df_mailing,\n",
    "  df_db_existing,\n",
    "  how='left',\n",
    "  on=['id_psp'],\n",
    "  suffixes=(None, '_new')\n",
    ")"
   ]
  },
  {
   "cell_type": "code",
   "execution_count": null,
   "id": "91047866a8d29f6d",
   "metadata": {
    "ExecuteTime": {
     "end_time": "2024-12-30T13:56:05.773005Z",
     "start_time": "2024-12-30T13:56:05.745087Z"
    }
   },
   "outputs": [],
   "source": [
    "# Only take mail that had been delivered\n",
    "df_mailing_activated_delivered = df_mailing_activated[df_mailing_activated['id_psp'].isin(df_db_existing_excluding_not_delivered['id_psp'])]"
   ]
  },
  {
   "cell_type": "code",
   "execution_count": null,
   "id": "5ef741e958b444be",
   "metadata": {
    "ExecuteTime": {
     "end_time": "2024-12-30T13:56:05.795271Z",
     "start_time": "2024-12-30T13:56:05.793216Z"
    }
   },
   "outputs": [],
   "source": [
    "assert(len(df_mailing_activated_delivered) < 20_000)"
   ]
  },
  {
   "cell_type": "code",
   "execution_count": null,
   "id": "47665c066f1de21e",
   "metadata": {
    "ExecuteTime": {
     "end_time": "2024-12-30T13:56:08.853993Z",
     "start_time": "2024-12-30T13:56:05.812198Z"
    }
   },
   "outputs": [],
   "source": [
    "# Merge activated pass Sports on sms batch\n",
    "df_sms_activated = pd.merge(\n",
    "  df_sms,\n",
    "  df_db_existing,\n",
    "  how='left',\n",
    "  on=['id_psp'],\n",
    "  suffixes=(None, '_new')\n",
    ")"
   ]
  },
  {
   "cell_type": "code",
   "execution_count": null,
   "id": "26f0e4fc7daaa3f3",
   "metadata": {
    "ExecuteTime": {
     "end_time": "2024-12-30T13:56:08.884027Z",
     "start_time": "2024-12-30T13:56:08.873900Z"
    }
   },
   "outputs": [],
   "source": [
    "# Only take SMS that had been delivered\n",
    "df_sms_activated_delivered = df_sms_activated[df_sms_activated['id_psp'].isin(df_db_existing_excluding_not_delivered['id_psp'])]"
   ]
  },
  {
   "cell_type": "code",
   "execution_count": null,
   "id": "a19be4a106cd65c",
   "metadata": {
    "ExecuteTime": {
     "end_time": "2024-12-30T13:56:08.905851Z",
     "start_time": "2024-12-30T13:56:08.904166Z"
    }
   },
   "outputs": [],
   "source": [
    "assert(len(df_sms_activated_delivered) < 20_000)"
   ]
  },
  {
   "cell_type": "code",
   "execution_count": null,
   "id": "4fd4fd54e4b6730",
   "metadata": {
    "ExecuteTime": {
     "end_time": "2024-12-30T13:56:11.870060Z",
     "start_time": "2024-12-30T13:56:08.924668Z"
    }
   },
   "outputs": [],
   "source": [
    "# Merge activated pass Sports on people who were not contacted batch\n",
    "df_people_not_contacted_activated = pd.merge(\n",
    "  df_people_not_contacted,\n",
    "  df_db_existing,\n",
    "  how='left',\n",
    "  on=['id_psp'],\n",
    "  suffixes=(None, '_new')\n",
    ")"
   ]
  },
  {
   "cell_type": "code",
   "execution_count": null,
   "id": "2c8c73c41fc840ef",
   "metadata": {
    "ExecuteTime": {
     "end_time": "2024-12-30T13:56:11.892046Z",
     "start_time": "2024-12-30T13:56:11.890414Z"
    }
   },
   "outputs": [],
   "source": [
    "assert(len(df_people_not_contacted_activated) == 20_000)"
   ]
  },
  {
   "cell_type": "code",
   "execution_count": null,
   "id": "f9737f4a8264315a",
   "metadata": {
    "ExecuteTime": {
     "end_time": "2024-12-30T13:56:11.951698Z",
     "start_time": "2024-12-30T13:56:11.911876Z"
    }
   },
   "outputs": [],
   "source": [
    "# Merge all the files that were sent to Link Mobility into one dataframe\n",
    "merged_df = pd.concat([\n",
    "  df_mailing_activated_delivered,\n",
    "  df_sms_activated_delivered,\n",
    "  df_people_not_contacted_activated\n",
    "], ignore_index=True).reset_index()"
   ]
  },
  {
   "cell_type": "code",
   "execution_count": null,
   "id": "a26fb752aa8f7bd",
   "metadata": {
    "ExecuteTime": {
     "end_time": "2024-12-30T13:56:12.016708Z",
     "start_time": "2024-12-30T13:56:11.975452Z"
    }
   },
   "outputs": [],
   "source": [
    "# Sort by activation_date_col, most recent must appear first and NaT last\n",
    "merged_df[activation_date_col] = pd.to_datetime(\n",
    "  merged_df[activation_date_col], \n",
    "  format='%d/%m/%Y',\n",
    "  errors='coerce'\n",
    ")\n",
    "\n",
    "merged_df = merged_df.sort_values(by=activation_date_col, na_position='last', ascending=False)\n",
    "\n",
    "# Reformat human readable date (initial format)\n",
    "merged_df[activation_date_col] = merged_df[activation_date_col].dt.strftime('%d/%m/%Y')"
   ]
  },
  {
   "cell_type": "code",
   "execution_count": null,
   "id": "b03fe4a51cbebe60",
   "metadata": {
    "ExecuteTime": {
     "end_time": "2024-12-30T13:56:12.056468Z",
     "start_time": "2024-12-30T13:56:12.037783Z"
    }
   },
   "outputs": [],
   "source": [
    "# Casting after the merge\n",
    "merged_df[['allocataire_genre', 'allocataire_age', 'beneficiaire_genre', 'beneficiaire_age']] = merged_df[['allocataire_genre', 'allocataire_age', 'beneficiaire_genre', 'beneficiaire_age']].astype('Int64')"
   ]
  },
  {
   "cell_type": "code",
   "execution_count": null,
   "id": "a743764f24e04bc2",
   "metadata": {
    "ExecuteTime": {
     "end_time": "2024-12-30T13:56:12.109479Z",
     "start_time": "2024-12-30T13:56:12.077795Z"
    }
   },
   "outputs": [],
   "source": [
    "columns_to_keep = [\n",
    "  type_benef_col, \n",
    "  type_canal_col,\n",
    "  activated_col,\n",
    "  activation_date_col,\n",
    "  parents_age_col,\n",
    "  parents_gender_col,\n",
    "  benef_gender_col,\n",
    "  benef_age_col,\n",
    "  postal_code_col,\n",
    "  residential_area_col\n",
    "]\n",
    "\n",
    "final_df = merged_df.rename(columns={\n",
    "  'allocataire_genre': parents_gender_col,\n",
    "  'allocataire_age': parents_age_col,\n",
    "  'beneficiaire_genre': benef_gender_col,\n",
    "  'beneficiaire_age': benef_age_col\n",
    "})\n",
    "\n",
    "final_df = final_df[columns_to_keep]"
   ]
  },
  {
   "cell_type": "code",
   "execution_count": null,
   "id": "9dfa6df7e8b8a50d",
   "metadata": {
    "ExecuteTime": {
     "end_time": "2024-12-30T13:56:12.196211Z",
     "start_time": "2024-12-30T13:56:12.132776Z"
    }
   },
   "outputs": [],
   "source": [
    "# Export final csv file for DITP\n",
    "final_df.to_csv(ditp_analysis_output_path_file, index=False)"
   ]
  },
  {
   "cell_type": "code",
   "execution_count": null,
   "id": "77ab5884b458ec66",
   "metadata": {
    "ExecuteTime": {
     "end_time": "2024-12-30T13:56:12.227093Z",
     "start_time": "2024-12-30T13:56:12.221770Z"
    }
   },
   "outputs": [],
   "source": [
    "# Number of activated pass sport for batch who where not contacted\n",
    "len(final_df[(final_df[type_canal_col].isna()) & (~final_df['date_recours'].isna())])"
   ]
  },
  {
   "cell_type": "code",
   "execution_count": null,
   "id": "46ddd55ee17ee665",
   "metadata": {
    "ExecuteTime": {
     "end_time": "2024-12-30T13:56:12.256853Z",
     "start_time": "2024-12-30T13:56:12.251667Z"
    }
   },
   "outputs": [],
   "source": [
    "# Number of activated pass sport for mailing batch\n",
    "len(final_df[(final_df[type_canal_col] == canal_type['mail']) & (~final_df['date_recours'].isna())])"
   ]
  },
  {
   "cell_type": "code",
   "execution_count": null,
   "id": "6fc58593d82922d",
   "metadata": {
    "ExecuteTime": {
     "end_time": "2024-12-30T13:56:12.286721Z",
     "start_time": "2024-12-30T13:56:12.281492Z"
    }
   },
   "outputs": [],
   "source": [
    "# Number of activated pass sport for sms batch\n",
    "len(final_df[(final_df[type_canal_col] == canal_type['sms']) & (~final_df['date_recours'].isna())])"
   ]
  },
  {
   "cell_type": "code",
   "execution_count": null,
   "id": "5e9218a087cf1333",
   "metadata": {
    "ExecuteTime": {
     "end_time": "2024-12-30T13:56:12.313108Z",
     "start_time": "2024-12-30T13:56:12.311089Z"
    }
   },
   "outputs": [],
   "source": [
    "len(df_mailing_activated_delivered)"
   ]
  },
  {
   "cell_type": "code",
   "execution_count": null,
   "id": "fd4c8dff21995795",
   "metadata": {
    "ExecuteTime": {
     "end_time": "2024-12-30T13:56:12.340415Z",
     "start_time": "2024-12-30T13:56:12.338544Z"
    }
   },
   "outputs": [],
   "source": [
    "len(df_sms_activated_delivered)"
   ]
  }
 ],
 "metadata": {
  "kernelspec": {
   "display_name": "Python 3",
   "language": "python",
   "name": "python3"
  },
  "language_info": {
   "codemirror_mode": {
    "name": "ipython",
    "version": 2
   },
   "file_extension": ".py",
   "mimetype": "text/x-python",
   "name": "python",
   "nbconvert_exporter": "python",
   "pygments_lexer": "ipython2",
   "version": "2.7.6"
  }
 },
 "nbformat": 4,
 "nbformat_minor": 5
}
