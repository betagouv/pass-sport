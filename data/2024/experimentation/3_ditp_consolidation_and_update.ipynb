{
 "cells": [
  {
   "cell_type": "markdown",
   "id": "1e6d6e0a799f8bb2",
   "metadata": {},
   "source": [
    "# DITP \n",
    "The files are to received from Link Mobility, \n",
    "We need to fill in the type beneficiairy/ object received/ mail received in the final DITP exported consolidated file\n",
    "\n",
    "# Mapping table\n",
    "| Type de bénéficiaire | Objet reçu | Mail reçu |\n",
    "|----------------------|------------|-----------|\n",
    "| 1 (parent)           | 0 (contrôle)| 0 (contrôle) |\n",
    "| 1 (parent)           | 0 (contrôle)| 1 (test)      |\n",
    "| 1 (parent)           | 1 (test)    | 0 (contrôle) |\n",
    "| 1 (parent)           | 1 (test)    | 1 (test)      |\n",
    "| 2 (Ben direct)       | 0 (contrôle)| 0 (contrôle) |\n",
    "| 2 (Ben direct)       | 0 (contrôle)| 1 (test)      |\n",
    "| 2 (Ben direct)       | 1 (test)    | 0 (contrôle) |\n",
    "| 2 (Ben direct)       | 1 (test)    | 1 (test)      |\n"
   ]
  },
  {
   "cell_type": "code",
   "execution_count": null,
   "id": "b8942bb3dcd3007c",
   "metadata": {},
   "outputs": [],
   "source": [
    "from dotenv import load_dotenv\n",
    "import os\n",
    "import numpy as np\n",
    "\n",
    "load_dotenv()\n",
    "\n",
    "activated_pass_sport_path_file = os.environ['ACTIVATED_PASS_SPORT_PATH_FILE']\n",
    "consolidated_original_path_file = os.environ['CAMPAIGN_LINK_MOBILITY_19_SEPTEMBER_CONSOLIDATED_OUTPUT_PATHFILE']\n",
    "ditp_analysis_output_path_file = os.environ['DITP_ANALYSIS_EXPORT_OUPUT_PATH_FILE']\n",
    "\n",
    "# Columns for exported CSV to DITP\n",
    "type_benef_col = 'type_benef' # 1=parent, 2=direct\n",
    "obj_received_col = 'objet_recu' # 0=control, 1=test\n",
    "mail_received_col = 'mail_recu' # 0=control, 1=test\n",
    "activated_col = 'recours' # 0=non, 1=oui\n",
    "benef_gender_col = 'beneficiaire_genre' # 1=Femme, 2=Homme\n",
    "benef_age_col = 'beneficiaire_age'\n",
    "parents_gender_col = 'parents_genre' # 1=Femme, 2=Homme\n",
    "parents_age_col = 'parents_age'\n",
    "postal_code_col = 'code_postal'\n",
    "child_age_col = 'age_enfant'\n",
    "qpv_col = 'qpv'\n",
    "zrr_col ='zrr'\n",
    "\n",
    "# Additionnal columns for DITP\n",
    "type_benef = {\n",
    "  'parent': 1,\n",
    "  'benef': 2\n",
    "}\n",
    "\n",
    "obj_received = {\n",
    "  'control': 0,\n",
    "  'test': 1\n",
    "}\n",
    "\n",
    "mail_received = {\n",
    "  'control': 0,\n",
    "  'test': 1\n",
    "}"
   ]
  },
  {
   "cell_type": "code",
   "execution_count": null,
   "id": "initial_id",
   "metadata": {},
   "outputs": [],
   "source": [
    "import pandas as pd\n",
    "\n",
    "# Load into dataframes the 8 files that were initially sent to Link Mobility\n",
    "df_100 = pd.read_csv(os.environ['DITP_CAMPAIGN_FROM_26_SEPTEMBER_PART_100_PATHFILE'])\n",
    "df_101 = pd.read_csv(os.environ['DITP_CAMPAIGN_FROM_26_SEPTEMBER_PART_101_PATHFILE'])\n",
    "df_110 = pd.read_csv(os.environ['DITP_CAMPAIGN_FROM_26_SEPTEMBER_PART_110_PATHFILE'])\n",
    "df_111 = pd.read_csv(os.environ['DITP_CAMPAIGN_FROM_26_SEPTEMBER_PART_111_PATHFILE'])\n",
    "df_200 = pd.read_csv(os.environ['DITP_CAMPAIGN_FROM_26_SEPTEMBER_PART_200_PATHFILE'])\n",
    "df_201 = pd.read_csv(os.environ['DITP_CAMPAIGN_FROM_26_SEPTEMBER_PART_201_PATHFILE'])\n",
    "df_210 = pd.read_csv(os.environ['DITP_CAMPAIGN_FROM_26_SEPTEMBER_PART_210_PATHFILE'])\n",
    "df_211 = pd.read_csv(os.environ['DITP_CAMPAIGN_FROM_26_SEPTEMBER_PART_211_PATHFILE'])"
   ]
  },
  {
   "cell_type": "code",
   "execution_count": null,
   "id": "582f14381efdc7e9",
   "metadata": {},
   "outputs": [],
   "source": [
    "# Initialise type_benef, object received & mail received for each of the 8 files initially sent to Link Mobility\n",
    "df_100[[type_benef_col, obj_received_col, mail_received_col]] = [type_benef['parent'], obj_received['control'], mail_received['control']]\n",
    "df_101[[type_benef_col, obj_received_col, mail_received_col]] = [type_benef['parent'], obj_received['control'], mail_received['test']]\n",
    "df_110[[type_benef_col, obj_received_col, mail_received_col]] = [type_benef['parent'], obj_received['test'], mail_received['control']]\n",
    "df_111[[type_benef_col, obj_received_col, mail_received_col]] = [type_benef['parent'], obj_received['test'], mail_received['test']]\n",
    "df_200[[type_benef_col, obj_received_col, mail_received_col]] = [type_benef['benef'], obj_received['control'], mail_received['control']]\n",
    "df_201[[type_benef_col, obj_received_col, mail_received_col]] = [type_benef['benef'], obj_received['control'], mail_received['test']]\n",
    "df_210[[type_benef_col, obj_received_col, mail_received_col]] = [type_benef['benef'], obj_received['test'], mail_received['control']]\n",
    "df_211[[type_benef_col, obj_received_col, mail_received_col]] = [type_benef['benef'], obj_received['test'], mail_received['test']]"
   ]
  },
  {
   "cell_type": "code",
   "execution_count": null,
   "id": "f9737f4a8264315a",
   "metadata": {},
   "outputs": [],
   "source": [
    "# Merge all the files that were sent to Link Mobility into one dataframe\n",
    "merged_df_to_update = pd.concat([\n",
    "  df_100,\n",
    "  df_101,\n",
    "  df_110,\n",
    "  df_111,\n",
    "  df_200,\n",
    "  df_201,\n",
    "  df_210,\n",
    "  df_211\n",
    "], ignore_index=True).reset_index()"
   ]
  },
  {
   "cell_type": "code",
   "execution_count": null,
   "id": "992afa0b3e1bddc1",
   "metadata": {},
   "outputs": [],
   "source": [
    "# Original file that contains exhaustive information about beneficiaire & allocataire\n",
    "original_df = pd.read_csv(consolidated_original_path_file, dtype=str)"
   ]
  },
  {
   "cell_type": "code",
   "execution_count": null,
   "id": "c0a1c95244abe0c1",
   "metadata": {},
   "outputs": [],
   "source": [
    "# Merge DITP with original CSV that was sent to Link Mobility for the campaign that contains additionnal information such as\n",
    "# beneficiary age, allocataire age, zzr, qpv, \n",
    "merged_df_updated = pd.merge(merged_df_to_update, original_df, how='left', on=['code'], suffixes=(None,'_new'))"
   ]
  },
  {
   "cell_type": "code",
   "execution_count": null,
   "id": "331c8fbe75f87f8b",
   "metadata": {},
   "outputs": [],
   "source": [
    "# Load csv file into dataframe that contains people who activated their pass Sport\n",
    "df_people_who_activated = pd.read_csv(activated_pass_sport_path_file, dtype={\n",
    "  'id': 'str',\n",
    "  'id_psp': 'str',\n",
    "})\n",
    "\n",
    "df_people_who_activated = df_people_who_activated.rename(columns={'id': 'str', 'id_psp': 'code'})\n",
    "df_people_who_activated[activated_col] = 1"
   ]
  },
  {
   "cell_type": "code",
   "execution_count": null,
   "id": "7772e672475d210a",
   "metadata": {},
   "outputs": [],
   "source": [
    "# Fill in people who have activated their pass sport\n",
    "merged_df_updated = pd.merge(\n",
    "  merged_df_updated, \n",
    "  df_people_who_activated[['code', activated_col]],\n",
    "  how='left',\n",
    "  on=['code'], \n",
    "  suffixes=(None, '_new')\n",
    ")"
   ]
  },
  {
   "cell_type": "code",
   "execution_count": null,
   "id": "bf6718dbbb0c2573",
   "metadata": {},
   "outputs": [],
   "source": [
    "# Fill column dedicated to activated pass sport\n",
    "merged_df_updated[activated_col] = merged_df_updated[activated_col].fillna(value=0)\n",
    "merged_df_updated[activated_col] = merged_df_updated[activated_col].astype(int)"
   ]
  },
  {
   "cell_type": "code",
   "execution_count": null,
   "id": "5496c94e71934f3a",
   "metadata": {},
   "outputs": [],
   "source": [
    "# Map genders\n",
    "merged_df_updated['allocataire_genre'] = np.where(merged_df_updated['allocataire_genre'] == 'F', 1, 2)\n",
    "merged_df_updated['beneficiaire_genre'] = np.where(merged_df_updated['beneficiaire_genre'] == 'F', 1, 2)"
   ]
  },
  {
   "cell_type": "code",
   "execution_count": null,
   "id": "a743764f24e04bc2",
   "metadata": {},
   "outputs": [],
   "source": [
    "columns_to_keep = [\n",
    "  type_benef_col, \n",
    "  obj_received_col, \n",
    "  mail_received_col, \n",
    "  activated_col,\n",
    "  parents_age_col,\n",
    "  parents_gender_col,\n",
    "  benef_gender_col,\n",
    "  benef_age_col,\n",
    "  postal_code_col, \n",
    "  qpv_col, \n",
    "  zrr_col\n",
    "]\n",
    "\n",
    "final_df = merged_df_updated.rename(columns={\n",
    "  'allocataire_genre': parents_gender_col,\n",
    "  'allocataire_age': parents_age_col,\n",
    "  'beneficiaire_genre': benef_gender_col,\n",
    "  'beneficiaire_age': benef_age_col\n",
    "})\n",
    "\n",
    "final_df = final_df[columns_to_keep]"
   ]
  },
  {
   "cell_type": "code",
   "execution_count": null,
   "id": "9dfa6df7e8b8a50d",
   "metadata": {},
   "outputs": [],
   "source": [
    "# Export final csv file for DITP\n",
    "final_df.to_csv(ditp_analysis_output_path_file, index=False)"
   ]
  }
 ],
 "metadata": {
  "kernelspec": {
   "display_name": "Python 3",
   "language": "python",
   "name": "python3"
  },
  "language_info": {
   "codemirror_mode": {
    "name": "ipython",
    "version": 2
   },
   "file_extension": ".py",
   "mimetype": "text/x-python",
   "name": "python",
   "nbconvert_exporter": "python",
   "pygments_lexer": "ipython2",
   "version": "2.7.6"
  }
 },
 "nbformat": 4,
 "nbformat_minor": 5
}
