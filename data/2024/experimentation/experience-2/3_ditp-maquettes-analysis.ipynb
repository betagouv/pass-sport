{
 "cells": [
  {
   "cell_type": "markdown",
   "id": "a839e5c4190af020",
   "metadata": {},
   "source": [
    "# DITP Analysis for experience 2\n",
    "Note book for DITP analysis, it produces two CSV files\n",
    "\n",
    "First file containing the usual ditp formatted columns\n",
    "Second file contanining 8 rows for each \"maquette\", the following columns are to be reported :\n",
    "- maquette_type\n",
    "- email_type\n",
    "- objet_type\n",
    "- total_ouvreurs\n",
    "- total_echantillon"
   ]
  },
  {
   "cell_type": "code",
   "execution_count": null,
   "id": "dedf3ab2957d8ea6",
   "metadata": {},
   "outputs": [],
   "source": [
    "import os\n",
    "from dotenv import load_dotenv\n",
    "import pandas as pd\n",
    "\n",
    "load_dotenv()\n",
    "\n",
    "maquette_pathfile = os.environ['DITP_MAQUETTE_PATH_FILE']\n",
    "\n",
    "# Values as stated in the lm reports\n",
    "considered_as_opened = ['open', 'open+clic', 'clic']\n",
    "\n",
    "# Link mobility reports\n",
    "lm_report_100_pathfile = os.environ['DITP_CAMPAIGN_FROM_26_SEPTEMBER_PART_100_LM_REPORT_PATHFILE']\n",
    "lm_report_101_pathfile = os.environ['DITP_CAMPAIGN_FROM_26_SEPTEMBER_PART_101_LM_REPORT_PATHFILE']\n",
    "lm_report_110_pathfile = os.environ['DITP_CAMPAIGN_FROM_26_SEPTEMBER_PART_110_LM_REPORT_PATHFILE']\n",
    "lm_report_111_pathfile = os.environ['DITP_CAMPAIGN_FROM_26_SEPTEMBER_PART_111_LM_REPORT_PATHFILE']\n",
    "lm_report_200_pathfile = os.environ['DITP_CAMPAIGN_FROM_26_SEPTEMBER_PART_200_LM_REPORT_PATHFILE']\n",
    "lm_report_201_pathfile = os.environ['DITP_CAMPAIGN_FROM_26_SEPTEMBER_PART_201_LM_REPORT_PATHFILE']\n",
    "lm_report_210_pathfile = os.environ['DITP_CAMPAIGN_FROM_26_SEPTEMBER_PART_210_LM_REPORT_PATHFILE']\n",
    "lm_report_211_pathfile = os.environ['DITP_CAMPAIGN_FROM_26_SEPTEMBER_PART_211_LM_REPORT_PATHFILE']"
   ]
  },
  {
   "cell_type": "code",
   "execution_count": null,
   "id": "7716b5f515257bc1",
   "metadata": {},
   "outputs": [],
   "source": [
    "# original campaign dataframes\n",
    "df_100_pathfile = os.environ['DITP_CAMPAIGN_FROM_26_SEPTEMBER_PART_100_PATHFILE']\n",
    "df_101_pathfile = os.environ['DITP_CAMPAIGN_FROM_26_SEPTEMBER_PART_101_PATHFILE']\n",
    "df_110_pathfile = os.environ['DITP_CAMPAIGN_FROM_26_SEPTEMBER_PART_110_PATHFILE']\n",
    "df_111_pathfile = os.environ['DITP_CAMPAIGN_FROM_26_SEPTEMBER_PART_111_PATHFILE']\n",
    "df_200_pathfile = os.environ['DITP_CAMPAIGN_FROM_26_SEPTEMBER_PART_200_PATHFILE']\n",
    "df_201_pathfile = os.environ['DITP_CAMPAIGN_FROM_26_SEPTEMBER_PART_201_PATHFILE']\n",
    "df_210_pathfile = os.environ['DITP_CAMPAIGN_FROM_26_SEPTEMBER_PART_210_PATHFILE']\n",
    "df_211_pathfile = os.environ['DITP_CAMPAIGN_FROM_26_SEPTEMBER_PART_211_PATHFILE']"
   ]
  },
  {
   "cell_type": "code",
   "execution_count": null,
   "id": "2371480c28fe5399",
   "metadata": {},
   "outputs": [],
   "source": [
    "ditp_columns = {\n",
    "  'maquette_type': 'maquette_type',\n",
    "  'type': 'type',\n",
    "  'mail_type': 'mail_type',\n",
    "  'objet_type': 'objet_type',\n",
    "  'total_ouvreurs': 'total_ouvreurs',\n",
    "  'total_echantillon': 'total_echantillon',\n",
    "  'ouvreurs_pourcentage': 'ouvreurs_pourcentage',\n",
    "}\n",
    "\n",
    "type = {\n",
    "  'parents': 'parents',\n",
    "  'beneficiaires': 'beneficiaires'\n",
    "}\n",
    "\n",
    "objet_type = {\n",
    "  'control': 0,\n",
    "  'test': 1\n",
    "}\n",
    "\n",
    "mail_type = {\n",
    "  'control': 0,\n",
    "  'test': 1\n",
    "}\n",
    "\n",
    "final_df = pd.DataFrame(columns=list(ditp_columns))"
   ]
  },
  {
   "cell_type": "code",
   "execution_count": null,
   "id": "ae0cabef8cdc3901",
   "metadata": {},
   "outputs": [],
   "source": [
    "def add_row(df, data): \n",
    "  df.loc[len(df)] = data\n",
    "  \n",
    "def get_total_opened(report_df):\n",
    "  return len(report_df[report_df['ERROR_NAME'].str.lower().isin(considered_as_opened)])\n",
    "\n",
    "def getPercentage(part, total):\n",
    "  return f'{round((part/total) * 100, 2)}%'"
   ]
  },
  {
   "cell_type": "code",
   "execution_count": null,
   "id": "469e380d8adc7011",
   "metadata": {},
   "outputs": [],
   "source": [
    "# Maquette 1 information\n",
    "lm_report_df = pd.read_csv(lm_report_100_pathfile, sep=';', encoding='macroman', dtype=str)\n",
    "total_opened = get_total_opened(lm_report_df)\n",
    "file_df = pd.read_csv(df_100_pathfile)\n",
    "total_echantillon = len(file_df)\n",
    "\n",
    "add_row(final_df, {\n",
    "  ditp_columns['maquette_type']: 'maquette-1',\n",
    "  ditp_columns['type']: type['parents'],\n",
    "  ditp_columns['mail_type']: mail_type['control'],\n",
    "  ditp_columns['objet_type']: objet_type['control'],\n",
    "  ditp_columns['total_ouvreurs']: total_opened,\n",
    "  ditp_columns['ouvreurs_pourcentage']: getPercentage(total_opened, total_echantillon),\n",
    "  ditp_columns['total_echantillon']: total_echantillon\n",
    "})"
   ]
  },
  {
   "cell_type": "code",
   "execution_count": null,
   "id": "9ebeec648405480",
   "metadata": {},
   "outputs": [],
   "source": [
    "# Maquette 2 information\n",
    "lm_report_df = pd.read_csv(lm_report_101_pathfile, sep=';', encoding='macroman', dtype=str)\n",
    "total_opened = get_total_opened(lm_report_df)\n",
    "file_df = pd.read_csv(df_101_pathfile)\n",
    "total_echantillon = len(file_df)\n",
    "\n",
    "add_row(final_df,{\n",
    "  ditp_columns['maquette_type']: 'maquette-2',\n",
    "  ditp_columns['type']: type['parents'],\n",
    "  ditp_columns['mail_type']: mail_type['control'],\n",
    "  ditp_columns['objet_type']: objet_type['test'],\n",
    "  ditp_columns['total_ouvreurs']: total_opened,\n",
    "  ditp_columns['ouvreurs_pourcentage']: getPercentage(total_opened, total_echantillon),\n",
    "  ditp_columns['total_echantillon']: total_echantillon\n",
    "})"
   ]
  },
  {
   "cell_type": "code",
   "execution_count": null,
   "id": "5c6b88866394aa01",
   "metadata": {},
   "outputs": [],
   "source": [
    "# Maquette 3 information\n",
    "lm_report_df = pd.read_csv(lm_report_110_pathfile, sep=';', encoding='macroman', dtype=str)\n",
    "total_opened = get_total_opened(lm_report_df)\n",
    "file_df = pd.read_csv(df_110_pathfile)\n",
    "total_echantillon = len(file_df)\n",
    "\n",
    "add_row(final_df,{\n",
    "  ditp_columns['maquette_type']: 'maquette-3',\n",
    "  ditp_columns['type']: type['parents'],\n",
    "  ditp_columns['mail_type']: mail_type['test'],\n",
    "  ditp_columns['objet_type']: objet_type['control'],\n",
    "  ditp_columns['total_ouvreurs']: total_opened,\n",
    "  ditp_columns['ouvreurs_pourcentage']: getPercentage(total_opened, total_echantillon),\n",
    "  ditp_columns['total_echantillon']: total_echantillon\n",
    "})"
   ]
  },
  {
   "cell_type": "code",
   "execution_count": null,
   "id": "725b57c9103838a8",
   "metadata": {},
   "outputs": [],
   "source": [
    "# Maquette 4 information\n",
    "lm_report_df = pd.read_csv(lm_report_111_pathfile, sep=';', encoding='macroman', dtype=str)\n",
    "total_opened = get_total_opened(lm_report_df)\n",
    "file_df = pd.read_csv(df_111_pathfile)\n",
    "total_echantillon = len(file_df)\n",
    "\n",
    "add_row(final_df,{\n",
    "  ditp_columns['maquette_type']: 'maquette-4',\n",
    "  ditp_columns['type']: type['parents'],\n",
    "  ditp_columns['mail_type']: mail_type['test'],\n",
    "  ditp_columns['objet_type']: objet_type['test'],\n",
    "  ditp_columns['total_ouvreurs']: total_opened,\n",
    "  ditp_columns['ouvreurs_pourcentage']: getPercentage(total_opened, total_echantillon),\n",
    "  ditp_columns['total_echantillon']: total_echantillon\n",
    "})"
   ]
  },
  {
   "cell_type": "code",
   "execution_count": null,
   "id": "ce92df8e21193f7f",
   "metadata": {},
   "outputs": [],
   "source": [
    "# Maquette 5 information\n",
    "lm_report_df = pd.read_csv(lm_report_200_pathfile, sep=';', encoding='macroman', dtype=str)\n",
    "total_opened = get_total_opened(lm_report_df)\n",
    "file_df = pd.read_csv(df_200_pathfile)\n",
    "total_echantillon = len(file_df)\n",
    "\n",
    "add_row(final_df,{\n",
    "  ditp_columns['maquette_type']: 'maquette-5',\n",
    "  ditp_columns['type']: type['beneficiaires'],\n",
    "  ditp_columns['mail_type']: mail_type['control'],\n",
    "  ditp_columns['objet_type']: objet_type['control'],\n",
    "  ditp_columns['total_ouvreurs']: total_opened,\n",
    "  ditp_columns['ouvreurs_pourcentage']: getPercentage(total_opened, total_echantillon),\n",
    "  ditp_columns['total_echantillon']: total_echantillon\n",
    "})"
   ]
  },
  {
   "cell_type": "code",
   "execution_count": null,
   "id": "43ec4998f085dda5",
   "metadata": {},
   "outputs": [],
   "source": [
    "# Maquette 6 information\n",
    "lm_report_df = pd.read_csv(lm_report_201_pathfile, sep=';', encoding='macroman', dtype=str)\n",
    "total_opened = get_total_opened(lm_report_df)\n",
    "file_df = pd.read_csv(df_201_pathfile)\n",
    "total_echantillon = len(file_df)\n",
    "\n",
    "add_row(final_df,{\n",
    "  ditp_columns['maquette_type']: 'maquette-6',\n",
    "  ditp_columns['type']: type['beneficiaires'],\n",
    "  ditp_columns['mail_type']: mail_type['control'],\n",
    "  ditp_columns['objet_type']: objet_type['test'],\n",
    "  ditp_columns['total_ouvreurs']: total_opened,\n",
    "  ditp_columns['ouvreurs_pourcentage']: getPercentage(total_opened, total_echantillon),\n",
    "  ditp_columns['total_echantillon']: total_echantillon\n",
    "})"
   ]
  },
  {
   "cell_type": "code",
   "execution_count": null,
   "id": "7aa1aefbf895768f",
   "metadata": {},
   "outputs": [],
   "source": [
    "# Maquette 7 information\n",
    "lm_report_df = pd.read_csv(lm_report_210_pathfile, sep=';', encoding='macroman', dtype=str)\n",
    "total_opened = get_total_opened(lm_report_df)\n",
    "file_df = pd.read_csv(df_210_pathfile)\n",
    "total_echantillon = len(file_df)\n",
    "\n",
    "add_row(final_df,{\n",
    "  ditp_columns['maquette_type']: 'maquette-7',\n",
    "  ditp_columns['type']: type['beneficiaires'],\n",
    "  ditp_columns['mail_type']: mail_type['test'],\n",
    "  ditp_columns['objet_type']: objet_type['control'],\n",
    "  ditp_columns['total_ouvreurs']: total_opened,\n",
    "  ditp_columns['ouvreurs_pourcentage']: getPercentage(total_opened, total_echantillon),\n",
    "  ditp_columns['total_echantillon']: total_echantillon\n",
    "})"
   ]
  },
  {
   "cell_type": "code",
   "execution_count": null,
   "id": "49b65325955dbbb0",
   "metadata": {},
   "outputs": [],
   "source": [
    "# Maquette 8 information\n",
    "lm_report_df = pd.read_csv(lm_report_211_pathfile, sep=';', encoding='macroman', dtype=str)\n",
    "total_opened = get_total_opened(lm_report_df)\n",
    "file_df = pd.read_csv(df_211_pathfile)\n",
    "total_echantillon = len(file_df)\n",
    "\n",
    "add_row(final_df,{\n",
    "  ditp_columns['maquette_type']: 'maquette-8',\n",
    "  ditp_columns['type']: type['beneficiaires'],\n",
    "  ditp_columns['mail_type']: mail_type['test'],\n",
    "  ditp_columns['objet_type']: objet_type['test'],\n",
    "  ditp_columns['total_ouvreurs']: total_opened,\n",
    "  ditp_columns['ouvreurs_pourcentage']: getPercentage(total_opened, total_echantillon),\n",
    "  ditp_columns['total_echantillon']: total_echantillon\n",
    "})"
   ]
  },
  {
   "cell_type": "code",
   "execution_count": null,
   "id": "1019966088769f64",
   "metadata": {},
   "outputs": [],
   "source": [
    "final_df.to_csv('maquettes_results.csv', index=False)"
   ]
  }
 ],
 "metadata": {
  "kernelspec": {
   "display_name": "Python 3",
   "language": "python",
   "name": "python3"
  },
  "language_info": {
   "codemirror_mode": {
    "name": "ipython",
    "version": 2
   },
   "file_extension": ".py",
   "mimetype": "text/x-python",
   "name": "python",
   "nbconvert_exporter": "python",
   "pygments_lexer": "ipython2",
   "version": "2.7.6"
  }
 },
 "nbformat": 4,
 "nbformat_minor": 5
}
