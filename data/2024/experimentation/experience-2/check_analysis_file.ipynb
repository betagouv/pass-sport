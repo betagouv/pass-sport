{
 "cells": [
  {
   "cell_type": "code",
   "execution_count": null,
   "id": "initial_id",
   "metadata": {},
   "outputs": [],
   "source": [
    "import os\n",
    "from dotenv import load_dotenv\n",
    "import pandas as pd\n",
    "\n",
    "load_dotenv()\n",
    "\n",
    "df = pd.read_csv(os.environ['BACKUP_DITP_ANALYSIS_EXPORT_OUPUT_PATH_FILE'], dtype=str)\n",
    "df_new = pd.read_csv(os.environ['DITP_ANALYSIS_EXPORT_OUPUT_PATH_FILE'], dtype=str)"
   ]
  },
  {
   "cell_type": "code",
   "execution_count": null,
   "id": "2a339467a633f6e1",
   "metadata": {},
   "outputs": [],
   "source": [
    "len(\n",
    "  df[(df['type_benef'] == \"1\") & (df['mail_recu'] == '0') & (df['objet_recu'] == '0')]\n",
    ")"
   ]
  },
  {
   "cell_type": "code",
   "execution_count": null,
   "id": "85682a5c0d47037a",
   "metadata": {},
   "outputs": [],
   "source": [
    "len(\n",
    "  df_new[(df_new['type_benef'] == \"1\") & (df_new['mail_recu'] == '0') & (df_new['objet_recu'] == '0')]\n",
    ")"
   ]
  },
  {
   "cell_type": "code",
   "execution_count": null,
   "id": "5d2bf7600602e851",
   "metadata": {},
   "outputs": [],
   "source": [
    "len(\n",
    "  df[(df['type_benef'] == \"1\") & (df['mail_recu'] == '1') & (df['objet_recu'] == '0')]\n",
    ")"
   ]
  },
  {
   "cell_type": "code",
   "execution_count": null,
   "id": "6c159bb6e66f0fad",
   "metadata": {},
   "outputs": [],
   "source": [
    "len(\n",
    "  df_new[(df_new['type_benef'] == \"1\") & (df_new['mail_recu'] == '1') & (df_new['objet_recu'] == '0')]\n",
    ")"
   ]
  },
  {
   "cell_type": "code",
   "execution_count": null,
   "id": "99438c859b423d6c",
   "metadata": {},
   "outputs": [],
   "source": [
    "len(\n",
    "  df[(df['type_benef'] == \"1\") & (df['mail_recu'] == '0') & (df['objet_recu'] == '1')]\n",
    ")"
   ]
  },
  {
   "cell_type": "code",
   "execution_count": null,
   "id": "1aca39c113d4b637",
   "metadata": {},
   "outputs": [],
   "source": [
    "len(\n",
    "  df_new[(df_new['type_benef'] == \"1\") & (df_new['mail_recu'] == '0') & (df_new['objet_recu'] == '1')]\n",
    ")"
   ]
  },
  {
   "cell_type": "code",
   "execution_count": null,
   "id": "565902b454780aab",
   "metadata": {},
   "outputs": [],
   "source": [
    "len(\n",
    "  df[(df['type_benef'] == \"1\") & (df['mail_recu'] == '1') & (df['objet_recu'] == '1')]\n",
    ")"
   ]
  },
  {
   "cell_type": "code",
   "execution_count": null,
   "id": "e1204566cb11c358",
   "metadata": {},
   "outputs": [],
   "source": [
    "len(\n",
    "  df_new[(df_new['type_benef'] == \"1\") & (df_new['mail_recu'] == '1') & (df_new['objet_recu'] == '1')]\n",
    ")"
   ]
  }
 ],
 "metadata": {
  "kernelspec": {
   "display_name": "Python 3",
   "language": "python",
   "name": "python3"
  },
  "language_info": {
   "codemirror_mode": {
    "name": "ipython",
    "version": 2
   },
   "file_extension": ".py",
   "mimetype": "text/x-python",
   "name": "python",
   "nbconvert_exporter": "python",
   "pygments_lexer": "ipython2",
   "version": "2.7.6"
  }
 },
 "nbformat": 4,
 "nbformat_minor": 5
}
