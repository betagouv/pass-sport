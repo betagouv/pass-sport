{
 "cells": [
  {
   "cell_type": "markdown",
   "id": "1e6d6e0a799f8bb2",
   "metadata": {},
   "source": [
    "# DITP experimentation n°2 - part 2\n",
    "# Notebook for LM campaign on the 19th september that begins on the 26th of september\n",
    "Analysis deadlines: 10 october, 10 november, 31 december\n",
    "\n",
    "The files are to received from Link Mobility, \n",
    "We need to fill in the type beneficiairy/ object received/ mail received in the final DITP exported consolidated file\n",
    "\n",
    "# Mapping table\n",
    "| Type de bénéficiaire | Mail reçu    | Objet reçu   |\n",
    "|----------------------|--------------|--------------|\n",
    "| 1 (parent)           | 0 (contrôle) | 0 (contrôle) |\n",
    "| 1 (parent)           | 0 (contrôle) | 1 (test)     |\n",
    "| 1 (parent)           | 1 (test)     | 0 (contrôle) |\n",
    "| 1 (parent)           | 1 (test)     | 1 (test)     |\n",
    "| 2 (Ben direct)       | 0 (contrôle) | 0 (contrôle) |\n",
    "| 2 (Ben direct)       | 0 (contrôle) | 1 (test)     |\n",
    "| 2 (Ben direct)       | 1 (test)     | 0 (contrôle) |\n",
    "| 2 (Ben direct)       | 1 (test)     | 1 (test)     |\n"
   ]
  },
  {
   "cell_type": "code",
   "execution_count": null,
   "id": "b8942bb3dcd3007c",
   "metadata": {},
   "outputs": [],
   "source": [
    "from dotenv import load_dotenv\n",
    "import os\n",
    "import numpy as np\n",
    "\n",
    "load_dotenv()\n",
    "\n",
    "db_current_path_file = os.environ['DB_CURRENT_WITH_PASS_STATUS']\n",
    "consolidated_original_path_file = os.environ['CAMPAIGN_LINK_MOBILITY_26_SEPTEMBER_CONSOLIDATED_OUTPUT_PATHFILE']\n",
    "ditp_analysis_output_path_file = os.environ['DITP_ANALYSIS_EXPORT_OUPUT_PATH_FILE']\n",
    "\n",
    "# Columns for exported CSV to DITP\n",
    "type_benef_col = 'type_benef' # 1=parent, 2=direct\n",
    "object_type_col = 'objet_recu' # 0=control, 1=test\n",
    "mail_type_col = 'mail_recu' # 0=control, 1=test\n",
    "activated_col = 'recours' # 0=non, 1=oui\n",
    "benef_gender_col = 'beneficiaire_genre' # 1=Femme, 2=Homme\n",
    "benef_age_col = 'beneficiaire_age'\n",
    "parents_gender_col = 'parents_genre' # 1=Femme, 2=Homme\n",
    "parents_age_col = 'parents_age'\n",
    "postal_code_col = 'code_postal'\n",
    "child_age_col = 'age_enfant'\n",
    "qpv_col = 'qpv'\n",
    "zrr_col ='zrr'\n",
    "residential_area_col = 'zone_habitation'\n",
    "activation_date_col = 'date_recours'\n",
    "\n",
    "# Additionnal columns for DITP\n",
    "type_benef = {\n",
    "  'parent': 1,\n",
    "  'benef': 2\n",
    "}\n",
    "\n",
    "object_type = {\n",
    "  'control': 0,\n",
    "  'test': 1\n",
    "}\n",
    "\n",
    "mail_type = {\n",
    "  'control': 0,\n",
    "  'test': 1\n",
    "}"
   ]
  },
  {
   "cell_type": "code",
   "execution_count": null,
   "id": "initial_id",
   "metadata": {},
   "outputs": [],
   "source": [
    "import pandas as pd\n",
    "\n",
    "# Load into dataframes the 8 files that were initially sent to Link Mobility\n",
    "df_100 = pd.read_csv(os.environ['DITP_CAMPAIGN_FROM_26_SEPTEMBER_PART_100_PATHFILE'])\n",
    "df_101 = pd.read_csv(os.environ['DITP_CAMPAIGN_FROM_26_SEPTEMBER_PART_101_PATHFILE'])\n",
    "df_110 = pd.read_csv(os.environ['DITP_CAMPAIGN_FROM_26_SEPTEMBER_PART_110_PATHFILE'])\n",
    "df_111 = pd.read_csv(os.environ['DITP_CAMPAIGN_FROM_26_SEPTEMBER_PART_111_PATHFILE'])\n",
    "\n",
    "df_200 = pd.read_csv(os.environ['DITP_CAMPAIGN_FROM_26_SEPTEMBER_PART_200_PATHFILE'])\n",
    "df_201 = pd.read_csv(os.environ['DITP_CAMPAIGN_FROM_26_SEPTEMBER_PART_201_PATHFILE'])\n",
    "df_210 = pd.read_csv(os.environ['DITP_CAMPAIGN_FROM_26_SEPTEMBER_PART_210_PATHFILE'])\n",
    "df_211 = pd.read_csv(os.environ['DITP_CAMPAIGN_FROM_26_SEPTEMBER_PART_211_PATHFILE'])"
   ]
  },
  {
   "cell_type": "code",
   "execution_count": null,
   "id": "582f14381efdc7e9",
   "metadata": {},
   "outputs": [],
   "source": [
    "# Initialise type_benef, object received & mail received for each of the 8 files initially sent to Link Mobility\n",
    "df_100[[type_benef_col, mail_type_col, object_type_col]] = [\n",
    "  type_benef['parent'], mail_type['control'], object_type['control']\n",
    "]\n",
    "\n",
    "df_101[[type_benef_col, mail_type_col, object_type_col]] = [\n",
    "  type_benef['parent'], mail_type['control'], object_type['test']\n",
    "]\n",
    "\n",
    "df_110[[type_benef_col, mail_type_col, object_type_col]] = [\n",
    "  type_benef['parent'], mail_type['test'], object_type['control']\n",
    "]\n",
    "\n",
    "df_111[[type_benef_col, mail_type_col, object_type_col]] = [\n",
    "  type_benef['parent'], mail_type['test'], object_type['test']\n",
    "]\n",
    "\n",
    "df_200[[type_benef_col, mail_type_col, object_type_col]] = [\n",
    "  type_benef['benef'], mail_type['control'], object_type['control']\n",
    "]\n",
    "\n",
    "df_201[[type_benef_col, mail_type_col, object_type_col]] = [\n",
    "  type_benef['benef'], mail_type['control'], object_type['test']\n",
    "]\n",
    "\n",
    "df_210[[type_benef_col, mail_type_col, object_type_col]] = [\n",
    "  type_benef['benef'], mail_type['test'], object_type['control']\n",
    "]\n",
    "\n",
    "df_211[[type_benef_col, object_type_col, mail_type_col]] = [\n",
    "  type_benef['benef'], object_type['test'], mail_type['test']\n",
    "]"
   ]
  },
  {
   "cell_type": "code",
   "execution_count": null,
   "id": "f9737f4a8264315a",
   "metadata": {},
   "outputs": [],
   "source": [
    "# Merge all the files that were sent to Link Mobility into one dataframe\n",
    "merged_df_to_update = pd.concat([\n",
    "  df_100,\n",
    "  df_101,\n",
    "  df_110,\n",
    "  df_111,\n",
    "  df_200,\n",
    "  df_201,\n",
    "  df_210,\n",
    "  df_211\n",
    "], ignore_index=True).reset_index()"
   ]
  },
  {
   "cell_type": "code",
   "execution_count": null,
   "id": "992afa0b3e1bddc1",
   "metadata": {},
   "outputs": [],
   "source": [
    "# Original file that contains exhaustive information about beneficiaire & allocataire\n",
    "original_df = pd.read_csv(consolidated_original_path_file, dtype={\n",
    "  'email': 'str',\n",
    "  'allocataire_age': 'Int64',\n",
    "  'allocataire_genre': 'str',\n",
    "  'beneficiaire_age': 'Int64',\n",
    "  'beneficiaire_genre': 'str',\n",
    "  'allocataire_qualite': 'str',\n",
    "  'code_postal': 'str',\n",
    "  'zrr': 'boolean',\n",
    "  'qpv': 'boolean'\n",
    "})"
   ]
  },
  {
   "cell_type": "code",
   "execution_count": null,
   "id": "c0a1c95244abe0c1",
   "metadata": {},
   "outputs": [],
   "source": [
    "# Merge DITP with original CSV that was sent to Link Mobility for the campaign that contains additionnal information such as\n",
    "# beneficiary age, allocataire age, zzr, qpv, \n",
    "merged_df_updated = pd.merge(merged_df_to_update, original_df, how='left', on=['code'], suffixes=(None,'_new'))"
   ]
  },
  {
   "cell_type": "code",
   "execution_count": null,
   "id": "28cbd54c28fff640",
   "metadata": {},
   "outputs": [],
   "source": [
    "merged_df_updated[['qpv', 'zrr']] = merged_df_updated[['qpv', 'zrr']].fillna(False)"
   ]
  },
  {
   "cell_type": "code",
   "execution_count": null,
   "id": "331c8fbe75f87f8b",
   "metadata": {},
   "outputs": [],
   "source": [
    "# Load csv file into dataframe that contains people who activated their pass Sport\n",
    "df_db_existing = pd.read_csv(db_current_path_file, dtype={\n",
    "  'id': 'str',\n",
    "  'id_psp': 'str',\n",
    "  'date_recours': 'str',\n",
    "  'recours': 'Int64'\n",
    "})"
   ]
  },
  {
   "cell_type": "code",
   "execution_count": null,
   "id": "ea0b9d54552d1b5b",
   "metadata": {},
   "outputs": [],
   "source": [
    "len(df_db_existing)"
   ]
  },
  {
   "cell_type": "code",
   "execution_count": null,
   "id": "45c949edddc293ec",
   "metadata": {},
   "outputs": [],
   "source": [
    "df_db_existing_activated_only = df_db_existing[df_db_existing['recours'] == 1]"
   ]
  },
  {
   "cell_type": "code",
   "execution_count": null,
   "id": "89ee0f5dd924e6f6",
   "metadata": {},
   "outputs": [],
   "source": [
    "len(df_db_existing_activated_only)"
   ]
  },
  {
   "cell_type": "code",
   "execution_count": null,
   "id": "97fe70d63f56c7bb",
   "metadata": {},
   "outputs": [],
   "source": [
    "df_db_existing_activated_only = df_db_existing_activated_only.rename(columns={\n",
    "  'id_psp': 'code'\n",
    "})"
   ]
  },
  {
   "cell_type": "code",
   "execution_count": null,
   "id": "7772e672475d210a",
   "metadata": {},
   "outputs": [],
   "source": [
    "# Fill in people who have activated their pass sport\n",
    "merged_df_updated = pd.merge(\n",
    "  merged_df_updated, \n",
    "  df_db_existing_activated_only[['code', activated_col, activation_date_col]],\n",
    "  how='left',\n",
    "  on=['code'], \n",
    "  suffixes=(None, '_new')\n",
    ")"
   ]
  },
  {
   "cell_type": "code",
   "execution_count": null,
   "id": "bf6718dbbb0c2573",
   "metadata": {},
   "outputs": [],
   "source": [
    "# Fill column dedicated to activated pass sport\n",
    "merged_df_updated[activated_col] = merged_df_updated[activated_col].fillna(value=0)\n",
    "merged_df_updated[activated_col] = merged_df_updated[activated_col].astype(int)"
   ]
  },
  {
   "cell_type": "code",
   "execution_count": null,
   "id": "5496c94e71934f3a",
   "metadata": {},
   "outputs": [],
   "source": [
    "# Map genders\n",
    "merged_df_updated['allocataire_genre'] = np.where(merged_df_updated['allocataire_genre'] == 'F', 1, 2)\n",
    "merged_df_updated['beneficiaire_genre'] = np.where(merged_df_updated['beneficiaire_genre'] == 'F', 1, 2)"
   ]
  },
  {
   "cell_type": "code",
   "execution_count": null,
   "id": "c1b42b96916a2fda",
   "metadata": {},
   "outputs": [],
   "source": [
    "# Sort by activation_date_col, most recent must appear first and NaT last\n",
    "merged_df_updated[activation_date_col] = pd.to_datetime(\n",
    "  merged_df_updated[activation_date_col], \n",
    "  format='%d/%m/%Y',\n",
    "  errors='coerce'\n",
    ")\n",
    "\n",
    "merged_df_updated = merged_df_updated.sort_values(by=activation_date_col, na_position='last', ascending=False)\n",
    "\n",
    "# Reformat human readable date (initial format)\n",
    "merged_df_updated[activation_date_col] = merged_df_updated[activation_date_col].dt.strftime('%d/%m/%Y')"
   ]
  },
  {
   "cell_type": "code",
   "execution_count": null,
   "id": "dd52beb2445da461",
   "metadata": {},
   "outputs": [],
   "source": [
    "# Create <residential_area_col>, exclude qpv and zrr when both are true because it isn't reliable\n",
    "merged_df_updated[residential_area_col] = np.where(\n",
    "    merged_df_updated['qpv'] & merged_df_updated['zrr'],  # Condition: Both qpv and zrr are True\n",
    "    '',  # If both are True, set empty string\n",
    "    np.where(\n",
    "      merged_df_updated['qpv'], 'qpv', \n",
    "      np.where(\n",
    "        merged_df_updated['zrr'], 'zrr', ''\n",
    "      )\n",
    "    )  # Otherwise, set 'qpv', 'zrr', or empty string\n",
    ")"
   ]
  },
  {
   "cell_type": "code",
   "execution_count": null,
   "id": "7860e3c2129a8d52",
   "metadata": {},
   "outputs": [],
   "source": [
    "# Exclude people who have not been delivered\n",
    "from unidecode import unidecode\n",
    "\n",
    "lm_report_100_pathfile = os.environ['DITP_CAMPAIGN_FROM_26_SEPTEMBER_PART_100_LM_REPORT_PATHFILE']\n",
    "lm_report_101_pathfile = os.environ['DITP_CAMPAIGN_FROM_26_SEPTEMBER_PART_101_LM_REPORT_PATHFILE']\n",
    "lm_report_110_pathfile = os.environ['DITP_CAMPAIGN_FROM_26_SEPTEMBER_PART_110_LM_REPORT_PATHFILE']\n",
    "lm_report_111_pathfile = os.environ['DITP_CAMPAIGN_FROM_26_SEPTEMBER_PART_111_LM_REPORT_PATHFILE']\n",
    "lm_report_200_pathfile = os.environ['DITP_CAMPAIGN_FROM_26_SEPTEMBER_PART_200_LM_REPORT_PATHFILE']\n",
    "lm_report_201_pathfile = os.environ['DITP_CAMPAIGN_FROM_26_SEPTEMBER_PART_201_LM_REPORT_PATHFILE']\n",
    "lm_report_210_pathfile = os.environ['DITP_CAMPAIGN_FROM_26_SEPTEMBER_PART_210_LM_REPORT_PATHFILE']\n",
    "lm_report_211_pathfile = os.environ['DITP_CAMPAIGN_FROM_26_SEPTEMBER_PART_211_LM_REPORT_PATHFILE']\n",
    "\n",
    "lm_report_100_df = pd.read_csv(lm_report_100_pathfile, sep=';', encoding='macroman', dtype=str)\n",
    "lm_report_101_df = pd.read_csv(lm_report_101_pathfile, sep=';', encoding='macroman', dtype=str)\n",
    "lm_report_110_df = pd.read_csv(lm_report_110_pathfile, sep=';', encoding='macroman', dtype=str)\n",
    "lm_report_111_df = pd.read_csv(lm_report_111_pathfile, sep=';', encoding='macroman', dtype=str)\n",
    "lm_report_200_df = pd.read_csv(lm_report_200_pathfile, sep=';', encoding='macroman', dtype=str)\n",
    "lm_report_201_df = pd.read_csv(lm_report_201_pathfile, sep=';', encoding='macroman', dtype=str)\n",
    "lm_report_210_df = pd.read_csv(lm_report_210_pathfile, sep=';', encoding='macroman', dtype=str)\n",
    "lm_report_211_df = pd.read_csv(lm_report_211_pathfile, sep=';', encoding='macroman', dtype=str)\n",
    "\n",
    "merged_report_df = pd.concat([\n",
    "  lm_report_100_df,\n",
    "  lm_report_101_df,\n",
    "  lm_report_110_df,\n",
    "  lm_report_111_df,\n",
    "  lm_report_200_df,\n",
    "  lm_report_201_df,\n",
    "  lm_report_210_df,\n",
    "  lm_report_211_df\n",
    "], ignore_index=True)\n",
    "\n",
    "considered_as_delivered = [\n",
    "  'open',\n",
    "  'envoi ok',\n",
    "  'open+clic',\n",
    "  'clic',\n",
    "  'open+view+clic',\n",
    "  'open+view',\n",
    "  'open+unsb',\n",
    "  'unsb',\n",
    "  'open+view+clic+unsb',\n",
    "  'open+clic+unsb',\n",
    "  'view',\n",
    "  'clic+unsb',\n",
    "  'open+view+unsb',\n",
    "  'open+clic+abus',\n",
    "  'view+clic+unsb',\n",
    "  'open+unsb+abus',\n",
    "  'view+clic',\n",
    "  'clic+abuse',\n",
    "  'open+view+clic+abus',\n",
    "  'open+view+abus',\n",
    "  'view+unsb',\n",
    "  'unsb+abus'\n",
    "]\n",
    "\n",
    "merged_report_df['ERROR_NAME'] = merged_report_df['ERROR_NAME'].apply(unidecode)\n",
    "merged_report_df['ERROR_NAME'] = merged_report_df['ERROR_NAME'].str.lower()\n",
    "merged_report_df_only_delivered = merged_report_df[merged_report_df['ERROR_NAME'].isin(considered_as_delivered)]\n",
    "\n",
    "# Exclude not delivered users\n",
    "merged_df_updated_with_only_delivered = merged_df_updated[merged_df_updated['code'].isin(merged_report_df_only_delivered['CODE'])]"
   ]
  },
  {
   "cell_type": "code",
   "execution_count": null,
   "id": "df388fc227ccc525",
   "metadata": {},
   "outputs": [],
   "source": [
    "merged_report_df['ERROR_NAME'].value_counts()"
   ]
  },
  {
   "cell_type": "code",
   "execution_count": null,
   "id": "a743764f24e04bc2",
   "metadata": {},
   "outputs": [],
   "source": [
    "columns_to_keep = [\n",
    "  type_benef_col, \n",
    "  object_type_col, \n",
    "  mail_type_col, \n",
    "  activated_col,\n",
    "  activation_date_col,\n",
    "  parents_age_col,\n",
    "  parents_gender_col,\n",
    "  benef_gender_col,\n",
    "  benef_age_col,\n",
    "  postal_code_col,\n",
    "  residential_area_col\n",
    "]\n",
    "\n",
    "final_df = merged_df_updated_with_only_delivered.rename(columns={\n",
    "  'allocataire_genre': parents_gender_col,\n",
    "  'allocataire_age': parents_age_col,\n",
    "  'beneficiaire_genre': benef_gender_col,\n",
    "  'beneficiaire_age': benef_age_col\n",
    "})\n",
    "\n",
    "final_df = final_df[columns_to_keep]"
   ]
  },
  {
   "cell_type": "code",
   "execution_count": null,
   "id": "9dfa6df7e8b8a50d",
   "metadata": {},
   "outputs": [],
   "source": [
    "# Export final csv file for DITP\n",
    "final_df.to_csv(ditp_analysis_output_path_file, index=False)"
   ]
  }
 ],
 "metadata": {
  "kernelspec": {
   "display_name": "Python 3",
   "language": "python",
   "name": "python3"
  },
  "language_info": {
   "codemirror_mode": {
    "name": "ipython",
    "version": 2
   },
   "file_extension": ".py",
   "mimetype": "text/x-python",
   "name": "python",
   "nbconvert_exporter": "python",
   "pygments_lexer": "ipython2",
   "version": "2.7.6"
  }
 },
 "nbformat": 4,
 "nbformat_minor": 5
}
