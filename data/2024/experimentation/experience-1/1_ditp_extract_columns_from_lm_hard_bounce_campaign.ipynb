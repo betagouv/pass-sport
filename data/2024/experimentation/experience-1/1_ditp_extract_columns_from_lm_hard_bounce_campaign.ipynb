{
 "cells": [
  {
   "cell_type": "markdown",
   "id": "8226db6e2f9c1405",
   "metadata": {},
   "source": [
    "# DITP experimentation n°1\n",
    "## Link Mobility notebook to extract people who didn't activate their pass Sport\n",
    "The process:\n",
    "- Take the export from Link Mobility hardbounce SMS campaign from 12 september\n",
    "- Extract and add two columns\n",
    "  - type of benef (parent=1, beneficiaire_direct=2) used, \n",
    "  - object received (controle=1, test=1)\n",
    "- Cross reference with existing database to add column \"recours\" to know which beneficiary activated or not their pass Sport\n",
    "- Calculate the age of allocataire & beneficiaire from existing data\n",
    "- Add column code_postal from existing data\n",
    "- Add geo columns zrr,qpv from existing data\n",
    "- Output the final CSV file for DITP (all information should be anonym)\n"
   ]
  },
  {
   "cell_type": "code",
   "execution_count": null,
   "id": "1464ca9af8972881",
   "metadata": {
    "ExecuteTime": {
     "end_time": "2024-10-25T09:32:10.378530Z",
     "start_time": "2024-10-25T09:32:10.060040Z"
    }
   },
   "outputs": [],
   "source": [
    "import pandas as pd\n",
    "from dotenv import load_dotenv\n",
    "import os\n",
    "\n",
    "load_dotenv()\n",
    "\n",
    "# File that can be retrieved from link mobility platform\n",
    "lm_pathfile = os.environ['CAMPAIGN_HARD_BOUNCE_SMS_12_SEPTEMBER_PATHFILE']\n",
    "\n",
    "lm_extracted_information_output_pathfile = os.environ['CAMPAIGN_HARD_BOUNCE_SMS_12_SEPTEMBER_EXTRACTED_INFORMATION_OUTPUT_PATHFILE']\n",
    "\n",
    "db_existing = os.environ['DB_CURRENT_WITH_PASS_STATUS']\n",
    "\n",
    "code_col = 'id_psp'\n",
    "type_benef_col = 'type_benef' # 1=parent, 2=direct\n",
    "obj_received_col = 'objet_recu' # 0=control, 1=test\n",
    "activation_date_col = 'date_recours'\n",
    "residential_area_col = 'zone_habitation'"
   ]
  },
  {
   "cell_type": "code",
   "execution_count": null,
   "id": "caa9078fd7f6a4e",
   "metadata": {
    "ExecuteTime": {
     "end_time": "2024-10-25T09:32:11.895631Z",
     "start_time": "2024-10-25T09:32:10.379987Z"
    }
   },
   "outputs": [],
   "source": [
    "df = pd.read_csv(lm_pathfile, sep=',', dtype=str)"
   ]
  },
  {
   "cell_type": "code",
   "execution_count": null,
   "id": "6cf79de623cde32d",
   "metadata": {
    "ExecuteTime": {
     "end_time": "2024-10-25T09:32:12.080920Z",
     "start_time": "2024-10-25T09:32:11.896315Z"
    }
   },
   "outputs": [],
   "source": [
    "# Regex to extract codes (exclude \"O\" and \"I\")\n",
    "pattern = r\"24-[A-HJ-NP-Z]{4}-[A-HJ-NP-Z]{4}\"\n",
    "\n",
    "lm_initial_columns = df.columns\n",
    "\n",
    "df[code_col] = df['Message Content'].str.extract(f'({pattern})')"
   ]
  },
  {
   "cell_type": "code",
   "execution_count": null,
   "id": "47e967dc858618f2",
   "metadata": {
    "ExecuteTime": {
     "end_time": "2024-10-25T09:32:12.118737Z",
     "start_time": "2024-10-25T09:32:12.081590Z"
    }
   },
   "outputs": [],
   "source": [
    "# Exclude non delivered people\n",
    "df_with_only_delivered_people = df[df['Error Reason'].isna()]"
   ]
  },
  {
   "cell_type": "code",
   "execution_count": null,
   "id": "f2ced03012915ea3",
   "metadata": {
    "ExecuteTime": {
     "end_time": "2024-10-25T09:32:12.123985Z",
     "start_time": "2024-10-25T09:32:12.120341Z"
    }
   },
   "outputs": [],
   "source": [
    "len(df)"
   ]
  },
  {
   "cell_type": "code",
   "execution_count": null,
   "id": "adfd226767f32c05",
   "metadata": {
    "ExecuteTime": {
     "end_time": "2024-10-25T09:32:12.126784Z",
     "start_time": "2024-10-25T09:32:12.124626Z"
    }
   },
   "outputs": [],
   "source": [
    "len(df_with_only_delivered_people)"
   ]
  },
  {
   "cell_type": "code",
   "execution_count": null,
   "id": "5fe4ddadc09d7862",
   "metadata": {
    "ExecuteTime": {
     "end_time": "2024-10-25T09:32:12.129814Z",
     "start_time": "2024-10-25T09:32:12.127470Z"
    }
   },
   "outputs": [],
   "source": [
    "len(df) -len(df_with_only_delivered_people)"
   ]
  },
  {
   "cell_type": "code",
   "execution_count": null,
   "id": "2c0dde2fbc3c07c4",
   "metadata": {
    "ExecuteTime": {
     "end_time": "2024-10-25T09:32:12.252661Z",
     "start_time": "2024-10-25T09:32:12.130469Z"
    }
   },
   "outputs": [],
   "source": [
    "import numpy as np\n",
    "\n",
    "# Set type/object received columns for ditp\n",
    "df_with_only_delivered_people[type_benef_col] = np.where(df_with_only_delivered_people['Campaign Name'].str.contains('parents', case=False), 1, 2)\n",
    "df_with_only_delivered_people[obj_received_col] = np.where(df_with_only_delivered_people['Campaign Name'].str.contains('contrôle', case=False), 0, 1)"
   ]
  },
  {
   "cell_type": "code",
   "execution_count": null,
   "id": "c232be4865f49d8b",
   "metadata": {
    "ExecuteTime": {
     "end_time": "2024-10-25T09:32:19.714683Z",
     "start_time": "2024-10-25T09:32:12.253448Z"
    }
   },
   "outputs": [],
   "source": [
    "# Load existing database with exhaustive info\n",
    "df_db_existing = pd.read_csv(db_existing, sep=',', dtype=str)"
   ]
  },
  {
   "cell_type": "code",
   "execution_count": null,
   "id": "ee921a3d9412b5b2",
   "metadata": {
    "ExecuteTime": {
     "end_time": "2024-10-25T09:32:23.185235Z",
     "start_time": "2024-10-25T09:32:19.715917Z"
    }
   },
   "outputs": [],
   "source": [
    "# Merge lm & existing data dataframes & drop initial columns from LM campaign csv\n",
    "merged_df = pd.merge(\n",
    "  df_with_only_delivered_people, \n",
    "  df_db_existing, \n",
    "  on=code_col, \n",
    "  how=\"left\", \n",
    "  suffixes=(None, '_new')\n",
    ")\n",
    "\n",
    "merged_df = merged_df.drop(columns=lm_initial_columns)"
   ]
  },
  {
   "cell_type": "code",
   "execution_count": null,
   "id": "f8ee3ec6de3cdbce",
   "metadata": {
    "ExecuteTime": {
     "end_time": "2024-10-25T09:32:23.246435Z",
     "start_time": "2024-10-25T09:32:23.186212Z"
    }
   },
   "outputs": [],
   "source": [
    "# Columns for exported CSV to DITP\n",
    "type_benef_col = 'type_benef' # 1=parent, 2=direct\n",
    "obj_received_col = 'objet_recu' # 0=control, 1=test\n",
    "mail_received_col = 'mail_recu' # 0=control, 1=test\n",
    "activated_col = 'recours' # 0=non, 1=oui\n",
    "benef_gender_col = 'beneficiaire_genre' # 1=Femme, 2=Homme\n",
    "benef_age_col = 'beneficiaire_age'\n",
    "parents_gender_col = 'parents_genre' # 1=Femme, 2=Homme\n",
    "parents_age_col = 'parents_age'\n",
    "postal_code_col = 'code_postal'\n",
    "child_age_col = 'age_enfant'\n",
    "qpv_col = 'qpv'\n",
    "zrr_col ='zrr'\n",
    "\n",
    "merged_df = merged_df.rename(columns={\n",
    "  'allocataire_genre': parents_gender_col,\n",
    "  'allocataire_age': parents_age_col,\n",
    "  'genre': benef_gender_col,\n",
    "  'beneficiaire_age': benef_age_col,\n",
    "  'beneficiaire_genre': benef_gender_col\n",
    "})"
   ]
  },
  {
   "cell_type": "code",
   "execution_count": null,
   "id": "bf5b8e5409a9119c",
   "metadata": {
    "ExecuteTime": {
     "end_time": "2024-10-25T09:32:23.320296Z",
     "start_time": "2024-10-25T09:32:23.247141Z"
    }
   },
   "outputs": [],
   "source": [
    "# Sort by activation_date_col, most recent must appear first and NaT last\n",
    "merged_df[activation_date_col] = pd.to_datetime(\n",
    "  merged_df[activation_date_col], \n",
    "  format='%d/%m/%Y',\n",
    "  errors='coerce'\n",
    ")\n",
    "\n",
    "merged_db_unwrapped = merged_df.sort_values(by=activation_date_col, na_position='last', ascending=False)\n",
    "\n",
    "# Reformat human readable date (initial format)\n",
    "merged_db_unwrapped[activation_date_col] = merged_db_unwrapped[activation_date_col].dt.strftime('%d/%m/%Y')"
   ]
  },
  {
   "cell_type": "code",
   "execution_count": null,
   "id": "5401d74aa0c4ce4d",
   "metadata": {
    "ExecuteTime": {
     "end_time": "2024-10-25T09:32:23.331220Z",
     "start_time": "2024-10-25T09:32:23.320903Z"
    }
   },
   "outputs": [],
   "source": [
    "columns_to_keep = [\n",
    "  type_benef_col, \n",
    "  obj_received_col, \n",
    "  activated_col,\n",
    "  activation_date_col,\n",
    "  parents_age_col,\n",
    "  parents_gender_col,\n",
    "  benef_gender_col,\n",
    "  benef_age_col,\n",
    "  postal_code_col, \n",
    "  residential_area_col,\n",
    "]\n",
    "\n",
    "df_final = merged_db_unwrapped[columns_to_keep]"
   ]
  },
  {
   "cell_type": "code",
   "execution_count": null,
   "id": "908558c76bfc541a",
   "metadata": {
    "ExecuteTime": {
     "end_time": "2024-10-25T09:32:23.533296Z",
     "start_time": "2024-10-25T09:32:23.333393Z"
    }
   },
   "outputs": [],
   "source": [
    "df_final.to_csv(lm_extracted_information_output_pathfile, index=False)"
   ]
  }
 ],
 "metadata": {
  "kernelspec": {
   "display_name": "Python 3",
   "language": "python",
   "name": "python3"
  },
  "language_info": {
   "codemirror_mode": {
    "name": "ipython",
    "version": 2
   },
   "file_extension": ".py",
   "mimetype": "text/x-python",
   "name": "python",
   "nbconvert_exporter": "python",
   "pygments_lexer": "ipython2",
   "version": "2.7.6"
  }
 },
 "nbformat": 4,
 "nbformat_minor": 5
}
