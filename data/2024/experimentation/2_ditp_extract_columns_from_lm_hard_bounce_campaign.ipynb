{
 "cells": [
  {
   "cell_type": "markdown",
   "id": "8226db6e2f9c1405",
   "metadata": {},
   "source": [
    "# Link Mobility notebook to extract people who didn't activate their pass Sport\n",
    "The process:\n",
    "- Take the export from Link Mobility hardbounce SMS campaign from 12 september\n",
    "- Extract and add two columns\n",
    "  - type of benef (parent=1, beneficiaire_direct=2) used, \n",
    "  - object received (controle=1, test=1)\n",
    "- Cross reference with existing database to add column \"recours\" to know which beneficiary activated or not their pass Sport\n",
    "- Calculate the age of allocataire & beneficiaire from existing data\n",
    "- Add column code_postal from existing data\n",
    "- Add geo columns zrr,qpv from existing data\n",
    "- Output the final CSV file for DITP (all information should be anonym)\n"
   ]
  },
  {
   "cell_type": "code",
   "execution_count": null,
   "id": "1464ca9af8972881",
   "metadata": {},
   "outputs": [],
   "source": [
    "import pandas as pd\n",
    "from datetime import date\n",
    "\n",
    "from dotenv import load_dotenv\n",
    "import os\n",
    "\n",
    "load_dotenv()\n",
    "\n",
    "# File that can be retrieved from link mobility platform\n",
    "lm_pathfile = os.environ['CAMPAIGN_HARD_BOUNCE_SMS_12_SEPTEMBER_PATHFILE']\n",
    "\n",
    "lm_extracted_information_output_pathfile = os.environ['CAMPAIGN_HARD_BOUNCE_SMS_12_SEPTEMBER_EXTRACTED_INFORMATION_OUTPUT_PATHFILE']\n",
    "db_existing = os.environ['DB_CURRENT_WITH_PASS_STATUS']\n",
    "\n",
    "code_col = 'id_psp'\n",
    "type_benef_col = 'type_benef' # 1=parent, 2=direct\n",
    "obj_received_col = 'objet_recu' # 0=control, 1=test"
   ]
  },
  {
   "cell_type": "code",
   "execution_count": null,
   "id": "caa9078fd7f6a4e",
   "metadata": {},
   "outputs": [],
   "source": [
    "df = pd.read_csv(lm_pathfile, sep=',', dtype=str)"
   ]
  },
  {
   "cell_type": "code",
   "execution_count": null,
   "id": "6cf79de623cde32d",
   "metadata": {},
   "outputs": [],
   "source": [
    "# Regex to extract codes (exclude \"O\" and \"I\")\n",
    "pattern = r\"24-[A-HJ-NP-Z]{4}-[A-HJ-NP-Z]{4}\"\n",
    "\n",
    "lm_initial_columns = df.columns\n",
    "\n",
    "df[code_col] = df['Message Content'].str.extract(f'({pattern})')"
   ]
  },
  {
   "cell_type": "code",
   "execution_count": null,
   "id": "2c0dde2fbc3c07c4",
   "metadata": {},
   "outputs": [],
   "source": [
    "import numpy as np\n",
    "\n",
    "# Set type/object received columns for ditp\n",
    "df[type_benef_col] = np.where(df['Campaign Name'].str.contains('parents', case=False), 1, 2);\n",
    "df[obj_received_col] = np.where(df['Campaign Name'].str.contains('contrôle', case=False), 0, 1);"
   ]
  },
  {
   "cell_type": "code",
   "execution_count": null,
   "id": "c232be4865f49d8b",
   "metadata": {
    "jupyter": {
     "is_executing": true
    }
   },
   "outputs": [],
   "source": [
    "# Load existing database with exhaustive info\n",
    "df_db_existing = pd.read_csv(db_existing, sep=',', dtype=str)"
   ]
  },
  {
   "cell_type": "code",
   "execution_count": null,
   "id": "ee921a3d9412b5b2",
   "metadata": {
    "jupyter": {
     "is_executing": true
    }
   },
   "outputs": [],
   "source": [
    "merged_df = pd.merge(df, df_db_existing, on=code_col, how=\"left\", suffixes=(None, None))"
   ]
  },
  {
   "cell_type": "code",
   "execution_count": null,
   "id": "a42ba348e99ffdab",
   "metadata": {
    "jupyter": {
     "is_executing": true
    }
   },
   "outputs": [],
   "source": [
    "merged_df = merged_df.drop(columns=lm_initial_columns)"
   ]
  },
  {
   "cell_type": "code",
   "execution_count": null,
   "id": "1333bc5540e77eeb",
   "metadata": {
    "jupyter": {
     "is_executing": true
    }
   },
   "outputs": [],
   "source": [
    "import json \n",
    "\n",
    "# Cleaning data process\n",
    "# unwrap alloc\n",
    "df_json_allocataire = pd.json_normalize(merged_df['allocataire'].apply(json.loads))\n",
    "df_json_allocataire = df_json_allocataire.add_prefix('allocataire-')\n",
    "\n",
    "merged_df.index = pd.RangeIndex(start=0, stop=len(merged_df), step=1)\n",
    "\n",
    "merged_db_unwrapped = pd.merge(\n",
    "  merged_df, \n",
    "  df_json_allocataire[\n",
    "    ['allocataire-courriel', 'allocataire-qualite', 'allocataire-nom', 'allocataire-prenom', 'allocataire-telephone', 'allocataire-date_naissance']\n",
    "  ], \n",
    "  left_index=True, \n",
    "  right_index=True\n",
    ")\n",
    "\n",
    "merged_db_unwrapped = merged_db_unwrapped.drop(columns=['allocataire'])"
   ]
  },
  {
   "cell_type": "code",
   "execution_count": null,
   "id": "a2197cfc12972d83",
   "metadata": {
    "jupyter": {
     "is_executing": true
    }
   },
   "outputs": [],
   "source": [
    "# unwrap adresse alloc\n",
    "df_json_adresse_allocataire = pd.json_normalize(merged_db_unwrapped['adresse_allocataire'].apply(json.loads))\n",
    "\n",
    "merged_db_unwrapped.index = pd.RangeIndex(start=0, stop=len(merged_db_unwrapped), step=1)\n",
    "\n",
    "merged_db_unwrapped = pd.merge(merged_db_unwrapped, df_json_adresse_allocataire[['code_postal']], left_index=True, right_index=True)\n",
    "merged_db_unwrapped = merged_db_unwrapped.drop(columns=['adresse_allocataire'])"
   ]
  },
  {
   "cell_type": "code",
   "execution_count": null,
   "id": "622727fb737b605a",
   "metadata": {
    "jupyter": {
     "is_executing": true
    }
   },
   "outputs": [],
   "source": [
    "# Cast to date_time benef + allocataire birth dates\n",
    "merged_db_unwrapped['beneficiaire_date_naissance'] = pd.to_datetime(merged_db_unwrapped['date_naissance'], errors='coerce')\n",
    "merged_db_unwrapped['allocataire_date_naissance'] = pd.to_datetime(merged_db_unwrapped['allocataire-date_naissance'], errors='coerce')"
   ]
  },
  {
   "cell_type": "code",
   "execution_count": null,
   "id": "1f5cc4ba9ee133ed",
   "metadata": {
    "jupyter": {
     "is_executing": true
    }
   },
   "outputs": [],
   "source": [
    "# Add column for allocataire gender\n",
    "merged_db_unwrapped['allocataire_genre'] = np.where(merged_db_unwrapped['allocataire-qualite'] == 'Mme', 'F', 'M')"
   ]
  },
  {
   "cell_type": "code",
   "execution_count": null,
   "id": "7d439be0a65620bf",
   "metadata": {
    "jupyter": {
     "is_executing": true
    }
   },
   "outputs": [],
   "source": [
    "# age of beneficiaire + allocataire (if it exists)\n",
    "def calculate_age(born):\n",
    "    today = date.today()\n",
    "    age = today.year - born.year\n",
    "    if (today.month, today.day) < (born.month, born.day):\n",
    "        age -= 1\n",
    "    \n",
    "    return age\n",
    "\n",
    "merged_db_unwrapped['beneficiaire_age'] = merged_db_unwrapped['beneficiaire_date_naissance'].apply(calculate_age)\n",
    "merged_db_unwrapped['allocataire_age'] = merged_db_unwrapped['allocataire_date_naissance'].apply(calculate_age)"
   ]
  },
  {
   "cell_type": "code",
   "execution_count": null,
   "id": "69a3177f0909c7ad",
   "metadata": {
    "jupyter": {
     "is_executing": true
    }
   },
   "outputs": [],
   "source": [
    "merged_db_unwrapped[['beneficiaire_age', 'allocataire_age']] = merged_db_unwrapped[['beneficiaire_age', 'allocataire_age']].astype('Int64') "
   ]
  },
  {
   "cell_type": "code",
   "execution_count": null,
   "id": "f8ee3ec6de3cdbce",
   "metadata": {
    "jupyter": {
     "is_executing": true
    }
   },
   "outputs": [],
   "source": [
    "# Columns for exported CSV to DITP\n",
    "type_benef_col = 'type_benef' # 1=parent, 2=direct\n",
    "obj_received_col = 'objet_recu' # 0=control, 1=test\n",
    "mail_received_col = 'mail_recu' # 0=control, 1=test\n",
    "activated_col = 'recours' # 0=non, 1=oui\n",
    "benef_gender_col = 'beneficiaire_genre' # 1=Femme, 2=Homme\n",
    "benef_age_col = 'beneficiaire_age'\n",
    "parents_gender_col = 'parents_genre' # 1=Femme, 2=Homme\n",
    "parents_age_col = 'parents_age'\n",
    "postal_code_col = 'code_postal'\n",
    "child_age_col = 'age_enfant'\n",
    "qpv_col = 'qpv'\n",
    "zrr_col ='zrr'\n",
    "\n",
    "columns_to_keep = [\n",
    "  type_benef_col, \n",
    "  obj_received_col, \n",
    "  activated_col,\n",
    "  parents_age_col,\n",
    "  parents_gender_col,\n",
    "  benef_gender_col,\n",
    "  benef_age_col,\n",
    "  postal_code_col, \n",
    "  qpv_col, \n",
    "  zrr_col\n",
    "]\n",
    "\n",
    "merged_db_unwrapped = merged_db_unwrapped.rename(columns={\n",
    "  'allocataire_genre': parents_gender_col,\n",
    "  'allocataire_age': parents_age_col,\n",
    "  'genre': benef_gender_col,\n",
    "  'beneficiaire_age': benef_age_col,\n",
    "  'pass_statut': activated_col\n",
    "})"
   ]
  },
  {
   "cell_type": "code",
   "execution_count": null,
   "id": "5401d74aa0c4ce4d",
   "metadata": {
    "jupyter": {
     "is_executing": true
    }
   },
   "outputs": [],
   "source": [
    "merged_db_unwrapped = merged_db_unwrapped[columns_to_keep]"
   ]
  },
  {
   "cell_type": "code",
   "execution_count": null,
   "id": "908558c76bfc541a",
   "metadata": {
    "jupyter": {
     "is_executing": true
    }
   },
   "outputs": [],
   "source": [
    "merged_db_unwrapped.to_csv(lm_extracted_information_output_pathfile, index=False)"
   ]
  }
 ],
 "metadata": {
  "kernelspec": {
   "display_name": "Python 3",
   "language": "python",
   "name": "python3"
  },
  "language_info": {
   "codemirror_mode": {
    "name": "ipython",
    "version": 2
   },
   "file_extension": ".py",
   "mimetype": "text/x-python",
   "name": "python",
   "nbconvert_exporter": "python",
   "pygments_lexer": "ipython2",
   "version": "2.7.6"
  }
 },
 "nbformat": 4,
 "nbformat_minor": 5
}
