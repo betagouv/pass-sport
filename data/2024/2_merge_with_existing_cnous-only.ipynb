{
 "cells": [
  {
   "cell_type": "markdown",
   "metadata": {},
   "source": [
    "# Génération des codes et formattage des données avant insertion en base\n",
    "\n",
    "## Traitements\n",
    "\n",
    "\n",
    "1. Chargement de la bdd existante et de la nouvelle généré à l'étape 1 (au même format)\n",
    "2. Formattage de certaines colonnes & ajout d'autres pour la base de données ('zrr', 'qpv', 'a_valider', 'refuser')\n",
    "3. Génération des codes manquants pour les nouvelles lignes de bénéficiaires\n",
    "4. Output to csv"
   ]
  },
  {
   "cell_type": "code",
   "execution_count": null,
   "metadata": {},
   "outputs": [],
   "source": [
    "import os\n",
    "from dotenv import load_dotenv\n",
    "import pandas as pd\n",
    "import json\n",
    "import numpy as np\n",
    "\n",
    "load_dotenv()\n",
    "\n",
    "new_db_export_filepath = os.environ['DB_EXPORT']\n",
    "concatenated_db_filepath = os.environ['DB_CONCATENATED']\n",
    "final_merged_with_ids = os.environ['DB_MERGED_WITH_ID']\n",
    "final_merged_without_ids = os.environ['DB_MERGED_WITHOUT_ID']"
   ]
  },
  {
   "cell_type": "code",
   "execution_count": null,
   "metadata": {},
   "outputs": [],
   "source": [
    "# Loading new data\n",
    "df_new_db = pd.read_csv(new_db_export_filepath, index_col=0, sep=',')"
   ]
  },
  {
   "cell_type": "code",
   "execution_count": null,
   "metadata": {},
   "outputs": [],
   "source": [
    "# Convert to date for comparison, timestamp is added back later down the line\n",
    "df_new_db['date_naissance'] = pd.to_datetime(df_new_db['date_naissance']).dt.date"
   ]
  },
  {
   "cell_type": "code",
   "execution_count": null,
   "metadata": {},
   "outputs": [],
   "source": [
    "# json unwrap allocatire\n",
    "df_json_allocataire_new = pd.json_normalize(df_new_db['allocataire'].apply(json.loads))\n",
    "df_json_allocataire_new = df_json_allocataire_new.add_prefix('allocataire-')\n",
    "\n",
    "df_new_db.index = pd.RangeIndex(start=0, stop=len(df_new_db), step=1)\n",
    "df_new_db_unwrapped_alloc = pd.merge(df_new_db, df_json_allocataire_new, left_index=True, right_index=True)\n",
    "\n",
    "df_new_db_unwrapped_alloc = df_new_db_unwrapped_alloc.drop(columns=['allocataire'])"
   ]
  },
  {
   "cell_type": "code",
   "execution_count": null,
   "metadata": {},
   "outputs": [],
   "source": [
    "# Data casting and formating\n",
    "df_new_db_unwrapped_alloc['nom'] = df_new_db_unwrapped_alloc['nom'].str.upper()\n",
    "df_new_db_unwrapped_alloc['prenom'] = df_new_db_unwrapped_alloc['prenom'].str.upper()\n",
    "\n",
    "mask_matricule_not_null = df_new_db_unwrapped_alloc['allocataire-matricule'].notna()\n",
    "df_new_db_unwrapped_alloc['allocataire-matricule'] = df_new_db_unwrapped_alloc.loc[mask_matricule_not_null, 'allocataire-matricule'].astype(str)\n",
    "\n",
    "# replace blank string with nan\n",
    "df_new_db_unwrapped_alloc = df_new_db_unwrapped_alloc.replace(r'', np.NaN)"
   ]
  },
  {
   "cell_type": "code",
   "execution_count": null,
   "metadata": {},
   "outputs": [],
   "source": [
    "import pytz\n",
    "import datetime\n",
    "\n",
    "# add created_at for new rows\n",
    "# using time zone for created_at to be iso existings\n",
    "tz = pytz.timezone('Europe/Paris')\n",
    "now = datetime.datetime.now()\n",
    "now_tz = tz.localize(now)\n",
    "\n",
    "df_new_db_unwrapped_alloc['created_at'] = now_tz\n",
    "df_new_db_unwrapped_alloc[['zrr', 'qpv', 'a_valider', 'refuser']] = False"
   ]
  },
  {
   "cell_type": "code",
   "execution_count": null,
   "metadata": {},
   "outputs": [],
   "source": [
    "# map to json values for target DB model \n",
    "def to_json_allocataire_without_null(row):\n",
    "    allocataire_mapping = {\n",
    "        'qualite': row['allocataire-qualite'],\n",
    "        'matricule': row['allocataire-matricule'],\n",
    "        'nom': row['allocataire-nom'],\n",
    "        'prenom': row['allocataire-prenom'],\n",
    "        'date_naissance': row['allocataire-date_naissance'],\n",
    "        'courriel': row['allocataire-courriel'],\n",
    "        'code_insee_commune_naissance': row['allocataire-code_insee_commune_naissance'],\n",
    "        'commune_naissance': row['allocataire-commune_naissance'],\n",
    "        'code_iso_pays_naissance': row['allocataire-code_iso_pays_naissance'],\n",
    "        'pays_naissance': row['allocataire-pays_naissance']\n",
    "    }\n",
    "    filtered_nan_allocataire = {k: v for k, v in allocataire_mapping.items() if pd.notnull(v)}\n",
    "    return json.dumps(filtered_nan_allocataire, ensure_ascii=False)\n",
    "\n",
    "df_new_db_unwrapped_alloc['allocataire'] = df_new_db_unwrapped_alloc.apply(to_json_allocataire_without_null, axis=1)"
   ]
  },
  {
   "cell_type": "code",
   "execution_count": null,
   "metadata": {},
   "outputs": [],
   "source": [
    "df_final_with_code = df_new_db_unwrapped_alloc.drop(columns=[\n",
    "  'allocataire-qualite',\n",
    "  'allocataire-matricule',\n",
    "  'allocataire-nom',\n",
    "  'allocataire-prenom',\n",
    "  'allocataire-date_naissance',\n",
    "  'allocataire-courriel',\n",
    "  'allocataire-code_insee_commune_naissance',\n",
    "  'allocataire-commune_naissance',\n",
    "  'allocataire-code_iso_pays_naissance',\n",
    "  'allocataire-pays_naissance',\n",
    "])"
   ]
  },
  {
   "cell_type": "code",
   "execution_count": null,
   "metadata": {},
   "outputs": [],
   "source": [
    "# Add back timestamp and the 4 hours to be iso with the existing database\n",
    "df_final_with_code['date_naissance'] = pd.to_datetime(df_final_with_code['date_naissance']).dt.floor('D') + pd.DateOffset(hours=4)"
   ]
  },
  {
   "cell_type": "code",
   "execution_count": null,
   "metadata": {},
   "outputs": [],
   "source": [
    "df_final_with_code.to_csv(final_merged_without_ids, index=False)"
   ]
  }
 ],
 "metadata": {
  "kernelspec": {
   "display_name": ".venv",
   "language": "python",
   "name": "python3"
  },
  "language_info": {
   "codemirror_mode": {
    "name": "ipython",
    "version": 3
   },
   "file_extension": ".py",
   "mimetype": "text/x-python",
   "name": "python",
   "nbconvert_exporter": "python",
   "pygments_lexer": "ipython3",
   "version": "3.12.4"
  }
 },
 "nbformat": 4,
 "nbformat_minor": 2
}
