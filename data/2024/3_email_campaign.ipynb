{
 "cells": [
  {
   "cell_type": "code",
   "execution_count": null,
   "metadata": {},
   "outputs": [],
   "source": [
    "import csv\n",
    "import os\n",
    "from dotenv import load_dotenv\n",
    "import pandas as pd\n",
    "import json\n",
    "import numpy as np\n",
    "from datetime import datetime\n",
    "\n",
    "\n",
    "load_dotenv()\n",
    "\n",
    "concatenated_db_filepath = os.environ['DB_CONCATENATED']\n",
    "qr_code_secret_key = os.environ['BENEF_2024_QR_CODE_URL_SECRET']\n",
    "qr_code_base_url = os.environ['BENEF_2024_QR_CODE_BASE_URL']\n",
    "\n",
    "# new\n",
    "pathfile_campaign_csv_b = os.environ['CAMPAIGN_CSV_B']\n",
    "pathfile_campaign_csv_b_and_a = os.environ['CAMPAIGN_CSV_B_AND_A']\n",
    "pathfile_campaign_csv_b_existings = os.environ['CAMPAIGN_CSV_B_EXISTINGS']\n",
    "pathfile_campaign_csv_b_and_a_existings = os.environ['CAMPAIGN_CSV_B_AND_A_EXISTINGS']"
   ]
  },
  {
   "cell_type": "code",
   "execution_count": null,
   "metadata": {},
   "outputs": [],
   "source": [
    "df_db = pd.read_csv(concatenated_db_filepath, index_col=0, sep=',', usecols=['nom', 'prenom', 'genre', 'allocataire', 'id_psp', 'created_at', 'date_naissance'],  dtype={'created_at': 'str'})\n",
    "df_db = df_db.reset_index()"
   ]
  },
  {
   "cell_type": "code",
   "execution_count": null,
   "metadata": {},
   "outputs": [],
   "source": [
    "# unwrap alloc\n",
    "df_json_allocataire = pd.json_normalize(df_db['allocataire'].apply(json.loads))\n",
    "df_json_allocataire = df_json_allocataire.add_prefix('allocataire-')\n",
    "df_db.index = pd.RangeIndex(start=0, stop=len(df_db), step=1)\n",
    "df_db_unwraped = pd.merge(df_db, df_json_allocataire, left_index=True, right_index=True)\n",
    "df_db_unwraped = df_db_unwraped.drop(columns=['allocataire'])"
   ]
  },
  {
   "cell_type": "code",
   "execution_count": null,
   "metadata": {},
   "outputs": [],
   "source": [
    "# Remove when email or tel is None\n",
    "mask_email_and_phone_empty = df_db_unwraped['allocataire-courriel'].apply(lambda x: pd.isna(x) or x == '') & df_db_unwraped['allocataire-telephone'].apply(lambda x: pd.isna(x) or x == '')\n",
    "df_db_unwraped_reachable = df_db_unwraped[~mask_email_and_phone_empty]\n",
    "\n",
    "print(f\"{len(df_db_unwraped) - len(df_db_unwraped_reachable)} rows deleted because they are not reachable by email or phone\")"
   ]
  },
  {
   "cell_type": "code",
   "execution_count": null,
   "metadata": {},
   "outputs": [],
   "source": [
    "# rename columns\n",
    "column_mapping = {\n",
    "    'allocataire-courriel': 'email',\n",
    "    'allocataire-qualite': 'allocataire_qualite',\n",
    "    'allocataire-nom': 'allocataire_nom',\n",
    "    'allocataire-prenom': 'allocataire_prenom',\n",
    "    'allocataire-telephone': 'telephone',\n",
    "    'prenom': 'beneficiaire_prenom',\n",
    "    'nom': 'beneficiaire_nom',\n",
    "    'genre': 'beneficiaire_genre',\n",
    "    'date_naissance': 'beneficiaire_date_naissance',\n",
    "    'id_psp': 'code'\n",
    "}\n",
    "\n",
    "df_db_unwraped_reachable.columns = df_db_unwraped_reachable.columns.to_series().replace(column_mapping)"
   ]
  },
  {
   "cell_type": "code",
   "execution_count": null,
   "metadata": {},
   "outputs": [],
   "source": [
    "# only keep necessary columns\n",
    "df_campaign = df_db_unwraped_reachable[['email',\n",
    "'allocataire_nom',\n",
    "'allocataire_prenom','beneficiaire_prenom', 'beneficiaire_nom', 'beneficiaire_genre', 'beneficiaire_date_naissance', 'code', 'telephone', 'created_at']]"
   ]
  },
  {
   "cell_type": "code",
   "execution_count": null,
   "metadata": {},
   "outputs": [],
   "source": [
    "# new format for birth date\n",
    "df_campaign['beneficiaire_date_naissance'] = pd.to_datetime(df_campaign['beneficiaire_date_naissance'].apply(lambda v: v[:10]), format='%Y-%m-%d')\n",
    "df_campaign['beneficiaire_date_naissance'] = df_campaign['beneficiaire_date_naissance'].dt.strftime('%d/%m/%Y')"
   ]
  },
  {
   "cell_type": "code",
   "execution_count": null,
   "metadata": {},
   "outputs": [],
   "source": [
    "# Ajout d'une colonne pour le sexe \n",
    "df_campaign['neele'] = 'Né le'\n",
    "mask_girl = df_campaign['beneficiaire_genre'] == 'F'\n",
    "df_campaign.loc[mask_girl, 'neele'] =  'Née le'"
   ]
  },
  {
   "cell_type": "code",
   "execution_count": null,
   "metadata": {},
   "outputs": [],
   "source": [
    "# capitalize on name / surname\n",
    "df_campaign['allocataire_prenom'] = df_campaign['allocataire_prenom'].astype(str).apply(lambda x: x.capitalize())\n",
    "df_campaign['allocataire_nom'] = df_campaign['allocataire_nom'].astype(str).apply(lambda x: x.capitalize())\n",
    "df_campaign['beneficiaire_prenom'] = df_campaign['beneficiaire_prenom'].astype(str).apply(lambda x: x.capitalize())\n",
    "df_campaign['beneficiaire_nom'] = df_campaign['beneficiaire_nom'].astype(str).apply(lambda x: x.capitalize())"
   ]
  },
  {
   "cell_type": "code",
   "execution_count": null,
   "metadata": {},
   "outputs": [],
   "source": [
    "# internationalize phone_number\n",
    "df_campaign['telephone'] = df_campaign['telephone'].replace('^0', '+33', regex=True)"
   ]
  },
  {
   "cell_type": "code",
   "execution_count": null,
   "metadata": {},
   "outputs": [],
   "source": [
    "# Génération des URLs pour le QR code\n",
    "import hmac\n",
    "import hashlib\n",
    "import urllib.parse\n",
    "import base64\n",
    "\n",
    "from Crypto.Cipher import AES\n",
    "from Crypto.Util.Padding import pad, unpad\n",
    "from Crypto.Random import get_random_bytes\n",
    "\n",
    "base_64_key = base64.b64decode(qr_code_secret_key)\n",
    "key_mapping = { 'beneficiaire_prenom': 'bp', 'beneficiaire_nom': 'bn', 'beneficiaire_genre' : 'bg', 'beneficiaire_date_naissance': 'bdn', 'code': 'c'}\n",
    "\n",
    "def encrypt(data):\n",
    "    cipher = AES.new(base_64_key, AES.MODE_CBC)\n",
    "    ct_bytes = cipher.encrypt(pad(data.encode('utf-8'), AES.block_size))\n",
    "    iv = cipher.iv\n",
    "    ct = base64.b64encode(iv + ct_bytes).decode('utf-8')\n",
    "    return ct\n",
    "\n",
    "\n",
    "def generate_encrypted_url_column(row):\n",
    "    params = {key_mapping.get(column): row[column] for column in df_campaign.columns}\n",
    "    cleaned_params = {k: v for k, v in params.items() if k is not None}\n",
    "    encoded_params = urllib.parse.urlencode(cleaned_params)\n",
    "    encoded_encrypted_params = encrypt(encoded_params)\n",
    "    full_url_string = f\"{qr_code_base_url}#{urllib.parse.quote_plus(encoded_encrypted_params)}\"\n",
    "    return full_url_string\n",
    "    \n",
    "if 'url_qr_code' in df_campaign:\n",
    "    del df_campaign['url_qr_code']\n",
    "\n",
    "df_campaign['url_qr_code'] = df_campaign.apply(generate_encrypted_url_column, axis=1)\n"
   ]
  },
  {
   "cell_type": "code",
   "execution_count": null,
   "metadata": {},
   "outputs": [],
   "source": [
    "# remove phone when email is filled\n",
    "mask_has_email = ~df_campaign['email'].isna()\n",
    "df_campaign.loc[mask_has_email, 'telephone'] = None"
   ]
  },
  {
   "cell_type": "code",
   "execution_count": null,
   "metadata": {},
   "outputs": [],
   "source": [
    "# TODO: exclude RGPD or deceased users"
   ]
  },
  {
   "cell_type": "code",
   "execution_count": null,
   "metadata": {},
   "outputs": [],
   "source": [
    "# separate already existing from new beneficiaries\n",
    "import pytz\n",
    "\n",
    "mask_existing_benef = pd.to_datetime(df_campaign['created_at'].str[:19]) < datetime(2024,7,15)\n",
    "df_campaign_new = df_campaign[~mask_existing_benef]\n",
    "df_campaign_existing = df_campaign[mask_existing_benef]\n",
    "\n",
    "assert len(df_campaign_existing) + len(df_campaign_new) == len(df_campaign)"
   ]
  },
  {
   "cell_type": "code",
   "execution_count": null,
   "metadata": {},
   "outputs": [],
   "source": [
    "# existing rows, case allocataire != bénéficiaire\n",
    "mask_alloc_diff_benef = df_campaign_existing['beneficiaire_prenom'].str.lower() != df_campaign_existing['allocataire_prenom'].str.lower()\n",
    "df_campaign_existing_alloc_diff_benef = df_campaign_existing[mask_alloc_diff_benef]"
   ]
  },
  {
   "cell_type": "code",
   "execution_count": null,
   "metadata": {},
   "outputs": [],
   "source": [
    "# existing rows, case allocataire == bénéficiaire\n",
    "mask_alloc_eq_benef = df_campaign_existing['beneficiaire_prenom'].str.lower() == df_campaign_existing['allocataire_prenom'].str.lower()\n",
    "df_campaign_existing_alloc_eq_benef = df_campaign_existing[mask_alloc_eq_benef]"
   ]
  },
  {
   "cell_type": "code",
   "execution_count": null,
   "metadata": {},
   "outputs": [],
   "source": [
    "# new rows, case allocataire != bénéficiaire\n",
    "mask_alloc_diff_benef = df_campaign_new['beneficiaire_prenom'].str.lower() != df_campaign_new['allocataire_prenom'].str.lower()\n",
    "df_campaign_new_alloc_diff_benef = df_campaign_new[mask_alloc_diff_benef]"
   ]
  },
  {
   "cell_type": "code",
   "execution_count": null,
   "metadata": {},
   "outputs": [],
   "source": [
    "# new rows, case allocataire == bénéficiaire\n",
    "mask_alloc_eq_benef = df_campaign_new['beneficiaire_prenom'].str.lower() == df_campaign_new['allocataire_prenom'].str.lower()\n",
    "df_campaign_new_alloc_eq_benef = df_campaign_new[mask_alloc_eq_benef]"
   ]
  },
  {
   "cell_type": "code",
   "execution_count": null,
   "metadata": {},
   "outputs": [],
   "source": [
    "assert len(df_campaign_new_alloc_eq_benef) + len(df_campaign_new_alloc_diff_benef) + len(df_campaign_existing_alloc_eq_benef) + len(df_campaign_existing_alloc_diff_benef) == len(df_campaign)\n",
    "\n",
    "# génération des csv\n",
    "df_campaign_new_alloc_eq_benef.to_csv(pathfile_campaign_csv_b, index=False)\n",
    "df_campaign_new_alloc_diff_benef.to_csv(pathfile_campaign_csv_b_and_a, index=False)\n",
    "df_campaign_existing_alloc_eq_benef.to_csv(pathfile_campaign_csv_b_existings, index=False)\n",
    "df_campaign_existing_alloc_diff_benef.to_csv(pathfile_campaign_csv_b_and_a_existings, index=False)"
   ]
  }
 ],
 "metadata": {
  "kernelspec": {
   "display_name": ".venv",
   "language": "python",
   "name": "python3"
  },
  "language_info": {
   "codemirror_mode": {
    "name": "ipython",
    "version": 3
   },
   "file_extension": ".py",
   "mimetype": "text/x-python",
   "name": "python",
   "nbconvert_exporter": "python",
   "pygments_lexer": "ipython3",
   "version": "3.10.12"
  }
 },
 "nbformat": 4,
 "nbformat_minor": 2
}
