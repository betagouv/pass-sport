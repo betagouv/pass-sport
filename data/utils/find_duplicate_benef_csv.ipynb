{
 "cells": [
  {
   "cell_type": "markdown",
   "metadata": {},
   "source": [
    "# Récupération des bénéficiaires en doubles \n",
    "\n",
    "Récupération des bénéficiaires en doubles sur la base des noms / prénom / date de naissance et genre"
   ]
  },
  {
   "cell_type": "code",
   "execution_count": null,
   "metadata": {},
   "outputs": [],
   "source": [
    "import pandas as pd\n",
    "from dotenv import load_dotenv\n",
    "import os\n",
    "import json\n",
    "\n",
    "load_dotenv()\n",
    "\n",
    "pathfile_benef_2024_prd_ready = os.environ['BENEF_2024_PATHFILE_PROD_READY']"
   ]
  },
  {
   "cell_type": "code",
   "execution_count": null,
   "metadata": {},
   "outputs": [],
   "source": [
    "df_final = pd.read_csv(pathfile_benef_2024_prd_ready, index_col=0, sep=',')"
   ]
  },
  {
   "cell_type": "code",
   "execution_count": null,
   "metadata": {},
   "outputs": [],
   "source": [
    "df_duplicated_benef = df_final[df_final.duplicated(subset=['nom', 'prenom', 'date_naissance', 'genre'], keep=False)]\n"
   ]
  }
 ],
 "metadata": {
  "language_info": {
   "name": "python"
  }
 },
 "nbformat": 4,
 "nbformat_minor": 2
}
