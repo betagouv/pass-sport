{
 "cells": [
  {
   "cell_type": "markdown",
   "metadata": {},
   "source": [
    "# Extraction des charactères spéciaux\n",
    "\n",
    "Permet d'extraire une liste de charactères spéciaux du nom / prénom des bénéficiaires"
   ]
  },
  {
   "cell_type": "code",
   "execution_count": null,
   "metadata": {},
   "outputs": [],
   "source": [
    "import pandas as pd\n",
    "from dotenv import load_dotenv\n",
    "import os\n",
    "import json\n",
    "\n",
    "load_dotenv()\n",
    "\n",
    "pathfile_campaign_csv_output_b_and_a = os.environ['CAMPAIGN_CSV_OUTPUT_B_AND_A_SENT']"
   ]
  },
  {
   "cell_type": "code",
   "execution_count": null,
   "metadata": {},
   "outputs": [],
   "source": [
    "df_main = pd.read_csv(pathfile_campaign_csv_output_b_and_a, index_col=0, sep=',')"
   ]
  },
  {
   "cell_type": "code",
   "execution_count": null,
   "metadata": {},
   "outputs": [],
   "source": [
    "non_alnum_regex = r'[^a-zA-Z0-9]'\n",
    "df_main['nom+prenom'] = df_main['beneficiaire_nom'] + df_main['beneficiaire_prenom']"
   ]
  },
  {
   "cell_type": "code",
   "execution_count": null,
   "metadata": {},
   "outputs": [],
   "source": [
    "df_main['special_char'] = df_main['nom+prenom'].str.findall(non_alnum_regex)"
   ]
  },
  {
   "cell_type": "code",
   "execution_count": null,
   "metadata": {},
   "outputs": [],
   "source": [
    "# Initialize an empty set\n",
    "unique_values_set = set()\n",
    "\n",
    "# Iterate over each list in column 'A' and add its elements to the set\n",
    "for sublist in df_main['special_char']:\n",
    "    if isinstance(sublist, list):\n",
    "        unique_values_set.update(sublist)\n",
    "    else:\n",
    "        unique_values_set.add(sublist)\n",
    "\n",
    "print(unique_values_set)"
   ]
  }
 ],
 "metadata": {
  "kernelspec": {
   "display_name": ".venv",
   "language": "python",
   "name": "python3"
  },
  "language_info": {
   "codemirror_mode": {
    "name": "ipython",
    "version": 3
   },
   "file_extension": ".py",
   "mimetype": "text/x-python",
   "name": "python",
   "nbconvert_exporter": "python",
   "pygments_lexer": "ipython3",
   "version": "3.10.12"
  }
 },
 "nbformat": 4,
 "nbformat_minor": 2
}
