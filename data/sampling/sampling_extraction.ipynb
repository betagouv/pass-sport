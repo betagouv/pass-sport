{
 "cells": [
  {
   "cell_type": "markdown",
   "id": "a95ffc4808cdad4e",
   "metadata": {},
   "source": [
    "# Purpose of this notebook\n",
    "Extract a sampling out of a data from the database that already has unique emails and age threshold (from 6 to > 18)\n",
    "\n",
    "# Criterias for the sampling\n",
    "Sampling of 10% on approximately total base ~4M (unique emails), so 400k\n",
    "\n",
    "- 50% of activated pass and 50% of not activated pass\n",
    "- Age bracket, 25% for each\n",
    "  - 6-10\n",
    "  - 11-14\n",
    "  - 15-18\n",
    "  - Greater than 18"
   ]
  },
  {
   "cell_type": "code",
   "execution_count": null,
   "id": "initial_id",
   "metadata": {
    "ExecuteTime": {
     "end_time": "2024-12-18T11:00:33.557065Z",
     "start_time": "2024-12-18T11:00:29.757064Z"
    }
   },
   "outputs": [],
   "source": [
    "import os\n",
    "from dotenv import load_dotenv\n",
    "import pandas as pd\n",
    "\n",
    "load_dotenv()\n",
    "\n",
    "sample_filepath = os.environ['SAMPLE_FILEPATH']\n",
    "final_sample_output_filepath = os.environ['FINAL_SAMPLE_OUTPUT_FILEPATH']\n",
    "\n",
    "df = pd.read_csv(sample_filepath)"
   ]
  },
  {
   "cell_type": "code",
   "execution_count": null,
   "id": "34ea7af8b02154d5",
   "metadata": {
    "ExecuteTime": {
     "end_time": "2024-12-18T11:00:33.773056Z",
     "start_time": "2024-12-18T11:00:33.561500Z"
    }
   },
   "outputs": [],
   "source": [
    "# Activated pass\n",
    "activated_df = df[df['pass_statut'] == 'utilise']\n",
    "len(activated_df)"
   ]
  },
  {
   "cell_type": "code",
   "execution_count": null,
   "id": "65adcf6caa2dbf88",
   "metadata": {
    "ExecuteTime": {
     "end_time": "2024-12-18T11:00:34.142941Z",
     "start_time": "2024-12-18T11:00:33.854920Z"
    }
   },
   "outputs": [],
   "source": [
    "# Not activated pass\n",
    "not_activated_df = df[df['pass_statut'] == 'non_utilise']\n",
    "len(not_activated_df)"
   ]
  },
  {
   "cell_type": "code",
   "execution_count": null,
   "id": "d9a2cf488c575e5",
   "metadata": {
    "ExecuteTime": {
     "end_time": "2024-12-18T11:00:34.151433Z",
     "start_time": "2024-12-18T11:00:34.149448Z"
    }
   },
   "outputs": [],
   "source": [
    "assert(len(df) == (len(not_activated_df) + len(activated_df)))"
   ]
  },
  {
   "cell_type": "code",
   "execution_count": null,
   "id": "79c1a36cf5259d42",
   "metadata": {
    "ExecuteTime": {
     "end_time": "2024-12-18T11:00:34.216958Z",
     "start_time": "2024-12-18T11:00:34.157856Z"
    }
   },
   "outputs": [],
   "source": [
    "activated_bracket_6_10 = activated_df[(activated_df['age'] >= 6) & (activated_df['age'] <= 10)]\n",
    "activated_bracket_11_14 = activated_df[(activated_df['age'] >= 11) & (activated_df['age'] <= 14)]\n",
    "activated_bracket_15_18 = activated_df[(activated_df['age'] >= 15) & (activated_df['age'] <= 18)]\n",
    "activated_bracket_more_than_18 = activated_df[activated_df['age'] > 18]\n"
   ]
  },
  {
   "cell_type": "code",
   "execution_count": null,
   "id": "f762c6ebc4355fed",
   "metadata": {
    "ExecuteTime": {
     "end_time": "2024-12-18T11:00:34.424223Z",
     "start_time": "2024-12-18T11:00:34.224810Z"
    }
   },
   "outputs": [],
   "source": [
    "not_activated_bracket_6_10 = not_activated_df[(not_activated_df['age'] >= 6) & (not_activated_df['age'] <= 10)]\n",
    "not_activated_bracket_11_14 = not_activated_df[(not_activated_df['age'] >= 11) & (not_activated_df['age'] <= 14)]\n",
    "not_activated_bracket_15_18 = not_activated_df[(not_activated_df['age'] >= 15) & (not_activated_df['age'] <= 18)]\n",
    "not_activated_bracket_more_than_18 = not_activated_df[not_activated_df['age'] > 18]"
   ]
  },
  {
   "cell_type": "code",
   "execution_count": null,
   "id": "400fdfed9ca49e7",
   "metadata": {
    "ExecuteTime": {
     "end_time": "2024-12-18T11:00:34.435709Z",
     "start_time": "2024-12-18T11:00:34.433845Z"
    }
   },
   "outputs": [],
   "source": [
    "print(\n",
    "    f'''\n",
    "  Activated bracket 6-10 : {len(activated_bracket_6_10)}\n",
    "  Activated bracket 11-14 : {len(activated_bracket_11_14)}\n",
    "  Activated bracket 15-18 : {len(activated_bracket_15_18)}\n",
    "  Activated bracket > 18 : {len(activated_bracket_more_than_18)}\n",
    "\n",
    "  Not activated bracket 6-10 : {len(not_activated_bracket_6_10)}\n",
    "  Not activated bracket 11-14 : {len(not_activated_bracket_11_14)}\n",
    "  Not activated bracket 15-18 : {len(not_activated_bracket_15_18)}\n",
    "  Not activated bracket > 18 : {len(not_activated_bracket_more_than_18)}\n",
    "  '''\n",
    ")"
   ]
  },
  {
   "cell_type": "code",
   "execution_count": null,
   "id": "9b50278f7137368c",
   "metadata": {
    "ExecuteTime": {
     "end_time": "2024-12-18T11:00:34.616649Z",
     "start_time": "2024-12-18T11:00:34.503647Z"
    }
   },
   "outputs": [],
   "source": [
    "sample_size = 50_000\n",
    "\n",
    "final_df = pd.concat([\n",
    "    activated_bracket_6_10.sample(n=sample_size),\n",
    "    activated_bracket_11_14.sample(n=sample_size),\n",
    "    activated_bracket_15_18.sample(n=sample_size),\n",
    "    activated_bracket_more_than_18, # contains less than the the sample size\n",
    "    not_activated_bracket_6_10.sample(n=sample_size),\n",
    "    not_activated_bracket_11_14.sample(n=sample_size),\n",
    "    not_activated_bracket_15_18.sample(n=sample_size),\n",
    "    not_activated_bracket_more_than_18.sample(n=sample_size)\n",
    "], ignore_index=True)"
   ]
  },
  {
   "cell_type": "code",
   "execution_count": null,
   "id": "ce38fc13e9210bb6",
   "metadata": {
    "ExecuteTime": {
     "end_time": "2024-12-18T11:00:35.029941Z",
     "start_time": "2024-12-18T11:00:34.637075Z"
    }
   },
   "outputs": [],
   "source": [
    "final_df[[\n",
    "    'nom_allocataire',\n",
    "    'prenom_allocataire',\n",
    "    'courriel'\n",
    "]].to_csv(final_sample_output_filepath, index=False)"
   ]
  }
 ],
 "metadata": {
  "kernelspec": {
   "display_name": "Python 3",
   "language": "python",
   "name": "python3"
  },
  "language_info": {
   "codemirror_mode": {
    "name": "ipython",
    "version": 2
   },
   "file_extension": ".py",
   "mimetype": "text/x-python",
   "name": "python",
   "nbconvert_exporter": "python",
   "pygments_lexer": "ipython2",
   "version": "2.7.6"
  }
 },
 "nbformat": 4,
 "nbformat_minor": 5
}
