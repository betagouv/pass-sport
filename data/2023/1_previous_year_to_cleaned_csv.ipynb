{
 "cells": [
  {
   "cell_type": "markdown",
   "metadata": {},
   "source": [
    "# Retraitements de la BDD 2023\n",
    "\n",
    "\n",
    "## Traitements \n",
    "\n",
    "1. Chargemement du fichier CSV de BDD 2023\n",
    "2. Suppression des bénéficiaires CNOUS\n",
    "3. Suppression des anciens codes\n",
    "4. Applications des critères d'éligibilité\n",
    "5. Génération des codes\n",
    "6. Création d'un CSV pour 2024\n",
    "\n",
    "## Critères d'éligibilités\n",
    "\n",
    "- Nés entre le 16 septembre 2006 et le 31 décembre 2018 et bénéficient de l’allocation de rentrée scolaire ;\n",
    "- Nés entre le 1er juin 2004 et le 31 décembre 2018 et bénéficient de l’allocation d’éducation de l’enfant handicapé ;\n",
    "- Nés entre le 16 septembre 1993 et le 31 décembre 2008 et bénéficient de l’allocation aux adultes handicapés ;\n",
    "- Étudiants, âgés de 28 ans révolus au plus, et bénéficient au plus tard le 15 octobre 2024, d’une bourse de l’état de l’enseignement supérieur sous conditions de ressources, d’une aide annuelle du CROUS ou d’une bourse régionale pour les formations sanitaires et sociales pour l’année universitaire 2024 – 2025."
   ]
  },
  {
   "cell_type": "code",
   "execution_count": null,
   "metadata": {},
   "outputs": [],
   "source": [
    "import pandas as pd\n",
    "from dotenv import load_dotenv\n",
    "import os\n",
    "load_dotenv()\n",
    "\n",
    "pathfile_benef_2023 = os.environ['BENEF_2023_PATHFILE']\n",
    "pathfile_benef_2023_without_crous = os.environ['BENEF_2023_WITHOUT_CROUS_PATHFILE']\n",
    "pathfile_benef_2024 = os.environ['BENEF_2024_PATHFILE']"
   ]
  },
  {
   "cell_type": "code",
   "execution_count": null,
   "metadata": {},
   "outputs": [],
   "source": [
    "# c parser is faster and correctly decode special char in json csv column\n",
    "df_main = pd.read_csv(pathfile_benef_2023, index_col=0, engine='c', on_bad_lines='skip', sep=',')"
   ]
  },
  {
   "cell_type": "code",
   "execution_count": null,
   "metadata": {},
   "outputs": [],
   "source": [
    "# suppression des bénéficiaires CNOUS\n",
    "mask_without_cnous = df_main['organisme'] != 'cnous'\n",
    "df_main_without_cnous = df_main[mask_without_cnous]\n",
    "\n",
    "# suppression des anciens codes\n",
    "del df_main_without_cnous[\"id_psp\"]\n"
   ]
  },
  {
   "cell_type": "code",
   "execution_count": null,
   "metadata": {},
   "outputs": [],
   "source": [
    "# suppression des précédents exercices\n",
    "mask_2023 = df_main['exercice_id'] == 2\n",
    "df_main_without_cnous = df_main_without_cnous[mask_2023]"
   ]
  },
  {
   "cell_type": "code",
   "execution_count": null,
   "metadata": {},
   "outputs": [],
   "source": [
    "# serialisation d'un fichier intermédiaire sans les bénéficiaires CNOUS\n",
    "df_main_without_cnous.to_csv(pathfile_benef_2023_without_crous)"
   ]
  },
  {
   "cell_type": "code",
   "execution_count": null,
   "metadata": {},
   "outputs": [],
   "source": [
    "# start from here if without_cnous file is already generated\n",
    "df_main_without_cnous = pd.read_csv(pathfile_benef_2023_without_crous, index_col=0, on_bad_lines='skip', sep=',')"
   ]
  },
  {
   "cell_type": "code",
   "execution_count": null,
   "metadata": {},
   "outputs": [],
   "source": [
    "# Casting to a datetime to apply crterias \n",
    "df_main_without_cnous['date_naissance'] = pd.to_datetime(df_main_without_cnous['date_naissance'].astype(str).apply(lambda v: v[:10]), format='%Y-%m-%d', errors='coerce')\n",
    "mask_wrong_datetime_format = pd.isnull(df_main_without_cnous.date_naissance)\n",
    "print('Number of wrong birthdate time rows that while not be processed', len(df_main_without_cnous[mask_wrong_datetime_format]))"
   ]
  },
  {
   "cell_type": "code",
   "execution_count": null,
   "metadata": {},
   "outputs": [],
   "source": [
    "from datetime import datetime\n",
    "\n",
    "# ARS\n",
    "\n",
    "start_date = datetime(2006, 9, 16).date()\n",
    "end_date = datetime(2018, 12, 31).date()\n",
    "\n",
    "caf_or_msa_filter = (df_main_without_cnous['organisme'] == 'CAF') | (df_main_without_cnous['organisme'] == 'MSA')\n",
    "date_naissace_within = (df_main_without_cnous['date_naissance'].dt.date >= start_date) & (df_main_without_cnous['date_naissance'].dt.date <= end_date)\n",
    "situation_jeune = ((df_main_without_cnous['situation'].str.lower() == 'jeune'))\n",
    "\n",
    "ars_situation_mask = (caf_or_msa_filter & date_naissace_within & situation_jeune)"
   ]
  },
  {
   "cell_type": "code",
   "execution_count": null,
   "metadata": {},
   "outputs": [],
   "source": [
    "# AEEH\n",
    "\n",
    "start_date = datetime(2004, 6, 1).date()\n",
    "end_date = datetime(2018, 12, 31).date()\n",
    "\n",
    "date_naissace_within = (df_main_without_cnous['date_naissance'].dt.date >= start_date) & (df_main_without_cnous['date_naissance'].dt.date <= end_date)\n",
    "\n",
    "aeeh_situation_mask = (caf_or_msa_filter & date_naissace_within & situation_jeune)"
   ]
  },
  {
   "cell_type": "code",
   "execution_count": null,
   "metadata": {},
   "outputs": [],
   "source": [
    "# AAH\n",
    "\n",
    "start_date = datetime(1993, 9, 16).date()\n",
    "end_date = datetime(2008, 12, 31).date()\n",
    "\n",
    "date_naissace_within = (df_main_without_cnous['date_naissance'].dt.date >= start_date) & (df_main_without_cnous['date_naissance'].dt.date <= end_date)\n",
    "sitation_aah =(df_main_without_cnous['situation'].str.lower()  == 'aah')\n",
    "\n",
    "aah_situation_mask = (caf_or_msa_filter & date_naissace_within & sitation_aah)"
   ]
  },
  {
   "cell_type": "code",
   "execution_count": null,
   "metadata": {},
   "outputs": [],
   "source": [
    "# filtering on criterias\n",
    "df_main_without_cnous_filtered = df_main_without_cnous[aah_situation_mask | ars_situation_mask | aeeh_situation_mask]"
   ]
  },
  {
   "cell_type": "code",
   "execution_count": null,
   "metadata": {},
   "outputs": [],
   "source": [
    "# rebuild date as initial string formated object \n",
    "pd.options.mode.chained_assignment = None\n",
    "df_main_without_cnous_filtered['date_naissance'] = df_main_without_cnous_filtered['date_naissance'].dt.strftime('%Y-%m-%d %H:%M:%S')"
   ]
  },
  {
   "cell_type": "code",
   "execution_count": null,
   "metadata": {},
   "outputs": [],
   "source": [
    "# création d'un nouvel exercice\n",
    "df_main_without_cnous_filtered[\"exercice_id\"] = 4\n",
    "\n",
    "timestamp_with_custom_tz = pd.Timestamp.now(tz='Europe/Paris')\n",
    "df_main_without_cnous_filtered[\"created_at\"] = timestamp_with_custom_tz"
   ]
  },
  {
   "cell_type": "code",
   "execution_count": null,
   "metadata": {},
   "outputs": [],
   "source": [
    "# création d'un fichier csv intérmédiaire sans les codes\n",
    "# df_main_without_cnous_filtered.to_csv(pathfile_benef_2024)\n"
   ]
  },
  {
   "cell_type": "code",
   "execution_count": null,
   "metadata": {},
   "outputs": [],
   "source": [
    "# df_main_without_cnous_filtered = pd.read_csv(pathfile_benef_2024, index_col=0, on_bad_lines='skip', sep=',')"
   ]
  },
  {
   "cell_type": "code",
   "execution_count": null,
   "metadata": {},
   "outputs": [],
   "source": [
    "import random\n",
    "import string\n",
    "import datetime\n",
    "\n",
    "\n",
    "current_date = datetime.datetime.now()\n",
    "current_year = str(current_date.year)[-2:]\n",
    "\n",
    "def get_characters_set(size = 4):\n",
    "    return ''.join(random.choices([c for c in string.ascii_uppercase if c not in 'OI'], k=size))\n",
    "    \n",
    "def generate_code():\n",
    "    return f\"{current_year}-{get_characters_set(4)}-{get_characters_set(4)}\"\n",
    "\n",
    "def generate_unique_codes(n):\n",
    "    unique_codes = set()\n",
    "    while len(unique_codes) < n:\n",
    "        code = generate_code()\n",
    "        unique_codes.add(code)\n",
    "    return list(unique_codes)\n",
    "\n",
    "codes = generate_unique_codes(len(df_main_without_cnous_filtered.index))"
   ]
  },
  {
   "cell_type": "code",
   "execution_count": null,
   "metadata": {},
   "outputs": [],
   "source": [
    "# Ensure uniquenes of codes\n",
    "assert (len(codes) == len(set(codes)))"
   ]
  },
  {
   "cell_type": "code",
   "execution_count": null,
   "metadata": {},
   "outputs": [],
   "source": [
    "df_main_without_cnous_filtered.insert(0, 'id_psp', codes)"
   ]
  },
  {
   "cell_type": "code",
   "execution_count": null,
   "metadata": {},
   "outputs": [],
   "source": [
    "df_main_without_cnous_filtered.to_csv(pathfile_benef_2024)"
   ]
  }
 ],
 "metadata": {
  "kernelspec": {
   "display_name": ".venv",
   "language": "python",
   "name": "python3"
  },
  "language_info": {
   "codemirror_mode": {
    "name": "ipython",
    "version": 3
   },
   "file_extension": ".py",
   "mimetype": "text/x-python",
   "name": "python",
   "nbconvert_exporter": "python",
   "pygments_lexer": "ipython3",
   "version": "3.10.12"
  }
 },
 "nbformat": 4,
 "nbformat_minor": 2
}
