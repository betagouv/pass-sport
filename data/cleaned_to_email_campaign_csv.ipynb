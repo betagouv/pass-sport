{
 "cells": [
  {
   "cell_type": "markdown",
   "metadata": {},
   "source": [
    "# Génération d'un export de données pour les campagnes de mails\n",
    "\n",
    "## Traitements \n",
    "\n",
    "1. Chargemement du fichier CSV 2024\n",
    "2. Extraction du json d'allocataire en columns \n",
    "3. Mapping des données et suppression des données inutiles\n",
    "4. Génération de l'url et de sa signature pour éviter les altérations\n",
    "5. Sérialisation en .csv\n",
    "\n",
    "Génération de 2 csvs distincts en fonction de si allocataire = bénéficiaire et si allocataire != bénéficiaire \n",
    "\n",
    "## Tests unitaires\n",
    "Pour effectuer des tests unitaires, il convient de mettre la variable d'environnement \"ENV\" à \"test\" dans .env\n",
    "Et également exécuter le notebook \"fixtures_for_mailing_campaigns_script\"\n"
   ]
  },
  {
   "cell_type": "code",
   "execution_count": null,
   "metadata": {},
   "outputs": [],
   "source": [
    "import pandas as pd\n",
    "from dotenv import load_dotenv\n",
    "import os\n",
    "import json\n",
    "\n",
    "load_dotenv()\n",
    "\n",
    "is_test_env = os.environ['ENV'].lower() == 'test'\n",
    "pathfile_benef_2024 = os.environ['TEST_BENEF_2024_PATHFILE'] if is_test_env else os.environ['BENEF_2024_PATHFILE']\n",
    "qr_code_signature_secret = os.environ['BENEF_2024_QR_CODE_URL_SECRET']\n",
    "qr_code_base_url = os.environ['BENEF_2024_QR_CODE_BASE_URL']\n",
    "pathfile_campaign_csv_output_b = os.environ['CAMPAIGN_CSV_OUTPUT_B']\n",
    "pathfile_campaign_csv_output_b_and_a = os.environ['CAMPAIGN_CSV_OUTPUT_B_AND_A']"
   ]
  },
  {
   "cell_type": "code",
   "execution_count": null,
   "metadata": {},
   "outputs": [],
   "source": [
    "df_main = pd.read_csv(pathfile_benef_2024, index_col=0, sep=',')"
   ]
  },
  {
   "cell_type": "code",
   "execution_count": null,
   "metadata": {},
   "outputs": [],
   "source": [
    "df_json_normalized = pd.json_normalize(df_main['allocataire'].apply(json.loads))\n",
    "df_json_normalized = df_json_normalized.add_prefix('allocataire_')"
   ]
  },
  {
   "cell_type": "code",
   "execution_count": null,
   "metadata": {},
   "outputs": [],
   "source": [
    "df_main.index = pd.RangeIndex(start=0, stop=len(df_main), step=1)"
   ]
  },
  {
   "cell_type": "code",
   "execution_count": null,
   "metadata": {},
   "outputs": [],
   "source": [
    "df_unwrapped_alloc = pd.merge(df_main, df_json_normalized, left_index=True, right_index=True)"
   ]
  },
  {
   "cell_type": "code",
   "execution_count": null,
   "metadata": {},
   "outputs": [],
   "source": [
    "column_mapping = {\n",
    "    'allocataire_courriel': 'email',\n",
    "    'allocataire_qualite': 'allocataire_qualite',\n",
    "    'allocataire_nom': 'allocataire_nom',\n",
    "    'allocataire_prenom': 'allocataire_prenom',\n",
    "    'prenom': 'beneficiaire_prenom',\n",
    "    'nom': 'beneficiaire_nom',\n",
    "    'genre': 'beneficiaire_genre',\n",
    "    'date_naissance': 'beneficiaire_date_naissance',\n",
    "    'id_psp': 'code',\n",
    "}\n",
    "\n",
    "# df_formatted = df_unwrapped_alloc.rename(columns=column_mapping) \n",
    "df_unwrapped_alloc.columns = df_unwrapped_alloc.columns.to_series().replace(column_mapping)"
   ]
  },
  {
   "cell_type": "code",
   "execution_count": null,
   "metadata": {},
   "outputs": [],
   "source": [
    "df_campaign = df_unwrapped_alloc[['email','allocataire_qualite',\n",
    "'allocataire_nom',\n",
    "'allocataire_prenom','beneficiaire_prenom', 'beneficiaire_nom', 'beneficiaire_genre', 'beneficiaire_date_naissance', 'code']]"
   ]
  },
  {
   "cell_type": "code",
   "execution_count": null,
   "metadata": {},
   "outputs": [],
   "source": [
    "# new format for birth date\n",
    "df_campaign['beneficiaire_date_naissance'] = pd.to_datetime(df_campaign['beneficiaire_date_naissance'].apply(lambda v: v[:10]), format='%Y-%m-%d')\n",
    "df_campaign['beneficiaire_date_naissance'] = df_campaign['beneficiaire_date_naissance'].dt.strftime('%d/%m/%Y')"
   ]
  },
  {
   "cell_type": "code",
   "execution_count": null,
   "metadata": {},
   "outputs": [],
   "source": [
    "# Ajout d'une colonne pour le sexe \n",
    "df_campaign['neele'] = 'Né le'\n",
    "mask_girl = df_campaign['beneficiaire_genre'] == 'F'\n",
    "df_campaign.loc[mask_girl, 'neele'] =  'Née le'"
   ]
  },
  {
   "cell_type": "code",
   "execution_count": null,
   "metadata": {},
   "outputs": [],
   "source": [
    "df_campaign['allocataire_prenom'] = df_campaign['allocataire_prenom'].astype(str).apply(lambda x: x.capitalize())\n",
    "df_campaign['allocataire_nom'] = df_campaign['allocataire_nom'].astype(str).apply(lambda x: x.capitalize())\n",
    "df_campaign['beneficiaire_prenom'] = df_campaign['beneficiaire_prenom'].astype(str).apply(lambda x: x.capitalize())\n",
    "df_campaign['beneficiaire_nom'] = df_campaign['beneficiaire_nom'].astype(str).apply(lambda x: x.capitalize())"
   ]
  },
  {
   "cell_type": "code",
   "execution_count": null,
   "metadata": {},
   "outputs": [],
   "source": [
    "# Génération csv dans le cas allocataire = bénéficiaire\n",
    "mask_alloc_diff_benef = df_campaign['beneficiaire_prenom'].str.lower() != df_campaign['allocataire_prenom'].str.lower()\n",
    "df_alloc_diff_benef = df_campaign[mask_alloc_diff_benef]"
   ]
  },
  {
   "cell_type": "code",
   "execution_count": null,
   "metadata": {},
   "outputs": [],
   "source": [
    "# Génération csv dans le cas allocataire != bénéficiaire\n",
    "mask_alloc_eq_benef = df_campaign['beneficiaire_prenom'].str.lower() == df_campaign['allocataire_prenom'].str.lower()\n",
    "df_alloc_eq_benef = df_campaign[mask_alloc_eq_benef]"
   ]
  },
  {
   "cell_type": "code",
   "execution_count": null,
   "metadata": {},
   "outputs": [],
   "source": [
    "# # Génération des URLs pour le QR code\n",
    "# import hmac\n",
    "# import hashlib\n",
    "# import urllib.parse\n",
    "\n",
    "# key_mapping = { 'beneficiaire_prenom': 'bp', 'beneficiaire_nom': 'bn', 'beneficiaire_genre' : 'bg', 'beneficiaire_date_naissance': 'bdn', 'code': 'c'}\n",
    "\n",
    "# def generate_signature(secret_key, data):\n",
    "#     secret_key_bytes = secret_key.encode('utf-8')\n",
    "#     data_bytes = data.encode('utf-8')\n",
    "\n",
    "#     signature = hmac.new(secret_key_bytes, data_bytes, hashlib.sha256).hexdigest()\n",
    "\n",
    "#     return signature\n",
    "\n",
    "# def generate_url_column(row):\n",
    "#     params = {key_mapping.get(column): row[column] for column in df_campaign.columns}\n",
    "#     encoded_params = urllib.parse.urlencode(params)\n",
    "#     unencoded_string = f\"{qr_code_base_url}?{encoded_params}\"\n",
    "#     signature_hash = generate_signature(qr_code_signature_secret, unencoded_string)\n",
    "#     url_with_signature = f\"{unencoded_string}&signature={signature_hash}\"\n",
    "#     return url_with_signature\n",
    "    \n",
    "# # del df_unwrapped_alloc['url_qr_code']\n",
    "\n",
    "# df_campaign['url_qr_code'] = df_campaign.apply(generate_url_column, axis=1)\n"
   ]
  },
  {
   "cell_type": "code",
   "execution_count": null,
   "metadata": {},
   "outputs": [],
   "source": [
    "# (Opt) Ajout de la taille de l'URL\n",
    "# df_campaign['url_qr_code_len'] = df_campaign['url_qr_code'].apply(lambda x: len(x))"
   ]
  },
  {
   "cell_type": "code",
   "execution_count": null,
   "metadata": {},
   "outputs": [],
   "source": [
    "# (Opt) Check sur la longueur des URLs\n",
    "# mask_max_len_filter = df_campaign['url_qr_code'].apply(lambda x: len(x)) > 255\n",
    "# df_excedeed = df_campaign[mask_max_len_filter]"
   ]
  },
  {
   "cell_type": "code",
   "execution_count": null,
   "metadata": {},
   "outputs": [],
   "source": [
    "df_alloc_eq_benef_partial =  df_alloc_eq_benef[['email','beneficiaire_prenom', 'beneficiaire_nom']]\n",
    "df_alloc_diff_benef_partial =  df_alloc_diff_benef[['email','beneficiaire_prenom', 'beneficiaire_nom', 'allocataire_nom', 'allocataire_prenom']]\n",
    "\n",
    "if not is_test_env:\n",
    "    df_alloc_eq_benef_partial.to_csv(pathfile_campaign_csv_output_b, index=False)\n",
    "    df_alloc_diff_benef_partial.to_csv(pathfile_campaign_csv_output_b_and_a, index=False)"
   ]
  },
  {
   "cell_type": "markdown",
   "metadata": {},
   "source": [
    "## Tests unitaires\n",
    "Ce qui est fait ci-dessous est une série d'assertions sur deux fichiers CSV créés pour des campagnes d'envoi de courriers :\n",
    "\n",
    "- Campagne d'envoi de courriers avec des bénéficiaires qui sont allocataires.\n",
    "- Campagne d'envoi de courriers avec des bénéficiaires différents des allocataires.\n",
    "\n",
    "Nous vérifions principalement les noms des colonnes, leur ordre et leurs valeurs.\n",
    "Ceci constitue une base pour d'autres tests unitaires par la suite lorsque d'autres colonnes seront ajoutées."
   ]
  },
  {
   "cell_type": "code",
   "execution_count": null,
   "metadata": {},
   "outputs": [],
   "source": [
    "if is_test_env:\n",
    "    ######################################################################\n",
    "    # Check length of CSV produced for beneficiaires that are allocataires\n",
    "    ######################################################################\n",
    "    assert(len(df_alloc_eq_benef_partial) == 4)\n",
    "\n",
    "    # Check column names\n",
    "    assert(len(df_alloc_eq_benef_partial.columns) == 3)\n",
    "    assert(df_alloc_eq_benef_partial.columns[0] == 'email')\n",
    "    assert(df_alloc_eq_benef_partial.columns[1] == 'beneficiaire_prenom')\n",
    "    assert(df_alloc_eq_benef_partial.columns[2] == 'beneficiaire_nom')\n",
    "\n",
    "    # Check various column values\n",
    "    for index, row in df_alloc_eq_benef_partial.iterrows():\n",
    "        assert(row['beneficiaire_nom'].istitle() == True)\n",
    "        assert(row['beneficiaire_prenom'].istitle() == True)\n",
    "\n",
    "    #####################################################################################\n",
    "    # Check length of CSV produced for beneficiaires that are different than allocataires\n",
    "    #####################################################################################\n",
    "    assert(len(df_alloc_diff_benef_partial) == 4)\n",
    "\n",
    "    # Check column names\n",
    "    assert(len(df_alloc_diff_benef_partial.columns) == 5)\n",
    "    assert(df_alloc_diff_benef_partial.columns[0] == 'email')\n",
    "    assert(df_alloc_diff_benef_partial.columns[1] == 'beneficiaire_prenom')\n",
    "    assert(df_alloc_diff_benef_partial.columns[2] == 'beneficiaire_nom')\n",
    "    assert(df_alloc_diff_benef_partial.columns[3] == 'allocataire_nom')\n",
    "    assert(df_alloc_diff_benef_partial.columns[4] == 'allocataire_prenom')\n",
    "\n",
    "    # Check various column values\n",
    "    for index, row in df_alloc_diff_benef_partial.iterrows():\n",
    "        assert(len(row['email']) > 0)\n",
    "        assert(row['beneficiaire_nom'].istitle() == True)\n",
    "        assert(row['beneficiaire_prenom'].istitle() == True)\n",
    "        assert(row['allocataire_nom'].istitle() == True)\n",
    "        assert(row['allocataire_prenom'].istitle() == True)"
   ]
  }
 ],
 "metadata": {
  "kernelspec": {
   "display_name": ".venv",
   "language": "python",
   "name": "python3"
  },
  "language_info": {
   "codemirror_mode": {
    "name": "ipython",
    "version": 3
   },
   "file_extension": ".py",
   "mimetype": "text/x-python",
   "name": "python",
   "nbconvert_exporter": "python",
   "pygments_lexer": "ipython3",
   "version": "3.12.3"
  }
 },
 "nbformat": 4,
 "nbformat_minor": 2
}
