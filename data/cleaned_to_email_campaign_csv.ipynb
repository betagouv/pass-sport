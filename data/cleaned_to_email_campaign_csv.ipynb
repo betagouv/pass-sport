{
 "cells": [
  {
   "cell_type": "markdown",
   "metadata": {},
   "source": [
    "# Génération d'un export de données pour les campagnes de mails\n",
    "\n",
    "## Traitements \n",
    "\n",
    "1. Chargemement du fichier CSV 2024\n",
    "2. Extraction du json d'allocataire en columns \n",
    "3. Mapping des données et suppression des données inutiles\n",
    "4. Génération de l'url du qr code avec les paramètres encryptés\n",
    "5. Sérialisation en 2 fichiers .csv distinct pour les cas allocataire = bénéficiaire and allocataire != bénéficiaire\n",
    "\n"
   ]
  },
  {
   "cell_type": "code",
   "execution_count": null,
   "metadata": {},
   "outputs": [],
   "source": [
    "import pandas as pd\n",
    "from dotenv import load_dotenv\n",
    "import os\n",
    "import json\n",
    "\n",
    "load_dotenv()\n",
    "\n",
    "pathfile_benef_2024 = os.environ['BENEF_2024_PATHFILE']\n",
    "qr_code_secret_key = os.environ['BENEF_2024_QR_CODE_URL_SECRET']\n",
    "qr_code_base_url = os.environ['BENEF_2024_QR_CODE_BASE_URL']\n",
    "pathfile_campaign_csv_output_b = os.environ['CAMPAIGN_CSV_OUTPUT_B']\n",
    "pathfile_campaign_csv_output_b_and_a = os.environ['CAMPAIGN_CSV_OUTPUT_B_AND_A']"
   ]
  },
  {
   "cell_type": "code",
   "execution_count": null,
   "metadata": {},
   "outputs": [],
   "source": [
    "df_main = pd.read_csv(pathfile_benef_2024, index_col=0, sep=',')"
   ]
  },
  {
   "cell_type": "code",
   "execution_count": null,
   "metadata": {},
   "outputs": [],
   "source": [
    "df_json_normalized = pd.json_normalize(df_main['allocataire'].apply(json.loads))\n",
    "df_json_normalized = df_json_normalized.add_prefix('allocataire_')"
   ]
  },
  {
   "cell_type": "code",
   "execution_count": null,
   "metadata": {},
   "outputs": [],
   "source": [
    "df_main.index = pd.RangeIndex(start=0, stop=len(df_main), step=1)"
   ]
  },
  {
   "cell_type": "code",
   "execution_count": null,
   "metadata": {},
   "outputs": [],
   "source": [
    "df_unwrapped_alloc = pd.merge(df_main, df_json_normalized, left_index=True, right_index=True)"
   ]
  },
  {
   "cell_type": "code",
   "execution_count": null,
   "metadata": {},
   "outputs": [],
   "source": [
    "column_mapping = {\n",
    "    'allocataire_courriel': 'email',\n",
    "    'allocataire_qualite': 'allocataire_qualite',\n",
    "    'allocataire_nom': 'allocataire_nom',\n",
    "    'allocataire_prenom': 'allocataire_prenom',\n",
    "    'prenom': 'beneficiaire_prenom',\n",
    "    'nom': 'beneficiaire_nom',\n",
    "    'genre': 'beneficiaire_genre',\n",
    "    'date_naissance': 'beneficiaire_date_naissance',\n",
    "    'id_psp': 'code',\n",
    "    'allocataire_telephone': 'telephone'\n",
    "}\n",
    "\n",
    "# df_formatted = df_unwrapped_alloc.rename(columns=column_mapping) \n",
    "df_unwrapped_alloc.columns = df_unwrapped_alloc.columns.to_series().replace(column_mapping)"
   ]
  },
  {
   "cell_type": "code",
   "execution_count": null,
   "metadata": {},
   "outputs": [],
   "source": [
    "df_campaign = df_unwrapped_alloc[['email',\n",
    "'allocataire_nom',\n",
    "'allocataire_prenom','beneficiaire_prenom', 'beneficiaire_nom', 'beneficiaire_genre', 'beneficiaire_date_naissance', 'code', 'telephone']]"
   ]
  },
  {
   "cell_type": "code",
   "execution_count": null,
   "metadata": {},
   "outputs": [],
   "source": [
    "# new format for birth date\n",
    "df_campaign['beneficiaire_date_naissance'] = pd.to_datetime(df_campaign['beneficiaire_date_naissance'].apply(lambda v: v[:10]), format='%Y-%m-%d')\n",
    "df_campaign['beneficiaire_date_naissance'] = df_campaign['beneficiaire_date_naissance'].dt.strftime('%d/%m/%Y')"
   ]
  },
  {
   "cell_type": "code",
   "execution_count": null,
   "metadata": {},
   "outputs": [],
   "source": [
    "# Ajout d'une colonne pour le sexe \n",
    "df_campaign['neele'] = 'Né le'\n",
    "mask_girl = df_campaign['beneficiaire_genre'] == 'F'\n",
    "df_campaign.loc[mask_girl, 'neele'] =  'Née le'"
   ]
  },
  {
   "cell_type": "code",
   "execution_count": null,
   "metadata": {},
   "outputs": [],
   "source": [
    "df_campaign['allocataire_prenom'] = df_campaign['allocataire_prenom'].astype(str).apply(lambda x: x.capitalize())\n",
    "df_campaign['allocataire_nom'] = df_campaign['allocataire_nom'].astype(str).apply(lambda x: x.capitalize())\n",
    "df_campaign['beneficiaire_prenom'] = df_campaign['beneficiaire_prenom'].astype(str).apply(lambda x: x.capitalize())\n",
    "df_campaign['beneficiaire_nom'] = df_campaign['beneficiaire_nom'].astype(str).apply(lambda x: x.capitalize())"
   ]
  },
  {
   "cell_type": "code",
   "execution_count": null,
   "metadata": {},
   "outputs": [],
   "source": [
    " df_campaign['telephone'] = df_campaign['telephone'].replace('^0', '+33', regex=True)"
   ]
  },
  {
   "cell_type": "code",
   "execution_count": null,
   "metadata": {},
   "outputs": [],
   "source": [
    "# # Génération des URLs pour le QR code\n",
    "import hmac\n",
    "import hashlib\n",
    "import urllib.parse\n",
    "import base64\n",
    "\n",
    "from Crypto.Cipher import AES\n",
    "from Crypto.Util.Padding import pad, unpad\n",
    "from Crypto.Random import get_random_bytes\n",
    "\n",
    "base_64_key = base64.b64decode(qr_code_secret_key)\n",
    "key_mapping = { 'beneficiaire_prenom': 'bp', 'beneficiaire_nom': 'bn', 'beneficiaire_genre' : 'bg', 'beneficiaire_date_naissance': 'bdn', 'code': 'c'}\n",
    "\n",
    "def encrypt(data):\n",
    "    cipher = AES.new(base_64_key, AES.MODE_CBC)\n",
    "    ct_bytes = cipher.encrypt(pad(data.encode('utf-8'), AES.block_size))\n",
    "    iv = cipher.iv\n",
    "    ct = base64.b64encode(iv + ct_bytes).decode('utf-8')\n",
    "    return ct\n",
    "\n",
    "\n",
    "def generate_encrypted_url_column(row):\n",
    "    params = {key_mapping.get(column): row[column] for column in df_campaign.columns}\n",
    "    cleaned_params = {k: v for k, v in params.items() if k is not None}\n",
    "    encoded_params = urllib.parse.urlencode(cleaned_params)\n",
    "    encoded_encrypted_params = encrypt(encoded_params)\n",
    "    full_url_string = urllib.parse.quote_plus(f\"{qr_code_base_url}/{encoded_encrypted_params}\")\n",
    "    return full_url_string\n",
    "    \n",
    "if 'url_qr_code' in df_campaign:\n",
    "    del df_campaign['url_qr_code']\n",
    "\n",
    "df_campaign['url_qr_code'] = df_campaign.apply(generate_encrypted_url_column, axis=1)\n"
   ]
  },
  {
   "cell_type": "code",
   "execution_count": null,
   "metadata": {},
   "outputs": [],
   "source": [
    "# # # AES decryption test\n",
    "# def generate_decrypted_url_column(row):\n",
    "#     encrypted_part = urllib.parse.unquote_plus(row['url_qr_code']).replace(qr_code_base_url+'/', '')\n",
    "#     return decrypt(encrypted_part)\n",
    "\n",
    "# def decrypt(data):\n",
    "#     enc_data_bytes = base64.b64decode(data)\n",
    "#     iv = enc_data_bytes[:AES.block_size]\n",
    "#     ct = enc_data_bytes[AES.block_size:]\n",
    "#     decrypt_cipher = AES.new(base_64_key, AES.MODE_CBC, iv)\n",
    "#     decrypted_ct = decrypt_cipher.decrypt(ct)\n",
    "#     pt = unpad(decrypted_ct, AES.block_size)\n",
    "#     url_param = pt.decode('utf-8')\n",
    "#     return url_param\n",
    "\n",
    "# df_campaign['query_params_decrypted'] = df_campaign.apply(generate_decrypted_url_column, axis=1)\n"
   ]
  },
  {
   "cell_type": "code",
   "execution_count": null,
   "metadata": {},
   "outputs": [],
   "source": [
    "# Génération csv dans le cas allocataire = bénéficiaire\n",
    "mask_alloc_diff_benef = df_campaign['beneficiaire_prenom'].str.lower() != df_campaign['allocataire_prenom'].str.lower()\n",
    "df_alloc_diff_benef = df_campaign[mask_alloc_diff_benef]"
   ]
  },
  {
   "cell_type": "code",
   "execution_count": null,
   "metadata": {},
   "outputs": [],
   "source": [
    "# Génération csv dans le cas allocataire != bénéficiaire\n",
    "mask_alloc_eq_benef = df_campaign['beneficiaire_prenom'].str.lower() == df_campaign['allocataire_prenom'].str.lower()\n",
    "df_alloc_eq_benef = df_campaign[mask_alloc_eq_benef]"
   ]
  },
  {
   "cell_type": "code",
   "execution_count": null,
   "metadata": {},
   "outputs": [],
   "source": [
    "# (Opt) Ajout de la taille de l'URL\n",
    "# df_campaign['url_qr_code_len'] = df_campaign['url_qr_code'].apply(lambda x: len(x))"
   ]
  },
  {
   "cell_type": "code",
   "execution_count": null,
   "metadata": {},
   "outputs": [],
   "source": [
    "# (Opt) Check sur la longueur des URLs\n",
    "# mask_max_len_filter = df_campaign['url_qr_code'].apply(lambda x: len(x)) > 255\n",
    "# df_excedeed = df_campaign[mask_max_len_filter]"
   ]
  },
  {
   "cell_type": "code",
   "execution_count": null,
   "metadata": {},
   "outputs": [],
   "source": [
    "df_alloc_eq_benef.to_csv(pathfile_campaign_csv_output_b, index=False)\n",
    "df_alloc_diff_benef.to_csv(pathfile_campaign_csv_output_b_and_a, index=False)"
   ]
  }
 ],
 "metadata": {
  "kernelspec": {
   "display_name": ".venv",
   "language": "python",
   "name": "python3"
  },
  "language_info": {
   "codemirror_mode": {
    "name": "ipython",
    "version": 3
   },
   "file_extension": ".py",
   "mimetype": "text/x-python",
   "name": "python",
   "nbconvert_exporter": "python",
   "pygments_lexer": "ipython3",
   "version": "3.10.12"
  }
 },
 "nbformat": 4,
 "nbformat_minor": 2
}
