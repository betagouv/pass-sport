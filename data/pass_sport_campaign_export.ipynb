{
 "cells": [
  {
   "cell_type": "markdown",
   "metadata": {},
   "source": [
    "# Génération d'un export de données pour les campagnes de mails\n",
    "\n",
    "## Traitements \n",
    "\n",
    "1. Chargemement du fichier CSV 2024\n",
    "2. Extraction du json d'allocataire en columns \n",
    "3. Mapping des données et suppression des données inutiles\n",
    "4. Génération de l'url et de sa signature pour éviter les altérations\n",
    "5. Sérialisation en .csv\n"
   ]
  },
  {
   "cell_type": "code",
   "execution_count": null,
   "metadata": {},
   "outputs": [],
   "source": [
    "import pandas as pd\n",
    "from dotenv import load_dotenv\n",
    "import os\n",
    "import json\n",
    "\n",
    "load_dotenv()\n",
    "\n",
    "pathfile_benef_2024 = os.environ['BENEF_2024_PATHFILE']\n",
    "qr_code_signature_secret = os.environ['BENEF_2024_QR_CODE_URL_SECRET']\n",
    "qr_code_base_url = os.environ['BENEF_2024_QR_CODE_BASE_URL']\n",
    "pathfile_campaign_csv_output = os.environ['CAMPAIGN_CSV_OUTPUT']"
   ]
  },
  {
   "cell_type": "code",
   "execution_count": null,
   "metadata": {},
   "outputs": [],
   "source": [
    "df_main = pd.read_csv(pathfile_benef_2024, index_col=0, encoding='iso-8859-1', on_bad_lines='skip', sep=',')"
   ]
  },
  {
   "cell_type": "code",
   "execution_count": null,
   "metadata": {},
   "outputs": [],
   "source": [
    "df_json_normalized = pd.json_normalize(df_main['allocataire'].apply(json.loads))\n",
    "df_json_normalized = df_json_normalized.add_prefix('allocataire_')"
   ]
  },
  {
   "cell_type": "code",
   "execution_count": null,
   "metadata": {},
   "outputs": [],
   "source": [
    "df_main.index = pd.RangeIndex(start=0, stop=len(df_main), step=1)"
   ]
  },
  {
   "cell_type": "code",
   "execution_count": null,
   "metadata": {},
   "outputs": [],
   "source": [
    "df_unwrapped_alloc = pd.merge(df_main, df_json_normalized, left_index=True, right_index=True)"
   ]
  },
  {
   "cell_type": "code",
   "execution_count": null,
   "metadata": {},
   "outputs": [],
   "source": [
    "column_mapping = {\n",
    "    'allocataire_courriel': 'allocataire_email',\n",
    "    'allocataire_qualite': 'allocataire_qualite',\n",
    "    'allocataire_nom': 'allocataire_nom',\n",
    "    'allocataire_prenom': 'allocataire_prenom',\n",
    "    'prenom': 'beneficiaire_prenom',\n",
    "    'nom': 'beneficiaire_nom',\n",
    "    'genre': 'beneficiaire_genre',\n",
    "    'date_naissance': 'beneficiaire_date_naissance',\n",
    "    'id_psp': 'code',\n",
    "}\n",
    "\n",
    "# df_formatted = df_unwrapped_alloc.rename(columns=column_mapping) \n",
    "df_unwrapped_alloc.columns = df_unwrapped_alloc.columns.to_series().replace(column_mapping)"
   ]
  },
  {
   "cell_type": "code",
   "execution_count": null,
   "metadata": {},
   "outputs": [],
   "source": [
    "df_unwrapped_alloc = df_unwrapped_alloc[['allocataire_email', 'allocataire_qualite', 'allocataire_nom', 'allocataire_prenom',\n",
    "'beneficiaire_prenom', 'beneficiaire_nom', 'beneficiaire_genre', 'beneficiaire_date_naissance', 'code']]"
   ]
  },
  {
   "cell_type": "code",
   "execution_count": null,
   "metadata": {},
   "outputs": [],
   "source": [
    "# Génération des URLs pour le QR code\n",
    "\n",
    "import hmac\n",
    "import hashlib\n",
    "import urllib.parse\n",
    "\n",
    "\n",
    "def generate_signature(secret_key, data):\n",
    "    secret_key_bytes = secret_key.encode('utf-8')\n",
    "    data_bytes = data.encode('utf-8')\n",
    "\n",
    "    signature = hmac.new(secret_key_bytes, data_bytes, hashlib.sha256).hexdigest()\n",
    "\n",
    "    return signature\n",
    "\n",
    "def generate_url_column(row):\n",
    "    params = {column: row[column] for column in df_unwrapped_alloc.columns}\n",
    "    encoded_params = urllib.parse.urlencode(params)\n",
    "    unencoded_string = f\"{qr_code_base_url}?{encoded_params}\"\n",
    "    signature_hash = generate_signature(qr_code_signature_secret, unencoded_string)\n",
    "    url_with_signature = f\"{unencoded_string}&signature={signature_hash}\"\n",
    "    return url_with_signature\n",
    "    \n",
    "# del df_unwrapped_alloc['url_qr_code']\n",
    "\n",
    "df_unwrapped_alloc['url_qr_code'] = df_unwrapped_alloc.apply(generate_url_column, axis=1)\n"
   ]
  },
  {
   "cell_type": "code",
   "execution_count": null,
   "metadata": {},
   "outputs": [],
   "source": [
    "df_unwrapped_alloc.to_csv(pathfile_campaign_csv_output, index=False)"
   ]
  }
 ],
 "metadata": {
  "kernelspec": {
   "display_name": ".venv",
   "language": "python",
   "name": "python3"
  },
  "language_info": {
   "codemirror_mode": {
    "name": "ipython",
    "version": 3
   },
   "file_extension": ".py",
   "mimetype": "text/x-python",
   "name": "python",
   "nbconvert_exporter": "python",
   "pygments_lexer": "ipython3",
   "version": "3.10.12"
  }
 },
 "nbformat": 4,
 "nbformat_minor": 2
}
