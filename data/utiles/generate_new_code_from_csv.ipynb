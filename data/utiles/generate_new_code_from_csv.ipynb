{
 "cells": [
  {
   "cell_type": "markdown",
   "metadata": {},
   "source": [
    "# Génère de nouveaux codes en prenant en compte l'existant\n",
    "\n",
    "## Traitements \n",
    "\n",
    "1. Chargemement du fichier CSV 2024 de BDD de prod\n",
    "2. Création d'un set de code avec les codes déjà générés\n",
    "3. Génération de x nouveaux codes dans un fichier csv"
   ]
  },
  {
   "cell_type": "code",
   "execution_count": null,
   "metadata": {},
   "outputs": [],
   "source": [
    "import pandas as pd\n",
    "from dotenv import load_dotenv\n",
    "import os\n",
    "import json\n",
    "\n",
    "load_dotenv()\n",
    "\n",
    "pathfile_benef_2024_prd_ready = os.environ['BENEF_2024_PATHFILE_PROD_READY']\n",
    "pathfile_base = os.environ['BASE_PATH']\n",
    "new_code_count = 421"
   ]
  },
  {
   "cell_type": "code",
   "execution_count": null,
   "metadata": {},
   "outputs": [],
   "source": [
    "df_main = pd.read_csv(pathfile_benef_2024_prd_ready, index_col=0, sep=',', usecols=['id', 'id_psp'])"
   ]
  },
  {
   "cell_type": "code",
   "execution_count": null,
   "metadata": {},
   "outputs": [],
   "source": [
    "import random\n",
    "import string\n",
    "import datetime\n",
    "\n",
    "current_date = datetime.datetime.now()\n",
    "current_year = str(current_date.year)[-2:]\n",
    "\n",
    "def get_characters_set(size = 4):\n",
    "    return ''.join(random.choices([c for c in string.ascii_uppercase if c not in 'OI'], k=size))\n",
    "    \n",
    "def generate_code():\n",
    "    return f\"{current_year}-{get_characters_set(4)}-{get_characters_set(4)}\"\n",
    "\n",
    "unique_codes = set(df_main['id_psp'])\n",
    "current_codes_count = len(unique_codes)\n",
    "while len(unique_codes) < current_codes_count + new_code_count:\n",
    "    code = generate_code()\n",
    "    unique_codes.add(code)\n",
    "\n",
    "new_codes = list(unique_codes.difference(df_main['id_psp']))[-new_code_count:]\n"
   ]
  },
  {
   "cell_type": "code",
   "execution_count": null,
   "metadata": {},
   "outputs": [],
   "source": [
    "df_new_code = pd.DataFrame(new_codes, columns=['id_psp'])\n",
    "df_new_code.to_csv(pathfile_base+'new_unique_codes.csv')"
   ]
  }
 ],
 "metadata": {
  "kernelspec": {
   "display_name": ".venv",
   "language": "python",
   "name": "python3"
  },
  "language_info": {
   "codemirror_mode": {
    "name": "ipython",
    "version": 3
   },
   "file_extension": ".py",
   "mimetype": "text/x-python",
   "name": "python",
   "nbconvert_exporter": "python",
   "pygments_lexer": "ipython3",
   "version": "3.10.12"
  }
 },
 "nbformat": 4,
 "nbformat_minor": 2
}
