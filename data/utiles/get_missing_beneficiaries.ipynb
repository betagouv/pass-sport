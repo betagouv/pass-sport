{
 "cells": [
  {
   "cell_type": "markdown",
   "metadata": {},
   "source": [
    "## Calcul d'un diff entre 2 fichiers CSVs"
   ]
  },
  {
   "cell_type": "code",
   "execution_count": null,
   "metadata": {},
   "outputs": [],
   "source": [
    "import pandas as pd\n",
    "from dotenv import load_dotenv\n",
    "import os\n",
    "\n",
    "load_dotenv()\n",
    "\n",
    "pathfile_benef_2024_before_injection = os.environ['BENEF_2024_BEFORE_INJECTION']\n",
    "pathfile_benef_2024_after_injection = os.environ['BENEF_2024_AFTER_INJECTION']\n",
    "pathfile_benef_2024_missing_benef = os.environ['BENEF_2024_MISSING_BENEF']"
   ]
  },
  {
   "cell_type": "code",
   "execution_count": null,
   "metadata": {},
   "outputs": [],
   "source": [
    "before_injection_df = pd.read_csv(pathfile_benef_2024_before_injection, index_col=0, engine='c', on_bad_lines='skip', sep=',')\n",
    "after_injection_df = pd.read_csv(pathfile_benef_2024_after_injection, index_col=0, engine='c', on_bad_lines='skip', sep=',')"
   ]
  },
  {
   "cell_type": "code",
   "execution_count": null,
   "metadata": {},
   "outputs": [],
   "source": [
    "diff_df = pd.concat([before_injection_df, after_injection_df]).drop_duplicates(subset=['id_psp'], keep=False)"
   ]
  },
  {
   "cell_type": "code",
   "execution_count": null,
   "metadata": {},
   "outputs": [],
   "source": [
    "diff_df.to_csv(pathfile_benef_2024_missing_benef)"
   ]
  }
 ],
 "metadata": {
  "kernelspec": {
   "display_name": ".venv",
   "language": "python",
   "name": "python3"
  },
  "language_info": {
   "codemirror_mode": {
    "name": "ipython",
    "version": 3
   },
   "file_extension": ".py",
   "mimetype": "text/x-python",
   "name": "python",
   "nbconvert_exporter": "python",
   "pygments_lexer": "ipython3",
   "version": "3.12.3"
  }
 },
 "nbformat": 4,
 "nbformat_minor": 2
}
